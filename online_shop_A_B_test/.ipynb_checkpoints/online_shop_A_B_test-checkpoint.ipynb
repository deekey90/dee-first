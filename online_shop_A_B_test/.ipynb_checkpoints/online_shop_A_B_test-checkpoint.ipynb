{
 "cells": [
  {
   "cell_type": "markdown",
   "metadata": {},
   "source": [
    "# Принятие решений в бизнесе. Проведение А/В теста.\n",
    "\n",
    "**Цель исследования:**\n",
    "\n",
    "    1. Приоритизация гипотез\n",
    "    2. Проведение A/B-теста и анализ результатов.\n",
    "    \n",
    "**Ход исследования:**\n",
    "\n",
    "    1. Приоритизация гипотез:\n",
    "\n",
    "    1.1 Загрузить и обработать данные датасетов\n",
    "    1.2 Применить фреймворк ICE для приоритизации гипотез, отсортировать их по убыванию приоритета.\n",
    "    1.3 Применить фреймворк RICE для приоритизации гипотез, отсортировать их по убыванию приоритета.\n",
    "    1.4 Вывод\n",
    "    \n",
    "    2. Анализ A/B-теста:\n",
    "\n",
    "    2.1 Построить график кумулятивной выручки по группам. Сделать выводы и предположения.\n",
    "    2.2 Построить график кумулятивного среднего чека по группам. Сделать выводы и предположения. \n",
    "    2.3 Построить график относительного изменения кумулятивного среднего чека группы B к группе A. Сделать выводы и предположения.\n",
    "    2.4 Построить график кумулятивного среднего количества заказов на посетителя по группам. Сделать выводы и предположения.\n",
    "    2.5 Построить график относительного изменения кумулятивного среднего количества заказов на посетителя группы B к группе A. Сделать выводы и предположения.\n",
    "    2.6 Построить точечный график количества заказов по пользователям. Сделать выводы и предположения.\n",
    "    2.7 Посчитать 95-й и 99-й перцентили количества заказ заказов на посетителя по группам. Выбрать границу для определения аномальных пользователей.\n",
    "    2.8 Построить точечный график стоимостей заказов. Сделать выводы и предположения.\n",
    "    2.9 Посчитать статистическую значимость различий в среднем количестве заказов на посетителя между группами по «сырым» данным. Сделать выводы и предположения.\n",
    "    2.10 Посчитать статистическую значимость различий в среднем чеке заказа между группами по «сырым» данным. Сделать выводы и предположения.\n",
    "    2.11 Посчитать статистическую значимость различий в среднем количестве заказов на посетителя между группами по «очищенным» данным. Сделать выводы и предположения.\n",
    "    2.12 Посчитать статистическую значимость различий в среднем чеке заказа между группами по «очищенным» данным. Сделать выводы и предположения.\n",
    "    2.13 Примите решение по результатам теста и объясните его. Варианты решений:\n",
    "    - остановить тест, зафиксировать победу одной из групп.\n",
    "    - остановить тест, зафиксировать отсутствие различий между группами.\n",
    "    - продолжить тест."
   ]
  },
  {
   "cell_type": "markdown",
   "metadata": {},
   "source": [
    "### Приоритизация гипотез"
   ]
  },
  {
   "cell_type": "markdown",
   "metadata": {},
   "source": [
    "#### Подготовка библиотек и загрузка данных"
   ]
  },
  {
   "cell_type": "code",
   "execution_count": 1,
   "metadata": {},
   "outputs": [],
   "source": [
    "import pandas as pd"
   ]
  },
  {
   "cell_type": "code",
   "execution_count": null,
   "metadata": {},
   "outputs": [],
   "source": [
    "data = pd.read_csv('/datasets/logs_exp.csv', sep=',')\n",
    "display(data)\n",
    "pd.options.display.max_colwidth = 150"
   ]
  },
  {
   "cell_type": "markdown",
   "metadata": {},
   "source": [
    "#### Фреймворк ICE"
   ]
  },
  {
   "cell_type": "code",
   "execution_count": 3,
   "metadata": {},
   "outputs": [
    {
     "data": {
      "text/html": [
       "<div>\n",
       "<style scoped>\n",
       "    .dataframe tbody tr th:only-of-type {\n",
       "        vertical-align: middle;\n",
       "    }\n",
       "\n",
       "    .dataframe tbody tr th {\n",
       "        vertical-align: top;\n",
       "    }\n",
       "\n",
       "    .dataframe thead th {\n",
       "        text-align: right;\n",
       "    }\n",
       "</style>\n",
       "<table border=\"1\" class=\"dataframe\">\n",
       "  <thead>\n",
       "    <tr style=\"text-align: right;\">\n",
       "      <th></th>\n",
       "      <th>Hypothesis</th>\n",
       "      <th>ICE</th>\n",
       "    </tr>\n",
       "  </thead>\n",
       "  <tbody>\n",
       "    <tr>\n",
       "      <th>8</th>\n",
       "      <td>Запустить акцию, дающую скидку на товар в день рождения</td>\n",
       "      <td>16.20</td>\n",
       "    </tr>\n",
       "    <tr>\n",
       "      <th>0</th>\n",
       "      <td>Добавить два новых канала привлечения трафика, что позволит привлекать на 30% больше пользователей</td>\n",
       "      <td>13.33</td>\n",
       "    </tr>\n",
       "    <tr>\n",
       "      <th>7</th>\n",
       "      <td>Добавить форму подписки на все основные страницы, чтобы собрать базу клиентов для email-рассылок</td>\n",
       "      <td>11.20</td>\n",
       "    </tr>\n",
       "    <tr>\n",
       "      <th>6</th>\n",
       "      <td>Показать на главной странице баннеры с актуальными акциями и распродажами, чтобы увеличить конверсию</td>\n",
       "      <td>8.00</td>\n",
       "    </tr>\n",
       "    <tr>\n",
       "      <th>2</th>\n",
       "      <td>Добавить блоки рекомендаций товаров на сайт интернет магазина, чтобы повысить конверсию и средний чек заказа</td>\n",
       "      <td>7.00</td>\n",
       "    </tr>\n",
       "    <tr>\n",
       "      <th>1</th>\n",
       "      <td>Запустить собственную службу доставки, что сократит срок доставки заказов</td>\n",
       "      <td>2.00</td>\n",
       "    </tr>\n",
       "    <tr>\n",
       "      <th>5</th>\n",
       "      <td>Добавить страницу отзывов клиентов о магазине, что позволит увеличить количество заказов</td>\n",
       "      <td>1.33</td>\n",
       "    </tr>\n",
       "    <tr>\n",
       "      <th>3</th>\n",
       "      <td>Изменить структура категорий, что увеличит конверсию, т.к. пользователи быстрее найдут нужный товар</td>\n",
       "      <td>1.12</td>\n",
       "    </tr>\n",
       "    <tr>\n",
       "      <th>4</th>\n",
       "      <td>Изменить цвет фона главной страницы, чтобы увеличить вовлеченность пользователей</td>\n",
       "      <td>1.00</td>\n",
       "    </tr>\n",
       "  </tbody>\n",
       "</table>\n",
       "</div>"
      ],
      "text/plain": [
       "                                                                                                     Hypothesis  \\\n",
       "8                                                       Запустить акцию, дающую скидку на товар в день рождения   \n",
       "0            Добавить два новых канала привлечения трафика, что позволит привлекать на 30% больше пользователей   \n",
       "7              Добавить форму подписки на все основные страницы, чтобы собрать базу клиентов для email-рассылок   \n",
       "6          Показать на главной странице баннеры с актуальными акциями и распродажами, чтобы увеличить конверсию   \n",
       "2  Добавить блоки рекомендаций товаров на сайт интернет магазина, чтобы повысить конверсию и средний чек заказа   \n",
       "1                                     Запустить собственную службу доставки, что сократит срок доставки заказов   \n",
       "5                      Добавить страницу отзывов клиентов о магазине, что позволит увеличить количество заказов   \n",
       "3           Изменить структура категорий, что увеличит конверсию, т.к. пользователи быстрее найдут нужный товар   \n",
       "4                              Изменить цвет фона главной страницы, чтобы увеличить вовлеченность пользователей   \n",
       "\n",
       "     ICE  \n",
       "8  16.20  \n",
       "0  13.33  \n",
       "7  11.20  \n",
       "6   8.00  \n",
       "2   7.00  \n",
       "1   2.00  \n",
       "5   1.33  \n",
       "3   1.12  \n",
       "4   1.00  "
      ]
     },
     "metadata": {},
     "output_type": "display_data"
    }
   ],
   "source": [
    "data['ICE'] = round((data['Confidence'] * data['Impact']) / data['Efforts'], 2)\n",
    "display(data[['Hypothesis', 'ICE']].sort_values(by = 'ICE', ascending = False))"
   ]
  },
  {
   "cell_type": "markdown",
   "metadata": {},
   "source": [
    "#### Фреймворк RICE"
   ]
  },
  {
   "cell_type": "code",
   "execution_count": 4,
   "metadata": {},
   "outputs": [
    {
     "data": {
      "text/html": [
       "<div>\n",
       "<style scoped>\n",
       "    .dataframe tbody tr th:only-of-type {\n",
       "        vertical-align: middle;\n",
       "    }\n",
       "\n",
       "    .dataframe tbody tr th {\n",
       "        vertical-align: top;\n",
       "    }\n",
       "\n",
       "    .dataframe thead th {\n",
       "        text-align: right;\n",
       "    }\n",
       "</style>\n",
       "<table border=\"1\" class=\"dataframe\">\n",
       "  <thead>\n",
       "    <tr style=\"text-align: right;\">\n",
       "      <th></th>\n",
       "      <th>Hypothesis</th>\n",
       "      <th>RICE</th>\n",
       "    </tr>\n",
       "  </thead>\n",
       "  <tbody>\n",
       "    <tr>\n",
       "      <th>7</th>\n",
       "      <td>Добавить форму подписки на все основные страницы, чтобы собрать базу клиентов для email-рассылок</td>\n",
       "      <td>112.0</td>\n",
       "    </tr>\n",
       "    <tr>\n",
       "      <th>2</th>\n",
       "      <td>Добавить блоки рекомендаций товаров на сайт интернет магазина, чтобы повысить конверсию и средний чек заказа</td>\n",
       "      <td>56.0</td>\n",
       "    </tr>\n",
       "    <tr>\n",
       "      <th>0</th>\n",
       "      <td>Добавить два новых канала привлечения трафика, что позволит привлекать на 30% больше пользователей</td>\n",
       "      <td>40.0</td>\n",
       "    </tr>\n",
       "    <tr>\n",
       "      <th>6</th>\n",
       "      <td>Показать на главной странице баннеры с актуальными акциями и распродажами, чтобы увеличить конверсию</td>\n",
       "      <td>40.0</td>\n",
       "    </tr>\n",
       "    <tr>\n",
       "      <th>8</th>\n",
       "      <td>Запустить акцию, дающую скидку на товар в день рождения</td>\n",
       "      <td>16.2</td>\n",
       "    </tr>\n",
       "    <tr>\n",
       "      <th>3</th>\n",
       "      <td>Изменить структура категорий, что увеличит конверсию, т.к. пользователи быстрее найдут нужный товар</td>\n",
       "      <td>9.0</td>\n",
       "    </tr>\n",
       "    <tr>\n",
       "      <th>1</th>\n",
       "      <td>Запустить собственную службу доставки, что сократит срок доставки заказов</td>\n",
       "      <td>4.0</td>\n",
       "    </tr>\n",
       "    <tr>\n",
       "      <th>5</th>\n",
       "      <td>Добавить страницу отзывов клиентов о магазине, что позволит увеличить количество заказов</td>\n",
       "      <td>4.0</td>\n",
       "    </tr>\n",
       "    <tr>\n",
       "      <th>4</th>\n",
       "      <td>Изменить цвет фона главной страницы, чтобы увеличить вовлеченность пользователей</td>\n",
       "      <td>3.0</td>\n",
       "    </tr>\n",
       "  </tbody>\n",
       "</table>\n",
       "</div>"
      ],
      "text/plain": [
       "                                                                                                     Hypothesis  \\\n",
       "7              Добавить форму подписки на все основные страницы, чтобы собрать базу клиентов для email-рассылок   \n",
       "2  Добавить блоки рекомендаций товаров на сайт интернет магазина, чтобы повысить конверсию и средний чек заказа   \n",
       "0            Добавить два новых канала привлечения трафика, что позволит привлекать на 30% больше пользователей   \n",
       "6          Показать на главной странице баннеры с актуальными акциями и распродажами, чтобы увеличить конверсию   \n",
       "8                                                       Запустить акцию, дающую скидку на товар в день рождения   \n",
       "3           Изменить структура категорий, что увеличит конверсию, т.к. пользователи быстрее найдут нужный товар   \n",
       "1                                     Запустить собственную службу доставки, что сократит срок доставки заказов   \n",
       "5                      Добавить страницу отзывов клиентов о магазине, что позволит увеличить количество заказов   \n",
       "4                              Изменить цвет фона главной страницы, чтобы увеличить вовлеченность пользователей   \n",
       "\n",
       "    RICE  \n",
       "7  112.0  \n",
       "2   56.0  \n",
       "0   40.0  \n",
       "6   40.0  \n",
       "8   16.2  \n",
       "3    9.0  \n",
       "1    4.0  \n",
       "5    4.0  \n",
       "4    3.0  "
      ]
     },
     "metadata": {},
     "output_type": "display_data"
    }
   ],
   "source": [
    "data['RICE'] = round((data['Reach'] * data['Confidence'] * data['Impact']) / data['Efforts'], 2)\n",
    "display(data[['Hypothesis', 'RICE']].sort_values(by = 'RICE', ascending = False))"
   ]
  },
  {
   "cell_type": "markdown",
   "metadata": {},
   "source": [
    "#### Вывод"
   ]
  },
  {
   "cell_type": "markdown",
   "metadata": {},
   "source": [
    "Согласно фреймворку ICE наиболее заслуживающими внимание гипотезами можно считать гипотезы под индексами 8, 0 и 7:\n",
    "- запустить акцию, дающую скидку на товар в день рождения;\n",
    "- добавить два новых канала привлечения трафика, что позволит привлекать на 30% больше пользователей;\n",
    "- добавить форму подписки на все основные страницы, чтобы собрать базу клиентов для email-рассылок,\n",
    "а согласно фреймворку RICE - 7, 2, 0 и 6:\n",
    "- добавить форму подписки на все основные страницы, чтобы собрать базу клиентов для email-рассылок;\n",
    "- добавить блоки рекомендаций товаров на сайт интернет магазина, чтобы повысить конверсию и средний чек заказа;\n",
    "- добавить два новых канала привлечения трафика, что позволит привлекать на 30% больше пользователей;\n",
    "- показать на главной странице баннеры с актуальными акциями и распродажами, чтобы увеличить конверсию.\n",
    "Это происходит из-за того, что фреймворк ICE не учитывает охват аудитории, на которую повлияет изменение.\n",
    "Таким образом самыми перспективными нововведениями видятся в первую очередь добавление новой формы подписки и добавление двух новых каналов привлечения трафика."
   ]
  },
  {
   "cell_type": "markdown",
   "metadata": {},
   "source": [
    "### Проведение А/В теста"
   ]
  },
  {
   "cell_type": "markdown",
   "metadata": {},
   "source": [
    "#### Подготовка библиотек и загрузка данных"
   ]
  },
  {
   "cell_type": "code",
   "execution_count": 5,
   "metadata": {},
   "outputs": [],
   "source": [
    "from scipy import stats as st\n",
    "import numpy as np\n",
    "import math as mth\n",
    "import datetime as dt\n",
    "import matplotlib.pyplot as plt\n",
    "from pandas.plotting import register_matplotlib_converters\n",
    "import warnings\n",
    "register_matplotlib_converters()"
   ]
  },
  {
   "cell_type": "code",
   "execution_count": 6,
   "metadata": {},
   "outputs": [
    {
     "name": "stdout",
     "output_type": "stream",
     "text": [
      "      transactionId   visitorId       date  revenue group\n",
      "0        3667963787  3312258926 2019-08-15     1650     B\n",
      "1        2804400009  3642806036 2019-08-15      730     B\n",
      "2        2961555356  4069496402 2019-08-15      400     A\n",
      "3        3797467345  1196621759 2019-08-15     9759     B\n",
      "4        2282983706  2322279887 2019-08-15     2308     B\n",
      "...             ...         ...        ...      ...   ...\n",
      "1192     2662137336  3733762160 2019-08-14     6490     B\n",
      "1193     2203539145   370388673 2019-08-14     3190     A\n",
      "1194     1807773912   573423106 2019-08-14    10550     A\n",
      "1195     1947021204  1614305549 2019-08-14      100     A\n",
      "1196     3936777065  2108080724 2019-08-15   202740     B\n",
      "\n",
      "[1197 rows x 5 columns]\n",
      "         date group  visitors\n",
      "0  2019-08-01     A       719\n",
      "1  2019-08-02     A       619\n",
      "2  2019-08-03     A       507\n",
      "3  2019-08-04     A       717\n",
      "4  2019-08-05     A       756\n",
      "..        ...   ...       ...\n",
      "57 2019-08-27     B       720\n",
      "58 2019-08-28     B       654\n",
      "59 2019-08-29     B       531\n",
      "60 2019-08-30     B       490\n",
      "61 2019-08-31     B       718\n",
      "\n",
      "[62 rows x 3 columns]\n"
     ]
    }
   ],
   "source": [
    "orders = pd.read_csv('/datasets/orders.csv', sep=',')\n",
    "orders['date'] = orders['date'].map(\n",
    "    lambda x: dt.datetime.strptime(x, '%Y-%m-%d'))\n",
    "\n",
    "visitors = pd.read_csv('/datasets/visitors.csv', sep=',')\n",
    "visitors['date'] = visitors['date'].map(\n",
    "    lambda x: dt.datetime.strptime(x, '%Y-%m-%d'))\n",
    "print(orders)\n",
    "print(visitors)"
   ]
  },
  {
   "cell_type": "code",
   "execution_count": 7,
   "metadata": {},
   "outputs": [
    {
     "name": "stdout",
     "output_type": "stream",
     "text": [
      "0\n"
     ]
    },
    {
     "data": {
      "text/plain": [
       "0"
      ]
     },
     "execution_count": 7,
     "metadata": {},
     "output_type": "execute_result"
    }
   ],
   "source": [
    "print(visitors.duplicated().sum())\n",
    "orders.duplicated().sum()\n"
   ]
  },
  {
   "cell_type": "markdown",
   "metadata": {},
   "source": [
    "#### Расчет кумулятивных величин"
   ]
  },
  {
   "cell_type": "code",
   "execution_count": 8,
   "metadata": {},
   "outputs": [],
   "source": [
    "visitorsADaily = visitors[visitors['group'] == 'A'][['date', 'visitors']]\n",
    "visitorsADaily.columns = ['date', 'visitorsPerDateA']\n",
    "\n",
    "visitorsACummulative = visitorsADaily.apply(\n",
    "    lambda x: visitorsADaily[visitorsADaily['date'] <= x['date']].agg(\n",
    "        {'date': 'max', 'visitorsPerDateA': 'sum'}\n",
    "    ),\n",
    "    axis=1,\n",
    ")\n",
    "visitorsACummulative.columns = ['date', 'visitorsCummulativeA']\n"
   ]
  },
  {
   "cell_type": "code",
   "execution_count": 9,
   "metadata": {},
   "outputs": [],
   "source": [
    "visitorsBDaily = visitors[visitors['group'] == 'B'][['date', 'visitors']]\n",
    "visitorsBDaily.columns = ['date', 'visitorsPerDateB']\n",
    "\n",
    "visitorsBCummulative = visitorsBDaily.apply(\n",
    "    lambda x: visitorsBDaily[visitorsBDaily['date'] <= x['date']].agg(\n",
    "        {'date': 'max', 'visitorsPerDateB': 'sum'}\n",
    "    ),\n",
    "    axis=1,\n",
    ")\n",
    "visitorsBCummulative.columns = ['date', 'visitorsCummulativeB']"
   ]
  },
  {
   "cell_type": "code",
   "execution_count": 10,
   "metadata": {},
   "outputs": [],
   "source": [
    "ordersADaily = (\n",
    "    orders[orders['group'] == 'A'][['date', 'transactionId', 'visitorId', 'revenue']]\n",
    "    .groupby('date', as_index=False)\n",
    "    .agg({'transactionId': pd.Series.nunique, 'revenue': 'sum'})\n",
    ")\n",
    "ordersADaily.columns = ['date', 'ordersPerDateA', 'revenuePerDateA']\n",
    "\n",
    "ordersACummulative = ordersADaily.apply(\n",
    "    lambda x: ordersADaily[ordersADaily['date'] <= x['date']].agg(\n",
    "        {'date': 'max', 'ordersPerDateA': 'sum', 'revenuePerDateA': 'sum'}\n",
    "    ),\n",
    "    axis=1,\n",
    ").sort_values(by=['date'])\n",
    "ordersACummulative.columns = [\n",
    "    'date',\n",
    "    'ordersCummulativeA',\n",
    "    'revenueCummulativeA',\n",
    "]"
   ]
  },
  {
   "cell_type": "code",
   "execution_count": 11,
   "metadata": {},
   "outputs": [],
   "source": [
    "ordersBDaily = (\n",
    "    orders[orders['group'] == 'B'][['date', 'transactionId', 'visitorId', 'revenue']]\n",
    "    .groupby('date', as_index=False)\n",
    "    .agg({'transactionId': pd.Series.nunique, 'revenue': 'sum'})\n",
    ")\n",
    "ordersBDaily.columns = ['date', 'ordersPerDateB', 'revenuePerDateB']\n",
    "\n",
    "ordersBCummulative = ordersBDaily.apply(\n",
    "    lambda x: ordersBDaily[ordersBDaily['date'] <= x['date']].agg(\n",
    "        {'date': 'max', 'ordersPerDateB': 'sum', 'revenuePerDateB': 'sum'}\n",
    "    ),\n",
    "    axis=1,\n",
    ").sort_values(by=['date'])\n",
    "ordersBCummulative.columns = [\n",
    "    'date',\n",
    "    'ordersCummulativeB',\n",
    "    'revenueCummulativeB',\n",
    "]\n"
   ]
  },
  {
   "cell_type": "code",
   "execution_count": 12,
   "metadata": {},
   "outputs": [
    {
     "name": "stdout",
     "output_type": "stream",
     "text": [
      "        date  ordersPerDateA  revenuePerDateA  ordersPerDateB  \\\n",
      "0 2019-08-01              24           148579              21   \n",
      "1 2019-08-02              20            93822              24   \n",
      "2 2019-08-03              24           112473              16   \n",
      "3 2019-08-04              16            70825              17   \n",
      "4 2019-08-05              25           124218              23   \n",
      "\n",
      "   revenuePerDateB  ordersCummulativeA  revenueCummulativeA  \\\n",
      "0           101217                  24               148579   \n",
      "1           165531                  44               242401   \n",
      "2           114248                  68               354874   \n",
      "3           108571                  84               425699   \n",
      "4            92428                 109               549917   \n",
      "\n",
      "   ordersCummulativeB  revenueCummulativeB  visitorsPerDateA  \\\n",
      "0                  21               101217               719   \n",
      "1                  45               266748               619   \n",
      "2                  61               380996               507   \n",
      "3                  78               489567               717   \n",
      "4                 101               581995               756   \n",
      "\n",
      "   visitorsPerDateB  visitorsCummulativeA  visitorsCummulativeB  \n",
      "0               713                   719                   713  \n",
      "1               581                  1338                  1294  \n",
      "2               509                  1845                  1803  \n",
      "3               770                  2562                  2573  \n",
      "4               707                  3318                  3280  \n"
     ]
    }
   ],
   "source": [
    "data = (\n",
    "    ordersADaily.merge(\n",
    "        ordersBDaily, left_on='date', right_on='date', how='left'\n",
    "    )\n",
    "    .merge(ordersACummulative, left_on='date', right_on='date', how='left')\n",
    "    .merge(ordersBCummulative, left_on='date', right_on='date', how='left')\n",
    "    .merge(visitorsADaily, left_on='date', right_on='date', how='left')\n",
    "    .merge(visitorsBDaily, left_on='date', right_on='date', how='left')\n",
    "    .merge(visitorsACummulative, left_on='date', right_on='date', how='left')\n",
    "    .merge(visitorsBCummulative, left_on='date', right_on='date', how='left')\n",
    ")\n",
    "\n",
    "print(data.head(5)) "
   ]
  },
  {
   "cell_type": "code",
   "execution_count": 13,
   "metadata": {},
   "outputs": [
    {
     "name": "stdout",
     "output_type": "stream",
     "text": [
      "2019-08-01 00:00:00\n"
     ]
    },
    {
     "data": {
      "text/plain": [
       "Timestamp('2019-08-31 00:00:00')"
      ]
     },
     "execution_count": 13,
     "metadata": {},
     "output_type": "execute_result"
    }
   ],
   "source": [
    "print(min(data['date']))\n",
    "max(data['date'])"
   ]
  },
  {
   "cell_type": "markdown",
   "metadata": {},
   "source": [
    "#### График кумулятивной выручки по группам"
   ]
  },
  {
   "cell_type": "code",
   "execution_count": 14,
   "metadata": {
    "scrolled": false
   },
   "outputs": [
    {
     "data": {
      "image/png": "[encoded data removed]",
      "text/plain": [
       "<Figure size 1152x720 with 1 Axes>"
      ]
     },
     "metadata": {
      "needs_background": "light"
     },
     "output_type": "display_data"
    }
   ],
   "source": [
    "plt.figure(figsize = (16, 10))\n",
    "plt.plot(data['date'], data['revenueCummulativeA'], label='A')\n",
    "plt.plot(data['date'], data['revenueCummulativeB'], label='B')\n",
    "plt.legend()\n",
    "plt.title('График кумулятивной выручки по группам')\n",
    "plt.ylabel('Выручка')\n",
    "plt.xlabel('Дата')\n",
    "plt.show()"
   ]
  },
  {
   "cell_type": "markdown",
   "metadata": {},
   "source": [
    "##### Вывод"
   ]
  },
  {
   "cell_type": "markdown",
   "metadata": {},
   "source": [
    "В ходе исследования графики кумулятивной выручки обеих групп сначала двигались синхронно, затем группа В вырвалась вперед и практически весь период наращивала свое преимущество. Наблюдаем резкий скачок вверх у группы В и скачок поменьше у группы А. Это может говорить нам о резком увеличении как количества заказов, так и среднего чека. Необходимо проанализировать оба этих параметра отдельно, чтобы проверить данные на наличие аномалий."
   ]
  },
  {
   "cell_type": "markdown",
   "metadata": {},
   "source": [
    "#### График кумулятивного среднего чека по группам"
   ]
  },
  {
   "cell_type": "code",
   "execution_count": 15,
   "metadata": {},
   "outputs": [
    {
     "data": {
      "image/png": "[encoded data removed]",
      "text/plain": [
       "<Figure size 1152x720 with 1 Axes>"
      ]
     },
     "metadata": {
      "needs_background": "light"
     },
     "output_type": "display_data"
    }
   ],
   "source": [
    "plt.figure(figsize = (16, 10))\n",
    "plt.plot(data['date'], data['revenueCummulativeA']/data['ordersCummulativeA'], label='A')\n",
    "plt.plot(data['date'], data['revenueCummulativeB']/data['ordersCummulativeB'], label='B')\n",
    "plt.legend()\n",
    "plt.title('График кумулятивного среднего чека по группам')\n",
    "plt.ylabel('Средняя стоимость заказа')\n",
    "plt.xlabel('Дата')\n",
    "plt.show()"
   ]
  },
  {
   "cell_type": "markdown",
   "metadata": {},
   "source": [
    "##### Вывод"
   ]
  },
  {
   "cell_type": "markdown",
   "metadata": {},
   "source": [
    "Графики кумулятивного среднего чека нестабильны, что подтверждает подозрения о наличии выбросов в данных."
   ]
  },
  {
   "cell_type": "markdown",
   "metadata": {},
   "source": [
    "#### График относительного изменения кумулятивного среднего чека группы B к группе A"
   ]
  },
  {
   "cell_type": "code",
   "execution_count": 16,
   "metadata": {},
   "outputs": [
    {
     "data": {
      "image/png": "[encoded data removed]",
      "text/plain": [
       "<Figure size 1152x720 with 1 Axes>"
      ]
     },
     "metadata": {
      "needs_background": "light"
     },
     "output_type": "display_data"
    }
   ],
   "source": [
    "plt.figure(figsize = (16, 10))\n",
    "plt.plot(data['date'], (data['revenueCummulativeB']/data['ordersCummulativeB'])/(data['revenueCummulativeA']/data['ordersCummulativeA'])-1)\n",
    "plt.axhline(y=0, color='black', linestyle='--') \n",
    "plt.title('График относительного изменения кумулятивного среднего чека группы B к группе A')\n",
    "plt.ylabel('Отношение средней стоимости заказов')\n",
    "plt.xlabel('Дата')\n",
    "plt.show()"
   ]
  },
  {
   "cell_type": "markdown",
   "metadata": {},
   "source": [
    "##### Вывод"
   ]
  },
  {
   "cell_type": "markdown",
   "metadata": {},
   "source": [
    "Скачки на графике относительного изменения среднего чека показывают нам несколько потенциальных дат совершения аномальных заказов."
   ]
  },
  {
   "cell_type": "markdown",
   "metadata": {},
   "source": [
    "#### График кумулятивного среднего количества заказов на посетителя по группам"
   ]
  },
  {
   "cell_type": "code",
   "execution_count": 17,
   "metadata": {},
   "outputs": [
    {
     "data": {
      "image/png": "[encoded data removed]",
      "text/plain": [
       "<Figure size 1152x720 with 1 Axes>"
      ]
     },
     "metadata": {
      "needs_background": "light"
     },
     "output_type": "display_data"
    }
   ],
   "source": [
    "plt.figure(figsize = (16, 10))\n",
    "\n",
    "data['ConversionA'] = data['ordersCummulativeA']/data['visitorsCummulativeA']\n",
    "\n",
    "data['ConversionB'] = data['ordersCummulativeB']/data['visitorsCummulativeB']\n",
    "\n",
    "plt.plot(data['date'], data['ConversionA'], label='A')\n",
    "plt.plot(data['date'], data['ConversionB'], label='B')\n",
    "plt.title('График кумулятивного среднего количества заказов на посетителя по группам')\n",
    "plt.ylabel('Среднее количество заказов')\n",
    "plt.xlabel('Дата')\n",
    "\n",
    "plt.axis([dt.datetime(2019, 8, 1), dt.datetime(2019, 8, 31), 0, 0.05])\n",
    "plt.show()\n"
   ]
  },
  {
   "cell_type": "markdown",
   "metadata": {},
   "source": [
    "##### Вывод"
   ]
  },
  {
   "cell_type": "markdown",
   "metadata": {},
   "source": [
    "Графики групп среднего количества заказов переплетаются в начале исследования, однако после 5-го дня результаты у группы В становятся стабильно лучше, чем у группы А. Абсолютное изменение колебания невелико: от 3% до 4%."
   ]
  },
  {
   "cell_type": "markdown",
   "metadata": {},
   "source": [
    "#### График относительного изменения кумулятивного среднего количества заказов на посетителя группы B к группе A"
   ]
  },
  {
   "cell_type": "code",
   "execution_count": 18,
   "metadata": {},
   "outputs": [
    {
     "data": {
      "image/png": "[encoded data removed]",
      "text/plain": [
       "<Figure size 1152x720 with 1 Axes>"
      ]
     },
     "metadata": {
      "needs_background": "light"
     },
     "output_type": "display_data"
    }
   ],
   "source": [
    "plt.figure(figsize = (16, 10))\n",
    "\n",
    "plt.plot(data['date'], data['ConversionB']/data['ConversionA']-1, label=\"Относительный прирост конверсии группы B относительно группы A\")\n",
    "plt.legend()\n",
    "plt.title('График относительного изменения кумулятивного среднего количества заказов на посетителя группы B к группе A')\n",
    "plt.ylabel('Отношение среднего количества заказов')\n",
    "plt.xlabel('Дата')\n",
    "\n",
    "plt.axhline(y=0, color='black', linestyle='--')\n",
    "plt.axhline(y=0.1, color='grey', linestyle='--')\n",
    "plt.axis([\"2019-08-1\", '2019-08-31', -0.5, 0.5])\n",
    "plt.show()"
   ]
  },
  {
   "cell_type": "markdown",
   "metadata": {},
   "source": [
    "##### Вывод"
   ]
  },
  {
   "cell_type": "markdown",
   "metadata": {},
   "source": [
    "Согласно графику после пятого дня исследования конверсия группы В стабильно выше на 15-20%."
   ]
  },
  {
   "cell_type": "markdown",
   "metadata": {},
   "source": [
    "#### Точечный график количества заказов по пользователям"
   ]
  },
  {
   "cell_type": "code",
   "execution_count": 19,
   "metadata": {},
   "outputs": [
    {
     "name": "stdout",
     "output_type": "stream",
     "text": [
      "          userId  orders\n",
      "1023  4256040402      11\n",
      "591   2458001652      11\n",
      "569   2378935119       9\n",
      "487   2038680547       8\n",
      "44     199603092       5\n",
      "744   3062433592       5\n",
      "55     237748145       5\n",
      "917   3803269165       5\n",
      "299   1230306981       5\n",
      "897   3717692402       5\n"
     ]
    },
    {
     "data": {
      "image/png": "[encoded data removed]",
      "text/plain": [
       "<Figure size 1152x720 with 1 Axes>"
      ]
     },
     "metadata": {
      "needs_background": "light"
     },
     "output_type": "display_data"
    }
   ],
   "source": [
    "data_merge = (\n",
    "    orders.merge(\n",
    "        visitors, left_on='date', right_on='date', how='left')\n",
    ")\n",
    "\n",
    "ordersByUsers = (\n",
    "    data_merge.groupby('visitorId', as_index=False)\n",
    "    .agg({'transactionId': 'nunique'})\n",
    ")\n",
    "\n",
    "ordersByUsers.columns = ['userId', 'orders']\n",
    "\n",
    "print(ordersByUsers.sort_values(by='orders', ascending=False).head(10))\n",
    "\n",
    "x_values = pd.Series(range(0,len(ordersByUsers)))\n",
    "\n",
    "plt.figure(figsize = (16, 10))\n",
    "plt.scatter(x_values, ordersByUsers['orders']) \n",
    "plt.title('Точечный график количества заказов по пользователям')\n",
    "plt.ylabel('Заказы')\n",
    "plt.xlabel('Пользователи')\n",
    "plt.show()"
   ]
  },
  {
   "cell_type": "markdown",
   "metadata": {},
   "source": [
    "##### Вывод"
   ]
  },
  {
   "cell_type": "markdown",
   "metadata": {},
   "source": [
    "На точечном графике количества заказов мы видим, что выбросы точно есть, осталось только определить границы 'чистой' зоны с помощью перцентилей."
   ]
  },
  {
   "cell_type": "markdown",
   "metadata": {},
   "source": [
    "#### Расчет 95-й и 99-й перцентили количества заказов на пользователя"
   ]
  },
  {
   "cell_type": "code",
   "execution_count": 20,
   "metadata": {},
   "outputs": [
    {
     "data": {
      "text/plain": [
       "array([2., 4.])"
      ]
     },
     "execution_count": 20,
     "metadata": {},
     "output_type": "execute_result"
    }
   ],
   "source": [
    "np.percentile(ordersByUsers['orders'], [95, 99]) "
   ]
  },
  {
   "cell_type": "markdown",
   "metadata": {},
   "source": [
    "##### Вывод"
   ]
  },
  {
   "cell_type": "markdown",
   "metadata": {},
   "source": [
    "Больше 4 заказов совершили меньше 1% пользователей, отнесем их к аномальным значениям."
   ]
  },
  {
   "cell_type": "markdown",
   "metadata": {},
   "source": [
    "#### Точечный график стоимостей заказов"
   ]
  },
  {
   "cell_type": "code",
   "execution_count": 21,
   "metadata": {
    "scrolled": false
   },
   "outputs": [
    {
     "name": "stdout",
     "output_type": "stream",
     "text": [
      "      transactionId   visitorId       date  revenue group\n",
      "425       590470918  1920142716 2019-08-19  1294500     B\n",
      "1196     3936777065  2108080724 2019-08-15   202740     B\n",
      "858       192721366  1316129916 2019-08-27    93940     A\n",
      "1136      666610489  1307669133 2019-08-13    92550     A\n",
      "744      3668308183   888512513 2019-08-27    86620     B\n",
      "682      1216533772  4266935830 2019-08-29    78990     B\n",
      "662      1811671147  4266935830 2019-08-29    78990     A\n",
      "743      3603576309  4133034833 2019-08-09    67990     A\n",
      "1103     1348774318  1164614297 2019-08-12    66350     A\n",
      "1099      316924019   148427295 2019-08-12    65710     A\n"
     ]
    },
    {
     "data": {
      "image/png": "[encoded data removed]",
      "text/plain": [
       "<Figure size 1152x720 with 1 Axes>"
      ]
     },
     "metadata": {
      "needs_background": "light"
     },
     "output_type": "display_data"
    }
   ],
   "source": [
    "print(orders.sort_values(by='revenue', ascending=False).head(10))\n",
    "\n",
    "x_values = pd.Series(range(0,len(orders['revenue'])))\n",
    "\n",
    "plt.figure(figsize = (16, 10))\n",
    "\n",
    "plt.scatter(x_values, orders['revenue']) \n",
    "plt.title('Точечный график стоимостей заказов')\n",
    "plt.ylabel('Стоимость заказа')\n",
    "plt.xlabel('Заказы')\n",
    "plt.show()"
   ]
  },
  {
   "cell_type": "markdown",
   "metadata": {},
   "source": [
    "На точечном графике стоимости заказов мы видим 2 явных выброса, построим график без них для наглядности."
   ]
  },
  {
   "cell_type": "code",
   "execution_count": 22,
   "metadata": {},
   "outputs": [
    {
     "data": {
      "image/png": "[encoded data removed]",
      "text/plain": [
       "<Figure size 1152x720 with 1 Axes>"
      ]
     },
     "metadata": {
      "needs_background": "light"
     },
     "output_type": "display_data"
    }
   ],
   "source": [
    "orders_query = orders.query('revenue < 100000')\n",
    "\n",
    "x_values = pd.Series(range(0,len(orders_query['revenue'])))\n",
    "\n",
    "plt.figure(figsize = (16, 10))\n",
    "\n",
    "plt.scatter(x_values, orders_query['revenue']) \n",
    "plt.title('Точечный график количества заказов по пользователям')\n",
    "plt.ylabel('Заказы')\n",
    "plt.xlabel('Пользователи')\n",
    "plt.show()"
   ]
  },
  {
   "cell_type": "markdown",
   "metadata": {},
   "source": [
    "##### Вывод"
   ]
  },
  {
   "cell_type": "markdown",
   "metadata": {},
   "source": [
    "Выбросы есть, определим границы 'чистой' зоны с помощью перцентилей."
   ]
  },
  {
   "cell_type": "markdown",
   "metadata": {},
   "source": [
    "#### Расчет 95-й и 99-й перцентили стоимости заказов"
   ]
  },
  {
   "cell_type": "code",
   "execution_count": 23,
   "metadata": {},
   "outputs": [
    {
     "data": {
      "text/plain": [
       "array([28000. , 58233.2])"
      ]
     },
     "execution_count": 23,
     "metadata": {},
     "output_type": "execute_result"
    }
   ],
   "source": [
    "np.percentile(orders['revenue'], [95, 99]) "
   ]
  },
  {
   "cell_type": "markdown",
   "metadata": {},
   "source": [
    "##### Вывод"
   ]
  },
  {
   "cell_type": "markdown",
   "metadata": {},
   "source": [
    "95% пользователей тратили менее 28000 за заказ. Будем считать 'отфильтрованными' пользователями тех, кто потратил менее 30000."
   ]
  },
  {
   "cell_type": "markdown",
   "metadata": {},
   "source": [
    "#### Расчет статистической значимости различий в среднем количестве заказов на посетителя между группами по «сырым» данным"
   ]
  },
  {
   "cell_type": "code",
   "execution_count": 24,
   "metadata": {},
   "outputs": [],
   "source": [
    "ordersByUsersA = (\n",
    "    orders[orders['group'] == 'A']\n",
    "    .groupby('visitorId', as_index=False)\n",
    "    .agg({'transactionId': pd.Series.nunique})\n",
    ")\n",
    "ordersByUsersA.columns = ['userId', 'orders']\n",
    "\n",
    "ordersByUsersB = (\n",
    "    orders[orders['group'] == 'B']\n",
    "    .groupby('visitorId', as_index=False)\n",
    "    .agg({'transactionId': pd.Series.nunique})\n",
    ")\n",
    "ordersByUsersB.columns = ['userId', 'orders'] "
   ]
  },
  {
   "cell_type": "code",
   "execution_count": 25,
   "metadata": {},
   "outputs": [],
   "source": [
    "sampleA = pd.concat(\n",
    "    [\n",
    "        ordersByUsersA['orders'],\n",
    "        pd.Series(\n",
    "            0,\n",
    "            index=np.arange(\n",
    "                data['visitorsPerDateA'].sum() - len(ordersByUsersA['orders'])\n",
    "            ),\n",
    "            name='orders',\n",
    "        ),\n",
    "    ],\n",
    "    axis=0,\n",
    ")\n",
    "\n",
    "sampleB = pd.concat(\n",
    "    [\n",
    "        ordersByUsersB['orders'],\n",
    "        pd.Series(\n",
    "            0,\n",
    "            index=np.arange(\n",
    "                data['visitorsPerDateB'].sum() - len(ordersByUsersB['orders'])\n",
    "            ),\n",
    "            name='orders',\n",
    "        ),\n",
    "    ],\n",
    "    axis=0,\n",
    ")"
   ]
  },
  {
   "cell_type": "code",
   "execution_count": 26,
   "metadata": {},
   "outputs": [
    {
     "name": "stdout",
     "output_type": "stream",
     "text": [
      "p-value различий в среднем количестве заказов по сырым данным - 0.017\n",
      "Отношение среднего количества заказов по сырым данным - 0.138\n"
     ]
    }
   ],
   "source": [
    "print(f'p-value различий в среднем количестве заказов по сырым данным - ' \"{0:.3f}\".format(st.mannwhitneyu(sampleA, sampleB)[1]))\n",
    "print(f'Отношение среднего количества заказов по сырым данным - '\"{0:.3f}\".format(sampleB.mean() / sampleA.mean() - 1))"
   ]
  },
  {
   "cell_type": "markdown",
   "metadata": {},
   "source": [
    "##### Вывод"
   ]
  },
  {
   "cell_type": "markdown",
   "metadata": {},
   "source": [
    "Нулевая гипотеза: в среднем количестве заказов между группами нет статистически значимых различий. Альтернативная гипотеза: в среднем количестве заказов между группами есть статистически значимые различия. Показатель p-value меньше 0.05, соответственно мы отвергаем нулевую гипотезу. В 'сырых' данных между группами есть статистически значимые различия в среднем количестве заказов. Относительный прирост среднего группы В к конверсии группы А равен 13,8%."
   ]
  },
  {
   "cell_type": "markdown",
   "metadata": {},
   "source": [
    "#### Расчет статистической значимости различий в среднем чеке заказа между группами по «сырым» данным"
   ]
  },
  {
   "cell_type": "code",
   "execution_count": 27,
   "metadata": {},
   "outputs": [
    {
     "name": "stdout",
     "output_type": "stream",
     "text": [
      "p-value различий в среднем чеке заказа по сырым данным - 0.729\n",
      "Отношение среднего чека заказа по сырым данным - 0.259\n"
     ]
    }
   ],
   "source": [
    "print(f'p-value различий в среднем чеке заказа по сырым данным - ' \n",
    "    '{0:.3f}'.format(\n",
    "        st.mannwhitneyu(\n",
    "            orders[orders['group']=='A']['revenue'], orders[orders['group']=='B']['revenue'])[1])\n",
    ")\n",
    "print(f'Отношение среднего чека заказа по сырым данным - '\n",
    "    '{0:.3f}'.format(\n",
    "        orders[orders['group']=='B']['revenue'].mean()/orders[orders['group']=='A']['revenue'].mean()-1)\n",
    ") "
   ]
  },
  {
   "cell_type": "markdown",
   "metadata": {},
   "source": [
    "##### Вывод"
   ]
  },
  {
   "cell_type": "markdown",
   "metadata": {},
   "source": [
    "Нулевая гипотеза: в среднем чеке заказа между группами нет статистически значимых различий. Альтернативная гипотеза: в среднем чеке заказа между группами есть статистически значимые различия. Показатель p-value значительно больше 0.05, соответственно мы не отвергаем нулевую гипотезу. В 'сырых' данных между группами нет статистически значимых различий в среднем чеке, несмотря на то, что относительное различие среднего чека равно 25,9%, что выглядит значительным."
   ]
  },
  {
   "cell_type": "markdown",
   "metadata": {},
   "source": [
    "#### Расчет статистической значимости различий в среднем количестве заказов на посетителя между группами по «очищенным» данным"
   ]
  },
  {
   "cell_type": "code",
   "execution_count": 28,
   "metadata": {},
   "outputs": [
    {
     "name": "stdout",
     "output_type": "stream",
     "text": [
      "1099    148427295\n",
      "928     204675465\n",
      "684     358944393\n",
      "648     382846391\n",
      "1189    393266494\n",
      "dtype: int64\n",
      "59\n"
     ]
    }
   ],
   "source": [
    "usersWithManyOrders = pd.concat(\n",
    "    [\n",
    "        ordersByUsersA[ordersByUsersA['orders'] > np.percentile(ordersByUsers['orders'], 99)]['userId'],\n",
    "        ordersByUsersB[ordersByUsersB['orders'] > np.percentile(ordersByUsers['orders'], 99)]['userId'],\n",
    "    ],\n",
    "    axis=0,\n",
    ")\n",
    "usersWithExpensiveOrders = orders[orders['revenue'] > np.percentile(orders['revenue'], 95)]['visitorId']\n",
    "abnormalUsers = (\n",
    "    pd.concat([usersWithManyOrders, usersWithExpensiveOrders], axis=0)\n",
    "    .drop_duplicates()\n",
    "    .sort_values()\n",
    ")\n",
    "print(abnormalUsers.head(5))\n",
    "print(abnormalUsers.shape[0]) "
   ]
  },
  {
   "cell_type": "code",
   "execution_count": 29,
   "metadata": {},
   "outputs": [],
   "source": [
    "sampleAFiltered = pd.concat(\n",
    "    [\n",
    "        ordersByUsersA[\n",
    "            np.logical_not(ordersByUsersA['userId'].isin(abnormalUsers))\n",
    "        ]['orders'],\n",
    "        pd.Series(\n",
    "            0,\n",
    "            index=np.arange(\n",
    "                data['visitorsPerDateA'].sum() - len(ordersByUsersA['orders'])\n",
    "            ),\n",
    "            name='orders',\n",
    "        ),\n",
    "    ],\n",
    "    axis=0,\n",
    ")\n",
    "\n",
    "sampleBFiltered = pd.concat(\n",
    "    [\n",
    "        ordersByUsersB[\n",
    "            np.logical_not(ordersByUsersB['userId'].isin(abnormalUsers))\n",
    "        ]['orders'],\n",
    "        pd.Series(\n",
    "            0,\n",
    "            index=np.arange(\n",
    "                data['visitorsPerDateB'].sum() - len(ordersByUsersB['orders'])\n",
    "            ),\n",
    "            name='orders',\n",
    "        ),\n",
    "    ],\n",
    "    axis=0,\n",
    ") "
   ]
  },
  {
   "cell_type": "code",
   "execution_count": 30,
   "metadata": {},
   "outputs": [
    {
     "name": "stdout",
     "output_type": "stream",
     "text": [
      "p-value различий в среднем количестве заказов по очищенным данным - 0.018\n",
      "Отношение среднего количества заказов по очищенным данным - 0.145\n"
     ]
    }
   ],
   "source": [
    "print(f'p-value различий в среднем количестве заказов по очищенным данным - '\n",
    "    '{0:.3f}'.format(\n",
    "        st.mannwhitneyu(\n",
    "            sampleAFiltered, sampleBFiltered)[1])\n",
    ")\n",
    "print(f'Отношение среднего количества заказов по очищенным данным - '\n",
    "    '{0:.3f}'.format(\n",
    "        sampleBFiltered.mean()/sampleAFiltered.mean()-1)\n",
    ")"
   ]
  },
  {
   "cell_type": "markdown",
   "metadata": {},
   "source": [
    "##### Вывод"
   ]
  },
  {
   "cell_type": "markdown",
   "metadata": {},
   "source": [
    "Нулевая гипотеза: в среднем количестве заказов между группами нет статистически значимых различий. Альтернативная гипотеза: в среднем количестве заказов между группами есть статистически значимые различия. p-value по очищенным данным стал еще меньше, в среднем количестве заказов между группами есть статистически значимые различия. Относительный прирост среднего группы В к конверсии группы А по очищенным данным равен 17,2%."
   ]
  },
  {
   "cell_type": "markdown",
   "metadata": {},
   "source": [
    "#### Расчет статистической значимости различий в среднем чеке заказа между группами по «очищенным» данным"
   ]
  },
  {
   "cell_type": "code",
   "execution_count": 31,
   "metadata": {},
   "outputs": [
    {
     "name": "stdout",
     "output_type": "stream",
     "text": [
      "p-value различий в среднем чеке заказа по очищенным данным - 0.961\n",
      "Отношение среднего чека заказа по очищенным данным - -0.014\n"
     ]
    }
   ],
   "source": [
    "print(f'p-value различий в среднем чеке заказа по очищенным данным - '\n",
    "    '{0:.3f}'.format(\n",
    "        st.mannwhitneyu(\n",
    "            orders[\n",
    "                np.logical_and(\n",
    "                    orders['group'] == 'A',\n",
    "                    np.logical_not(orders['visitorId'].isin(abnormalUsers)),\n",
    "                )\n",
    "            ]['revenue'],\n",
    "            orders[\n",
    "                np.logical_and(\n",
    "                    orders['group'] == 'B',\n",
    "                    np.logical_not(orders['visitorId'].isin(abnormalUsers)),\n",
    "                )\n",
    "            ]['revenue'],\n",
    "        )[1]\n",
    "    )\n",
    ")\n",
    "\n",
    "print(f'Отношение среднего чека заказа по очищенным данным - '\n",
    "    \"{0:.3f}\".format(\n",
    "        orders[\n",
    "            np.logical_and(\n",
    "                orders['group'] == 'B',\n",
    "                np.logical_not(orders['visitorId'].isin(abnormalUsers)),\n",
    "            )\n",
    "        ]['revenue'].mean()\n",
    "        / orders[\n",
    "            np.logical_and(\n",
    "                orders['group'] == 'A',\n",
    "                np.logical_not(orders['visitorId'].isin(abnormalUsers)),\n",
    "            )\n",
    "        ]['revenue'].mean()\n",
    "        - 1\n",
    "    )\n",
    ") "
   ]
  },
  {
   "cell_type": "markdown",
   "metadata": {},
   "source": [
    "##### Вывод"
   ]
  },
  {
   "cell_type": "markdown",
   "metadata": {},
   "source": [
    "Нулевая гипотеза: в среднем чеке заказа между группами нет статистически значимых различий. Альтернативная гипотеза: в среднем чеке заказа между группами есть статистически значимые различия. Относительное различие среднего чека изменилось практически на 30% и стало не в пользу группы В, однако p-value практически не изменился, что означает, что и в очищенных данных нет статистически значимых различий. Относительное различие среднего чека по очищенным данным равно 2,3%."
   ]
  },
  {
   "cell_type": "markdown",
   "metadata": {},
   "source": [
    "#### Вывод"
   ]
  },
  {
   "cell_type": "code",
   "execution_count": 32,
   "metadata": {},
   "outputs": [
    {
     "data": {
      "image/png": "[encoded data removed]",
      "text/plain": [
       "<Figure size 1152x720 with 1 Axes>"
      ]
     },
     "metadata": {
      "needs_background": "light"
     },
     "output_type": "display_data"
    }
   ],
   "source": [
    "plt.figure(figsize = (16, 10))\n",
    "\n",
    "plt.plot(data['date'], (data['revenueCummulativeB']/data['ordersCummulativeB'])/(data['revenueCummulativeA']/data['ordersCummulativeA'])-1, label=\"Относительный прирост среднего чека группы B относительно группы A\")\n",
    "\n",
    "plt.axhline(y=0, color='black', linestyle='--') \n",
    "\n",
    "plt.plot(data['date'], data['ConversionB']/data['ConversionA']-1, label=\"Относительный прирост конверсии группы B относительно группы A\")\n",
    "plt.legend()\n",
    "\n",
    "plt.axhline(y=0, color='black', linestyle='--')\n",
    "plt.axhline(y=0.1, color='grey', linestyle='--')\n",
    "plt.axis([\"2019-08-1\", '2019-08-31', -0.5, 0.5])\n",
    "plt.show()"
   ]
  },
  {
   "cell_type": "markdown",
   "metadata": {},
   "source": [
    "В процессе исследования мы пришли к следующим выводам:\n",
    "- есть статистически значимые различия по среднему количеству заказов между группами и по «сырым», и по данным после фильтрации аномалий;\n",
    "- нет статистически значимого различия по среднему чеку между группами ни по «сырым», ни по данным после фильтрации аномалий, а относительное различие после фильтрации аномальных данных сильно изменилось и стало незначительно в пользу группы А;\n",
    "- график различия среднего количества заказов между группами сообщает, что результаты группы B лучше группы А, зафиксировались и имеют тенденцию к росту;\n",
    "- график различия средней стоимости заказов между группами показывает, что   колеблется, а для очищенных данных ,\n",
    "\n",
    "Конверсия группы В показывает стабильный прирост и нет оснований полагать, что это изменится со временем. А/В тест можно признать успешным, завершить и зафиксировать победу группы В."
   ]
  }
 ],
 "metadata": {
  "ExecuteTimeLog": [
   {
    "duration": 124,
    "start_time": "2023-06-06T13:45:30.224Z"
   },
   {
    "duration": 406,
    "start_time": "2023-06-06T13:45:34.225Z"
   },
   {
    "duration": 68,
    "start_time": "2023-06-06T13:46:45.412Z"
   },
   {
    "duration": 4,
    "start_time": "2023-06-06T13:52:08.411Z"
   },
   {
    "duration": 3,
    "start_time": "2023-06-06T13:52:44.130Z"
   },
   {
    "duration": 2244,
    "start_time": "2023-06-06T13:53:23.050Z"
   },
   {
    "duration": 9,
    "start_time": "2023-06-06T13:53:48.611Z"
   },
   {
    "duration": 9,
    "start_time": "2023-06-06T13:54:55.615Z"
   },
   {
    "duration": 7,
    "start_time": "2023-06-06T14:15:41.653Z"
   },
   {
    "duration": 855,
    "start_time": "2023-06-06T14:20:52.607Z"
   },
   {
    "duration": 410,
    "start_time": "2023-06-06T14:21:05.420Z"
   },
   {
    "duration": 702,
    "start_time": "2023-06-06T14:21:06.265Z"
   },
   {
    "duration": 97,
    "start_time": "2023-06-06T14:21:44.821Z"
   },
   {
    "duration": 92,
    "start_time": "2023-06-06T14:22:09.758Z"
   },
   {
    "duration": 98,
    "start_time": "2023-06-06T14:26:06.600Z"
   },
   {
    "duration": 105,
    "start_time": "2023-06-06T14:26:46.897Z"
   },
   {
    "duration": 15,
    "start_time": "2023-06-06T14:26:48.550Z"
   },
   {
    "duration": 4,
    "start_time": "2023-06-06T14:26:55.612Z"
   },
   {
    "duration": 26,
    "start_time": "2023-06-06T14:27:02.876Z"
   },
   {
    "duration": 53,
    "start_time": "2023-06-06T14:28:00.264Z"
   },
   {
    "duration": 53,
    "start_time": "2023-06-06T14:28:19.401Z"
   },
   {
    "duration": 26,
    "start_time": "2023-06-06T14:28:48.821Z"
   },
   {
    "duration": 425,
    "start_time": "2023-06-06T14:32:24.596Z"
   },
   {
    "duration": 15,
    "start_time": "2023-06-06T14:34:34.993Z"
   },
   {
    "duration": 9,
    "start_time": "2023-06-06T14:35:57.175Z"
   },
   {
    "duration": 216,
    "start_time": "2023-06-06T14:44:00.128Z"
   },
   {
    "duration": 149,
    "start_time": "2023-06-06T14:47:16.721Z"
   },
   {
    "duration": 301,
    "start_time": "2023-06-06T14:51:01.720Z"
   },
   {
    "duration": 162,
    "start_time": "2023-06-06T15:00:57.542Z"
   },
   {
    "duration": 160,
    "start_time": "2023-06-06T15:01:08.111Z"
   },
   {
    "duration": 157,
    "start_time": "2023-06-06T15:02:12.574Z"
   },
   {
    "duration": 4,
    "start_time": "2023-06-06T15:02:44.780Z"
   },
   {
    "duration": 167,
    "start_time": "2023-06-06T15:03:14.842Z"
   },
   {
    "duration": 185,
    "start_time": "2023-06-06T15:03:25.074Z"
   },
   {
    "duration": 258,
    "start_time": "2023-06-06T15:06:40.680Z"
   },
   {
    "duration": 162,
    "start_time": "2023-06-06T15:07:07.959Z"
   },
   {
    "duration": 155,
    "start_time": "2023-06-06T15:07:19.407Z"
   },
   {
    "duration": 153,
    "start_time": "2023-06-06T15:07:33.515Z"
   },
   {
    "duration": 46,
    "start_time": "2023-06-06T18:01:53.960Z"
   },
   {
    "duration": 364,
    "start_time": "2023-06-06T18:02:01.784Z"
   },
   {
    "duration": 72,
    "start_time": "2023-06-06T18:02:02.149Z"
   },
   {
    "duration": 9,
    "start_time": "2023-06-06T18:02:02.223Z"
   },
   {
    "duration": 20,
    "start_time": "2023-06-06T18:02:02.234Z"
   },
   {
    "duration": 883,
    "start_time": "2023-06-06T18:02:02.255Z"
   },
   {
    "duration": 150,
    "start_time": "2023-06-06T18:02:03.140Z"
   },
   {
    "duration": 49,
    "start_time": "2023-06-06T18:02:03.291Z"
   },
   {
    "duration": 48,
    "start_time": "2023-06-06T18:02:03.342Z"
   },
   {
    "duration": 74,
    "start_time": "2023-06-06T18:02:03.392Z"
   },
   {
    "duration": 58,
    "start_time": "2023-06-06T18:02:03.468Z"
   },
   {
    "duration": 37,
    "start_time": "2023-06-06T18:02:03.528Z"
   },
   {
    "duration": 257,
    "start_time": "2023-06-06T18:02:03.567Z"
   },
   {
    "duration": 183,
    "start_time": "2023-06-06T18:02:03.826Z"
   },
   {
    "duration": 353,
    "start_time": "2023-06-06T18:02:04.011Z"
   },
   {
    "duration": 198,
    "start_time": "2023-06-06T18:02:04.366Z"
   },
   {
    "duration": 1834,
    "start_time": "2023-06-06T18:02:04.566Z"
   },
   {
    "duration": 254,
    "start_time": "2023-06-06T18:02:25.768Z"
   },
   {
    "duration": 329,
    "start_time": "2023-06-06T18:02:50.948Z"
   },
   {
    "duration": 463,
    "start_time": "2023-06-06T18:10:54.828Z"
   },
   {
    "duration": 530,
    "start_time": "2023-06-06T18:40:04.546Z"
   },
   {
    "duration": 12,
    "start_time": "2023-06-06T18:40:31.505Z"
   },
   {
    "duration": 19,
    "start_time": "2023-06-06T18:45:26.828Z"
   },
   {
    "duration": 516,
    "start_time": "2023-06-06T18:46:07.209Z"
   },
   {
    "duration": 19,
    "start_time": "2023-06-06T18:46:15.846Z"
   },
   {
    "duration": 30,
    "start_time": "2023-06-06T18:46:57.247Z"
   },
   {
    "duration": 18,
    "start_time": "2023-06-06T18:47:06.623Z"
   },
   {
    "duration": 126,
    "start_time": "2023-06-06T18:48:05.616Z"
   },
   {
    "duration": 192,
    "start_time": "2023-06-06T18:48:43.017Z"
   },
   {
    "duration": 119,
    "start_time": "2023-06-06T18:48:51.908Z"
   },
   {
    "duration": 118,
    "start_time": "2023-06-06T18:49:48.016Z"
   },
   {
    "duration": 131,
    "start_time": "2023-06-06T18:50:28.626Z"
   },
   {
    "duration": 4,
    "start_time": "2023-06-06T19:19:02.319Z"
   },
   {
    "duration": 5,
    "start_time": "2023-06-06T19:19:45.140Z"
   },
   {
    "duration": 53,
    "start_time": "2023-06-07T12:21:57.182Z"
   },
   {
    "duration": 396,
    "start_time": "2023-06-07T12:22:05.912Z"
   },
   {
    "duration": 67,
    "start_time": "2023-06-07T12:22:06.310Z"
   },
   {
    "duration": 11,
    "start_time": "2023-06-07T12:22:06.378Z"
   },
   {
    "duration": 18,
    "start_time": "2023-06-07T12:22:06.391Z"
   },
   {
    "duration": 928,
    "start_time": "2023-06-07T12:22:06.411Z"
   },
   {
    "duration": 168,
    "start_time": "2023-06-07T12:22:07.341Z"
   },
   {
    "duration": 47,
    "start_time": "2023-06-07T12:22:07.511Z"
   },
   {
    "duration": 46,
    "start_time": "2023-06-07T12:22:07.560Z"
   },
   {
    "duration": 83,
    "start_time": "2023-06-07T12:22:07.607Z"
   },
   {
    "duration": 130,
    "start_time": "2023-06-07T12:22:07.693Z"
   },
   {
    "duration": 27,
    "start_time": "2023-06-07T12:22:07.825Z"
   },
   {
    "duration": 278,
    "start_time": "2023-06-07T12:22:07.853Z"
   },
   {
    "duration": 184,
    "start_time": "2023-06-07T12:22:08.134Z"
   },
   {
    "duration": 291,
    "start_time": "2023-06-07T12:22:08.320Z"
   },
   {
    "duration": 170,
    "start_time": "2023-06-07T12:22:08.613Z"
   },
   {
    "duration": 277,
    "start_time": "2023-06-07T12:22:08.785Z"
   },
   {
    "duration": 135,
    "start_time": "2023-06-07T12:22:09.064Z"
   },
   {
    "duration": 5,
    "start_time": "2023-06-07T12:22:09.201Z"
   },
   {
    "duration": 144,
    "start_time": "2023-06-07T12:22:09.207Z"
   },
   {
    "duration": 155,
    "start_time": "2023-06-07T12:24:08.054Z"
   },
   {
    "duration": 104,
    "start_time": "2023-06-07T12:25:02.046Z"
   },
   {
    "duration": 3618,
    "start_time": "2023-06-07T12:25:44.495Z"
   },
   {
    "duration": 18,
    "start_time": "2023-06-07T12:26:03.738Z"
   },
   {
    "duration": 232,
    "start_time": "2023-06-07T12:39:40.528Z"
   },
   {
    "duration": 145,
    "start_time": "2023-06-07T12:40:25.481Z"
   },
   {
    "duration": 161,
    "start_time": "2023-06-07T12:42:05.750Z"
   },
   {
    "duration": 7,
    "start_time": "2023-06-07T12:46:46.477Z"
   },
   {
    "duration": 5,
    "start_time": "2023-06-07T12:46:49.350Z"
   },
   {
    "duration": 14,
    "start_time": "2023-06-07T12:54:16.201Z"
   },
   {
    "duration": 9,
    "start_time": "2023-06-07T12:55:58.833Z"
   },
   {
    "duration": 150,
    "start_time": "2023-06-07T12:58:09.800Z"
   },
   {
    "duration": 13,
    "start_time": "2023-06-07T12:58:17.992Z"
   },
   {
    "duration": 28,
    "start_time": "2023-06-07T12:59:35.933Z"
   },
   {
    "duration": 9,
    "start_time": "2023-06-07T13:04:55.088Z"
   },
   {
    "duration": 2540,
    "start_time": "2023-06-07T13:06:50.476Z"
   },
   {
    "duration": 2026,
    "start_time": "2023-06-07T13:07:17.970Z"
   },
   {
    "duration": 162,
    "start_time": "2023-06-07T13:08:01.779Z"
   },
   {
    "duration": 2418,
    "start_time": "2023-06-07T13:08:14.522Z"
   },
   {
    "duration": 10,
    "start_time": "2023-06-07T13:08:24.984Z"
   },
   {
    "duration": 9,
    "start_time": "2023-06-07T13:10:06.394Z"
   },
   {
    "duration": 8,
    "start_time": "2023-06-07T13:10:13.303Z"
   },
   {
    "duration": 8,
    "start_time": "2023-06-07T13:10:25.774Z"
   },
   {
    "duration": 25,
    "start_time": "2023-06-07T13:10:31.377Z"
   },
   {
    "duration": 12,
    "start_time": "2023-06-07T13:12:43.217Z"
   },
   {
    "duration": 18,
    "start_time": "2023-06-07T13:13:26.630Z"
   },
   {
    "duration": 370,
    "start_time": "2023-06-07T16:13:47.274Z"
   },
   {
    "duration": 90,
    "start_time": "2023-06-07T16:13:47.655Z"
   },
   {
    "duration": 9,
    "start_time": "2023-06-07T16:13:47.746Z"
   },
   {
    "duration": 32,
    "start_time": "2023-06-07T16:13:47.757Z"
   },
   {
    "duration": 968,
    "start_time": "2023-06-07T16:13:47.791Z"
   },
   {
    "duration": 197,
    "start_time": "2023-06-07T16:13:48.761Z"
   },
   {
    "duration": 47,
    "start_time": "2023-06-07T16:13:48.960Z"
   },
   {
    "duration": 49,
    "start_time": "2023-06-07T16:13:49.019Z"
   },
   {
    "duration": 72,
    "start_time": "2023-06-07T16:13:49.070Z"
   },
   {
    "duration": 56,
    "start_time": "2023-06-07T16:13:49.144Z"
   },
   {
    "duration": 27,
    "start_time": "2023-06-07T16:13:49.211Z"
   },
   {
    "duration": 283,
    "start_time": "2023-06-07T16:13:49.240Z"
   },
   {
    "duration": 172,
    "start_time": "2023-06-07T16:13:49.532Z"
   },
   {
    "duration": 321,
    "start_time": "2023-06-07T16:13:49.706Z"
   },
   {
    "duration": 166,
    "start_time": "2023-06-07T16:13:50.032Z"
   },
   {
    "duration": 309,
    "start_time": "2023-06-07T16:13:50.199Z"
   },
   {
    "duration": 143,
    "start_time": "2023-06-07T16:13:50.514Z"
   },
   {
    "duration": 5,
    "start_time": "2023-06-07T16:13:50.659Z"
   },
   {
    "duration": 172,
    "start_time": "2023-06-07T16:13:50.666Z"
   },
   {
    "duration": 5,
    "start_time": "2023-06-07T16:13:50.842Z"
   },
   {
    "duration": 169,
    "start_time": "2023-06-07T16:13:50.848Z"
   },
   {
    "duration": 35,
    "start_time": "2023-06-07T16:13:51.018Z"
   },
   {
    "duration": 10,
    "start_time": "2023-06-07T16:13:51.054Z"
   },
   {
    "duration": 20,
    "start_time": "2023-06-07T16:13:51.065Z"
   },
   {
    "duration": 11,
    "start_time": "2023-06-07T16:13:51.087Z"
   },
   {
    "duration": 45,
    "start_time": "2023-06-07T16:13:51.100Z"
   },
   {
    "duration": 22,
    "start_time": "2023-06-07T16:13:51.146Z"
   },
   {
    "duration": 54,
    "start_time": "2023-06-08T17:52:10.811Z"
   },
   {
    "duration": 408,
    "start_time": "2023-06-08T17:52:20.656Z"
   },
   {
    "duration": 92,
    "start_time": "2023-06-08T17:52:21.065Z"
   },
   {
    "duration": 10,
    "start_time": "2023-06-08T17:52:21.158Z"
   },
   {
    "duration": 18,
    "start_time": "2023-06-08T17:52:21.170Z"
   },
   {
    "duration": 886,
    "start_time": "2023-06-08T17:52:21.190Z"
   },
   {
    "duration": 214,
    "start_time": "2023-06-08T17:52:22.078Z"
   },
   {
    "duration": 45,
    "start_time": "2023-06-08T17:52:22.293Z"
   },
   {
    "duration": 71,
    "start_time": "2023-06-08T17:52:22.339Z"
   },
   {
    "duration": 52,
    "start_time": "2023-06-08T17:52:22.429Z"
   },
   {
    "duration": 93,
    "start_time": "2023-06-08T17:52:22.484Z"
   },
   {
    "duration": 42,
    "start_time": "2023-06-08T17:52:22.581Z"
   },
   {
    "duration": 303,
    "start_time": "2023-06-08T17:52:22.625Z"
   },
   {
    "duration": 169,
    "start_time": "2023-06-08T17:52:22.929Z"
   },
   {
    "duration": 268,
    "start_time": "2023-06-08T17:52:23.099Z"
   },
   {
    "duration": 202,
    "start_time": "2023-06-08T17:52:23.369Z"
   },
   {
    "duration": 276,
    "start_time": "2023-06-08T17:52:23.573Z"
   },
   {
    "duration": 175,
    "start_time": "2023-06-08T17:52:23.850Z"
   },
   {
    "duration": 5,
    "start_time": "2023-06-08T17:52:24.027Z"
   },
   {
    "duration": 123,
    "start_time": "2023-06-08T17:52:24.033Z"
   },
   {
    "duration": 4,
    "start_time": "2023-06-08T17:52:24.158Z"
   },
   {
    "duration": 154,
    "start_time": "2023-06-08T17:52:24.164Z"
   },
   {
    "duration": 30,
    "start_time": "2023-06-08T17:52:24.319Z"
   },
   {
    "duration": 12,
    "start_time": "2023-06-08T17:52:24.351Z"
   },
   {
    "duration": 40,
    "start_time": "2023-06-08T17:52:24.365Z"
   },
   {
    "duration": 24,
    "start_time": "2023-06-08T17:52:24.416Z"
   },
   {
    "duration": 22,
    "start_time": "2023-06-08T17:52:24.443Z"
   },
   {
    "duration": 11,
    "start_time": "2023-06-08T17:52:24.467Z"
   },
   {
    "duration": 271,
    "start_time": "2023-06-08T17:54:26.106Z"
   },
   {
    "duration": 179,
    "start_time": "2023-06-08T17:55:44.535Z"
   },
   {
    "duration": 204,
    "start_time": "2023-06-08T17:55:57.346Z"
   },
   {
    "duration": 741,
    "start_time": "2023-06-08T19:10:30.745Z"
   },
   {
    "duration": 72,
    "start_time": "2023-06-08T19:10:31.494Z"
   },
   {
    "duration": 201,
    "start_time": "2023-06-08T19:10:31.568Z"
   },
   {
    "duration": 117,
    "start_time": "2023-06-08T19:10:31.783Z"
   },
   {
    "duration": 1349,
    "start_time": "2023-06-08T19:10:31.905Z"
   },
   {
    "duration": 151,
    "start_time": "2023-06-08T19:10:33.260Z"
   },
   {
    "duration": 126,
    "start_time": "2023-06-08T19:10:33.415Z"
   },
   {
    "duration": 160,
    "start_time": "2023-06-08T19:10:33.550Z"
   },
   {
    "duration": 170,
    "start_time": "2023-06-08T19:10:33.716Z"
   },
   {
    "duration": 185,
    "start_time": "2023-06-08T19:10:33.891Z"
   },
   {
    "duration": 152,
    "start_time": "2023-06-08T19:10:34.082Z"
   },
   {
    "duration": 648,
    "start_time": "2023-06-08T19:10:34.239Z"
   },
   {
    "duration": 242,
    "start_time": "2023-06-08T19:10:34.892Z"
   },
   {
    "duration": 430,
    "start_time": "2023-06-08T19:10:35.140Z"
   },
   {
    "duration": 215,
    "start_time": "2023-06-08T19:10:35.575Z"
   },
   {
    "duration": 383,
    "start_time": "2023-06-08T19:10:35.795Z"
   },
   {
    "duration": 207,
    "start_time": "2023-06-08T19:10:36.183Z"
   },
   {
    "duration": 11,
    "start_time": "2023-06-08T19:10:36.395Z"
   },
   {
    "duration": 367,
    "start_time": "2023-06-08T19:10:36.411Z"
   },
   {
    "duration": 20,
    "start_time": "2023-06-08T19:10:36.782Z"
   },
   {
    "duration": 334,
    "start_time": "2023-06-08T19:10:36.808Z"
   },
   {
    "duration": 110,
    "start_time": "2023-06-08T19:10:37.147Z"
   },
   {
    "duration": 163,
    "start_time": "2023-06-08T19:10:37.262Z"
   },
   {
    "duration": 164,
    "start_time": "2023-06-08T19:10:37.430Z"
   },
   {
    "duration": 139,
    "start_time": "2023-06-08T19:10:37.610Z"
   },
   {
    "duration": 129,
    "start_time": "2023-06-08T19:10:37.754Z"
   },
   {
    "duration": 185,
    "start_time": "2023-06-08T19:10:37.899Z"
   },
   {
    "duration": 175,
    "start_time": "2023-06-08T19:19:28.924Z"
   },
   {
    "duration": 10,
    "start_time": "2023-06-08T19:20:33.951Z"
   },
   {
    "duration": 63,
    "start_time": "2023-06-08T19:20:34.884Z"
   },
   {
    "duration": 210,
    "start_time": "2023-06-08T19:23:35.120Z"
   },
   {
    "duration": 211,
    "start_time": "2023-06-08T19:23:47.631Z"
   },
   {
    "duration": 18,
    "start_time": "2023-06-08T19:24:22.599Z"
   },
   {
    "duration": 547,
    "start_time": "2023-06-08T19:24:47.810Z"
   },
   {
    "duration": 74,
    "start_time": "2023-06-08T19:24:48.360Z"
   },
   {
    "duration": 17,
    "start_time": "2023-06-08T19:24:48.450Z"
   },
   {
    "duration": 30,
    "start_time": "2023-06-08T19:24:48.472Z"
   },
   {
    "duration": 944,
    "start_time": "2023-06-08T19:24:48.504Z"
   },
   {
    "duration": 162,
    "start_time": "2023-06-08T19:24:49.467Z"
   },
   {
    "duration": 70,
    "start_time": "2023-06-08T19:24:49.634Z"
   },
   {
    "duration": 61,
    "start_time": "2023-06-08T19:24:49.710Z"
   },
   {
    "duration": 133,
    "start_time": "2023-06-08T19:24:49.775Z"
   },
   {
    "duration": 92,
    "start_time": "2023-06-08T19:24:49.932Z"
   },
   {
    "duration": 78,
    "start_time": "2023-06-08T19:24:50.025Z"
   },
   {
    "duration": 446,
    "start_time": "2023-06-08T19:24:50.107Z"
   },
   {
    "duration": 224,
    "start_time": "2023-06-08T19:24:50.555Z"
   },
   {
    "duration": 321,
    "start_time": "2023-06-08T19:24:50.786Z"
   },
   {
    "duration": 212,
    "start_time": "2023-06-08T19:24:51.113Z"
   },
   {
    "duration": 372,
    "start_time": "2023-06-08T19:24:51.330Z"
   },
   {
    "duration": 250,
    "start_time": "2023-06-08T19:24:51.715Z"
   },
   {
    "duration": 15,
    "start_time": "2023-06-08T19:24:51.967Z"
   },
   {
    "duration": 278,
    "start_time": "2023-06-08T19:24:51.983Z"
   },
   {
    "duration": 8,
    "start_time": "2023-06-08T19:24:52.262Z"
   },
   {
    "duration": 299,
    "start_time": "2023-06-08T19:24:52.277Z"
   },
   {
    "duration": 49,
    "start_time": "2023-06-08T19:24:52.577Z"
   },
   {
    "duration": 166,
    "start_time": "2023-06-08T19:24:52.628Z"
   },
   {
    "duration": 72,
    "start_time": "2023-06-08T19:24:52.803Z"
   },
   {
    "duration": 69,
    "start_time": "2023-06-08T19:24:52.877Z"
   },
   {
    "duration": 47,
    "start_time": "2023-06-08T19:24:52.954Z"
   },
   {
    "duration": 107,
    "start_time": "2023-06-08T19:24:53.011Z"
   },
   {
    "duration": 84,
    "start_time": "2023-06-08T19:24:53.122Z"
   },
   {
    "duration": 203,
    "start_time": "2023-06-08T19:25:33.663Z"
   },
   {
    "duration": 167,
    "start_time": "2023-06-08T19:25:48.435Z"
   },
   {
    "duration": 286,
    "start_time": "2023-06-08T19:26:45.816Z"
   },
   {
    "duration": 4128,
    "start_time": "2023-06-08T19:27:37.534Z"
   },
   {
    "duration": 3816,
    "start_time": "2023-06-08T19:28:57.372Z"
   },
   {
    "duration": 208,
    "start_time": "2023-06-08T19:29:34.812Z"
   },
   {
    "duration": 29,
    "start_time": "2023-06-08T19:29:53.253Z"
   },
   {
    "duration": 1967,
    "start_time": "2023-06-08T19:30:43.919Z"
   },
   {
    "duration": 690,
    "start_time": "2023-06-08T19:31:21.220Z"
   },
   {
    "duration": 697,
    "start_time": "2023-06-08T19:31:30.566Z"
   },
   {
    "duration": 237,
    "start_time": "2023-06-08T19:32:50.387Z"
   },
   {
    "duration": 184,
    "start_time": "2023-06-08T19:36:26.347Z"
   },
   {
    "duration": 178,
    "start_time": "2023-06-08T19:36:33.977Z"
   },
   {
    "duration": 201,
    "start_time": "2023-06-08T19:36:59.209Z"
   },
   {
    "duration": 217,
    "start_time": "2023-06-08T19:37:48.334Z"
   },
   {
    "duration": 202,
    "start_time": "2023-06-08T19:38:11.841Z"
   },
   {
    "duration": 173,
    "start_time": "2023-06-08T19:40:55.161Z"
   },
   {
    "duration": 174,
    "start_time": "2023-06-08T19:41:50.069Z"
   },
   {
    "duration": 170,
    "start_time": "2023-06-08T19:42:00.226Z"
   },
   {
    "duration": 6,
    "start_time": "2023-06-08T19:42:09.150Z"
   },
   {
    "duration": 8,
    "start_time": "2023-06-08T22:14:37.657Z"
   },
   {
    "duration": 2039,
    "start_time": "2023-06-08T22:15:22.006Z"
   },
   {
    "duration": 8,
    "start_time": "2023-06-08T22:15:38.808Z"
   },
   {
    "duration": 16,
    "start_time": "2023-06-08T22:16:02.184Z"
   },
   {
    "duration": 5,
    "start_time": "2023-06-08T22:16:23.640Z"
   },
   {
    "duration": 5,
    "start_time": "2023-06-08T22:16:59.587Z"
   },
   {
    "duration": 6,
    "start_time": "2023-06-08T22:17:07.847Z"
   },
   {
    "duration": 13,
    "start_time": "2023-06-08T22:18:27.620Z"
   },
   {
    "duration": 11,
    "start_time": "2023-06-08T22:18:55.730Z"
   },
   {
    "duration": 5,
    "start_time": "2023-06-08T22:19:07.207Z"
   },
   {
    "duration": 5,
    "start_time": "2023-06-08T22:19:08.165Z"
   },
   {
    "duration": 3,
    "start_time": "2023-06-08T22:19:08.946Z"
   },
   {
    "duration": 6,
    "start_time": "2023-06-08T22:19:28.419Z"
   },
   {
    "duration": 6,
    "start_time": "2023-06-08T22:19:33.170Z"
   },
   {
    "duration": 23,
    "start_time": "2023-06-08T22:24:32.361Z"
   },
   {
    "duration": 20,
    "start_time": "2023-06-08T22:24:59.951Z"
   },
   {
    "duration": 21,
    "start_time": "2023-06-08T22:25:13.332Z"
   },
   {
    "duration": 11,
    "start_time": "2023-06-08T22:26:32.102Z"
   },
   {
    "duration": 55,
    "start_time": "2023-06-09T10:24:24.512Z"
   },
   {
    "duration": 440,
    "start_time": "2023-06-09T10:24:30.553Z"
   },
   {
    "duration": 73,
    "start_time": "2023-06-09T10:24:30.995Z"
   },
   {
    "duration": 9,
    "start_time": "2023-06-09T10:24:31.070Z"
   },
   {
    "duration": 77,
    "start_time": "2023-06-09T10:24:31.082Z"
   },
   {
    "duration": 928,
    "start_time": "2023-06-09T10:24:31.161Z"
   },
   {
    "duration": 166,
    "start_time": "2023-06-09T10:24:32.091Z"
   },
   {
    "duration": 43,
    "start_time": "2023-06-09T10:24:32.259Z"
   },
   {
    "duration": 45,
    "start_time": "2023-06-09T10:24:32.305Z"
   },
   {
    "duration": 68,
    "start_time": "2023-06-09T10:24:32.352Z"
   },
   {
    "duration": 66,
    "start_time": "2023-06-09T10:24:32.423Z"
   },
   {
    "duration": 24,
    "start_time": "2023-06-09T10:24:32.491Z"
   },
   {
    "duration": 268,
    "start_time": "2023-06-09T10:24:32.516Z"
   },
   {
    "duration": 168,
    "start_time": "2023-06-09T10:24:32.786Z"
   },
   {
    "duration": 326,
    "start_time": "2023-06-09T10:24:32.956Z"
   },
   {
    "duration": 187,
    "start_time": "2023-06-09T10:24:33.285Z"
   },
   {
    "duration": 273,
    "start_time": "2023-06-09T10:24:33.474Z"
   },
   {
    "duration": 132,
    "start_time": "2023-06-09T10:24:33.749Z"
   },
   {
    "duration": 6,
    "start_time": "2023-06-09T10:24:33.882Z"
   },
   {
    "duration": 142,
    "start_time": "2023-06-09T10:24:33.890Z"
   },
   {
    "duration": 5,
    "start_time": "2023-06-09T10:24:34.034Z"
   },
   {
    "duration": 157,
    "start_time": "2023-06-09T10:24:34.040Z"
   },
   {
    "duration": 6,
    "start_time": "2023-06-09T10:24:34.199Z"
   },
   {
    "duration": 27,
    "start_time": "2023-06-09T10:24:34.207Z"
   },
   {
    "duration": 10,
    "start_time": "2023-06-09T10:24:34.237Z"
   },
   {
    "duration": 31,
    "start_time": "2023-06-09T10:24:34.248Z"
   },
   {
    "duration": 31,
    "start_time": "2023-06-09T10:24:34.280Z"
   },
   {
    "duration": 27,
    "start_time": "2023-06-09T10:24:34.313Z"
   },
   {
    "duration": 15,
    "start_time": "2023-06-09T10:24:34.343Z"
   },
   {
    "duration": 300,
    "start_time": "2023-06-09T10:24:34.359Z"
   },
   {
    "duration": 323,
    "start_time": "2023-06-09T10:26:20.175Z"
   },
   {
    "duration": 356,
    "start_time": "2023-06-09T12:02:17.022Z"
   },
   {
    "duration": 71,
    "start_time": "2023-06-09T12:02:17.379Z"
   },
   {
    "duration": 7,
    "start_time": "2023-06-09T12:02:17.452Z"
   },
   {
    "duration": 20,
    "start_time": "2023-06-09T12:02:17.461Z"
   },
   {
    "duration": 813,
    "start_time": "2023-06-09T12:02:17.482Z"
   },
   {
    "duration": 152,
    "start_time": "2023-06-09T12:02:18.297Z"
   },
   {
    "duration": 42,
    "start_time": "2023-06-09T12:02:18.450Z"
   },
   {
    "duration": 66,
    "start_time": "2023-06-09T12:02:18.494Z"
   },
   {
    "duration": 60,
    "start_time": "2023-06-09T12:02:18.561Z"
   },
   {
    "duration": 53,
    "start_time": "2023-06-09T12:02:18.623Z"
   },
   {
    "duration": 36,
    "start_time": "2023-06-09T12:02:18.677Z"
   },
   {
    "duration": 219,
    "start_time": "2023-06-09T12:02:18.715Z"
   },
   {
    "duration": 161,
    "start_time": "2023-06-09T12:02:18.936Z"
   },
   {
    "duration": 291,
    "start_time": "2023-06-09T12:02:19.099Z"
   },
   {
    "duration": 137,
    "start_time": "2023-06-09T12:02:19.406Z"
   },
   {
    "duration": 226,
    "start_time": "2023-06-09T12:02:19.545Z"
   },
   {
    "duration": 109,
    "start_time": "2023-06-09T12:02:19.773Z"
   },
   {
    "duration": 4,
    "start_time": "2023-06-09T12:02:19.884Z"
   },
   {
    "duration": 131,
    "start_time": "2023-06-09T12:02:19.889Z"
   },
   {
    "duration": 5,
    "start_time": "2023-06-09T12:02:20.021Z"
   },
   {
    "duration": 144,
    "start_time": "2023-06-09T12:02:20.028Z"
   },
   {
    "duration": 5,
    "start_time": "2023-06-09T12:02:20.174Z"
   },
   {
    "duration": 20,
    "start_time": "2023-06-09T12:02:20.180Z"
   },
   {
    "duration": 8,
    "start_time": "2023-06-09T12:02:20.207Z"
   },
   {
    "duration": 18,
    "start_time": "2023-06-09T12:02:20.217Z"
   },
   {
    "duration": 32,
    "start_time": "2023-06-09T12:02:20.236Z"
   },
   {
    "duration": 33,
    "start_time": "2023-06-09T12:02:20.269Z"
   },
   {
    "duration": 12,
    "start_time": "2023-06-09T12:02:20.304Z"
   },
   {
    "duration": 274,
    "start_time": "2023-06-09T12:02:20.317Z"
   },
   {
    "duration": 260,
    "start_time": "2023-06-09T12:15:05.830Z"
   },
   {
    "duration": 2,
    "start_time": "2023-06-09T12:15:16.159Z"
   },
   {
    "duration": 29,
    "start_time": "2023-06-09T12:15:16.378Z"
   },
   {
    "duration": 8,
    "start_time": "2023-06-09T12:15:17.030Z"
   },
   {
    "duration": 9,
    "start_time": "2023-06-09T12:15:17.578Z"
   },
   {
    "duration": 3,
    "start_time": "2023-06-09T12:15:17.761Z"
   },
   {
    "duration": 85,
    "start_time": "2023-06-09T12:15:17.821Z"
   },
   {
    "duration": 121,
    "start_time": "2023-06-09T12:15:17.908Z"
   },
   {
    "duration": 78,
    "start_time": "2023-06-09T12:15:18.031Z"
   },
   {
    "duration": 63,
    "start_time": "2023-06-09T12:15:18.111Z"
   },
   {
    "duration": 60,
    "start_time": "2023-06-09T12:15:18.176Z"
   },
   {
    "duration": 24,
    "start_time": "2023-06-09T12:15:18.237Z"
   },
   {
    "duration": 278,
    "start_time": "2023-06-09T12:15:18.263Z"
   },
   {
    "duration": 255,
    "start_time": "2023-06-09T12:15:18.544Z"
   },
   {
    "duration": 269,
    "start_time": "2023-06-09T12:15:18.805Z"
   },
   {
    "duration": 154,
    "start_time": "2023-06-09T12:15:19.076Z"
   },
   {
    "duration": 278,
    "start_time": "2023-06-09T12:15:19.233Z"
   },
   {
    "duration": 139,
    "start_time": "2023-06-09T12:15:19.514Z"
   },
   {
    "duration": 7,
    "start_time": "2023-06-09T12:15:19.654Z"
   },
   {
    "duration": 131,
    "start_time": "2023-06-09T12:15:19.664Z"
   },
   {
    "duration": 12,
    "start_time": "2023-06-09T12:15:19.797Z"
   },
   {
    "duration": 200,
    "start_time": "2023-06-09T12:15:19.810Z"
   },
   {
    "duration": 7,
    "start_time": "2023-06-09T12:15:20.013Z"
   },
   {
    "duration": 34,
    "start_time": "2023-06-09T12:15:20.021Z"
   },
   {
    "duration": 8,
    "start_time": "2023-06-09T12:15:20.057Z"
   },
   {
    "duration": 13,
    "start_time": "2023-06-09T12:15:20.067Z"
   },
   {
    "duration": 17,
    "start_time": "2023-06-09T12:15:20.082Z"
   },
   {
    "duration": 28,
    "start_time": "2023-06-09T12:15:20.100Z"
   },
   {
    "duration": 12,
    "start_time": "2023-06-09T12:15:20.130Z"
   },
   {
    "duration": 264,
    "start_time": "2023-06-09T12:15:20.144Z"
   },
   {
    "duration": 423,
    "start_time": "2023-06-09T12:56:27.171Z"
   },
   {
    "duration": 63,
    "start_time": "2023-06-09T12:56:27.596Z"
   },
   {
    "duration": 8,
    "start_time": "2023-06-09T12:56:27.660Z"
   },
   {
    "duration": 19,
    "start_time": "2023-06-09T12:56:27.670Z"
   },
   {
    "duration": 929,
    "start_time": "2023-06-09T12:56:27.690Z"
   },
   {
    "duration": 210,
    "start_time": "2023-06-09T12:56:28.621Z"
   },
   {
    "duration": 49,
    "start_time": "2023-06-09T12:56:28.833Z"
   },
   {
    "duration": 65,
    "start_time": "2023-06-09T12:56:28.884Z"
   },
   {
    "duration": 60,
    "start_time": "2023-06-09T12:56:28.951Z"
   },
   {
    "duration": 65,
    "start_time": "2023-06-09T12:56:29.013Z"
   },
   {
    "duration": 24,
    "start_time": "2023-06-09T12:56:29.080Z"
   },
   {
    "duration": 245,
    "start_time": "2023-06-09T12:56:29.124Z"
   },
   {
    "duration": 165,
    "start_time": "2023-06-09T12:56:29.371Z"
   },
   {
    "duration": 312,
    "start_time": "2023-06-09T12:56:29.538Z"
   },
   {
    "duration": 165,
    "start_time": "2023-06-09T12:56:29.851Z"
   },
   {
    "duration": 315,
    "start_time": "2023-06-09T12:56:30.018Z"
   },
   {
    "duration": 145,
    "start_time": "2023-06-09T12:56:30.335Z"
   },
   {
    "duration": 4,
    "start_time": "2023-06-09T12:56:30.482Z"
   },
   {
    "duration": 160,
    "start_time": "2023-06-09T12:56:30.487Z"
   },
   {
    "duration": 6,
    "start_time": "2023-06-09T12:56:30.649Z"
   },
   {
    "duration": 143,
    "start_time": "2023-06-09T12:56:30.657Z"
   },
   {
    "duration": 5,
    "start_time": "2023-06-09T12:56:30.802Z"
   },
   {
    "duration": 54,
    "start_time": "2023-06-09T12:56:30.809Z"
   },
   {
    "duration": 22,
    "start_time": "2023-06-09T12:56:30.865Z"
   },
   {
    "duration": 26,
    "start_time": "2023-06-09T12:56:30.888Z"
   },
   {
    "duration": 30,
    "start_time": "2023-06-09T12:56:30.916Z"
   },
   {
    "duration": 81,
    "start_time": "2023-06-09T12:56:30.948Z"
   },
   {
    "duration": 23,
    "start_time": "2023-06-09T12:56:31.033Z"
   },
   {
    "duration": 390,
    "start_time": "2023-06-09T12:56:31.058Z"
   },
   {
    "duration": 22,
    "start_time": "2023-06-09T13:06:14.942Z"
   },
   {
    "duration": 58,
    "start_time": "2023-06-09T15:53:13.050Z"
   },
   {
    "duration": 423,
    "start_time": "2023-06-09T15:53:18.439Z"
   },
   {
    "duration": 98,
    "start_time": "2023-06-09T15:53:18.871Z"
   },
   {
    "duration": 47,
    "start_time": "2023-06-09T15:53:44.539Z"
   },
   {
    "duration": 12,
    "start_time": "2023-06-09T16:02:45.353Z"
   },
   {
    "duration": 14,
    "start_time": "2023-06-09T16:03:06.651Z"
   },
   {
    "duration": 124,
    "start_time": "2023-06-09T16:03:38.605Z"
   },
   {
    "duration": 124,
    "start_time": "2023-06-09T16:03:49.596Z"
   },
   {
    "duration": 132,
    "start_time": "2023-06-09T16:04:05.881Z"
   },
   {
    "duration": 11,
    "start_time": "2023-06-09T16:04:58.772Z"
   },
   {
    "duration": 24,
    "start_time": "2023-06-09T16:05:05.550Z"
   },
   {
    "duration": 37,
    "start_time": "2023-06-09T16:47:31.734Z"
   },
   {
    "duration": 2,
    "start_time": "2023-06-09T16:47:41.474Z"
   },
   {
    "duration": 47,
    "start_time": "2023-06-09T16:47:41.718Z"
   },
   {
    "duration": 17,
    "start_time": "2023-06-09T16:47:42.845Z"
   },
   {
    "duration": 13,
    "start_time": "2023-06-09T16:47:44.408Z"
   },
   {
    "duration": 941,
    "start_time": "2023-06-09T16:47:47.187Z"
   },
   {
    "duration": 189,
    "start_time": "2023-06-09T16:47:48.130Z"
   },
   {
    "duration": 17,
    "start_time": "2023-06-09T16:47:52.727Z"
   },
   {
    "duration": 14,
    "start_time": "2023-06-09T16:48:28.719Z"
   },
   {
    "duration": 7,
    "start_time": "2023-06-09T16:55:31.972Z"
   },
   {
    "duration": 10,
    "start_time": "2023-06-09T16:55:44.304Z"
   },
   {
    "duration": 2249,
    "start_time": "2023-06-09T17:11:18.268Z"
   },
   {
    "duration": 430,
    "start_time": "2023-06-09T17:11:31.940Z"
   },
   {
    "duration": 39,
    "start_time": "2023-06-09T17:11:32.372Z"
   },
   {
    "duration": 12,
    "start_time": "2023-06-09T17:11:32.412Z"
   },
   {
    "duration": 174,
    "start_time": "2023-06-09T17:11:32.426Z"
   },
   {
    "duration": 818,
    "start_time": "2023-06-09T17:11:32.601Z"
   },
   {
    "duration": 94,
    "start_time": "2023-06-09T17:11:33.421Z"
   },
   {
    "duration": 8,
    "start_time": "2023-06-09T17:11:33.516Z"
   },
   {
    "duration": 71,
    "start_time": "2023-06-09T17:11:33.526Z"
   },
   {
    "duration": 62,
    "start_time": "2023-06-09T17:11:33.598Z"
   },
   {
    "duration": 62,
    "start_time": "2023-06-09T17:11:33.665Z"
   },
   {
    "duration": 77,
    "start_time": "2023-06-09T17:11:33.729Z"
   },
   {
    "duration": 24,
    "start_time": "2023-06-09T17:11:33.808Z"
   },
   {
    "duration": 4,
    "start_time": "2023-06-09T17:11:33.833Z"
   },
   {
    "duration": 318,
    "start_time": "2023-06-09T17:11:33.849Z"
   },
   {
    "duration": 239,
    "start_time": "2023-06-09T17:11:34.170Z"
   },
   {
    "duration": 292,
    "start_time": "2023-06-09T17:11:34.411Z"
   },
   {
    "duration": 187,
    "start_time": "2023-06-09T17:11:34.705Z"
   },
   {
    "duration": 261,
    "start_time": "2023-06-09T17:11:34.894Z"
   },
   {
    "duration": 144,
    "start_time": "2023-06-09T17:11:35.157Z"
   },
   {
    "duration": 5,
    "start_time": "2023-06-09T17:11:35.305Z"
   },
   {
    "duration": 171,
    "start_time": "2023-06-09T17:11:35.312Z"
   },
   {
    "duration": 5,
    "start_time": "2023-06-09T17:11:35.485Z"
   },
   {
    "duration": 145,
    "start_time": "2023-06-09T17:11:35.492Z"
   },
   {
    "duration": 11,
    "start_time": "2023-06-09T17:11:35.639Z"
   },
   {
    "duration": 41,
    "start_time": "2023-06-09T17:11:35.652Z"
   },
   {
    "duration": 11,
    "start_time": "2023-06-09T17:11:35.695Z"
   },
   {
    "duration": 16,
    "start_time": "2023-06-09T17:11:35.708Z"
   },
   {
    "duration": 18,
    "start_time": "2023-06-09T17:11:35.727Z"
   },
   {
    "duration": 38,
    "start_time": "2023-06-09T17:11:35.747Z"
   },
   {
    "duration": 13,
    "start_time": "2023-06-09T17:11:35.787Z"
   },
   {
    "duration": 325,
    "start_time": "2023-06-09T17:11:35.802Z"
   },
   {
    "duration": 6,
    "start_time": "2023-06-09T17:12:15.405Z"
   },
   {
    "duration": 215,
    "start_time": "2023-06-09T17:14:27.037Z"
   },
   {
    "duration": 290,
    "start_time": "2023-06-09T17:14:31.639Z"
   },
   {
    "duration": 48,
    "start_time": "2023-06-10T12:24:07.890Z"
   },
   {
    "duration": 427,
    "start_time": "2023-06-10T12:24:14.128Z"
   },
   {
    "duration": 85,
    "start_time": "2023-06-10T12:24:14.558Z"
   },
   {
    "duration": 12,
    "start_time": "2023-06-10T12:24:14.645Z"
   },
   {
    "duration": 11,
    "start_time": "2023-06-10T12:24:14.659Z"
   },
   {
    "duration": 840,
    "start_time": "2023-06-10T12:24:14.672Z"
   },
   {
    "duration": 163,
    "start_time": "2023-06-10T12:24:15.514Z"
   },
   {
    "duration": 8,
    "start_time": "2023-06-10T12:24:15.679Z"
   },
   {
    "duration": 53,
    "start_time": "2023-06-10T12:24:15.689Z"
   },
   {
    "duration": 63,
    "start_time": "2023-06-10T12:24:15.744Z"
   },
   {
    "duration": 91,
    "start_time": "2023-06-10T12:24:15.811Z"
   },
   {
    "duration": 65,
    "start_time": "2023-06-10T12:24:15.904Z"
   },
   {
    "duration": 24,
    "start_time": "2023-06-10T12:24:15.971Z"
   },
   {
    "duration": 6,
    "start_time": "2023-06-10T12:24:15.996Z"
   },
   {
    "duration": 399,
    "start_time": "2023-06-10T12:24:16.003Z"
   },
   {
    "duration": 192,
    "start_time": "2023-06-10T12:24:16.404Z"
   },
   {
    "duration": 303,
    "start_time": "2023-06-10T12:24:16.598Z"
   },
   {
    "duration": 171,
    "start_time": "2023-06-10T12:24:16.902Z"
   },
   {
    "duration": 264,
    "start_time": "2023-06-10T12:24:17.075Z"
   },
   {
    "duration": 136,
    "start_time": "2023-06-10T12:24:17.340Z"
   },
   {
    "duration": 5,
    "start_time": "2023-06-10T12:24:17.478Z"
   },
   {
    "duration": 146,
    "start_time": "2023-06-10T12:24:17.484Z"
   },
   {
    "duration": 6,
    "start_time": "2023-06-10T12:24:17.632Z"
   },
   {
    "duration": 164,
    "start_time": "2023-06-10T12:24:17.640Z"
   },
   {
    "duration": 8,
    "start_time": "2023-06-10T12:24:17.806Z"
   },
   {
    "duration": 26,
    "start_time": "2023-06-10T12:24:17.816Z"
   },
   {
    "duration": 12,
    "start_time": "2023-06-10T12:24:17.857Z"
   },
   {
    "duration": 17,
    "start_time": "2023-06-10T12:24:17.871Z"
   },
   {
    "duration": 8,
    "start_time": "2023-06-10T12:24:17.892Z"
   },
   {
    "duration": 25,
    "start_time": "2023-06-10T12:24:17.902Z"
   },
   {
    "duration": 36,
    "start_time": "2023-06-10T12:24:17.928Z"
   },
   {
    "duration": 303,
    "start_time": "2023-06-10T12:24:17.966Z"
   },
   {
    "duration": 260,
    "start_time": "2023-06-10T12:24:32.376Z"
   },
   {
    "duration": 325,
    "start_time": "2023-06-10T12:25:35.228Z"
   },
   {
    "duration": 236,
    "start_time": "2023-06-10T12:27:44.141Z"
   },
   {
    "duration": 175,
    "start_time": "2023-06-10T12:28:16.781Z"
   },
   {
    "duration": 194,
    "start_time": "2023-06-10T12:28:26.337Z"
   },
   {
    "duration": 306,
    "start_time": "2023-06-10T12:29:37.697Z"
   },
   {
    "duration": 231,
    "start_time": "2023-06-10T12:30:14.695Z"
   },
   {
    "duration": 257,
    "start_time": "2023-06-10T12:30:20.115Z"
   },
   {
    "duration": 246,
    "start_time": "2023-06-10T12:30:25.738Z"
   },
   {
    "duration": 232,
    "start_time": "2023-06-10T12:30:37.338Z"
   },
   {
    "duration": 236,
    "start_time": "2023-06-10T12:30:55.098Z"
   },
   {
    "duration": 363,
    "start_time": "2023-06-10T12:32:34.640Z"
   },
   {
    "duration": 330,
    "start_time": "2023-06-10T12:33:31.482Z"
   },
   {
    "duration": 358,
    "start_time": "2023-06-10T12:33:52.578Z"
   },
   {
    "duration": 249,
    "start_time": "2023-06-10T12:34:29.193Z"
   },
   {
    "duration": 344,
    "start_time": "2023-06-10T12:34:59.587Z"
   },
   {
    "duration": 310,
    "start_time": "2023-06-10T12:38:28.710Z"
   },
   {
    "duration": 318,
    "start_time": "2023-06-10T12:38:38.780Z"
   },
   {
    "duration": 344,
    "start_time": "2023-06-10T12:39:17.347Z"
   },
   {
    "duration": 249,
    "start_time": "2023-06-10T12:39:30.140Z"
   },
   {
    "duration": 384,
    "start_time": "2023-06-10T12:40:05.362Z"
   },
   {
    "duration": 197,
    "start_time": "2023-06-10T12:40:16.550Z"
   },
   {
    "duration": 316,
    "start_time": "2023-06-10T12:41:21.450Z"
   },
   {
    "duration": 216,
    "start_time": "2023-06-10T12:44:06.353Z"
   },
   {
    "duration": 373,
    "start_time": "2023-06-10T12:44:50.732Z"
   },
   {
    "duration": 362,
    "start_time": "2023-06-10T12:45:04.773Z"
   },
   {
    "duration": 203,
    "start_time": "2023-06-10T12:48:23.311Z"
   },
   {
    "duration": 348,
    "start_time": "2023-06-10T12:53:26.052Z"
   },
   {
    "duration": 349,
    "start_time": "2023-06-10T12:53:46.137Z"
   },
   {
    "duration": 345,
    "start_time": "2023-06-10T12:53:52.868Z"
   },
   {
    "duration": 111,
    "start_time": "2023-06-10T13:00:46.148Z"
   },
   {
    "duration": 114,
    "start_time": "2023-06-10T13:01:10.943Z"
   },
   {
    "duration": 135,
    "start_time": "2023-06-10T13:01:21.863Z"
   },
   {
    "duration": 224,
    "start_time": "2023-06-10T13:01:43.863Z"
   },
   {
    "duration": 165,
    "start_time": "2023-06-10T13:02:09.842Z"
   },
   {
    "duration": 273,
    "start_time": "2023-06-10T13:04:42.141Z"
   },
   {
    "duration": 183,
    "start_time": "2023-06-10T13:06:16.621Z"
   },
   {
    "duration": 183,
    "start_time": "2023-06-10T13:06:38.391Z"
   },
   {
    "duration": 195,
    "start_time": "2023-06-10T13:07:09.481Z"
   },
   {
    "duration": 4,
    "start_time": "2023-06-10T13:08:00.687Z"
   },
   {
    "duration": 170,
    "start_time": "2023-06-10T13:08:13.534Z"
   },
   {
    "duration": 185,
    "start_time": "2023-06-10T13:08:26.172Z"
   },
   {
    "duration": 194,
    "start_time": "2023-06-10T13:16:04.852Z"
   },
   {
    "duration": 21,
    "start_time": "2023-06-10T13:18:20.302Z"
   },
   {
    "duration": 22,
    "start_time": "2023-06-10T13:18:24.230Z"
   },
   {
    "duration": 30,
    "start_time": "2023-06-10T13:18:37.806Z"
   },
   {
    "duration": 109,
    "start_time": "2023-06-10T13:20:25.972Z"
   },
   {
    "duration": 21,
    "start_time": "2023-06-10T13:20:32.414Z"
   },
   {
    "duration": 20,
    "start_time": "2023-06-10T13:20:40.084Z"
   },
   {
    "duration": 20,
    "start_time": "2023-06-10T13:20:47.132Z"
   },
   {
    "duration": 20,
    "start_time": "2023-06-10T13:21:44.324Z"
   },
   {
    "duration": 24,
    "start_time": "2023-06-10T13:22:35.005Z"
   },
   {
    "duration": 27,
    "start_time": "2023-06-10T13:22:45.440Z"
   },
   {
    "duration": 22,
    "start_time": "2023-06-10T13:23:31.658Z"
   },
   {
    "duration": 12,
    "start_time": "2023-06-10T13:24:01.733Z"
   },
   {
    "duration": 11,
    "start_time": "2023-06-10T13:24:45.045Z"
   },
   {
    "duration": 11,
    "start_time": "2023-06-10T13:26:04.371Z"
   },
   {
    "duration": 12,
    "start_time": "2023-06-10T13:26:25.178Z"
   },
   {
    "duration": 109,
    "start_time": "2023-06-10T13:26:30.425Z"
   },
   {
    "duration": 9,
    "start_time": "2023-06-10T13:26:41.965Z"
   },
   {
    "duration": 106,
    "start_time": "2023-06-10T13:29:17.286Z"
   },
   {
    "duration": 115,
    "start_time": "2023-06-10T13:31:33.892Z"
   },
   {
    "duration": 153,
    "start_time": "2023-06-10T13:32:20.664Z"
   },
   {
    "duration": 10,
    "start_time": "2023-06-10T13:34:46.797Z"
   },
   {
    "duration": 10,
    "start_time": "2023-06-10T13:35:20.110Z"
   },
   {
    "duration": 10,
    "start_time": "2023-06-10T13:37:15.706Z"
   },
   {
    "duration": 323,
    "start_time": "2023-06-10T13:39:32.487Z"
   },
   {
    "duration": 23,
    "start_time": "2023-06-10T14:13:34.838Z"
   },
   {
    "duration": 21,
    "start_time": "2023-06-10T14:15:40.179Z"
   },
   {
    "duration": 21,
    "start_time": "2023-06-10T14:16:23.627Z"
   },
   {
    "duration": 15,
    "start_time": "2023-06-10T14:20:17.010Z"
   },
   {
    "duration": 14,
    "start_time": "2023-06-10T14:20:33.217Z"
   },
   {
    "duration": 412,
    "start_time": "2023-06-10T15:04:36.075Z"
   },
   {
    "duration": 41,
    "start_time": "2023-06-10T15:04:36.489Z"
   },
   {
    "duration": 13,
    "start_time": "2023-06-10T15:04:36.531Z"
   },
   {
    "duration": 12,
    "start_time": "2023-06-10T15:04:36.546Z"
   },
   {
    "duration": 743,
    "start_time": "2023-06-10T15:04:36.560Z"
   },
   {
    "duration": 75,
    "start_time": "2023-06-10T15:04:37.305Z"
   },
   {
    "duration": 8,
    "start_time": "2023-06-10T15:04:37.382Z"
   },
   {
    "duration": 53,
    "start_time": "2023-06-10T15:04:37.391Z"
   },
   {
    "duration": 54,
    "start_time": "2023-06-10T15:04:37.446Z"
   },
   {
    "duration": 70,
    "start_time": "2023-06-10T15:04:37.503Z"
   },
   {
    "duration": 63,
    "start_time": "2023-06-10T15:04:37.575Z"
   },
   {
    "duration": 40,
    "start_time": "2023-06-10T15:04:37.640Z"
   },
   {
    "duration": 5,
    "start_time": "2023-06-10T15:04:37.682Z"
   },
   {
    "duration": 359,
    "start_time": "2023-06-10T15:04:37.688Z"
   },
   {
    "duration": 288,
    "start_time": "2023-06-10T15:04:38.048Z"
   },
   {
    "duration": 358,
    "start_time": "2023-06-10T15:04:38.338Z"
   },
   {
    "duration": 213,
    "start_time": "2023-06-10T15:04:38.698Z"
   },
   {
    "duration": 319,
    "start_time": "2023-06-10T15:04:38.912Z"
   },
   {
    "duration": 181,
    "start_time": "2023-06-10T15:04:39.232Z"
   },
   {
    "duration": 5,
    "start_time": "2023-06-10T15:04:39.415Z"
   },
   {
    "duration": 198,
    "start_time": "2023-06-10T15:04:39.422Z"
   },
   {
    "duration": 223,
    "start_time": "2023-06-10T15:04:39.622Z"
   },
   {
    "duration": 13,
    "start_time": "2023-06-10T15:04:39.847Z"
   },
   {
    "duration": 141,
    "start_time": "2023-06-10T15:04:39.862Z"
   },
   {
    "duration": 7,
    "start_time": "2023-06-10T15:04:40.004Z"
   },
   {
    "duration": 100,
    "start_time": "2023-06-10T15:04:40.013Z"
   },
   {
    "duration": 45,
    "start_time": "2023-06-10T15:04:40.115Z"
   },
   {
    "duration": 18,
    "start_time": "2023-06-10T15:04:40.163Z"
   },
   {
    "duration": 12,
    "start_time": "2023-06-10T15:04:40.183Z"
   },
   {
    "duration": 30,
    "start_time": "2023-06-10T15:04:40.197Z"
   },
   {
    "duration": 15,
    "start_time": "2023-06-10T15:04:40.228Z"
   },
   {
    "duration": 364,
    "start_time": "2023-06-10T15:04:40.245Z"
   },
   {
    "duration": 409,
    "start_time": "2023-06-10T15:04:48.048Z"
   },
   {
    "duration": 39,
    "start_time": "2023-06-10T15:04:48.459Z"
   },
   {
    "duration": 12,
    "start_time": "2023-06-10T15:04:48.500Z"
   },
   {
    "duration": 11,
    "start_time": "2023-06-10T15:04:48.514Z"
   },
   {
    "duration": 740,
    "start_time": "2023-06-10T15:04:48.527Z"
   },
   {
    "duration": 69,
    "start_time": "2023-06-10T15:04:49.269Z"
   },
   {
    "duration": 7,
    "start_time": "2023-06-10T15:04:49.340Z"
   },
   {
    "duration": 51,
    "start_time": "2023-06-10T15:04:49.349Z"
   },
   {
    "duration": 46,
    "start_time": "2023-06-10T15:04:49.401Z"
   },
   {
    "duration": 53,
    "start_time": "2023-06-10T15:04:49.457Z"
   },
   {
    "duration": 67,
    "start_time": "2023-06-10T15:04:49.512Z"
   },
   {
    "duration": 23,
    "start_time": "2023-06-10T15:04:49.580Z"
   },
   {
    "duration": 4,
    "start_time": "2023-06-10T15:04:49.605Z"
   },
   {
    "duration": 314,
    "start_time": "2023-06-10T15:04:49.612Z"
   },
   {
    "duration": 242,
    "start_time": "2023-06-10T15:04:49.928Z"
   },
   {
    "duration": 351,
    "start_time": "2023-06-10T15:04:50.172Z"
   },
   {
    "duration": 223,
    "start_time": "2023-06-10T15:04:50.524Z"
   },
   {
    "duration": 342,
    "start_time": "2023-06-10T15:04:50.749Z"
   },
   {
    "duration": 198,
    "start_time": "2023-06-10T15:04:51.094Z"
   },
   {
    "duration": 6,
    "start_time": "2023-06-10T15:04:51.293Z"
   },
   {
    "duration": 195,
    "start_time": "2023-06-10T15:04:51.301Z"
   },
   {
    "duration": 190,
    "start_time": "2023-06-10T15:04:51.498Z"
   },
   {
    "duration": 5,
    "start_time": "2023-06-10T15:04:51.690Z"
   },
   {
    "duration": 148,
    "start_time": "2023-06-10T15:04:51.696Z"
   },
   {
    "duration": 15,
    "start_time": "2023-06-10T15:04:51.846Z"
   },
   {
    "duration": 37,
    "start_time": "2023-06-10T15:04:51.863Z"
   },
   {
    "duration": 10,
    "start_time": "2023-06-10T15:04:51.901Z"
   },
   {
    "duration": 20,
    "start_time": "2023-06-10T15:04:51.912Z"
   },
   {
    "duration": 22,
    "start_time": "2023-06-10T15:04:51.933Z"
   },
   {
    "duration": 30,
    "start_time": "2023-06-10T15:04:51.956Z"
   },
   {
    "duration": 15,
    "start_time": "2023-06-10T15:04:51.987Z"
   },
   {
    "duration": 340,
    "start_time": "2023-06-10T15:04:52.004Z"
   }
  ],
  "kernelspec": {
   "display_name": "Python 3 (ipykernel)",
   "language": "python",
   "name": "python3"
  },
  "language_info": {
   "codemirror_mode": {
    "name": "ipython",
    "version": 3
   },
   "file_extension": ".py",
   "mimetype": "text/x-python",
   "name": "python",
   "nbconvert_exporter": "python",
   "pygments_lexer": "ipython3",
   "version": "3.10.9"
  },
  "toc": {
   "base_numbering": 1,
   "nav_menu": {},
   "number_sections": true,
   "sideBar": true,
   "skip_h1_title": true,
   "title_cell": "Table of Contents",
   "title_sidebar": "Contents",
   "toc_cell": false,
   "toc_position": {
    "height": "calc(100% - 180px)",
    "left": "10px",
    "top": "150px",
    "width": "195.038px"
   },
   "toc_section_display": true,
   "toc_window_display": true
  }
 },
 "nbformat": 4,
 "nbformat_minor": 2
}
