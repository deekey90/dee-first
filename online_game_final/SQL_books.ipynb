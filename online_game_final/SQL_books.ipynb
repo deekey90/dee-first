{
 "cells": [
  {
   "cell_type": "markdown",
   "metadata": {},
   "source": [
    "## Описание"
   ]
  },
  {
   "cell_type": "markdown",
   "metadata": {},
   "source": [
    "**Описание:** \n",
    "    \n",
    "    Компания купила крупный сервис для чтения книг по подписке.\n",
    "    \n",
    "      Таблица books содержит данные о книгах:\n",
    "    * book_id — идентификатор книги;\n",
    "    * author_id — идентификатор автора;\n",
    "    * title — название книги;\n",
    "    * num_pages — количество страниц;\n",
    "    * publication_date — дата публикации книги;\n",
    "    * publisher_id — идентификатор издателя.\n",
    "    \n",
    "    Таблица authors содержит данные об авторах:\n",
    "    * author_id — идентификатор автора;\n",
    "    * author — имя автора.\n",
    "    \n",
    "    Таблица publishers содержит данные об издательствах:\n",
    "    * publisher_id — идентификатор издательства;\n",
    "    * publisher — название издательства;\n",
    "    \n",
    "    Таблица ratings содержит данные о пользовательских оценках книг:\n",
    "    * rating_id — идентификатор оценки;\n",
    "    * book_id — идентификатор книги;\n",
    "    * username — имя пользователя, оставившего оценку;\n",
    "    * rating — оценка книги.\n",
    "    \n",
    "    Таблица reviews содержит данные о пользовательских обзорах:\n",
    "    * review_id — идентификатор обзора;\n",
    "    * book_id — идентификатор книги;\n",
    "    * username — имя автора обзора;\n",
    "    * text — текст обзора.\n",
    "        \n",
    "    \n",
    "\n",
    "**Цель исследования:**\n",
    "\n",
    "\n",
    "    Анализ базы данных.\n",
    "    \n",
    "    \n",
    "**Ход исследования:**\n",
    "\n",
    "\n",
    "    1. Описание\n",
    "\n",
    "    2. Подключение к базе данных\n",
    "    \n",
    "    3. Обзор данных\n",
    "    \n",
    "    4. Задания в рамках анализа\n",
    "    \n",
    "        4.1 Посчитайте, сколько книг вышло после 1 января 2000 года;\n",
    "        4.2 Для каждой книги посчитайте количество обзоров и среднюю оценку;\n",
    "        4.3 Определите издательство, которое выпустило наибольшее число книг толще 50 страниц — так вы исключите из анализа\n",
    "        брошюры;\n",
    "        4.4 Определите автора с самой высокой средней оценкой книг — учитывайте только книги с 50 и более оценками;\n",
    "        4.5 Посчитайте среднее количество обзоров от пользователей, которые поставили больше 48 оценок.\n",
    "        \n",
    "  "
   ]
  },
  {
   "cell_type": "markdown",
   "metadata": {},
   "source": []
  },
  {
   "cell_type": "markdown",
   "metadata": {},
   "source": [
    "## Подключение к базе данных"
   ]
  },
  {
   "cell_type": "code",
   "execution_count": 1,
   "metadata": {},
   "outputs": [],
   "source": [
    "import pandas as pd\n",
    "from sqlalchemy import create_engine\n",
    "\n",
    "def connect_and_query_sql(sql_query):\n",
    "    \"\"\"\n",
    "    Параметры:\n",
    "    sql_query (str): SQL-запрос для выполнения.\n",
    "    db_type (str): Тип базы данных (например, 'mysql', 'postgresql', 'sqlite').\n",
    "    username (str): Имя пользователя для подключения.\n",
    "    password (str): Пароль пользователя.\n",
    "    host (str): Хост базы данных.\n",
    "    port (str): Порт для подключения.\n",
    "    database (str): Имя базы данных.\n",
    "\n",
    "    \"\"\"\n",
    "    db_config = {'user': 'praktikum_student', # имя пользователя\n",
    "                 'pwd': 'Sdf4$2;d-d30pp', # пароль\n",
    "                 'host': 'rc1b-wcoijxj3yxfsf3fs.mdb.yandexcloud.net',\n",
    "                 'port': 6432, # порт подключения\n",
    "                 'db': 'data-analyst-final-project-db'} # название базы данных\n",
    "    \n",
    "    connection_string = 'postgresql://{user}:{pwd}@{host}:{port}/{db}'.format(**db_config)\n",
    "\n",
    "    engine = create_engine(connection_string, connect_args={'sslmode':'require'})\n",
    "    \n",
    "    result_df = pd.read_sql_query(sql_query, engine)\n",
    "    \n",
    "    return result_df"
   ]
  },
  {
   "cell_type": "markdown",
   "metadata": {},
   "source": [
    "## Обзор данных"
   ]
  },
  {
   "cell_type": "code",
   "execution_count": 2,
   "metadata": {},
   "outputs": [
    {
     "name": "stdout",
     "output_type": "stream",
     "text": [
      "Empty DataFrame\n",
      "Columns: [book_id, author_id, title, num_pages, publication_date, publisher_id]\n",
      "Index: []\n"
     ]
    }
   ],
   "source": [
    "sql_query = \"\"\"\n",
    "\n",
    "SELECT *\n",
    "FROM books \n",
    "WHERE title IS NULL\n",
    "\"\"\"\n",
    "\n",
    "result_dataframe = connect_and_query_sql(sql_query)\n",
    "print(result_dataframe)"
   ]
  },
  {
   "cell_type": "code",
   "execution_count": 3,
   "metadata": {},
   "outputs": [
    {
     "name": "stdout",
     "output_type": "stream",
     "text": [
      "   rating_id  book_id       username  rating\n",
      "0          1        1     ryanfranco       4\n",
      "1          2        1  grantpatricia       2\n",
      "2          3        1   brandtandrea       5\n",
      "3          4        2       lorichen       3\n",
      "4          5        2    mariokeller       2\n"
     ]
    }
   ],
   "source": [
    "sql_query = \"\"\"\n",
    "\n",
    "SELECT *\n",
    "FROM ratings \n",
    "LIMIT 5\n",
    "\n",
    "\"\"\"\n",
    "\n",
    "result_dataframe = connect_and_query_sql(sql_query)\n",
    "print(result_dataframe)"
   ]
  },
  {
   "cell_type": "code",
   "execution_count": 4,
   "metadata": {},
   "outputs": [
    {
     "name": "stdout",
     "output_type": "stream",
     "text": [
      "   review_id  book_id       username  \\\n",
      "0          1        1   brandtandrea   \n",
      "1          2        1     ryanfranco   \n",
      "2          3        2       lorichen   \n",
      "3          4        3  johnsonamanda   \n",
      "4          5        3    scotttamara   \n",
      "\n",
      "                                                text  \n",
      "0  Mention society tell send professor analysis. ...  \n",
      "1  Foot glass pretty audience hit themselves. Amo...  \n",
      "2  Listen treat keep worry. Miss husband tax but ...  \n",
      "3  Finally month interesting blue could nature cu...  \n",
      "4  Nation purpose heavy give wait song will. List...  \n"
     ]
    }
   ],
   "source": [
    "sql_query = \"\"\"\n",
    "\n",
    "SELECT *\n",
    "FROM reviews \n",
    "LIMIT 5\n",
    "\n",
    "\"\"\"\n",
    "\n",
    "result_dataframe = connect_and_query_sql(sql_query)\n",
    "print(result_dataframe)"
   ]
  },
  {
   "cell_type": "code",
   "execution_count": 5,
   "metadata": {},
   "outputs": [
    {
     "name": "stdout",
     "output_type": "stream",
     "text": [
      "   author_id                          author\n",
      "0          1                      A.S. Byatt\n",
      "1          2  Aesop/Laura Harris/Laura Gibbs\n",
      "2          3                 Agatha Christie\n",
      "3          4                   Alan Brennert\n",
      "4          5        Alan Moore/David   Lloyd\n"
     ]
    }
   ],
   "source": [
    "sql_query = \"\"\"\n",
    "\n",
    "SELECT *\n",
    "FROM authors \n",
    "LIMIT 5\n",
    "\n",
    "\"\"\"\n",
    "\n",
    "result_dataframe = connect_and_query_sql(sql_query)\n",
    "print(result_dataframe)"
   ]
  },
  {
   "cell_type": "code",
   "execution_count": 6,
   "metadata": {},
   "outputs": [
    {
     "name": "stdout",
     "output_type": "stream",
     "text": [
      "   publisher_id                          publisher\n",
      "0             1                                Ace\n",
      "1             2                           Ace Book\n",
      "2             3                          Ace Books\n",
      "3             4                      Ace Hardcover\n",
      "4             5  Addison Wesley Publishing Company\n"
     ]
    }
   ],
   "source": [
    "sql_query = \"\"\"\n",
    "\n",
    "SELECT *\n",
    "FROM publishers \n",
    "LIMIT 5\n",
    "\n",
    "\"\"\"\n",
    "\n",
    "result_dataframe = connect_and_query_sql(sql_query)\n",
    "print(result_dataframe)"
   ]
  },
  {
   "cell_type": "markdown",
   "metadata": {},
   "source": [
    "## Задания в рамках анализа"
   ]
  },
  {
   "cell_type": "markdown",
   "metadata": {},
   "source": [
    "### Количество книг, вышедших после 1 января 2000 года"
   ]
  },
  {
   "cell_type": "code",
   "execution_count": 7,
   "metadata": {},
   "outputs": [
    {
     "name": "stdout",
     "output_type": "stream",
     "text": [
      "   count\n",
      "0    819\n"
     ]
    }
   ],
   "source": [
    "sql_query = \"\"\"\n",
    "\n",
    "SELECT COUNT(book_id) \n",
    "FROM books \n",
    "WHERE publication_date > '2000-01-01'\n",
    "\n",
    "\"\"\"\n",
    "\n",
    "result_dataframe = connect_and_query_sql(sql_query)\n",
    "print(result_dataframe)"
   ]
  },
  {
   "cell_type": "markdown",
   "metadata": {},
   "source": [
    "После 1 января 2000 года вышло 819 книг"
   ]
  },
  {
   "cell_type": "markdown",
   "metadata": {},
   "source": [
    "### Количество обзоров и средняя оценка для каждой книги"
   ]
  },
  {
   "cell_type": "code",
   "execution_count": 8,
   "metadata": {
    "scrolled": false
   },
   "outputs": [
    {
     "name": "stdout",
     "output_type": "stream",
     "text": [
      "                                                 title  c         a\n",
      "0                              Twilight (Twilight  #1)  7  3.662500\n",
      "1    Harry Potter and the Prisoner of Azkaban (Harr...  6  4.414634\n",
      "2    Harry Potter and the Chamber of Secrets (Harry...  6  4.287500\n",
      "3                                       The Book Thief  6  4.264151\n",
      "4                                     The Glass Castle  6  4.206897\n",
      "..                                                 ... ..       ...\n",
      "995  Disney's Beauty and the Beast (A Little Golden...  0  4.000000\n",
      "996                               Leonardo's Notebooks  0  4.000000\n",
      "997                          Essential Tales and Poems  0  4.000000\n",
      "998    Anne Rice's The Vampire Lestat: A Graphic Novel  0  3.666667\n",
      "999                            The Natural Way to Draw  0  3.000000\n",
      "\n",
      "[1000 rows x 3 columns]\n"
     ]
    }
   ],
   "source": [
    "sql_query = \"\"\"\n",
    "\n",
    "WITH average_mark AS \n",
    "(SELECT b.book_id, AVG(rt.rating) AS a\n",
    "FROM books AS b\n",
    "FULL JOIN ratings as rt ON b.book_id=rt.book_id\n",
    "GROUP BY b.book_id),\n",
    "\n",
    "count_reviews AS\n",
    "(SELECT b.book_id, title, COUNT(review_id) AS c\n",
    "FROM books AS b\n",
    "FULL JOIN reviews as rw ON b.book_id=rw.book_id\n",
    "GROUP BY b.book_id)\n",
    "\n",
    "SELECT title, c, a \n",
    "FROM average_mark \n",
    "FULL JOIN count_reviews ON average_mark.book_id=count_reviews.book_id\n",
    "ORDER BY c DESC, a DESC\n",
    "\"\"\"\n",
    "\n",
    "result_dataframe = connect_and_query_sql(sql_query)\n",
    "print(result_dataframe)"
   ]
  },
  {
   "cell_type": "markdown",
   "metadata": {},
   "source": [
    "Самые обсуждаемые книги (судя по количеству обзоров) далеко не всегда обладают высоким рейтингом и наоборот."
   ]
  },
  {
   "cell_type": "markdown",
   "metadata": {},
   "source": [
    "### Издательство, которое выпустило наибольшее число книг толще 50 страниц"
   ]
  },
  {
   "cell_type": "code",
   "execution_count": 9,
   "metadata": {},
   "outputs": [
    {
     "name": "stdout",
     "output_type": "stream",
     "text": [
      "       publisher   c\n",
      "0  Penguin Books  42\n"
     ]
    }
   ],
   "source": [
    "sql_query = \"\"\"\n",
    "\n",
    "WITH cp AS \n",
    "\n",
    "(SELECT publisher, COUNT(DISTINCT b.book_id) AS c \n",
    "FROM books AS b \n",
    "JOIN publishers AS p ON b.publisher_id=p.publisher_id \n",
    "WHERE num_pages > 50 \n",
    "GROUP BY p.publisher_id\n",
    "ORDER BY c DESC) \n",
    "\n",
    "SELECT publisher, c\n",
    "FROM cp \n",
    "WHERE c = (SELECT MAX(c) FROM cp)\n",
    "\n",
    "\"\"\"\n",
    "\n",
    "result_dataframe = connect_and_query_sql(sql_query)\n",
    "print(result_dataframe)"
   ]
  },
  {
   "cell_type": "markdown",
   "metadata": {},
   "source": [
    "Самое продуктивное, с точки зрения количества выпущенных книг, издательство - Penguin Books (42 книги)"
   ]
  },
  {
   "cell_type": "markdown",
   "metadata": {},
   "source": [
    "### Автор с самой высокой средней оценкой книг с 50 и более оценками"
   ]
  },
  {
   "cell_type": "code",
   "execution_count": 10,
   "metadata": {},
   "outputs": [
    {
     "name": "stdout",
     "output_type": "stream",
     "text": [
      "                       author\n",
      "0  J.K. Rowling/Mary GrandPré\n"
     ]
    }
   ],
   "source": [
    "sql_query = \"\"\"\n",
    "\n",
    "WITH filt_rate AS\n",
    "\n",
    "    (WITH count_rate AS \n",
    "\n",
    "    (SELECT b.book_id, COUNT(rating_id) AS c\n",
    "    FROM books AS b \n",
    "    JOIN ratings AS r ON b.book_id=r.book_id \n",
    "    GROUP BY b.book_id\n",
    "    ORDER BY COUNT(rating_id))\n",
    "\n",
    "SELECT book_id, c\n",
    "FROM count_rate\n",
    "WHERE c > 50),\n",
    "\n",
    "filt_auth AS \n",
    "\n",
    "(SELECT author, AVG(rating) AS av\n",
    "FROM books AS b\n",
    "INNER JOIN filt_rate ON filt_rate.book_id=b.book_id\n",
    "JOIN ratings AS r ON b.book_id=r.book_id \n",
    "JOIN authors AS a ON a.author_id=b.author_id\n",
    "GROUP BY author)\n",
    "\n",
    "SELECT author\n",
    "FROM filt_auth\n",
    "WHERE av = (SELECT MAX(av) FROM filt_auth)\n",
    "\n",
    "\"\"\"\n",
    "\n",
    "result_dataframe = connect_and_query_sql(sql_query)\n",
    "print(result_dataframe)"
   ]
  },
  {
   "cell_type": "markdown",
   "metadata": {},
   "source": [
    "У книг Роулинг самая высокая средняя оценка (по всему миру огромное количество людей любят серию книг про Гарри)."
   ]
  },
  {
   "cell_type": "markdown",
   "metadata": {},
   "source": [
    "### Среднее количество обзоров от пользователей, поставивших больше 48 оценок"
   ]
  },
  {
   "cell_type": "code",
   "execution_count": 11,
   "metadata": {},
   "outputs": [
    {
     "name": "stdout",
     "output_type": "stream",
     "text": [
      "    avg\n",
      "0  24.0\n"
     ]
    }
   ],
   "source": [
    "sql_query = \"\"\"\n",
    "\n",
    "WITH users_marks AS\n",
    "(SELECT username, COUNT(rating_id) AS c\n",
    "FROM ratings \n",
    "GROUP BY username),\n",
    "\n",
    "users_top_marks AS\n",
    "(SELECT username\n",
    "FROM users_marks\n",
    "WHERE c > 48),\n",
    "\n",
    "users_top_reviews AS \n",
    "(SELECT COUNT(review_id) AS cr\n",
    "FROM users_top_marks\n",
    "INNER JOIN reviews AS r ON users_top_marks.username = r.username\n",
    "GROUP BY r.username)\n",
    "\n",
    "SELECT AVG(cr)\n",
    "FROM users_top_reviews\n",
    "\n",
    "\"\"\"\n",
    "\n",
    "result_dataframe = connect_and_query_sql(sql_query)\n",
    "print(result_dataframe)"
   ]
  },
  {
   "cell_type": "markdown",
   "metadata": {},
   "source": [
    "Активные пользователи, как минимум в 2 раза чаще просто ставят оценки, чем пишут отзывы."
   ]
  },
  {
   "cell_type": "markdown",
   "metadata": {},
   "source": [
    "## Общий вывод"
   ]
  },
  {
   "cell_type": "markdown",
   "metadata": {},
   "source": [
    "В ходе исследования мы обнаружили, что самое продуктивное издательство - Penguin Books, самая успешная писательница - Джоан Роулинг, а также что в 21 веке на платформе появилось 819 книг, рейтинг книг напрямую не коррелирует с количество отзывов и на каждый обзор у активных пользователей приходится как минимум 2 оценки."
   ]
  }
 ],
 "metadata": {
  "ExecuteTimeLog": [
   {
    "duration": 111,
    "start_time": "2023-08-23T09:06:08.976Z"
   },
   {
    "duration": 6,
    "start_time": "2023-08-23T09:06:55.467Z"
   },
   {
    "duration": 140,
    "start_time": "2023-08-23T09:06:56.622Z"
   },
   {
    "duration": 81,
    "start_time": "2023-08-23T09:06:58.813Z"
   },
   {
    "duration": 125,
    "start_time": "2023-08-23T09:07:11.398Z"
   },
   {
    "duration": 53,
    "start_time": "2023-08-23T09:07:12.442Z"
   },
   {
    "duration": 138,
    "start_time": "2023-08-23T09:07:20.369Z"
   },
   {
    "duration": 20,
    "start_time": "2023-08-23T09:07:26.274Z"
   },
   {
    "duration": 14,
    "start_time": "2023-08-23T09:07:39.403Z"
   },
   {
    "duration": 15,
    "start_time": "2023-08-23T09:07:43.418Z"
   },
   {
    "duration": 98,
    "start_time": "2023-08-23T09:10:00.598Z"
   },
   {
    "duration": 11,
    "start_time": "2023-08-23T09:10:22.344Z"
   },
   {
    "duration": 113,
    "start_time": "2023-08-23T09:14:53.688Z"
   },
   {
    "duration": 5,
    "start_time": "2023-08-23T09:15:02.144Z"
   },
   {
    "duration": 2,
    "start_time": "2023-08-23T09:15:08.513Z"
   },
   {
    "duration": 112,
    "start_time": "2023-08-23T09:15:16.774Z"
   },
   {
    "duration": 53,
    "start_time": "2023-08-23T09:18:04.793Z"
   },
   {
    "duration": 8,
    "start_time": "2023-08-23T09:18:12.024Z"
   },
   {
    "duration": 4,
    "start_time": "2023-08-23T09:18:15.394Z"
   },
   {
    "duration": 41,
    "start_time": "2023-08-23T09:18:16.475Z"
   },
   {
    "duration": 5,
    "start_time": "2023-08-23T09:19:49.915Z"
   },
   {
    "duration": 33,
    "start_time": "2023-08-23T09:19:51.299Z"
   },
   {
    "duration": 23,
    "start_time": "2023-08-23T09:20:56.004Z"
   },
   {
    "duration": 167,
    "start_time": "2023-08-23T09:22:19.784Z"
   },
   {
    "duration": 90,
    "start_time": "2023-08-23T09:25:03.855Z"
   },
   {
    "duration": 79,
    "start_time": "2023-08-23T09:25:47.355Z"
   },
   {
    "duration": 5,
    "start_time": "2023-08-23T09:25:50.094Z"
   },
   {
    "duration": 105,
    "start_time": "2023-08-23T09:26:17.520Z"
   },
   {
    "duration": 47,
    "start_time": "2023-08-23T09:26:34.335Z"
   },
   {
    "duration": 108,
    "start_time": "2023-08-23T09:59:25.200Z"
   },
   {
    "duration": 109,
    "start_time": "2023-08-23T09:59:35.260Z"
   },
   {
    "duration": 40,
    "start_time": "2023-08-23T10:01:23.720Z"
   },
   {
    "duration": 66,
    "start_time": "2023-08-23T10:02:12.099Z"
   },
   {
    "duration": 203,
    "start_time": "2023-08-23T10:06:14.785Z"
   },
   {
    "duration": 52,
    "start_time": "2023-08-23T10:06:31.930Z"
   },
   {
    "duration": 286,
    "start_time": "2023-08-23T10:06:47.996Z"
   },
   {
    "duration": 206,
    "start_time": "2023-08-23T10:07:26.100Z"
   },
   {
    "duration": 173,
    "start_time": "2023-08-23T10:07:37.290Z"
   },
   {
    "duration": 199,
    "start_time": "2023-08-23T10:07:47.486Z"
   },
   {
    "duration": 177,
    "start_time": "2023-08-23T10:08:19.546Z"
   },
   {
    "duration": 192,
    "start_time": "2023-08-23T10:08:42.551Z"
   },
   {
    "duration": 272,
    "start_time": "2023-08-23T10:08:54.651Z"
   },
   {
    "duration": 171,
    "start_time": "2023-08-23T10:11:14.657Z"
   },
   {
    "duration": 225,
    "start_time": "2023-08-23T10:11:58.401Z"
   },
   {
    "duration": 201,
    "start_time": "2023-08-23T10:12:52.181Z"
   },
   {
    "duration": 180,
    "start_time": "2023-08-23T10:13:02.136Z"
   },
   {
    "duration": 70,
    "start_time": "2023-08-23T10:13:21.826Z"
   },
   {
    "duration": 54,
    "start_time": "2023-08-23T10:15:12.776Z"
   },
   {
    "duration": 42,
    "start_time": "2023-08-23T10:16:21.458Z"
   },
   {
    "duration": 27,
    "start_time": "2023-08-23T10:17:19.283Z"
   },
   {
    "duration": 58,
    "start_time": "2023-08-23T10:18:43.950Z"
   },
   {
    "duration": 87,
    "start_time": "2023-08-23T10:18:59.039Z"
   },
   {
    "duration": 222,
    "start_time": "2023-08-23T10:20:10.484Z"
   },
   {
    "duration": 57,
    "start_time": "2023-08-23T10:20:21.107Z"
   },
   {
    "duration": 59,
    "start_time": "2023-08-23T10:21:10.629Z"
   },
   {
    "duration": 61,
    "start_time": "2023-08-23T10:21:26.916Z"
   },
   {
    "duration": 59,
    "start_time": "2023-08-23T10:21:35.226Z"
   },
   {
    "duration": 231,
    "start_time": "2023-08-23T10:32:13.896Z"
   },
   {
    "duration": 211,
    "start_time": "2023-08-23T10:32:40.656Z"
   },
   {
    "duration": 214,
    "start_time": "2023-08-23T10:34:09.256Z"
   },
   {
    "duration": 195,
    "start_time": "2023-08-23T10:35:01.116Z"
   },
   {
    "duration": 302,
    "start_time": "2023-08-23T10:35:06.096Z"
   },
   {
    "duration": 215,
    "start_time": "2023-08-23T10:35:22.501Z"
   },
   {
    "duration": 297,
    "start_time": "2023-08-23T10:35:35.230Z"
   },
   {
    "duration": 108,
    "start_time": "2023-08-23T10:36:02.500Z"
   },
   {
    "duration": 175,
    "start_time": "2023-08-23T10:37:09.366Z"
   },
   {
    "duration": 197,
    "start_time": "2023-08-23T10:38:09.325Z"
   },
   {
    "duration": 267,
    "start_time": "2023-08-23T10:39:14.916Z"
   },
   {
    "duration": 214,
    "start_time": "2023-08-23T10:39:35.236Z"
   },
   {
    "duration": 221,
    "start_time": "2023-08-23T10:40:04.600Z"
   },
   {
    "duration": 265,
    "start_time": "2023-08-23T10:40:12.360Z"
   },
   {
    "duration": 48,
    "start_time": "2023-08-23T10:40:38.976Z"
   },
   {
    "duration": 93,
    "start_time": "2023-08-23T10:40:54.310Z"
   },
   {
    "duration": 47,
    "start_time": "2023-08-23T10:41:04.756Z"
   },
   {
    "duration": 99,
    "start_time": "2023-08-23T10:41:31.215Z"
   },
   {
    "duration": 131,
    "start_time": "2023-08-23T10:42:06.110Z"
   },
   {
    "duration": 103,
    "start_time": "2023-08-23T10:43:21.039Z"
   },
   {
    "duration": 57,
    "start_time": "2023-08-23T10:43:26.392Z"
   },
   {
    "duration": 79,
    "start_time": "2023-08-23T10:44:12.476Z"
   },
   {
    "duration": 86,
    "start_time": "2023-08-23T10:45:47.475Z"
   },
   {
    "duration": 193,
    "start_time": "2023-08-23T10:46:01.381Z"
   },
   {
    "duration": 179,
    "start_time": "2023-08-23T10:48:19.802Z"
   },
   {
    "duration": 352,
    "start_time": "2023-08-23T10:49:02.308Z"
   },
   {
    "duration": 115,
    "start_time": "2023-08-23T10:49:29.768Z"
   },
   {
    "duration": 430,
    "start_time": "2023-08-23T10:50:05.882Z"
   },
   {
    "duration": 57,
    "start_time": "2023-08-23T10:50:41.262Z"
   },
   {
    "duration": 96,
    "start_time": "2023-08-23T10:51:14.790Z"
   },
   {
    "duration": 38,
    "start_time": "2023-08-23T10:52:00.473Z"
   },
   {
    "duration": 251,
    "start_time": "2023-08-23T10:52:38.653Z"
   },
   {
    "duration": 332,
    "start_time": "2023-08-23T10:53:17.864Z"
   },
   {
    "duration": 326,
    "start_time": "2023-08-23T10:53:39.818Z"
   },
   {
    "duration": 222,
    "start_time": "2023-08-23T10:53:56.434Z"
   },
   {
    "duration": 114,
    "start_time": "2023-08-23T10:54:06.249Z"
   },
   {
    "duration": 58,
    "start_time": "2023-08-23T11:47:50.835Z"
   },
   {
    "duration": 73,
    "start_time": "2023-08-23T11:48:37.351Z"
   },
   {
    "duration": 42,
    "start_time": "2023-08-23T11:54:13.912Z"
   },
   {
    "duration": 229,
    "start_time": "2023-08-23T11:54:25.577Z"
   },
   {
    "duration": 78,
    "start_time": "2023-08-23T11:54:54.659Z"
   },
   {
    "duration": 242,
    "start_time": "2023-08-23T11:55:06.703Z"
   },
   {
    "duration": 168,
    "start_time": "2023-08-23T11:55:59.843Z"
   },
   {
    "duration": 215,
    "start_time": "2023-08-23T11:56:39.212Z"
   },
   {
    "duration": 190,
    "start_time": "2023-08-23T11:57:06.176Z"
   },
   {
    "duration": 225,
    "start_time": "2023-08-23T11:57:20.497Z"
   },
   {
    "duration": 47,
    "start_time": "2023-08-23T11:58:14.221Z"
   },
   {
    "duration": 84,
    "start_time": "2023-08-23T11:58:19.974Z"
   },
   {
    "duration": 90,
    "start_time": "2023-08-23T11:58:59.461Z"
   },
   {
    "duration": 37,
    "start_time": "2023-08-23T11:59:24.138Z"
   },
   {
    "duration": 216,
    "start_time": "2023-08-23T11:59:34.542Z"
   },
   {
    "duration": 52,
    "start_time": "2023-08-23T11:59:43.237Z"
   },
   {
    "duration": 44,
    "start_time": "2023-08-23T12:00:50.305Z"
   },
   {
    "duration": 217,
    "start_time": "2023-08-23T12:01:43.284Z"
   },
   {
    "duration": 168,
    "start_time": "2023-08-23T12:02:32.277Z"
   },
   {
    "duration": 192,
    "start_time": "2023-08-23T12:02:39.552Z"
   },
   {
    "duration": 309,
    "start_time": "2023-08-23T12:02:50.778Z"
   },
   {
    "duration": 43,
    "start_time": "2023-08-23T12:03:05.083Z"
   },
   {
    "duration": 287,
    "start_time": "2023-08-23T12:03:49.042Z"
   },
   {
    "duration": 245,
    "start_time": "2023-08-23T12:04:04.164Z"
   },
   {
    "duration": 260,
    "start_time": "2023-08-23T12:04:18.238Z"
   },
   {
    "duration": 330,
    "start_time": "2023-08-23T12:04:55.479Z"
   },
   {
    "duration": 54,
    "start_time": "2023-08-23T12:06:17.999Z"
   },
   {
    "duration": 46,
    "start_time": "2023-08-23T12:06:36.826Z"
   },
   {
    "duration": 50,
    "start_time": "2023-08-23T12:09:13.838Z"
   },
   {
    "duration": 49,
    "start_time": "2023-08-23T12:09:25.480Z"
   },
   {
    "duration": 100,
    "start_time": "2023-08-23T12:13:56.372Z"
   },
   {
    "duration": 64,
    "start_time": "2023-08-23T12:18:57.786Z"
   },
   {
    "duration": 36,
    "start_time": "2023-08-23T12:19:17.745Z"
   },
   {
    "duration": 27,
    "start_time": "2023-08-23T12:19:23.066Z"
   },
   {
    "duration": 241,
    "start_time": "2023-08-23T12:19:56.699Z"
   },
   {
    "duration": 42,
    "start_time": "2023-08-23T12:20:07.118Z"
   },
   {
    "duration": 84,
    "start_time": "2023-08-23T12:27:34.466Z"
   },
   {
    "duration": 179,
    "start_time": "2023-08-23T12:28:04.803Z"
   },
   {
    "duration": 39,
    "start_time": "2023-08-23T12:28:32.736Z"
   },
   {
    "duration": 65,
    "start_time": "2023-08-23T12:29:28.818Z"
   },
   {
    "duration": 187,
    "start_time": "2023-08-23T12:31:09.018Z"
   },
   {
    "duration": 264,
    "start_time": "2023-08-23T12:31:19.456Z"
   },
   {
    "duration": 200,
    "start_time": "2023-08-23T12:31:45.357Z"
   },
   {
    "duration": 89,
    "start_time": "2023-08-23T12:34:37.584Z"
   },
   {
    "duration": 64,
    "start_time": "2023-08-23T12:36:09.222Z"
   },
   {
    "duration": 1889,
    "start_time": "2023-08-23T12:37:28.346Z"
   },
   {
    "duration": 258,
    "start_time": "2023-08-23T12:37:41.986Z"
   },
   {
    "duration": 182,
    "start_time": "2023-08-23T12:38:03.924Z"
   },
   {
    "duration": 212,
    "start_time": "2023-08-23T12:38:24.522Z"
   },
   {
    "duration": 390,
    "start_time": "2023-08-23T12:38:36.485Z"
   },
   {
    "duration": 214,
    "start_time": "2023-08-23T12:38:46.137Z"
   },
   {
    "duration": 320,
    "start_time": "2023-08-23T12:38:58.706Z"
   },
   {
    "duration": 228,
    "start_time": "2023-08-23T12:39:23.747Z"
   },
   {
    "duration": 236,
    "start_time": "2023-08-23T12:40:52.420Z"
   },
   {
    "duration": 243,
    "start_time": "2023-08-23T12:41:22.816Z"
   },
   {
    "duration": 278,
    "start_time": "2023-08-23T12:41:30.134Z"
   },
   {
    "duration": 272,
    "start_time": "2023-08-23T12:41:37.977Z"
   },
   {
    "duration": 63,
    "start_time": "2023-08-23T12:41:44.777Z"
   },
   {
    "duration": 72,
    "start_time": "2023-08-23T12:42:19.294Z"
   },
   {
    "duration": 278,
    "start_time": "2023-08-23T12:42:57.176Z"
   },
   {
    "duration": 81,
    "start_time": "2023-08-23T12:43:12.886Z"
   },
   {
    "duration": 105,
    "start_time": "2023-08-23T12:44:02.876Z"
   },
   {
    "duration": 81,
    "start_time": "2023-08-23T12:45:15.320Z"
   },
   {
    "duration": 225,
    "start_time": "2023-08-23T12:45:27.670Z"
   },
   {
    "duration": 67,
    "start_time": "2023-08-23T12:45:52.218Z"
   },
   {
    "duration": 110,
    "start_time": "2023-08-23T12:46:29.377Z"
   },
   {
    "duration": 359,
    "start_time": "2023-08-23T12:47:18.182Z"
   },
   {
    "duration": 69,
    "start_time": "2023-08-23T12:47:26.614Z"
   },
   {
    "duration": 64,
    "start_time": "2023-08-23T12:49:35.829Z"
   },
   {
    "duration": 217,
    "start_time": "2023-08-23T12:51:14.716Z"
   },
   {
    "duration": 200,
    "start_time": "2023-08-23T12:52:01.851Z"
   },
   {
    "duration": 372,
    "start_time": "2023-08-23T12:52:48.819Z"
   },
   {
    "duration": 588,
    "start_time": "2023-08-23T12:53:13.045Z"
   },
   {
    "duration": 99,
    "start_time": "2023-08-23T12:53:19.078Z"
   },
   {
    "duration": 318,
    "start_time": "2023-08-23T12:54:15.115Z"
   },
   {
    "duration": 191,
    "start_time": "2023-08-23T12:55:25.789Z"
   },
   {
    "duration": 53,
    "start_time": "2023-08-23T12:56:00.188Z"
   },
   {
    "duration": 250,
    "start_time": "2023-08-23T12:56:35.786Z"
   },
   {
    "duration": 196,
    "start_time": "2023-08-23T12:56:58.838Z"
   },
   {
    "duration": 47,
    "start_time": "2023-08-23T12:59:04.099Z"
   },
   {
    "duration": 51,
    "start_time": "2023-08-23T13:01:03.122Z"
   },
   {
    "duration": 58,
    "start_time": "2023-08-23T13:01:47.366Z"
   },
   {
    "duration": 69,
    "start_time": "2023-08-23T13:02:28.063Z"
   },
   {
    "duration": 35,
    "start_time": "2023-08-23T13:02:38.820Z"
   },
   {
    "duration": 54,
    "start_time": "2023-08-23T13:02:49.870Z"
   },
   {
    "duration": 51,
    "start_time": "2023-08-23T13:04:20.282Z"
   },
   {
    "duration": 161,
    "start_time": "2023-08-23T13:04:49.615Z"
   },
   {
    "duration": 171,
    "start_time": "2023-08-23T13:05:07.639Z"
   },
   {
    "duration": 48,
    "start_time": "2023-08-23T13:05:16.602Z"
   },
   {
    "duration": 251,
    "start_time": "2023-08-23T13:11:30.019Z"
   },
   {
    "duration": 49,
    "start_time": "2023-08-23T13:11:50.723Z"
   },
   {
    "duration": 219,
    "start_time": "2023-08-23T13:12:20.486Z"
   },
   {
    "duration": 89,
    "start_time": "2023-08-23T13:13:23.180Z"
   },
   {
    "duration": 75,
    "start_time": "2023-08-23T13:14:26.346Z"
   },
   {
    "duration": 2362,
    "start_time": "2023-08-23T13:14:53.229Z"
   },
   {
    "duration": 86,
    "start_time": "2023-08-23T13:15:05.039Z"
   },
   {
    "duration": 130,
    "start_time": "2023-08-23T13:18:27.066Z"
   },
   {
    "duration": 48,
    "start_time": "2023-08-23T13:18:34.518Z"
   },
   {
    "duration": 167,
    "start_time": "2023-08-23T13:23:33.513Z"
   },
   {
    "duration": 198,
    "start_time": "2023-08-23T13:23:46.818Z"
   },
   {
    "duration": 41,
    "start_time": "2023-08-23T13:25:26.647Z"
   },
   {
    "duration": 53,
    "start_time": "2023-08-23T13:25:43.012Z"
   },
   {
    "duration": 101,
    "start_time": "2023-08-23T13:25:49.458Z"
   },
   {
    "duration": 73,
    "start_time": "2023-08-23T13:27:13.983Z"
   },
   {
    "duration": 76,
    "start_time": "2023-08-23T13:27:56.881Z"
   },
   {
    "duration": 175,
    "start_time": "2023-08-23T13:30:07.945Z"
   },
   {
    "duration": 284,
    "start_time": "2023-08-23T13:30:36.088Z"
   },
   {
    "duration": 213,
    "start_time": "2023-08-23T13:30:45.739Z"
   },
   {
    "duration": 117,
    "start_time": "2023-08-23T13:31:03.305Z"
   },
   {
    "duration": 109,
    "start_time": "2023-08-23T13:31:29.625Z"
   },
   {
    "duration": 95,
    "start_time": "2023-08-23T13:32:34.014Z"
   },
   {
    "duration": 112,
    "start_time": "2023-08-23T13:32:59.792Z"
   },
   {
    "duration": 121,
    "start_time": "2023-08-23T13:33:11.065Z"
   },
   {
    "duration": 104,
    "start_time": "2023-08-23T13:33:43.309Z"
   },
   {
    "duration": 93,
    "start_time": "2023-08-23T13:34:00.685Z"
   },
   {
    "duration": 78,
    "start_time": "2023-08-23T13:34:06.067Z"
   },
   {
    "duration": 143,
    "start_time": "2023-08-23T13:34:16.307Z"
   },
   {
    "duration": 83,
    "start_time": "2023-08-23T13:35:47.337Z"
   },
   {
    "duration": 247,
    "start_time": "2023-08-23T13:53:30.974Z"
   },
   {
    "duration": 240,
    "start_time": "2023-08-23T13:53:53.659Z"
   },
   {
    "duration": 46,
    "start_time": "2023-08-23T13:54:00.836Z"
   },
   {
    "duration": 30,
    "start_time": "2023-08-23T13:56:45.540Z"
   },
   {
    "duration": 92,
    "start_time": "2023-08-23T14:00:25.458Z"
   },
   {
    "duration": 64,
    "start_time": "2023-08-23T14:02:09.780Z"
   },
   {
    "duration": 62,
    "start_time": "2023-08-23T14:02:27.757Z"
   },
   {
    "duration": 72,
    "start_time": "2023-08-23T14:02:36.885Z"
   },
   {
    "duration": 225,
    "start_time": "2023-08-23T14:03:12.690Z"
   },
   {
    "duration": 33,
    "start_time": "2023-08-23T14:03:31.702Z"
   },
   {
    "duration": 214,
    "start_time": "2023-08-23T14:03:56.971Z"
   },
   {
    "duration": 66,
    "start_time": "2023-08-23T14:04:05.443Z"
   },
   {
    "duration": 43,
    "start_time": "2023-08-23T14:04:38.594Z"
   },
   {
    "duration": 227,
    "start_time": "2023-08-23T14:05:29.841Z"
   },
   {
    "duration": 51,
    "start_time": "2023-08-23T14:06:18.182Z"
   },
   {
    "duration": 240,
    "start_time": "2023-08-23T14:07:27.490Z"
   },
   {
    "duration": 187,
    "start_time": "2023-08-23T14:09:02.054Z"
   },
   {
    "duration": 54,
    "start_time": "2023-08-23T14:09:10.223Z"
   },
   {
    "duration": 489,
    "start_time": "2023-08-23T14:13:06.609Z"
   },
   {
    "duration": 73,
    "start_time": "2023-08-23T14:13:07.100Z"
   },
   {
    "duration": 0,
    "start_time": "2023-08-23T14:13:07.175Z"
   },
   {
    "duration": 0,
    "start_time": "2023-08-23T14:13:07.176Z"
   },
   {
    "duration": 0,
    "start_time": "2023-08-23T14:13:07.177Z"
   },
   {
    "duration": 0,
    "start_time": "2023-08-23T14:13:07.178Z"
   },
   {
    "duration": 4,
    "start_time": "2023-08-23T14:14:08.351Z"
   },
   {
    "duration": 136,
    "start_time": "2023-08-23T14:14:11.491Z"
   },
   {
    "duration": 4,
    "start_time": "2023-08-23T14:14:26.128Z"
   },
   {
    "duration": 195,
    "start_time": "2023-08-23T14:14:27.549Z"
   },
   {
    "duration": 4,
    "start_time": "2023-08-23T14:16:24.533Z"
   },
   {
    "duration": 10,
    "start_time": "2023-08-23T14:16:25.938Z"
   },
   {
    "duration": 5,
    "start_time": "2023-08-23T14:16:58.875Z"
   },
   {
    "duration": 194,
    "start_time": "2023-08-23T14:17:00.335Z"
   },
   {
    "duration": 4,
    "start_time": "2023-08-23T14:20:00.659Z"
   },
   {
    "duration": 10,
    "start_time": "2023-08-23T14:20:01.951Z"
   },
   {
    "duration": 13071,
    "start_time": "2023-08-23T14:20:14.353Z"
   },
   {
    "duration": 6,
    "start_time": "2023-08-23T14:20:30.538Z"
   },
   {
    "duration": 547,
    "start_time": "2023-08-23T14:20:37.190Z"
   },
   {
    "duration": 13756,
    "start_time": "2023-08-23T14:20:37.739Z"
   },
   {
    "duration": 67,
    "start_time": "2023-08-23T14:20:51.497Z"
   },
   {
    "duration": 1,
    "start_time": "2023-08-23T14:20:51.565Z"
   },
   {
    "duration": 0,
    "start_time": "2023-08-23T14:20:51.567Z"
   },
   {
    "duration": 0,
    "start_time": "2023-08-23T14:20:51.568Z"
   },
   {
    "duration": 559,
    "start_time": "2023-08-23T14:21:44.781Z"
   },
   {
    "duration": 14498,
    "start_time": "2023-08-23T14:21:45.343Z"
   },
   {
    "duration": 88,
    "start_time": "2023-08-23T14:21:59.842Z"
   },
   {
    "duration": 63,
    "start_time": "2023-08-23T14:21:59.932Z"
   },
   {
    "duration": 53,
    "start_time": "2023-08-23T14:21:59.998Z"
   },
   {
    "duration": 74,
    "start_time": "2023-08-23T14:22:00.053Z"
   },
   {
    "duration": 51,
    "start_time": "2023-08-23T14:25:46.722Z"
   },
   {
    "duration": 77,
    "start_time": "2023-08-23T14:25:47.173Z"
   },
   {
    "duration": 73,
    "start_time": "2023-08-23T14:25:47.689Z"
   },
   {
    "duration": 57,
    "start_time": "2023-08-23T14:25:48.920Z"
   },
   {
    "duration": 54,
    "start_time": "2023-08-23T14:25:48.980Z"
   },
   {
    "duration": 93,
    "start_time": "2023-08-23T14:25:49.252Z"
   },
   {
    "duration": 232,
    "start_time": "2023-08-23T14:26:09.474Z"
   },
   {
    "duration": 90,
    "start_time": "2023-08-23T14:26:13.256Z"
   },
   {
    "duration": 75,
    "start_time": "2023-08-23T14:26:36.777Z"
   },
   {
    "duration": 75,
    "start_time": "2023-08-23T14:26:37.149Z"
   },
   {
    "duration": 36,
    "start_time": "2023-08-23T14:26:37.417Z"
   },
   {
    "duration": 47,
    "start_time": "2023-08-23T14:26:37.745Z"
   },
   {
    "duration": 38,
    "start_time": "2023-08-23T14:26:38.314Z"
   },
   {
    "duration": 46,
    "start_time": "2023-08-23T14:26:38.544Z"
   },
   {
    "duration": 5,
    "start_time": "2023-08-23T14:36:39.105Z"
   },
   {
    "duration": 510,
    "start_time": "2023-08-23T14:37:25.387Z"
   },
   {
    "duration": 12748,
    "start_time": "2023-08-23T14:37:25.899Z"
   },
   {
    "duration": 69,
    "start_time": "2023-08-23T14:37:38.649Z"
   },
   {
    "duration": 43,
    "start_time": "2023-08-23T14:37:38.721Z"
   },
   {
    "duration": 83,
    "start_time": "2023-08-23T14:37:38.766Z"
   },
   {
    "duration": 44,
    "start_time": "2023-08-23T14:37:38.851Z"
   },
   {
    "duration": 60,
    "start_time": "2023-08-23T14:37:38.897Z"
   },
   {
    "duration": 115,
    "start_time": "2023-08-23T14:37:38.959Z"
   },
   {
    "duration": 74,
    "start_time": "2023-08-23T14:37:39.077Z"
   },
   {
    "duration": 71,
    "start_time": "2023-08-23T14:37:39.154Z"
   },
   {
    "duration": 50,
    "start_time": "2023-08-23T14:37:39.227Z"
   },
   {
    "duration": 7,
    "start_time": "2023-08-23T19:24:44.071Z"
   },
   {
    "duration": 354,
    "start_time": "2023-08-23T19:24:44.080Z"
   },
   {
    "duration": 351,
    "start_time": "2023-08-23T19:24:44.437Z"
   },
   {
    "duration": 273,
    "start_time": "2023-08-23T19:24:44.791Z"
   },
   {
    "duration": 271,
    "start_time": "2023-08-23T19:24:45.066Z"
   },
   {
    "duration": 324,
    "start_time": "2023-08-23T19:24:45.339Z"
   },
   {
    "duration": 296,
    "start_time": "2023-08-23T19:24:45.666Z"
   },
   {
    "duration": 316,
    "start_time": "2023-08-23T19:24:45.964Z"
   },
   {
    "duration": 269,
    "start_time": "2023-08-23T19:24:46.283Z"
   },
   {
    "duration": 311,
    "start_time": "2023-08-23T19:24:46.557Z"
   },
   {
    "duration": 304,
    "start_time": "2023-08-23T19:24:46.871Z"
   },
   {
    "duration": 45,
    "start_time": "2023-08-23T19:32:56.225Z"
   },
   {
    "duration": 541,
    "start_time": "2023-08-23T19:33:02.078Z"
   },
   {
    "duration": 10378,
    "start_time": "2023-08-23T19:33:02.621Z"
   },
   {
    "duration": 217,
    "start_time": "2023-08-23T19:33:13.001Z"
   },
   {
    "duration": 222,
    "start_time": "2023-08-23T19:33:13.220Z"
   },
   {
    "duration": 253,
    "start_time": "2023-08-23T19:33:13.445Z"
   },
   {
    "duration": 223,
    "start_time": "2023-08-23T19:33:13.700Z"
   },
   {
    "duration": 220,
    "start_time": "2023-08-23T19:33:13.925Z"
   },
   {
    "duration": 422,
    "start_time": "2023-08-23T19:33:14.147Z"
   },
   {
    "duration": 0,
    "start_time": "2023-08-23T19:33:14.570Z"
   },
   {
    "duration": 0,
    "start_time": "2023-08-23T19:33:14.572Z"
   },
   {
    "duration": 0,
    "start_time": "2023-08-23T19:33:14.572Z"
   },
   {
    "duration": 0,
    "start_time": "2023-08-23T19:33:14.573Z"
   },
   {
    "duration": 255,
    "start_time": "2023-08-23T19:33:29.954Z"
   },
   {
    "duration": 268,
    "start_time": "2023-08-23T19:34:59.422Z"
   },
   {
    "duration": 227,
    "start_time": "2023-08-23T19:36:52.286Z"
   },
   {
    "duration": 209,
    "start_time": "2023-08-23T19:37:12.306Z"
   },
   {
    "duration": 220,
    "start_time": "2023-08-23T19:38:00.213Z"
   },
   {
    "duration": 302,
    "start_time": "2023-08-23T19:38:08.947Z"
   },
   {
    "duration": 273,
    "start_time": "2023-08-23T19:39:14.085Z"
   },
   {
    "duration": 277,
    "start_time": "2023-08-23T19:39:24.185Z"
   },
   {
    "duration": 290,
    "start_time": "2023-08-23T19:39:49.055Z"
   },
   {
    "duration": 261,
    "start_time": "2023-08-23T19:40:14.319Z"
   },
   {
    "duration": 422,
    "start_time": "2023-08-23T19:44:10.901Z"
   },
   {
    "duration": 293,
    "start_time": "2023-08-23T19:45:00.288Z"
   },
   {
    "duration": 327,
    "start_time": "2023-08-23T19:46:50.300Z"
   },
   {
    "duration": 377,
    "start_time": "2023-08-23T19:47:22.454Z"
   },
   {
    "duration": 346,
    "start_time": "2023-08-23T19:47:34.265Z"
   },
   {
    "duration": 321,
    "start_time": "2023-08-23T19:47:53.466Z"
   },
   {
    "duration": 280,
    "start_time": "2023-08-23T19:48:10.937Z"
   },
   {
    "duration": 351,
    "start_time": "2023-08-23T19:48:31.367Z"
   },
   {
    "duration": 322,
    "start_time": "2023-08-23T19:48:40.127Z"
   },
   {
    "duration": 433,
    "start_time": "2023-08-23T19:48:49.527Z"
   },
   {
    "duration": 263,
    "start_time": "2023-08-23T19:49:33.453Z"
   },
   {
    "duration": 301,
    "start_time": "2023-08-23T19:51:59.270Z"
   },
   {
    "duration": 319,
    "start_time": "2023-08-23T19:52:15.642Z"
   },
   {
    "duration": 365,
    "start_time": "2023-08-23T19:52:57.578Z"
   },
   {
    "duration": 242,
    "start_time": "2023-08-23T19:53:03.371Z"
   },
   {
    "duration": 247,
    "start_time": "2023-08-23T19:53:22.323Z"
   },
   {
    "duration": 275,
    "start_time": "2023-08-23T19:53:29.831Z"
   },
   {
    "duration": 275,
    "start_time": "2023-08-23T19:53:48.230Z"
   },
   {
    "duration": 292,
    "start_time": "2023-08-23T19:54:34.843Z"
   },
   {
    "duration": 261,
    "start_time": "2023-08-23T19:55:30.806Z"
   },
   {
    "duration": 266,
    "start_time": "2023-08-23T19:55:37.483Z"
   },
   {
    "duration": 381,
    "start_time": "2023-08-23T19:55:54.393Z"
   },
   {
    "duration": 294,
    "start_time": "2023-08-23T19:56:16.014Z"
   },
   {
    "duration": 310,
    "start_time": "2023-08-23T19:56:24.015Z"
   },
   {
    "duration": 346,
    "start_time": "2023-08-23T19:57:36.452Z"
   },
   {
    "duration": 269,
    "start_time": "2023-08-23T19:57:50.405Z"
   },
   {
    "duration": 323,
    "start_time": "2023-08-23T19:59:42.165Z"
   },
   {
    "duration": 317,
    "start_time": "2023-08-23T20:00:08.892Z"
   },
   {
    "duration": 375,
    "start_time": "2023-08-23T20:01:26.864Z"
   },
   {
    "duration": 266,
    "start_time": "2023-08-23T20:02:04.688Z"
   },
   {
    "duration": 293,
    "start_time": "2023-08-23T20:02:11.640Z"
   },
   {
    "duration": 323,
    "start_time": "2023-08-23T20:02:26.592Z"
   },
   {
    "duration": 279,
    "start_time": "2023-08-23T20:02:32.640Z"
   },
   {
    "duration": 327,
    "start_time": "2023-08-23T20:02:44.772Z"
   },
   {
    "duration": 254,
    "start_time": "2023-08-23T20:02:51.199Z"
   },
   {
    "duration": 350,
    "start_time": "2023-08-23T20:03:05.201Z"
   },
   {
    "duration": 366,
    "start_time": "2023-08-23T20:03:08.450Z"
   },
   {
    "duration": 313,
    "start_time": "2023-08-23T20:03:19.927Z"
   },
   {
    "duration": 307,
    "start_time": "2023-08-23T20:03:45.707Z"
   },
   {
    "duration": 401,
    "start_time": "2023-08-23T20:04:03.763Z"
   },
   {
    "duration": 283,
    "start_time": "2023-08-23T20:04:14.306Z"
   },
   {
    "duration": 264,
    "start_time": "2023-08-23T20:05:44.536Z"
   },
   {
    "duration": 329,
    "start_time": "2023-08-23T20:07:43.274Z"
   },
   {
    "duration": 374,
    "start_time": "2023-08-23T20:07:51.710Z"
   },
   {
    "duration": 306,
    "start_time": "2023-08-23T20:08:15.994Z"
   },
   {
    "duration": 262,
    "start_time": "2023-08-23T20:08:36.572Z"
   },
   {
    "duration": 362,
    "start_time": "2023-08-23T20:09:10.949Z"
   },
   {
    "duration": 291,
    "start_time": "2023-08-23T20:09:41.695Z"
   },
   {
    "duration": 342,
    "start_time": "2023-08-23T20:10:14.615Z"
   },
   {
    "duration": 331,
    "start_time": "2023-08-23T20:11:18.838Z"
   },
   {
    "duration": 257,
    "start_time": "2023-08-23T20:11:58.592Z"
   },
   {
    "duration": 235,
    "start_time": "2023-08-23T20:12:09.015Z"
   },
   {
    "duration": 262,
    "start_time": "2023-08-23T20:12:34.491Z"
   },
   {
    "duration": 236,
    "start_time": "2023-08-23T20:13:04.228Z"
   },
   {
    "duration": 238,
    "start_time": "2023-08-23T20:13:09.107Z"
   },
   {
    "duration": 293,
    "start_time": "2023-08-23T20:13:34.756Z"
   },
   {
    "duration": 378,
    "start_time": "2023-08-23T20:14:46.899Z"
   },
   {
    "duration": 344,
    "start_time": "2023-08-23T20:14:58.392Z"
   },
   {
    "duration": 347,
    "start_time": "2023-08-23T20:15:09.799Z"
   },
   {
    "duration": 410,
    "start_time": "2023-08-23T20:15:40.442Z"
   },
   {
    "duration": 294,
    "start_time": "2023-08-23T20:15:59.689Z"
   },
   {
    "duration": 367,
    "start_time": "2023-08-23T20:16:25.888Z"
   },
   {
    "duration": 298,
    "start_time": "2023-08-23T20:17:02.908Z"
   },
   {
    "duration": 289,
    "start_time": "2023-08-23T20:17:19.118Z"
   },
   {
    "duration": 345,
    "start_time": "2023-08-23T20:17:26.036Z"
   },
   {
    "duration": 315,
    "start_time": "2023-08-23T20:17:33.634Z"
   },
   {
    "duration": 281,
    "start_time": "2023-08-23T20:17:42.145Z"
   },
   {
    "duration": 319,
    "start_time": "2023-08-23T20:17:52.663Z"
   },
   {
    "duration": 428,
    "start_time": "2023-08-23T20:17:57.287Z"
   },
   {
    "duration": 328,
    "start_time": "2023-08-23T20:18:01.693Z"
   },
   {
    "duration": 411,
    "start_time": "2023-08-23T20:18:16.275Z"
   },
   {
    "duration": 378,
    "start_time": "2023-08-23T20:18:29.487Z"
   },
   {
    "duration": 300,
    "start_time": "2023-08-23T20:18:47.600Z"
   },
   {
    "duration": 287,
    "start_time": "2023-08-23T20:18:58.802Z"
   },
   {
    "duration": 381,
    "start_time": "2023-08-23T20:21:13.884Z"
   },
   {
    "duration": 365,
    "start_time": "2023-08-23T20:21:23.547Z"
   },
   {
    "duration": 299,
    "start_time": "2023-08-23T20:22:07.885Z"
   },
   {
    "duration": 361,
    "start_time": "2023-08-23T20:22:26.878Z"
   },
   {
    "duration": 339,
    "start_time": "2023-08-23T20:22:47.684Z"
   },
   {
    "duration": 412,
    "start_time": "2023-08-23T20:22:57.922Z"
   },
   {
    "duration": 466,
    "start_time": "2023-08-23T20:23:33.779Z"
   },
   {
    "duration": 373,
    "start_time": "2023-08-23T20:23:52.092Z"
   },
   {
    "duration": 418,
    "start_time": "2023-08-23T20:24:05.487Z"
   },
   {
    "duration": 439,
    "start_time": "2023-08-23T20:24:17.625Z"
   },
   {
    "duration": 356,
    "start_time": "2023-08-23T20:24:40.131Z"
   },
   {
    "duration": 373,
    "start_time": "2023-08-23T20:26:04.638Z"
   },
   {
    "duration": 250,
    "start_time": "2023-08-23T20:26:14.818Z"
   },
   {
    "duration": 301,
    "start_time": "2023-08-23T20:26:30.833Z"
   },
   {
    "duration": 410,
    "start_time": "2023-08-23T20:26:50.560Z"
   },
   {
    "duration": 329,
    "start_time": "2023-08-23T20:26:59.297Z"
   },
   {
    "duration": 337,
    "start_time": "2023-08-23T20:28:04.314Z"
   },
   {
    "duration": 343,
    "start_time": "2023-08-23T20:28:26.404Z"
   },
   {
    "duration": 280,
    "start_time": "2023-08-23T20:28:34.260Z"
   },
   {
    "duration": 288,
    "start_time": "2023-08-23T20:28:49.269Z"
   },
   {
    "duration": 352,
    "start_time": "2023-08-23T20:28:58.484Z"
   },
   {
    "duration": 351,
    "start_time": "2023-08-23T20:29:05.784Z"
   },
   {
    "duration": 228,
    "start_time": "2023-08-23T20:29:55.438Z"
   },
   {
    "duration": 297,
    "start_time": "2023-08-23T20:30:12.281Z"
   },
   {
    "duration": 270,
    "start_time": "2023-08-23T20:30:28.106Z"
   },
   {
    "duration": 257,
    "start_time": "2023-08-23T20:30:36.589Z"
   },
   {
    "duration": 412,
    "start_time": "2023-08-23T20:31:47.315Z"
   },
   {
    "duration": 375,
    "start_time": "2023-08-23T20:32:34.759Z"
   },
   {
    "duration": 313,
    "start_time": "2023-08-23T20:32:52.338Z"
   },
   {
    "duration": 377,
    "start_time": "2023-08-23T20:33:12.358Z"
   },
   {
    "duration": 286,
    "start_time": "2023-08-23T20:33:19.761Z"
   },
   {
    "duration": 255,
    "start_time": "2023-08-23T20:34:16.072Z"
   },
   {
    "duration": 275,
    "start_time": "2023-08-23T20:34:31.636Z"
   },
   {
    "duration": 4,
    "start_time": "2023-08-23T20:36:06.063Z"
   },
   {
    "duration": 258,
    "start_time": "2023-08-23T20:39:38.199Z"
   },
   {
    "duration": 251,
    "start_time": "2023-08-23T20:47:59.999Z"
   },
   {
    "duration": 271,
    "start_time": "2023-08-23T20:48:01.563Z"
   },
   {
    "duration": 524,
    "start_time": "2023-08-23T20:48:06.945Z"
   },
   {
    "duration": 10044,
    "start_time": "2023-08-23T20:48:07.471Z"
   },
   {
    "duration": 228,
    "start_time": "2023-08-23T20:48:17.517Z"
   },
   {
    "duration": 255,
    "start_time": "2023-08-23T20:48:17.747Z"
   },
   {
    "duration": 260,
    "start_time": "2023-08-23T20:48:18.004Z"
   },
   {
    "duration": 235,
    "start_time": "2023-08-23T20:48:18.266Z"
   },
   {
    "duration": 229,
    "start_time": "2023-08-23T20:48:18.503Z"
   },
   {
    "duration": 244,
    "start_time": "2023-08-23T20:48:18.735Z"
   },
   {
    "duration": 253,
    "start_time": "2023-08-23T20:48:18.980Z"
   },
   {
    "duration": 222,
    "start_time": "2023-08-23T20:48:19.235Z"
   },
   {
    "duration": 252,
    "start_time": "2023-08-23T20:48:19.459Z"
   }
  ],
  "kernelspec": {
   "display_name": "Python 3 (ipykernel)",
   "language": "python",
   "name": "python3"
  },
  "language_info": {
   "codemirror_mode": {
    "name": "ipython",
    "version": 3
   },
   "file_extension": ".py",
   "mimetype": "text/x-python",
   "name": "python",
   "nbconvert_exporter": "python",
   "pygments_lexer": "ipython3",
   "version": "3.10.9"
  },
  "toc": {
   "base_numbering": 1,
   "nav_menu": {},
   "number_sections": true,
   "sideBar": true,
   "skip_h1_title": true,
   "title_cell": "Table of Contents",
   "title_sidebar": "Contents",
   "toc_cell": false,
   "toc_position": {},
   "toc_section_display": true,
   "toc_window_display": true
  }
 },
 "nbformat": 4,
 "nbformat_minor": 2
}
