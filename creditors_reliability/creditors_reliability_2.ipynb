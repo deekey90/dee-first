{
 "cells": [
  {
   "cell_type": "markdown",
   "id": "3621f602",
   "metadata": {},
   "source": [
    "<div style=\"border:solid steelblue 3px; padding: 20px; border-radius: 10px\">\n",
    "\n",
    "**Привет, Денис!** 👋\n",
    "\n",
    "Меня зовут Алексей Манелюк, я буду проверять твой проект. В Яндекс Практикуме принято общаться на \"ты\" 😉, но если некомфортно - скажи и перейдем на \"Вы\".\n",
    "\n",
    "Моя цель - не указать на ошибки, а поделиться опытом и помочь в освоении анализа данных.\n",
    "\n",
    "В тетрадке ты увидишь мои комментарии, пожалуйста, не удаляй, не перемещай и не изменяй их. У комментариев могут быть приписки **V2**, **V3**, **V...**, которые соответствуют каждой версии проверки. \n",
    "    \n",
    "Я буду использовать цветовую разметку:\n",
    "<p>\n",
    "<div class=\"alert-danger\" style=\"padding: 20px; border-radius: 10px\">\n",
    "<b>Комментарий ревьюера ❌</b>\n",
    "\n",
    "Так выделены критические замечания. Без их отработки я не смогу принять проект. </div>\n",
    "\n",
    "<div class=\"alert-warning\" style=\"padding: 20px; border-radius: 10px\">\n",
    "<b>  Комментарий ревьюера ⚠️</b>\n",
    "\n",
    "Так выделены небольшие замечания или полезные советы. Постарайся учесть их.</div>\n",
    "<p>\n",
    "<div class=\"alert-success\" style=\"padding: 20px; border-radius: 10px\">\n",
    "<b>Комментарий ревьюера ✔️</b>\n",
    "\n",
    "Так выделены правильные решения.</div>\n",
    "\n",
    "Предлагаю работать в диалоге: если что-то дорабатываешь или отвечаешь на мой комментарий - пиши об этом. Мне будет удобней, если ты выделишь свои комментарии:\n",
    "<p>\n",
    "<div class=\"alert-info\" style=\"padding: 20px; border-radius: 10px\">\n",
    "<b>Комментарий студента 💎</b>\n",
    "\n",
    "Здесь исправил.</div>\n",
    "\n",
    "Все это поможет мне быстрее принять твой проект.</div>"
   ]
  },
  {
   "cell_type": "markdown",
   "id": "0b951332",
   "metadata": {},
   "source": [
    "<div class=\"alert-info\" style=\"padding: 20px; border-radius: 10px\">\n",
    "<b>Комментарий студента 💎</b>\n",
    "\n",
    "Написать свой комментарий можно, скопировав этот блок в ячейку Markdown.</div>"
   ]
  },
  {
   "cell_type": "markdown",
   "id": "386f2ae7",
   "metadata": {
    "deletable": false,
    "editable": false,
    "id": "386f2ae7"
   },
   "source": [
    "# Исследование надежности заемщиков\n"
   ]
  },
  {
   "cell_type": "markdown",
   "id": "ffe86f65",
   "metadata": {
    "deletable": false,
    "editable": false,
    "id": "ffe86f65"
   },
   "source": [
    "Во второй части проекта вы выполните шаги 3 и 4. Их вручную проверит ревьюер.\n",
    "Чтобы вам не пришлось писать код заново для шагов 1 и 2, мы добавили авторские решения в ячейки с кодом. \n",
    "\n"
   ]
  },
  {
   "cell_type": "markdown",
   "id": "e2889ee1",
   "metadata": {},
   "source": [
    "<div class=\"alert-warning\" style=\"padding: 20px; border-radius: 10px\">\n",
    "<b>Комментарий ревьюера ⚠️</b>\n",
    "\n",
    "Несмотря на то, что первая часть этого проекта проверяется автоматизрованно, дам по ней пару советов - они пригодятся тебе в следующих проектах. \n",
    "\n",
    "**Их отработка сейчас необязательна**.\n",
    "\n",
    "📌 После названия, обязательно нужно добавлять бриф, цели исследования, описание данных и план работы.</div>"
   ]
  },
  {
   "cell_type": "markdown",
   "id": "26613308",
   "metadata": {
    "deletable": false,
    "editable": false,
    "id": "26613308"
   },
   "source": [
    "## Откройте таблицу и изучите общую информацию о данных"
   ]
  },
  {
   "cell_type": "markdown",
   "id": "3c9f838e",
   "metadata": {
    "deletable": false,
    "editable": false,
    "id": "3c9f838e"
   },
   "source": [
    "**Задание 1. Импортируйте библиотеку pandas. Считайте данные из csv-файла в датафрейм и сохраните в переменную `data`. Путь к файлу:**\n",
    "\n",
    "`/datasets/data.csv`"
   ]
  },
  {
   "cell_type": "code",
   "execution_count": 1,
   "id": "77a68a90",
   "metadata": {
    "deletable": false,
    "id": "77a68a90"
   },
   "outputs": [],
   "source": [
    "import pandas as pd\n",
    "\n",
    "try:\n",
    "    data = pd.read_csv('/datasets/data.csv')\n",
    "except:\n",
    "    data = pd.read_csv('https://code.s3.yandex.net/datasets/data.csv')"
   ]
  },
  {
   "cell_type": "markdown",
   "id": "45365635",
   "metadata": {
    "deletable": false,
    "editable": false,
    "id": "45365635"
   },
   "source": [
    "**Задание 2. Выведите первые 20 строчек датафрейма `data` на экран.**"
   ]
  },
  {
   "cell_type": "code",
   "execution_count": 2,
   "id": "b0451a9a",
   "metadata": {
    "deletable": false,
    "id": "b0451a9a",
    "outputId": "1a8f3ef2-d323-4ec2-ddf7-89670b5944c4"
   },
   "outputs": [
    {
     "data": {
      "text/html": [
       "<div>\n",
       "<style scoped>\n",
       "    .dataframe tbody tr th:only-of-type {\n",
       "        vertical-align: middle;\n",
       "    }\n",
       "\n",
       "    .dataframe tbody tr th {\n",
       "        vertical-align: top;\n",
       "    }\n",
       "\n",
       "    .dataframe thead th {\n",
       "        text-align: right;\n",
       "    }\n",
       "</style>\n",
       "<table border=\"1\" class=\"dataframe\">\n",
       "  <thead>\n",
       "    <tr style=\"text-align: right;\">\n",
       "      <th></th>\n",
       "      <th>children</th>\n",
       "      <th>days_employed</th>\n",
       "      <th>dob_years</th>\n",
       "      <th>education</th>\n",
       "      <th>education_id</th>\n",
       "      <th>family_status</th>\n",
       "      <th>family_status_id</th>\n",
       "      <th>gender</th>\n",
       "      <th>income_type</th>\n",
       "      <th>debt</th>\n",
       "      <th>total_income</th>\n",
       "      <th>purpose</th>\n",
       "    </tr>\n",
       "  </thead>\n",
       "  <tbody>\n",
       "    <tr>\n",
       "      <th>0</th>\n",
       "      <td>1</td>\n",
       "      <td>-8437.673028</td>\n",
       "      <td>42</td>\n",
       "      <td>высшее</td>\n",
       "      <td>0</td>\n",
       "      <td>женат / замужем</td>\n",
       "      <td>0</td>\n",
       "      <td>F</td>\n",
       "      <td>сотрудник</td>\n",
       "      <td>0</td>\n",
       "      <td>253875.639453</td>\n",
       "      <td>покупка жилья</td>\n",
       "    </tr>\n",
       "    <tr>\n",
       "      <th>1</th>\n",
       "      <td>1</td>\n",
       "      <td>-4024.803754</td>\n",
       "      <td>36</td>\n",
       "      <td>среднее</td>\n",
       "      <td>1</td>\n",
       "      <td>женат / замужем</td>\n",
       "      <td>0</td>\n",
       "      <td>F</td>\n",
       "      <td>сотрудник</td>\n",
       "      <td>0</td>\n",
       "      <td>112080.014102</td>\n",
       "      <td>приобретение автомобиля</td>\n",
       "    </tr>\n",
       "    <tr>\n",
       "      <th>2</th>\n",
       "      <td>0</td>\n",
       "      <td>-5623.422610</td>\n",
       "      <td>33</td>\n",
       "      <td>Среднее</td>\n",
       "      <td>1</td>\n",
       "      <td>женат / замужем</td>\n",
       "      <td>0</td>\n",
       "      <td>M</td>\n",
       "      <td>сотрудник</td>\n",
       "      <td>0</td>\n",
       "      <td>145885.952297</td>\n",
       "      <td>покупка жилья</td>\n",
       "    </tr>\n",
       "    <tr>\n",
       "      <th>3</th>\n",
       "      <td>3</td>\n",
       "      <td>-4124.747207</td>\n",
       "      <td>32</td>\n",
       "      <td>среднее</td>\n",
       "      <td>1</td>\n",
       "      <td>женат / замужем</td>\n",
       "      <td>0</td>\n",
       "      <td>M</td>\n",
       "      <td>сотрудник</td>\n",
       "      <td>0</td>\n",
       "      <td>267628.550329</td>\n",
       "      <td>дополнительное образование</td>\n",
       "    </tr>\n",
       "    <tr>\n",
       "      <th>4</th>\n",
       "      <td>0</td>\n",
       "      <td>340266.072047</td>\n",
       "      <td>53</td>\n",
       "      <td>среднее</td>\n",
       "      <td>1</td>\n",
       "      <td>гражданский брак</td>\n",
       "      <td>1</td>\n",
       "      <td>F</td>\n",
       "      <td>пенсионер</td>\n",
       "      <td>0</td>\n",
       "      <td>158616.077870</td>\n",
       "      <td>сыграть свадьбу</td>\n",
       "    </tr>\n",
       "    <tr>\n",
       "      <th>5</th>\n",
       "      <td>0</td>\n",
       "      <td>-926.185831</td>\n",
       "      <td>27</td>\n",
       "      <td>высшее</td>\n",
       "      <td>0</td>\n",
       "      <td>гражданский брак</td>\n",
       "      <td>1</td>\n",
       "      <td>M</td>\n",
       "      <td>компаньон</td>\n",
       "      <td>0</td>\n",
       "      <td>255763.565419</td>\n",
       "      <td>покупка жилья</td>\n",
       "    </tr>\n",
       "    <tr>\n",
       "      <th>6</th>\n",
       "      <td>0</td>\n",
       "      <td>-2879.202052</td>\n",
       "      <td>43</td>\n",
       "      <td>высшее</td>\n",
       "      <td>0</td>\n",
       "      <td>женат / замужем</td>\n",
       "      <td>0</td>\n",
       "      <td>F</td>\n",
       "      <td>компаньон</td>\n",
       "      <td>0</td>\n",
       "      <td>240525.971920</td>\n",
       "      <td>операции с жильем</td>\n",
       "    </tr>\n",
       "    <tr>\n",
       "      <th>7</th>\n",
       "      <td>0</td>\n",
       "      <td>-152.779569</td>\n",
       "      <td>50</td>\n",
       "      <td>СРЕДНЕЕ</td>\n",
       "      <td>1</td>\n",
       "      <td>женат / замужем</td>\n",
       "      <td>0</td>\n",
       "      <td>M</td>\n",
       "      <td>сотрудник</td>\n",
       "      <td>0</td>\n",
       "      <td>135823.934197</td>\n",
       "      <td>образование</td>\n",
       "    </tr>\n",
       "    <tr>\n",
       "      <th>8</th>\n",
       "      <td>2</td>\n",
       "      <td>-6929.865299</td>\n",
       "      <td>35</td>\n",
       "      <td>ВЫСШЕЕ</td>\n",
       "      <td>0</td>\n",
       "      <td>гражданский брак</td>\n",
       "      <td>1</td>\n",
       "      <td>F</td>\n",
       "      <td>сотрудник</td>\n",
       "      <td>0</td>\n",
       "      <td>95856.832424</td>\n",
       "      <td>на проведение свадьбы</td>\n",
       "    </tr>\n",
       "    <tr>\n",
       "      <th>9</th>\n",
       "      <td>0</td>\n",
       "      <td>-2188.756445</td>\n",
       "      <td>41</td>\n",
       "      <td>среднее</td>\n",
       "      <td>1</td>\n",
       "      <td>женат / замужем</td>\n",
       "      <td>0</td>\n",
       "      <td>M</td>\n",
       "      <td>сотрудник</td>\n",
       "      <td>0</td>\n",
       "      <td>144425.938277</td>\n",
       "      <td>покупка жилья для семьи</td>\n",
       "    </tr>\n",
       "    <tr>\n",
       "      <th>10</th>\n",
       "      <td>2</td>\n",
       "      <td>-4171.483647</td>\n",
       "      <td>36</td>\n",
       "      <td>высшее</td>\n",
       "      <td>0</td>\n",
       "      <td>женат / замужем</td>\n",
       "      <td>0</td>\n",
       "      <td>M</td>\n",
       "      <td>компаньон</td>\n",
       "      <td>0</td>\n",
       "      <td>113943.491460</td>\n",
       "      <td>покупка недвижимости</td>\n",
       "    </tr>\n",
       "    <tr>\n",
       "      <th>11</th>\n",
       "      <td>0</td>\n",
       "      <td>-792.701887</td>\n",
       "      <td>40</td>\n",
       "      <td>среднее</td>\n",
       "      <td>1</td>\n",
       "      <td>женат / замужем</td>\n",
       "      <td>0</td>\n",
       "      <td>F</td>\n",
       "      <td>сотрудник</td>\n",
       "      <td>0</td>\n",
       "      <td>77069.234271</td>\n",
       "      <td>покупка коммерческой недвижимости</td>\n",
       "    </tr>\n",
       "    <tr>\n",
       "      <th>12</th>\n",
       "      <td>0</td>\n",
       "      <td>NaN</td>\n",
       "      <td>65</td>\n",
       "      <td>среднее</td>\n",
       "      <td>1</td>\n",
       "      <td>гражданский брак</td>\n",
       "      <td>1</td>\n",
       "      <td>M</td>\n",
       "      <td>пенсионер</td>\n",
       "      <td>0</td>\n",
       "      <td>NaN</td>\n",
       "      <td>сыграть свадьбу</td>\n",
       "    </tr>\n",
       "    <tr>\n",
       "      <th>13</th>\n",
       "      <td>0</td>\n",
       "      <td>-1846.641941</td>\n",
       "      <td>54</td>\n",
       "      <td>неоконченное высшее</td>\n",
       "      <td>2</td>\n",
       "      <td>женат / замужем</td>\n",
       "      <td>0</td>\n",
       "      <td>F</td>\n",
       "      <td>сотрудник</td>\n",
       "      <td>0</td>\n",
       "      <td>130458.228857</td>\n",
       "      <td>приобретение автомобиля</td>\n",
       "    </tr>\n",
       "    <tr>\n",
       "      <th>14</th>\n",
       "      <td>0</td>\n",
       "      <td>-1844.956182</td>\n",
       "      <td>56</td>\n",
       "      <td>высшее</td>\n",
       "      <td>0</td>\n",
       "      <td>гражданский брак</td>\n",
       "      <td>1</td>\n",
       "      <td>F</td>\n",
       "      <td>компаньон</td>\n",
       "      <td>1</td>\n",
       "      <td>165127.911772</td>\n",
       "      <td>покупка жилой недвижимости</td>\n",
       "    </tr>\n",
       "    <tr>\n",
       "      <th>15</th>\n",
       "      <td>1</td>\n",
       "      <td>-972.364419</td>\n",
       "      <td>26</td>\n",
       "      <td>среднее</td>\n",
       "      <td>1</td>\n",
       "      <td>женат / замужем</td>\n",
       "      <td>0</td>\n",
       "      <td>F</td>\n",
       "      <td>сотрудник</td>\n",
       "      <td>0</td>\n",
       "      <td>116820.904450</td>\n",
       "      <td>строительство собственной недвижимости</td>\n",
       "    </tr>\n",
       "    <tr>\n",
       "      <th>16</th>\n",
       "      <td>0</td>\n",
       "      <td>-1719.934226</td>\n",
       "      <td>35</td>\n",
       "      <td>среднее</td>\n",
       "      <td>1</td>\n",
       "      <td>женат / замужем</td>\n",
       "      <td>0</td>\n",
       "      <td>F</td>\n",
       "      <td>сотрудник</td>\n",
       "      <td>0</td>\n",
       "      <td>289202.704229</td>\n",
       "      <td>недвижимость</td>\n",
       "    </tr>\n",
       "    <tr>\n",
       "      <th>17</th>\n",
       "      <td>0</td>\n",
       "      <td>-2369.999720</td>\n",
       "      <td>33</td>\n",
       "      <td>высшее</td>\n",
       "      <td>0</td>\n",
       "      <td>гражданский брак</td>\n",
       "      <td>1</td>\n",
       "      <td>M</td>\n",
       "      <td>сотрудник</td>\n",
       "      <td>0</td>\n",
       "      <td>90410.586745</td>\n",
       "      <td>строительство недвижимости</td>\n",
       "    </tr>\n",
       "    <tr>\n",
       "      <th>18</th>\n",
       "      <td>0</td>\n",
       "      <td>400281.136913</td>\n",
       "      <td>53</td>\n",
       "      <td>среднее</td>\n",
       "      <td>1</td>\n",
       "      <td>вдовец / вдова</td>\n",
       "      <td>2</td>\n",
       "      <td>F</td>\n",
       "      <td>пенсионер</td>\n",
       "      <td>0</td>\n",
       "      <td>56823.777243</td>\n",
       "      <td>на покупку подержанного автомобиля</td>\n",
       "    </tr>\n",
       "    <tr>\n",
       "      <th>19</th>\n",
       "      <td>0</td>\n",
       "      <td>-10038.818549</td>\n",
       "      <td>48</td>\n",
       "      <td>СРЕДНЕЕ</td>\n",
       "      <td>1</td>\n",
       "      <td>в разводе</td>\n",
       "      <td>3</td>\n",
       "      <td>F</td>\n",
       "      <td>сотрудник</td>\n",
       "      <td>0</td>\n",
       "      <td>242831.107982</td>\n",
       "      <td>на покупку своего автомобиля</td>\n",
       "    </tr>\n",
       "  </tbody>\n",
       "</table>\n",
       "</div>"
      ],
      "text/plain": [
       "    children  days_employed  dob_years            education  education_id  \\\n",
       "0          1   -8437.673028         42               высшее             0   \n",
       "1          1   -4024.803754         36              среднее             1   \n",
       "2          0   -5623.422610         33              Среднее             1   \n",
       "3          3   -4124.747207         32              среднее             1   \n",
       "4          0  340266.072047         53              среднее             1   \n",
       "5          0    -926.185831         27               высшее             0   \n",
       "6          0   -2879.202052         43               высшее             0   \n",
       "7          0    -152.779569         50              СРЕДНЕЕ             1   \n",
       "8          2   -6929.865299         35               ВЫСШЕЕ             0   \n",
       "9          0   -2188.756445         41              среднее             1   \n",
       "10         2   -4171.483647         36               высшее             0   \n",
       "11         0    -792.701887         40              среднее             1   \n",
       "12         0            NaN         65              среднее             1   \n",
       "13         0   -1846.641941         54  неоконченное высшее             2   \n",
       "14         0   -1844.956182         56               высшее             0   \n",
       "15         1    -972.364419         26              среднее             1   \n",
       "16         0   -1719.934226         35              среднее             1   \n",
       "17         0   -2369.999720         33               высшее             0   \n",
       "18         0  400281.136913         53              среднее             1   \n",
       "19         0  -10038.818549         48              СРЕДНЕЕ             1   \n",
       "\n",
       "       family_status  family_status_id gender income_type  debt  \\\n",
       "0    женат / замужем                 0      F   сотрудник     0   \n",
       "1    женат / замужем                 0      F   сотрудник     0   \n",
       "2    женат / замужем                 0      M   сотрудник     0   \n",
       "3    женат / замужем                 0      M   сотрудник     0   \n",
       "4   гражданский брак                 1      F   пенсионер     0   \n",
       "5   гражданский брак                 1      M   компаньон     0   \n",
       "6    женат / замужем                 0      F   компаньон     0   \n",
       "7    женат / замужем                 0      M   сотрудник     0   \n",
       "8   гражданский брак                 1      F   сотрудник     0   \n",
       "9    женат / замужем                 0      M   сотрудник     0   \n",
       "10   женат / замужем                 0      M   компаньон     0   \n",
       "11   женат / замужем                 0      F   сотрудник     0   \n",
       "12  гражданский брак                 1      M   пенсионер     0   \n",
       "13   женат / замужем                 0      F   сотрудник     0   \n",
       "14  гражданский брак                 1      F   компаньон     1   \n",
       "15   женат / замужем                 0      F   сотрудник     0   \n",
       "16   женат / замужем                 0      F   сотрудник     0   \n",
       "17  гражданский брак                 1      M   сотрудник     0   \n",
       "18    вдовец / вдова                 2      F   пенсионер     0   \n",
       "19         в разводе                 3      F   сотрудник     0   \n",
       "\n",
       "     total_income                                 purpose  \n",
       "0   253875.639453                           покупка жилья  \n",
       "1   112080.014102                 приобретение автомобиля  \n",
       "2   145885.952297                           покупка жилья  \n",
       "3   267628.550329              дополнительное образование  \n",
       "4   158616.077870                         сыграть свадьбу  \n",
       "5   255763.565419                           покупка жилья  \n",
       "6   240525.971920                       операции с жильем  \n",
       "7   135823.934197                             образование  \n",
       "8    95856.832424                   на проведение свадьбы  \n",
       "9   144425.938277                 покупка жилья для семьи  \n",
       "10  113943.491460                    покупка недвижимости  \n",
       "11   77069.234271       покупка коммерческой недвижимости  \n",
       "12            NaN                         сыграть свадьбу  \n",
       "13  130458.228857                 приобретение автомобиля  \n",
       "14  165127.911772              покупка жилой недвижимости  \n",
       "15  116820.904450  строительство собственной недвижимости  \n",
       "16  289202.704229                            недвижимость  \n",
       "17   90410.586745              строительство недвижимости  \n",
       "18   56823.777243      на покупку подержанного автомобиля  \n",
       "19  242831.107982            на покупку своего автомобиля  "
      ]
     },
     "execution_count": 2,
     "metadata": {},
     "output_type": "execute_result"
    }
   ],
   "source": [
    "data.head(20)"
   ]
  },
  {
   "cell_type": "markdown",
   "id": "0ed8f27f",
   "metadata": {
    "deletable": false,
    "editable": false,
    "id": "0ed8f27f"
   },
   "source": [
    "**Задание 3. Выведите основную информацию о датафрейме с помощью метода `info()`.**"
   ]
  },
  {
   "cell_type": "code",
   "execution_count": 3,
   "id": "ab3f863b",
   "metadata": {
    "deletable": false,
    "id": "ab3f863b",
    "outputId": "15376089-8dad-46c9-b520-c05248d43158"
   },
   "outputs": [
    {
     "name": "stdout",
     "output_type": "stream",
     "text": [
      "<class 'pandas.core.frame.DataFrame'>\n",
      "RangeIndex: 21525 entries, 0 to 21524\n",
      "Data columns (total 12 columns):\n",
      " #   Column            Non-Null Count  Dtype  \n",
      "---  ------            --------------  -----  \n",
      " 0   children          21525 non-null  int64  \n",
      " 1   days_employed     19351 non-null  float64\n",
      " 2   dob_years         21525 non-null  int64  \n",
      " 3   education         21525 non-null  object \n",
      " 4   education_id      21525 non-null  int64  \n",
      " 5   family_status     21525 non-null  object \n",
      " 6   family_status_id  21525 non-null  int64  \n",
      " 7   gender            21525 non-null  object \n",
      " 8   income_type       21525 non-null  object \n",
      " 9   debt              21525 non-null  int64  \n",
      " 10  total_income      19351 non-null  float64\n",
      " 11  purpose           21525 non-null  object \n",
      "dtypes: float64(2), int64(5), object(5)\n",
      "memory usage: 2.0+ MB\n"
     ]
    }
   ],
   "source": [
    "data.info()"
   ]
  },
  {
   "cell_type": "markdown",
   "id": "c9884dce",
   "metadata": {},
   "source": [
    "<div class=\"alert-warning\" style=\"padding: 20px; border-radius: 10px\">\n",
    "<b>Комментарий ревьюера ⚠️</b>\n",
    "\n",
    "📌 Каждый раздел работы стоит завершать кратким выводом, о том что было сделано и какие результаты получены.\n",
    "\n",
    "Как правильно оформить проект ты можешь прочитать в материалах курса:\n",
    "\n",
    "`Полезные инструкции для учёбы - Оформление проекта - Рекомендации по выполнению проектов`\n",
    "</div>"
   ]
  },
  {
   "cell_type": "markdown",
   "id": "60e3e22d",
   "metadata": {
    "deletable": false,
    "editable": false,
    "id": "60e3e22d"
   },
   "source": [
    "## Предобработка данных"
   ]
  },
  {
   "cell_type": "markdown",
   "id": "03dc170c",
   "metadata": {
    "deletable": false,
    "editable": false,
    "id": "03dc170c"
   },
   "source": [
    "### Удаление пропусков"
   ]
  },
  {
   "cell_type": "markdown",
   "id": "a4f54eef",
   "metadata": {
    "deletable": false,
    "editable": false,
    "id": "a4f54eef"
   },
   "source": [
    "**Задание 4. Выведите количество пропущенных значений для каждого столбца. Используйте комбинацию двух методов.**"
   ]
  },
  {
   "cell_type": "code",
   "execution_count": 4,
   "id": "2dc372b2",
   "metadata": {
    "deletable": false,
    "id": "2dc372b2",
    "outputId": "81f4d817-781c-465c-ed15-91ce4446810d"
   },
   "outputs": [
    {
     "data": {
      "text/plain": [
       "children               0\n",
       "days_employed       2174\n",
       "dob_years              0\n",
       "education              0\n",
       "education_id           0\n",
       "family_status          0\n",
       "family_status_id       0\n",
       "gender                 0\n",
       "income_type            0\n",
       "debt                   0\n",
       "total_income        2174\n",
       "purpose                0\n",
       "dtype: int64"
      ]
     },
     "execution_count": 4,
     "metadata": {},
     "output_type": "execute_result"
    }
   ],
   "source": [
    "data.isna().sum()"
   ]
  },
  {
   "cell_type": "markdown",
   "id": "14f011b1",
   "metadata": {
    "deletable": false,
    "editable": false,
    "id": "14f011b1"
   },
   "source": [
    "**Задание 5. В двух столбцах есть пропущенные значения. Один из них — `days_employed`. Пропуски в этом столбце вы обработаете на следующем этапе. Другой столбец с пропущенными значениями — `total_income` — хранит данные о доходах. На сумму дохода сильнее всего влияет тип занятости, поэтому заполнить пропуски в этом столбце нужно медианным значением по каждому типу из столбца `income_type`. Например, у человека с типом занятости `сотрудник` пропуск в столбце `total_income` должен быть заполнен медианным доходом среди всех записей с тем же типом.**"
   ]
  },
  {
   "cell_type": "code",
   "execution_count": 5,
   "id": "bdabfb6e",
   "metadata": {
    "deletable": false,
    "id": "bdabfb6e"
   },
   "outputs": [],
   "source": [
    "for t in data['income_type'].unique():\n",
    "    data.loc[(data['income_type'] == t) & (data['total_income'].isna()), 'total_income'] = \\\n",
    "    data.loc[(data['income_type'] == t), 'total_income'].median()"
   ]
  },
  {
   "cell_type": "markdown",
   "id": "5be34059",
   "metadata": {
    "deletable": false,
    "editable": false,
    "id": "5be34059"
   },
   "source": [
    "### Обработка аномальных значений"
   ]
  },
  {
   "cell_type": "markdown",
   "id": "a87606cb",
   "metadata": {
    "deletable": false,
    "editable": false,
    "id": "a87606cb"
   },
   "source": [
    "**Задание 6. В данных могут встречаться артефакты (аномалии) — значения, которые не отражают действительность и появились по какой-то ошибке. таким артефактом будет отрицательное количество дней трудового стажа в столбце `days_employed`. Для реальных данных это нормально. Обработайте значения в этом столбце: замените все отрицательные значения положительными с помощью метода `abs()`.**"
   ]
  },
  {
   "cell_type": "code",
   "execution_count": 6,
   "id": "020c46cc",
   "metadata": {
    "deletable": false,
    "id": "020c46cc"
   },
   "outputs": [],
   "source": [
    "data['days_employed'] = data['days_employed'].abs()"
   ]
  },
  {
   "cell_type": "markdown",
   "id": "45538a3a",
   "metadata": {
    "deletable": false,
    "editable": false,
    "id": "45538a3a"
   },
   "source": [
    "**Задание 7. Для каждого типа занятости выведите медианное значение трудового стажа `days_employed` в днях.**"
   ]
  },
  {
   "cell_type": "code",
   "execution_count": 7,
   "id": "cd3e6328",
   "metadata": {
    "deletable": false,
    "id": "cd3e6328",
    "outputId": "801ef80e-522b-4668-f34e-565af7432bcf"
   },
   "outputs": [
    {
     "data": {
      "text/plain": [
       "income_type\n",
       "безработный        366413.652744\n",
       "в декрете            3296.759962\n",
       "госслужащий          2689.368353\n",
       "компаньон            1547.382223\n",
       "пенсионер          365213.306266\n",
       "предприниматель       520.848083\n",
       "сотрудник            1574.202821\n",
       "студент               578.751554\n",
       "Name: days_employed, dtype: float64"
      ]
     },
     "execution_count": 7,
     "metadata": {},
     "output_type": "execute_result"
    }
   ],
   "source": [
    "#days_employed_med = data.groupby('income_type')['days_employed'].median()\n",
    "data.groupby('income_type')['days_employed'].agg('median')"
   ]
  },
  {
   "cell_type": "markdown",
   "id": "90c5f058",
   "metadata": {
    "deletable": false,
    "editable": false,
    "id": "90c5f058"
   },
   "source": [
    "У двух типов (безработные и пенсионеры) получатся аномально большие значения. Исправить такие значения сложно, поэтому оставьте их как есть."
   ]
  },
  {
   "cell_type": "markdown",
   "id": "9652e50d",
   "metadata": {
    "deletable": false,
    "editable": false,
    "id": "9652e50d"
   },
   "source": [
    "**Задание 8. Выведите перечень уникальных значений столбца `children`.**"
   ]
  },
  {
   "cell_type": "code",
   "execution_count": 8,
   "id": "dbb37b8e",
   "metadata": {
    "deletable": false,
    "id": "dbb37b8e",
    "outputId": "6975b15c-7f95-4697-d16d-a0c79b657b03"
   },
   "outputs": [
    {
     "data": {
      "text/plain": [
       "array([ 1,  0,  3,  2, -1,  4, 20,  5])"
      ]
     },
     "execution_count": 8,
     "metadata": {},
     "output_type": "execute_result"
    }
   ],
   "source": [
    "data['children'].unique()"
   ]
  },
  {
   "cell_type": "markdown",
   "id": "2b8b0715",
   "metadata": {
    "deletable": false,
    "editable": false,
    "id": "2b8b0715"
   },
   "source": [
    "**Задание 9. В столбце `children` есть два аномальных значения. Удалите строки, в которых встречаются такие аномальные значения из датафрейма `data`.**"
   ]
  },
  {
   "cell_type": "code",
   "execution_count": 9,
   "id": "20009df8",
   "metadata": {
    "deletable": false,
    "id": "20009df8"
   },
   "outputs": [],
   "source": [
    "data = data[(data['children'] != -1) & (data['children'] != 20)]"
   ]
  },
  {
   "cell_type": "markdown",
   "id": "8c6ac9f1",
   "metadata": {
    "deletable": false,
    "editable": false,
    "id": "8c6ac9f1"
   },
   "source": [
    "**Задание 10. Ещё раз выведите перечень уникальных значений столбца `children`, чтобы убедиться, что артефакты удалены.**"
   ]
  },
  {
   "cell_type": "code",
   "execution_count": 10,
   "id": "07337b81",
   "metadata": {
    "deletable": false,
    "id": "07337b81",
    "outputId": "b2097101-d49d-44d9-901b-32a65c9463d1"
   },
   "outputs": [
    {
     "data": {
      "text/plain": [
       "array([1, 0, 3, 2, 4, 5])"
      ]
     },
     "execution_count": 10,
     "metadata": {},
     "output_type": "execute_result"
    }
   ],
   "source": [
    "data['children'].unique()"
   ]
  },
  {
   "cell_type": "markdown",
   "id": "ee3f52d4",
   "metadata": {
    "deletable": false,
    "editable": false,
    "id": "ee3f52d4"
   },
   "source": [
    "### Удаление пропусков (продолжение)"
   ]
  },
  {
   "cell_type": "markdown",
   "id": "a700b0e4",
   "metadata": {
    "deletable": false,
    "editable": false,
    "id": "a700b0e4"
   },
   "source": [
    "**Задание 11. Заполните пропуски в столбце `days_employed` медианными значениями по каждого типа занятости `income_type`.**"
   ]
  },
  {
   "cell_type": "code",
   "execution_count": 11,
   "id": "61946b83",
   "metadata": {
    "deletable": false,
    "id": "61946b83"
   },
   "outputs": [],
   "source": [
    "for t in data['income_type'].unique():\n",
    "    data.loc[(data['income_type'] == t) & (data['days_employed'].isna()), 'days_employed'] = \\\n",
    "    data.loc[(data['income_type'] == t), 'days_employed'].median()"
   ]
  },
  {
   "cell_type": "markdown",
   "id": "550dcd9b",
   "metadata": {
    "deletable": false,
    "editable": false,
    "id": "550dcd9b"
   },
   "source": [
    "**Задание 12. Убедитесь, что все пропуски заполнены. Проверьте себя и ещё раз выведите количество пропущенных значений для каждого столбца с помощью двух методов.**"
   ]
  },
  {
   "cell_type": "code",
   "execution_count": 12,
   "id": "937c7014",
   "metadata": {
    "deletable": false,
    "id": "937c7014",
    "outputId": "8da1e4e1-358e-4e87-98c9-f261bce0a7b2"
   },
   "outputs": [
    {
     "data": {
      "text/plain": [
       "children            0\n",
       "days_employed       0\n",
       "dob_years           0\n",
       "education           0\n",
       "education_id        0\n",
       "family_status       0\n",
       "family_status_id    0\n",
       "gender              0\n",
       "income_type         0\n",
       "debt                0\n",
       "total_income        0\n",
       "purpose             0\n",
       "dtype: int64"
      ]
     },
     "execution_count": 12,
     "metadata": {},
     "output_type": "execute_result"
    }
   ],
   "source": [
    "data.isna().sum()"
   ]
  },
  {
   "cell_type": "markdown",
   "id": "d522e295",
   "metadata": {
    "deletable": false,
    "editable": false,
    "id": "d522e295"
   },
   "source": [
    "### Изменение типов данных"
   ]
  },
  {
   "cell_type": "markdown",
   "id": "c229c581",
   "metadata": {
    "deletable": false,
    "editable": false,
    "id": "c229c581"
   },
   "source": [
    "**Задание 13. Замените вещественный тип данных в столбце `total_income` на целочисленный с помощью метода `astype()`.**"
   ]
  },
  {
   "cell_type": "code",
   "execution_count": 13,
   "id": "31036462",
   "metadata": {
    "deletable": false,
    "id": "31036462"
   },
   "outputs": [],
   "source": [
    "\n",
    "\n",
    "\n",
    "data['total_income'] = data['total_income'].astype(int)"
   ]
  },
  {
   "cell_type": "markdown",
   "id": "b8e3d1d9",
   "metadata": {
    "deletable": false,
    "editable": false,
    "id": "b8e3d1d9"
   },
   "source": [
    "### Обработка дубликатов"
   ]
  },
  {
   "cell_type": "markdown",
   "id": "9be53c49",
   "metadata": {
    "deletable": false,
    "editable": false,
    "id": "9be53c49"
   },
   "source": [
    "**Задание 14. Обработайте неявные дубликаты в столбце `education`. В этом столбце есть одни и те же значения, но записанные по-разному: с использованием заглавных и строчных букв. Приведите их к нижнему регистру.**"
   ]
  },
  {
   "cell_type": "code",
   "execution_count": 14,
   "id": "d89e73e1",
   "metadata": {
    "deletable": false,
    "id": "d89e73e1"
   },
   "outputs": [],
   "source": [
    "data['education'] = data['education'].str.lower()"
   ]
  },
  {
   "cell_type": "markdown",
   "id": "01d4500e",
   "metadata": {
    "deletable": false,
    "editable": false,
    "id": "01d4500e"
   },
   "source": [
    "**Задание 15. Выведите на экран количество строк-дубликатов в данных. Если такие строки присутствуют, удалите их.**"
   ]
  },
  {
   "cell_type": "code",
   "execution_count": 15,
   "id": "e10efb23",
   "metadata": {
    "deletable": false,
    "id": "e10efb23",
    "outputId": "9684deba-1934-42d1-99e1-cda61740f822"
   },
   "outputs": [
    {
     "data": {
      "text/plain": [
       "71"
      ]
     },
     "execution_count": 15,
     "metadata": {},
     "output_type": "execute_result"
    }
   ],
   "source": [
    "data.duplicated().sum()"
   ]
  },
  {
   "cell_type": "code",
   "execution_count": 16,
   "id": "df853f20",
   "metadata": {
    "deletable": false,
    "id": "df853f20"
   },
   "outputs": [],
   "source": [
    "data = data.drop_duplicates()"
   ]
  },
  {
   "cell_type": "markdown",
   "id": "627be38f",
   "metadata": {
    "deletable": false,
    "editable": false,
    "id": "627be38f"
   },
   "source": [
    "### Категоризация данных"
   ]
  },
  {
   "cell_type": "markdown",
   "id": "4684c3e0",
   "metadata": {
    "deletable": false,
    "editable": false,
    "id": "4684c3e0"
   },
   "source": [
    "**Задание 16. На основании диапазонов, указанных ниже, создайте в датафрейме `data` столбец `total_income_category` с категориями:**\n",
    "\n",
    "- 0–30000 — `'E'`;\n",
    "- 30001–50000 — `'D'`;\n",
    "- 50001–200000 — `'C'`;\n",
    "- 200001–1000000 — `'B'`;\n",
    "- 1000001 и выше — `'A'`.\n",
    "\n",
    "\n",
    "**Например, кредитополучателю с доходом 25000 нужно назначить категорию `'E'`, а клиенту, получающему 235000, — `'B'`. Используйте собственную функцию с именем `categorize_income()` и метод `apply()`.**"
   ]
  },
  {
   "cell_type": "code",
   "execution_count": 17,
   "id": "78965238",
   "metadata": {
    "deletable": false,
    "id": "78965238"
   },
   "outputs": [],
   "source": [
    "def categorize_income(income):\n",
    "    try:\n",
    "        if 0 <= income <= 30000:\n",
    "            return 'E'\n",
    "        elif 30001 <= income <= 50000:\n",
    "            return 'D'\n",
    "        elif 50001 <= income <= 200000:\n",
    "            return 'C'\n",
    "        elif 200001 <= income <= 1000000:\n",
    "            return 'B'\n",
    "        elif income >= 1000001:\n",
    "            return 'A'\n",
    "    except:\n",
    "        pass"
   ]
  },
  {
   "cell_type": "code",
   "execution_count": 18,
   "id": "0980ada1",
   "metadata": {
    "deletable": false,
    "id": "0980ada1"
   },
   "outputs": [],
   "source": [
    "data['total_income_category'] = data['total_income'].apply(categorize_income)"
   ]
  },
  {
   "cell_type": "markdown",
   "id": "9917bba0",
   "metadata": {
    "deletable": false,
    "editable": false,
    "id": "9917bba0"
   },
   "source": [
    "**Задание 17. Выведите на экран перечень уникальных целей взятия кредита из столбца `purpose`.**"
   ]
  },
  {
   "cell_type": "code",
   "execution_count": 19,
   "id": "ee07b65e",
   "metadata": {
    "deletable": false,
    "id": "ee07b65e",
    "outputId": "673c12d9-7d7e-4ae0-9812-c622c89dd244"
   },
   "outputs": [
    {
     "data": {
      "text/plain": [
       "array(['покупка жилья', 'приобретение автомобиля',\n",
       "       'дополнительное образование', 'сыграть свадьбу',\n",
       "       'операции с жильем', 'образование', 'на проведение свадьбы',\n",
       "       'покупка жилья для семьи', 'покупка недвижимости',\n",
       "       'покупка коммерческой недвижимости', 'покупка жилой недвижимости',\n",
       "       'строительство собственной недвижимости', 'недвижимость',\n",
       "       'строительство недвижимости', 'на покупку подержанного автомобиля',\n",
       "       'на покупку своего автомобиля',\n",
       "       'операции с коммерческой недвижимостью',\n",
       "       'строительство жилой недвижимости', 'жилье',\n",
       "       'операции со своей недвижимостью', 'автомобили',\n",
       "       'заняться образованием', 'сделка с подержанным автомобилем',\n",
       "       'получение образования', 'автомобиль', 'свадьба',\n",
       "       'получение дополнительного образования', 'покупка своего жилья',\n",
       "       'операции с недвижимостью', 'получение высшего образования',\n",
       "       'свой автомобиль', 'сделка с автомобилем',\n",
       "       'профильное образование', 'высшее образование',\n",
       "       'покупка жилья для сдачи', 'на покупку автомобиля', 'ремонт жилью',\n",
       "       'заняться высшим образованием'], dtype=object)"
      ]
     },
     "execution_count": 19,
     "metadata": {},
     "output_type": "execute_result"
    }
   ],
   "source": [
    "data['purpose'].unique()"
   ]
  },
  {
   "cell_type": "markdown",
   "id": "52b79d56",
   "metadata": {
    "deletable": false,
    "editable": false,
    "id": "52b79d56"
   },
   "source": [
    "**Задание 18. Создайте функцию, которая на основании данных из столбца `purpose` сформирует новый столбец `purpose_category`, в который войдут следующие категории:**\n",
    "\n",
    "- `'операции с автомобилем'`,\n",
    "- `'операции с недвижимостью'`,\n",
    "- `'проведение свадьбы'`,\n",
    "- `'получение образования'`.\n",
    "\n",
    "**Например, если в столбце `purpose` находится подстрока `'на покупку автомобиля'`, то в столбце `purpose_category` должна появиться строка `'операции с автомобилем'`.**\n",
    "\n",
    "**Используйте собственную функцию с именем `categorize_purpose()` и метод `apply()`. Изучите данные в столбце `purpose` и определите, какие подстроки помогут вам правильно определить категорию.**"
   ]
  },
  {
   "cell_type": "code",
   "execution_count": 20,
   "id": "be41da5d",
   "metadata": {
    "deletable": false,
    "id": "be41da5d"
   },
   "outputs": [],
   "source": [
    "def categorize_purpose(row):\n",
    "    try:\n",
    "        if 'автом' in row:\n",
    "            return 'операции с автомобилем'\n",
    "        elif 'жил' in row or 'недвиж' in row:\n",
    "            return 'операции с недвижимостью'\n",
    "        elif 'свад' in row:\n",
    "            return 'проведение свадьбы'\n",
    "        elif 'образов' in row:\n",
    "            return 'получение образования'\n",
    "    except:\n",
    "        return 'нет категории'"
   ]
  },
  {
   "cell_type": "code",
   "execution_count": 21,
   "id": "94c4a19a",
   "metadata": {
    "deletable": false,
    "id": "94c4a19a"
   },
   "outputs": [],
   "source": [
    "data['purpose_category'] = data['purpose'].apply(categorize_purpose)"
   ]
  },
  {
   "cell_type": "markdown",
   "id": "3d596c34",
   "metadata": {
    "deletable": false,
    "editable": false,
    "id": "3d596c34"
   },
   "source": [
    "### Шаг 3. Исследуйте данные и ответьте на вопросы"
   ]
  },
  {
   "cell_type": "markdown",
   "id": "648db036",
   "metadata": {
    "deletable": false,
    "editable": false,
    "id": "648db036"
   },
   "source": [
    "#### 3.1 Есть ли зависимость между количеством детей и возвратом кредита в срок?"
   ]
  },
  {
   "cell_type": "code",
   "execution_count": 22,
   "id": "7fcff25e",
   "metadata": {
    "deletable": false,
    "id": "7fcff25e"
   },
   "outputs": [
    {
     "name": "stdout",
     "output_type": "stream",
     "text": [
      "[1 0 3 2 4 5]\n",
      "[0 1]\n"
     ]
    }
   ],
   "source": [
    "# проверяем значения в столбцах\n",
    "print(data['children'].unique())\n",
    "print(data['debt'].unique())"
   ]
  },
  {
   "cell_type": "code",
   "execution_count": 23,
   "id": "7b193f9d",
   "metadata": {},
   "outputs": [
    {
     "name": "stdout",
     "output_type": "stream",
     "text": [
      " Доля должников среди семей без детей: 7.54 %\n",
      " Доля должников с 1 ребенком: 9.23 %\n",
      " Доля должников среди семей с 2 детьми: 9.45 %\n",
      " Доля должников среди семей с 3 детьми: 8.18 %\n",
      " Доля должников среди семей с 4 детьми: 9.76 %\n",
      " Доля должников среди семей с 5 детьми: 0.00 %\n"
     ]
    }
   ],
   "source": [
    "# посчитаем доли должников в зависимости от количества детей\n",
    "for i in sorted(data['children'].unique()):\n",
    "    people_with_children_i = data.loc[data['children'] == i, 'debt'].count() #сколько человек c количеством детей i\n",
    "    people_with_debt = data.loc[(data['children'] == i) & (data['debt'] == 1), 'debt'].count() #сколько человек с долгами с количеством детей i\n",
    "    percentage = people_with_debt / people_with_children_i * 100\n",
    "    if i == 0:\n",
    "        print(f' Доля должников среди семей без детей: {\"%.2f\" % percentage} %')\n",
    "    elif i == 1:\n",
    "        print(f' Доля должников с {i} ребенком: {\"%.2f\" % percentage} %')\n",
    "    else:\n",
    "        print(f' Доля должников среди семей с {i} детьми: {\"%.2f\" % percentage} %')"
   ]
  },
  {
   "cell_type": "code",
   "execution_count": 24,
   "id": "226585e9",
   "metadata": {},
   "outputs": [
    {
     "name": "stdout",
     "output_type": "stream",
     "text": [
      " Доля должников среди семей без детей: 7.54 %\n",
      " Доля должников с 1 ребенком: 9.23 %\n",
      " Доля должников среди семей с 2 детьми: 9.45 %\n",
      " Доля должников среди семей с 3 детьми: 8.18 %\n",
      " Доля должников среди семей с 4 детьми: 9.76 %\n",
      " Доля должников среди семей с 5 детьми: 0.00 %\n",
      "None\n"
     ]
    }
   ],
   "source": [
    "# Решение через функцию\n",
    "def function(z):\n",
    "    for i in z:\n",
    "        y = data.loc[(data['children'] == i) & (data['debt'] == 1), 'debt'].count()\n",
    "        x = data.loc[data['children'] == i, 'debt'].count()\n",
    "        percentage = y / x * 100\n",
    "        if i == 0:\n",
    "            print(f' Доля должников среди семей без детей: {\"%.2f\" % percentage} %')\n",
    "        elif i == 1:\n",
    "            print(f' Доля должников с {i} ребенком: {\"%.2f\" % percentage} %')\n",
    "        else:\n",
    "            print(f' Доля должников среди семей с {i} детьми: {\"%.2f\" % percentage} %')\n",
    "\n",
    "print(function(sorted(data['children'].unique())))"
   ]
  },
  {
   "cell_type": "code",
   "execution_count": 25,
   "id": "e3ce6168",
   "metadata": {},
   "outputs": [
    {
     "name": "stdout",
     "output_type": "stream",
     "text": [
      "   Количество детей  Количество закредитованных  Количество должников  \\\n",
      "0                 0                       14091                  1063   \n",
      "1                 1                        4808                   444   \n",
      "2                 2                        2052                   194   \n",
      "3                 3                         330                    27   \n",
      "4                 4                          41                     4   \n",
      "5                 5                           9                     0   \n",
      "\n",
      "   Процент должников, %  \n",
      "0              7.543822  \n",
      "1              9.234609  \n",
      "2              9.454191  \n",
      "3              8.181818  \n",
      "4              9.756098  \n",
      "5              0.000000  \n"
     ]
    }
   ],
   "source": [
    "#Исправление замечаний\n",
    "#Расчет через сводную таблицу\n",
    "\n",
    "data_group = data.pivot_table(index=['children'], values='debt', aggfunc=['count', 'sum', 'mean']).reset_index(level=['children'])\n",
    "data_group.columns = ['Количество детей', \"Количество закредитованных\", \"Количество должников\", 'Процент должников, %']\n",
    "data_group['Процент должников, %'] = data_group['Процент должников, %']*100\n",
    "print(data_group)"
   ]
  },
  {
   "cell_type": "markdown",
   "id": "8770e51d",
   "metadata": {},
   "source": [
    "Выборка для людей, имеющих больше 2 детей недостаточна для анализа. Сравниваем только большие группы кредитуемых."
   ]
  },
  {
   "cell_type": "markdown",
   "id": "b2e9b7b5",
   "metadata": {},
   "source": [
    "<div class=\"alert-success\" style=\"border-radius: 10px; padding: 10px\">\n",
    "<b>Комментарий ревьюера V2 ✔️</b>\n",
    "\n",
    "Это правильная сводная таблица со всеми нужными для сравнения категорий данными. 👌</div>"
   ]
  },
  {
   "cell_type": "code",
   "execution_count": 26,
   "id": "59c87b0c",
   "metadata": {},
   "outputs": [
    {
     "data": {
      "text/html": [
       "<div>\n",
       "<style scoped>\n",
       "    .dataframe tbody tr th:only-of-type {\n",
       "        vertical-align: middle;\n",
       "    }\n",
       "\n",
       "    .dataframe tbody tr th {\n",
       "        vertical-align: top;\n",
       "    }\n",
       "\n",
       "    .dataframe thead th {\n",
       "        text-align: right;\n",
       "    }\n",
       "</style>\n",
       "<table border=\"1\" class=\"dataframe\">\n",
       "  <thead>\n",
       "    <tr style=\"text-align: right;\">\n",
       "      <th></th>\n",
       "      <th>Количество детей</th>\n",
       "      <th>Количество закредитованных</th>\n",
       "      <th>Количество должников</th>\n",
       "      <th>Процент должников, %</th>\n",
       "    </tr>\n",
       "  </thead>\n",
       "  <tbody>\n",
       "    <tr>\n",
       "      <th>0</th>\n",
       "      <td>0</td>\n",
       "      <td>14091</td>\n",
       "      <td>1063</td>\n",
       "      <td>7.543822</td>\n",
       "    </tr>\n",
       "    <tr>\n",
       "      <th>1</th>\n",
       "      <td>1</td>\n",
       "      <td>4808</td>\n",
       "      <td>444</td>\n",
       "      <td>9.234609</td>\n",
       "    </tr>\n",
       "    <tr>\n",
       "      <th>2</th>\n",
       "      <td>2</td>\n",
       "      <td>2052</td>\n",
       "      <td>194</td>\n",
       "      <td>9.454191</td>\n",
       "    </tr>\n",
       "  </tbody>\n",
       "</table>\n",
       "</div>"
      ],
      "text/plain": [
       "   Количество детей  Количество закредитованных  Количество должников  \\\n",
       "0                 0                       14091                  1063   \n",
       "1                 1                        4808                   444   \n",
       "2                 2                        2052                   194   \n",
       "\n",
       "   Процент должников, %  \n",
       "0              7.543822  \n",
       "1              9.234609  \n",
       "2              9.454191  "
      ]
     },
     "execution_count": 26,
     "metadata": {},
     "output_type": "execute_result"
    }
   ],
   "source": [
    "data_group.loc[:2]"
   ]
  },
  {
   "cell_type": "markdown",
   "id": "2cd9c7df",
   "metadata": {},
   "source": [
    "<div class=\"alert-info\" style=\"padding: 20px; border-radius: 10px\">\n",
    "<b>Комментарий студента 💎</b>\n",
    "\n",
    "Исправил. Предыдущее решение оставил для истории)</div>"
   ]
  },
  {
   "cell_type": "markdown",
   "id": "2eb9088e",
   "metadata": {
    "deletable": false,
    "id": "2eb9088e"
   },
   "source": [
    "**Вывод:** Предоставленные данные позволяют делать выводы только из групп кредитуемых, у которых меньше 3 детей. Исходя из результатов анализа можно сказать, что с ростом количества детей, семья чаще допускает просрочки по платежам."
   ]
  },
  {
   "cell_type": "markdown",
   "id": "27322fe4",
   "metadata": {},
   "source": [
    "<div class=\"alert-success\" style=\"border-radius: 10px; padding: 10px\">\n",
    "<b>Комментарий ревьюера V2 ✔️</b>\n",
    "\n",
    "Всё верно!</div>"
   ]
  },
  {
   "cell_type": "markdown",
   "id": "fc084a09",
   "metadata": {},
   "source": [
    "<div class=\"alert-danger\" style=\"padding: 20px; border-radius: 10px\">\n",
    "<b>Комментарий ревьюера ❌</b>\n",
    "\n",
    "Ты правильно все посчитал, но одним из ключевых моментов этого проекта является умение создавать сводные таблицы. Подумай пожалуйста, как можно сразу вывести нужные категории, количество заемщиков в них, и процент просрочки в одной таблице.\n",
    "\n",
    "Когда ты выведешь сводную таблицу, обрати внимание на то, что выборки не сбалансированы, поэтому выявлять зависимости стоит сравнивая самые многочисленные категории заемщиков.</div>"
   ]
  },
  {
   "cell_type": "markdown",
   "id": "74c9b3a7",
   "metadata": {
    "deletable": false,
    "editable": false,
    "id": "74c9b3a7"
   },
   "source": [
    "#### 3.2 Есть ли зависимость между семейным положением и возвратом кредита в срок?"
   ]
  },
  {
   "cell_type": "code",
   "execution_count": 27,
   "id": "8098ab3b",
   "metadata": {
    "deletable": false,
    "id": "8098ab3b"
   },
   "outputs": [
    {
     "data": {
      "text/html": [
       "<div>\n",
       "<style scoped>\n",
       "    .dataframe tbody tr th:only-of-type {\n",
       "        vertical-align: middle;\n",
       "    }\n",
       "\n",
       "    .dataframe tbody tr th {\n",
       "        vertical-align: top;\n",
       "    }\n",
       "\n",
       "    .dataframe thead th {\n",
       "        text-align: right;\n",
       "    }\n",
       "</style>\n",
       "<table border=\"1\" class=\"dataframe\">\n",
       "  <thead>\n",
       "    <tr style=\"text-align: right;\">\n",
       "      <th></th>\n",
       "      <th>Количество заемщиков</th>\n",
       "      <th>Процент должников</th>\n",
       "    </tr>\n",
       "    <tr>\n",
       "      <th>family_status</th>\n",
       "      <th></th>\n",
       "      <th></th>\n",
       "    </tr>\n",
       "  </thead>\n",
       "  <tbody>\n",
       "    <tr>\n",
       "      <th>Не женат / не замужем</th>\n",
       "      <td>2796</td>\n",
       "      <td>9.763948</td>\n",
       "    </tr>\n",
       "    <tr>\n",
       "      <th>гражданский брак</th>\n",
       "      <td>4134</td>\n",
       "      <td>9.313014</td>\n",
       "    </tr>\n",
       "    <tr>\n",
       "      <th>женат / замужем</th>\n",
       "      <td>12261</td>\n",
       "      <td>7.560558</td>\n",
       "    </tr>\n",
       "    <tr>\n",
       "      <th>в разводе</th>\n",
       "      <td>1189</td>\n",
       "      <td>7.064760</td>\n",
       "    </tr>\n",
       "    <tr>\n",
       "      <th>вдовец / вдова</th>\n",
       "      <td>951</td>\n",
       "      <td>6.624606</td>\n",
       "    </tr>\n",
       "  </tbody>\n",
       "</table>\n",
       "</div>"
      ],
      "text/plain": [
       "                       Количество заемщиков  Процент должников\n",
       "family_status                                                 \n",
       "Не женат / не замужем                  2796           9.763948\n",
       "гражданский брак                       4134           9.313014\n",
       "женат / замужем                       12261           7.560558\n",
       "в разводе                              1189           7.064760\n",
       "вдовец / вдова                          951           6.624606"
      ]
     },
     "execution_count": 27,
     "metadata": {},
     "output_type": "execute_result"
    }
   ],
   "source": [
    "# # первичный анализ \n",
    "# data['family_status'].unique()\n",
    "# family_debt_count = data.groupby('family_status')['debt'].count().sort_values(ascending=True)\n",
    "# print('Количество имеющих задолженность в каждом семейном статусе:')\n",
    "# print(family_debt_count)\n",
    "\n",
    "family_debt_count = data.groupby(['family_status']).agg({'family_status':'count', 'debt':'mean'}).sort_values(by = 'debt', ascending=False)\n",
    "family_debt_count.columns = ['Количество заемщиков', 'Процент должников']\n",
    "family_debt_count['Процент должников'] = family_debt_count['Процент должников']*100\n",
    "family_debt_count\n"
   ]
  },
  {
   "cell_type": "markdown",
   "id": "d1b1b31d",
   "metadata": {},
   "source": [
    "<div class=\"alert-info\" style=\"padding: 20px; border-radius: 10px\">\n",
    "<b>Комментарий студента 💎</b>\n",
    "\n",
    "Исправил.</div>"
   ]
  },
  {
   "cell_type": "markdown",
   "id": "db05e6a8",
   "metadata": {},
   "source": [
    "<div class=\"alert-success\" style=\"border-radius: 10px; padding: 10px\">\n",
    "<b>Комментарий ревьюера V2 ✔️</b>\n",
    "\n",
    "👍</div>"
   ]
  },
  {
   "cell_type": "markdown",
   "id": "ac3bed2e",
   "metadata": {},
   "source": [
    "<div class=\"alert-warning\" style=\"padding: 20px; border-radius: 10px\">\n",
    "<b>Комментарий ревьюера ⚠️</b>\n",
    "\n",
    "Добавь пожалуйста количество заемщиков в каждой категории в сводную таблицу.</div>"
   ]
  },
  {
   "cell_type": "markdown",
   "id": "7cbe69a9",
   "metadata": {},
   "source": [
    "Проведем дополнительную категоризацию для выявления закономерностей."
   ]
  },
  {
   "cell_type": "code",
   "execution_count": 28,
   "id": "29c163dc",
   "metadata": {},
   "outputs": [
    {
     "name": "stdout",
     "output_type": "stream",
     "text": [
      "              Семейное положение  Процент должников\n",
      "0  были/есть в официальном браке           7.457815\n",
      "1                не были в браке           9.494949\n"
     ]
    }
   ],
   "source": [
    "# дополнительная категоризация\n",
    "def categorize_purpose(row):\n",
    "    try:\n",
    "        if row == 'женат / замужем' or 'разв' in row or 'вдов' in row:\n",
    "            return 'были/есть в официальном браке'\n",
    "        elif 'Не жен' in row or 'брак' in row:\n",
    "            return 'не были в браке'\n",
    "    except:\n",
    "        return 'нет категории'\n",
    "data_family_category = data\n",
    "data_family_category['family_status'] = data_family_category['family_status'].apply(categorize_purpose)\n",
    "family_debt_mean = data_family_category.groupby('family_status')['debt'].agg('mean').reset_index(level=['family_status']).sort_values(by = 'debt', ascending=True)\n",
    "family_debt_mean.columns = ['Семейное положение', 'Процент должников']\n",
    "family_debt_mean['Процент должников'] = family_debt_mean['Процент должников']*100\n",
    "print(family_debt_mean)\n"
   ]
  },
  {
   "cell_type": "markdown",
   "id": "c389ca63",
   "metadata": {
    "deletable": false,
    "id": "c389ca63"
   },
   "source": [
    "**Вывод:** Судя по всему, люди, которые были или находятся в официальном браке, более ответственно подходят к своевременной выплате кредитов."
   ]
  },
  {
   "cell_type": "markdown",
   "id": "9b45dc84",
   "metadata": {},
   "source": [
    "<div class=\"alert-success\" style=\"padding: 20px; border-radius: 10px\">\n",
    "<b>Комментарий ревьюера ✔️</b>\n",
    "\n",
    "Согласен.</div>"
   ]
  },
  {
   "cell_type": "markdown",
   "id": "9529de68",
   "metadata": {
    "deletable": false,
    "editable": false,
    "id": "9529de68"
   },
   "source": [
    "#### 3.3 Есть ли зависимость между уровнем дохода и возвратом кредита в срок?"
   ]
  },
  {
   "cell_type": "code",
   "execution_count": 29,
   "id": "8787f44a",
   "metadata": {
    "deletable": false,
    "id": "8787f44a"
   },
   "outputs": [
    {
     "data": {
      "text/html": [
       "<div>\n",
       "<style scoped>\n",
       "    .dataframe tbody tr th:only-of-type {\n",
       "        vertical-align: middle;\n",
       "    }\n",
       "\n",
       "    .dataframe tbody tr th {\n",
       "        vertical-align: top;\n",
       "    }\n",
       "\n",
       "    .dataframe thead th {\n",
       "        text-align: right;\n",
       "    }\n",
       "</style>\n",
       "<table border=\"1\" class=\"dataframe\">\n",
       "  <thead>\n",
       "    <tr style=\"text-align: right;\">\n",
       "      <th></th>\n",
       "      <th>Количество заемщиков</th>\n",
       "      <th>Процент должников</th>\n",
       "    </tr>\n",
       "    <tr>\n",
       "      <th>total_income_category</th>\n",
       "      <th></th>\n",
       "      <th></th>\n",
       "    </tr>\n",
       "  </thead>\n",
       "  <tbody>\n",
       "    <tr>\n",
       "      <th>E</th>\n",
       "      <td>22</td>\n",
       "      <td>9.090909</td>\n",
       "    </tr>\n",
       "    <tr>\n",
       "      <th>C</th>\n",
       "      <td>15921</td>\n",
       "      <td>8.498210</td>\n",
       "    </tr>\n",
       "    <tr>\n",
       "      <th>A</th>\n",
       "      <td>25</td>\n",
       "      <td>8.000000</td>\n",
       "    </tr>\n",
       "    <tr>\n",
       "      <th>B</th>\n",
       "      <td>5014</td>\n",
       "      <td>7.060231</td>\n",
       "    </tr>\n",
       "    <tr>\n",
       "      <th>D</th>\n",
       "      <td>349</td>\n",
       "      <td>6.017192</td>\n",
       "    </tr>\n",
       "  </tbody>\n",
       "</table>\n",
       "</div>"
      ],
      "text/plain": [
       "                       Количество заемщиков  Процент должников\n",
       "total_income_category                                         \n",
       "E                                        22           9.090909\n",
       "C                                     15921           8.498210\n",
       "A                                        25           8.000000\n",
       "B                                      5014           7.060231\n",
       "D                                       349           6.017192"
      ]
     },
     "execution_count": 29,
     "metadata": {},
     "output_type": "execute_result"
    }
   ],
   "source": [
    "# группировка\n",
    "avg_income_category_debt = data.groupby(['total_income_category']).agg( \\\n",
    "                            {'total_income_category':'count','debt':'mean'}).sort_values( \\\n",
    "                            by = 'debt', ascending=False)\n",
    "avg_income_category_debt.columns = ['Количество заемщиков', 'Процент должников']\n",
    "avg_income_category_debt['Процент должников'] = avg_income_category_debt['Процент должников']*100                                                  \n",
    "\n",
    "avg_income_category_debt"
   ]
  },
  {
   "cell_type": "markdown",
   "id": "f38304bd",
   "metadata": {},
   "source": [
    "Выборка для людей в некоторых категориях дохода недостаточна для анализа. Сравниваем только большие группы кредитуемых."
   ]
  },
  {
   "cell_type": "markdown",
   "id": "c3fdbe60",
   "metadata": {},
   "source": [
    "<div class=\"alert-info\" style=\"padding: 20px; border-radius: 10px\">\n",
    "<b>Комментарий студента 💎</b>\n",
    "\n",
    "Исправил.</div>"
   ]
  },
  {
   "cell_type": "markdown",
   "id": "f8960d99",
   "metadata": {},
   "source": [
    "<div class=\"alert-success\" style=\"border-radius: 10px; padding: 10px\">\n",
    "<b>Комментарий ревьюера V2 ✔️</b>\n",
    "\n",
    "✅</div>"
   ]
  },
  {
   "cell_type": "markdown",
   "id": "ba94a690",
   "metadata": {},
   "source": [
    "<div class=\"alert-warning\" style=\"padding: 20px; border-radius: 10px\">\n",
    "<b>Комментарий ревьюера ⚠️</b>\n",
    "\n",
    "Добавь пожалуйста количество заемщиков в каждой категории в сводную таблицу.</div>"
   ]
  },
  {
   "cell_type": "code",
   "execution_count": 30,
   "id": "4bdfe217",
   "metadata": {},
   "outputs": [
    {
     "data": {
      "text/html": [
       "<div>\n",
       "<style scoped>\n",
       "    .dataframe tbody tr th:only-of-type {\n",
       "        vertical-align: middle;\n",
       "    }\n",
       "\n",
       "    .dataframe tbody tr th {\n",
       "        vertical-align: top;\n",
       "    }\n",
       "\n",
       "    .dataframe thead th {\n",
       "        text-align: right;\n",
       "    }\n",
       "</style>\n",
       "<table border=\"1\" class=\"dataframe\">\n",
       "  <thead>\n",
       "    <tr style=\"text-align: right;\">\n",
       "      <th></th>\n",
       "      <th>Количество заемщиков</th>\n",
       "      <th>Процент должников</th>\n",
       "    </tr>\n",
       "    <tr>\n",
       "      <th>total_income_category</th>\n",
       "      <th></th>\n",
       "      <th></th>\n",
       "    </tr>\n",
       "  </thead>\n",
       "  <tbody>\n",
       "    <tr>\n",
       "      <th>C</th>\n",
       "      <td>15921</td>\n",
       "      <td>8.498210</td>\n",
       "    </tr>\n",
       "    <tr>\n",
       "      <th>B</th>\n",
       "      <td>5014</td>\n",
       "      <td>7.060231</td>\n",
       "    </tr>\n",
       "  </tbody>\n",
       "</table>\n",
       "</div>"
      ],
      "text/plain": [
       "                       Количество заемщиков  Процент должников\n",
       "total_income_category                                         \n",
       "C                                     15921           8.498210\n",
       "B                                      5014           7.060231"
      ]
     },
     "execution_count": 30,
     "metadata": {},
     "output_type": "execute_result"
    }
   ],
   "source": [
    "avg_income_category_debt.loc[avg_income_category_debt['Количество заемщиков'] >= 1000]\n"
   ]
  },
  {
   "cell_type": "markdown",
   "id": "6dd14b57",
   "metadata": {
    "deletable": false,
    "id": "6dd14b57"
   },
   "source": [
    "**Вывод:** Предоставленные данные позволяют провести анализ только для кредитуемых, с категориями дохода B(доход от 200000 до 1000000) и С(доход от 50000 до 200000). Исходя из результатов анализа можно сказать, что с ростом дохода платежи по кредитам становятся более регулярными."
   ]
  },
  {
   "cell_type": "markdown",
   "id": "dd9c831e",
   "metadata": {},
   "source": [
    "<div class=\"alert-info\" style=\"padding: 20px; border-radius: 10px\">\n",
    "<b>Комментарий студента 💎</b>\n",
    "\n",
    "Исправил.</div>"
   ]
  },
  {
   "cell_type": "markdown",
   "id": "c4ba5f1c",
   "metadata": {},
   "source": [
    "<div class=\"alert-success\" style=\"border-radius: 10px; padding: 10px\">\n",
    "<b>Комментарий ревьюера V2 ✔️</b>\n",
    "\n",
    "Верно, если сравнить самые большие категории B и C, можно сказать, что заемщики с более высоким доходом платят кредиты вовремя лучше.</div>"
   ]
  },
  {
   "cell_type": "markdown",
   "id": "407c570d",
   "metadata": {},
   "source": [
    "<div class=\"alert-warning\" style=\"padding: 20px; border-radius: 10px\">\n",
    "<b>Комментарий ревьюера ⚠️</b>\n",
    "\n",
    "А какую можно выявить зависимость, если сравнить только две самые многочисленные выборки?</div>"
   ]
  },
  {
   "cell_type": "markdown",
   "id": "1dcc9b12",
   "metadata": {
    "deletable": false,
    "editable": false,
    "id": "1dcc9b12"
   },
   "source": [
    "#### 3.4 Как разные цели кредита влияют на его возврат в срок?"
   ]
  },
  {
   "cell_type": "code",
   "execution_count": 31,
   "id": "c602bc8b",
   "metadata": {
    "deletable": false,
    "id": "c602bc8b"
   },
   "outputs": [
    {
     "name": "stdout",
     "output_type": "stream",
     "text": [
      "Доля имеющих задолженность для разных целей кредитования\n",
      "                          Количество заемщиков  Процент должников\n",
      "purpose_category                                                 \n",
      "операции с недвижимостью                 10751           7.255139\n",
      "проведение свадьбы                        2313           7.911803\n",
      "получение образования                     3988           9.252758\n",
      "операции с автомобилем                    4279           9.347978\n"
     ]
    }
   ],
   "source": [
    "data['purpose_category'].unique()\n",
    "purpose_debt_mean = data.groupby(['purpose_category']).agg({'purpose_category':'count','debt':'mean'}).sort_values(by = 'debt', ascending=True)\n",
    "print('Доля имеющих задолженность для разных целей кредитования') \n",
    "purpose_debt_mean.columns = ['Количество заемщиков', 'Процент должников']\n",
    "purpose_debt_mean['Процент должников'] = purpose_debt_mean['Процент должников']*100   \n",
    "print(f'{purpose_debt_mean}')\n",
    "# Ваш код будет здесь. Вы можете создавать новые ячейки."
   ]
  },
  {
   "cell_type": "markdown",
   "id": "858536f6",
   "metadata": {},
   "source": [
    "<div class=\"alert-info\" style=\"padding: 20px; border-radius: 10px\">\n",
    "<b>Комментарий студента 💎</b>\n",
    "\n",
    "Исправил.</div>"
   ]
  },
  {
   "cell_type": "markdown",
   "id": "60ad421d",
   "metadata": {},
   "source": [
    "<div class=\"alert-warning\" style=\"padding: 20px; border-radius: 10px\">\n",
    "<b>Комментарий ревьюера ⚠️</b>\n",
    "\n",
    "+сводная таблица</div>"
   ]
  },
  {
   "cell_type": "markdown",
   "id": "04a7bad4",
   "metadata": {},
   "source": [
    "<div class=\"alert-success\" style=\"border-radius: 10px; padding: 10px\">\n",
    "<b>Комментарий ревьюера V2 ✔️</b>\n",
    "\n",
    "Сводная таблица правильная. 👌</div>"
   ]
  },
  {
   "cell_type": "markdown",
   "id": "cf05ed63",
   "metadata": {
    "deletable": false,
    "id": "cf05ed63"
   },
   "source": [
    "**Вывод:** Люди, берущие кредит на покупку автомобиля или получение образования, чаще имеют просрочку по выплатам"
   ]
  },
  {
   "cell_type": "markdown",
   "id": "6673f5fe",
   "metadata": {},
   "source": [
    "<div class=\"alert-success\" style=\"padding: 20px; border-radius: 10px\">\n",
    "<b>Комментарий ревьюера ✔️</b>\n",
    "\n",
    "Правильно, самыми проблемными выглядят автокредиты и кредиты на образование. </div>"
   ]
  },
  {
   "cell_type": "markdown",
   "id": "46c1f10b",
   "metadata": {
    "deletable": false,
    "editable": false,
    "id": "46c1f10b"
   },
   "source": [
    "#### 3.5 Приведите возможные причины появления пропусков в исходных данных."
   ]
  },
  {
   "cell_type": "markdown",
   "id": "3697d2a9",
   "metadata": {
    "deletable": false,
    "id": "3697d2a9"
   },
   "source": [
    "*Ответ:* \n",
    "- Человеческий фактор при получении данных: люди не всегда указывают цель кредита или состав семьи\n",
    "- Человеческий фактор при внесении данных: ошибки оператора\n",
    "- Особенности запрашиваемых данных: человек не имеющий доход может поставить прочерк\n",
    "- Потеря анкетных данных"
   ]
  },
  {
   "cell_type": "markdown",
   "id": "f374e988",
   "metadata": {},
   "source": [
    "<div class=\"alert-success\" style=\"padding: 20px; border-radius: 10px\">\n",
    "<b>Комментарий ревьюера ✔️</b>\n",
    "\n",
    "Предположения о возникновении пропусков правильные. </div>"
   ]
  },
  {
   "cell_type": "markdown",
   "id": "3137d257",
   "metadata": {
    "deletable": false,
    "editable": false,
    "id": "3137d257"
   },
   "source": [
    "#### 3.6 Объясните, почему заполнить пропуски медианным значением — лучшее решение для количественных переменных."
   ]
  },
  {
   "cell_type": "markdown",
   "id": "cf40012a",
   "metadata": {
    "deletable": false,
    "id": "cf40012a"
   },
   "source": [
    "*Ответ:* Медианные значения позволяют отсечь выбросы: крайние значения сильно влияющие на получаемый результат. "
   ]
  },
  {
   "cell_type": "markdown",
   "id": "b0e078a7",
   "metadata": {},
   "source": [
    "<div class=\"alert-success\" style=\"padding: 20px; border-radius: 10px\">\n",
    "<b>Комментарий ревьюера ✔️</b>\n",
    "\n",
    "Совершенно верно, медиана менее чувствительна к выбросам. Показательным примером был бы расчет этих метрик для столбца `days_employed`, где есть выбросы.</div>"
   ]
  },
  {
   "cell_type": "markdown",
   "id": "57bc304e",
   "metadata": {
    "deletable": false,
    "editable": false,
    "id": "57bc304e"
   },
   "source": [
    "### Шаг 4: общий вывод."
   ]
  },
  {
   "cell_type": "markdown",
   "id": "1ab75d1c",
   "metadata": {
    "deletable": false,
    "id": "1ab75d1c"
   },
   "source": [
    "    Перед основным этапом исследования была проведена предобратка данных. В ходе нее мы выявили и устранили повторяющиеся значения, заполнили пропуски в столбцах, отражающих доход и стаж работы медианными значениями, убрали строки с аномальными значениями, провели категоризацию значений дохода и целей кредита.\n",
    "    \n",
    "    Основной этап исследования включал в себя выявление возникновения просрочек по кредитам в зависимости от разных факторов. В ходе него мы провели перегруппировки, дополнительную категоризацию, а также анализ на предмет достаточной численности выборки.\n",
    "    Результаты отражены в таблицах, представленных ниже.\n",
    "    \n",
    "    Была выявлена недостаточность выборки по некоторым параметрам, чтобы не исказить достоверность исследования мы убрали из анализа кредитуемых с большим количеством детей(>2) и с доходом в категориях A,D,E. \n",
    "    \n",
    "    В итоге мы выяснили, что наиболее надежными кредитоплательщиками стали бездетные люди, состоящие или состоявшие в официальном браке, с высоким доходом, берущие кредит на сделки с недвижимостью или проведение свадьбы.\n",
    "    Одновременно с этим, самой рискованной категорией кредитуемых для банка являются люди с 2 детьми, чей доход не превышает 200000 и которые не были в официальном браке, берущие кредит на получение образования и операции с автомобилем.\n"
   ]
  },
  {
   "cell_type": "code",
   "execution_count": 32,
   "id": "51589b0a",
   "metadata": {},
   "outputs": [
    {
     "name": "stdout",
     "output_type": "stream",
     "text": [
      "\u001b[1mИтоговая таблица зависимости просрочки платежей от количества детей\u001b[0m\n",
      "\n",
      "   Количество детей  Количество закредитованных  Количество должников  \\\n",
      "0                 0                       14091                  1063   \n",
      "1                 1                        4808                   444   \n",
      "2                 2                        2052                   194   \n",
      "\n",
      "   Процент должников, %  \n",
      "0              7.543822  \n",
      "1              9.234609  \n",
      "2              9.454191  \n",
      "\n",
      "\n",
      "\u001b[1mИтоговая таблица зависимости просрочки платежей от семейного положения\u001b[0m\n",
      "\n",
      "              Семейное положение  Процент должников\n",
      "0  были/есть в официальном браке           7.457815\n",
      "1                не были в браке           9.494949\n",
      "\n",
      "\n",
      "\u001b[1mИтоговая таблица зависимости просрочки платежей от категории дохода\u001b[0m\n",
      "\n",
      "                       Количество заемщиков  Процент должников\n",
      "total_income_category                                         \n",
      "C                                     15921           8.498210\n",
      "B                                      5014           7.060231\n",
      "\n",
      "\n",
      "\u001b[1mИтоговая таблица зависимости просрочки платежей от цели кредита\u001b[0m\n",
      "\n",
      "                          Количество заемщиков  Процент должников\n",
      "purpose_category                                                 \n",
      "операции с недвижимостью                 10751           7.255139\n",
      "проведение свадьбы                        2313           7.911803\n",
      "получение образования                     3988           9.252758\n",
      "операции с автомобилем                    4279           9.347978\n"
     ]
    }
   ],
   "source": [
    "print('\\033[1m' + 'Итоговая таблица зависимости просрочки платежей от количества детей' + '\\033[0m')\n",
    "print('')\n",
    "print(data_group.loc[:2])\n",
    "print('')\n",
    "print('')\n",
    "print('\\033[1m' + 'Итоговая таблица зависимости просрочки платежей от семейного положения' + '\\033[0m')\n",
    "print('')\n",
    "print(family_debt_mean)\n",
    "print('')\n",
    "print('')\n",
    "print('\\033[1m' + 'Итоговая таблица зависимости просрочки платежей от категории дохода' + '\\033[0m')\n",
    "print('')\n",
    "print(avg_income_category_debt.loc[avg_income_category_debt['Количество заемщиков'] >= 1000])\n",
    "print('')\n",
    "print('')\n",
    "print('\\033[1m' + 'Итоговая таблица зависимости просрочки платежей от цели кредита' + '\\033[0m')\n",
    "print('')\n",
    "print(purpose_debt_mean)\n"
   ]
  },
  {
   "cell_type": "markdown",
   "id": "da94213d",
   "metadata": {},
   "source": [
    "<div class=\"alert-danger\" style=\"padding: 20px; border-radius: 10px\">\n",
    "<b>Комментарий ревьюера ❌</b>\n",
    "\n",
    "Общий вывод - важный элемент работы. Его нужно сформулировать, взяв основные результаты из всех шагов проекта. Начать нужно с того, с какими данными мы работали и какие действия провели на этапе предобработки, сформулировать все выявленные зависимости просрочки от различных факторов, можно дать портрет идеального и рискованного заемщика и закончить выявленными при ответе на вопросы зависимостями и рекомендациями заказчику по улучшению сбора данных и системы скоринга.\n",
    "\n",
    "Заказчик, зачастую, читает только общий вывод исследования - поэтому он должен быть максимально информативным.</div>"
   ]
  },
  {
   "cell_type": "markdown",
   "id": "eaae70ae",
   "metadata": {},
   "source": [
    "<div class=\"alert-info\" style=\"padding: 20px; border-radius: 10px\">\n",
    "<b>Комментарий студента 💎</b>\n",
    "\n",
    "Исправил.</div>"
   ]
  },
  {
   "cell_type": "markdown",
   "id": "f02f7741",
   "metadata": {},
   "source": [
    "<div class=\"alert-success\" style=\"border-radius: 10px; padding: 10px\">\n",
    "<b>Комментарий ревьюера V2 ✔️</b>\n",
    "\n",
    "Теперь у тебя получился подробный общий вывод, отражающий все основные результаты исследования. 👌\n",
    "\n",
    "Я бы порекомендовал вынести расчеты и таблицы из общего вывода и оставить там только текст.</div>"
   ]
  },
  {
   "cell_type": "markdown",
   "id": "0ce83439",
   "metadata": {},
   "source": [
    "<div style=\"border:solid steelblue 3px; padding: 20px; border-radius: 10px\">\n",
    "    \n",
    "<b>Общий комментарий ревьюера:</b>\n",
    "\n",
    "Ты проделал большую работу, но нужно кое-что исправить, чтобы я ее принял.\n",
    "    \n",
    "Есть несколько критических замечаний:\n",
    "- по выводу сводных таблиц для ответов по поиску зависимостей\n",
    "- по общему выводу\n",
    "    \n",
    "Также, постарайся отработать желтые комментарии во второй части работы.\n",
    "    \n",
    "Буду ждать твой доработанный проект. ⌛️</div>"
   ]
  },
  {
   "cell_type": "markdown",
   "id": "d7775fd5",
   "metadata": {},
   "source": [
    "<div style=\"border:solid steelblue 3px; padding: 20px; border-radius: 10px\">\n",
    "    \n",
    "<b>Общий комментарий ревьюера V2</b>\n",
    "\n",
    "Спасибо, что доработал проект! Критических замечаний больше нет, получилась очень хорошая работа.\n",
    "    \n",
    "Успехов в дальнейшем обучении! 🏆\n",
    "    \n",
    "</div>"
   ]
  },
  {
   "cell_type": "code",
   "execution_count": null,
   "id": "02897f9a",
   "metadata": {},
   "outputs": [],
   "source": []
  }
 ],
 "metadata": {
  "ExecuteTimeLog": [
   {
    "duration": 2,
    "start_time": "2023-02-08T07:11:48.020Z"
   },
   {
    "duration": 3,
    "start_time": "2023-02-08T07:11:51.667Z"
   },
   {
    "duration": 94,
    "start_time": "2023-02-08T07:12:44.963Z"
   },
   {
    "duration": 442,
    "start_time": "2023-02-08T07:12:51.337Z"
   },
   {
    "duration": 23,
    "start_time": "2023-02-08T07:12:52.847Z"
   },
   {
    "duration": 22,
    "start_time": "2023-02-08T07:12:53.495Z"
   },
   {
    "duration": 12,
    "start_time": "2023-02-08T07:12:54.775Z"
   },
   {
    "duration": 30,
    "start_time": "2023-02-08T07:12:55.320Z"
   },
   {
    "duration": 5,
    "start_time": "2023-02-08T07:12:56.104Z"
   },
   {
    "duration": 11,
    "start_time": "2023-02-08T07:12:56.653Z"
   },
   {
    "duration": 4,
    "start_time": "2023-02-08T07:12:57.417Z"
   },
   {
    "duration": 7,
    "start_time": "2023-02-08T07:12:57.897Z"
   },
   {
    "duration": 5,
    "start_time": "2023-02-08T07:12:58.360Z"
   },
   {
    "duration": 34,
    "start_time": "2023-02-08T07:12:59.494Z"
   },
   {
    "duration": 16,
    "start_time": "2023-02-08T07:13:00.672Z"
   },
   {
    "duration": 4,
    "start_time": "2023-02-08T07:13:03.117Z"
   },
   {
    "duration": 12,
    "start_time": "2023-02-08T07:13:04.024Z"
   },
   {
    "duration": 29,
    "start_time": "2023-02-08T07:13:04.653Z"
   },
   {
    "duration": 20,
    "start_time": "2023-02-08T07:13:05.023Z"
   },
   {
    "duration": 3,
    "start_time": "2023-02-08T07:13:06.461Z"
   },
   {
    "duration": 10,
    "start_time": "2023-02-08T07:13:07.344Z"
   },
   {
    "duration": 7,
    "start_time": "2023-02-08T07:13:08.664Z"
   },
   {
    "duration": 3,
    "start_time": "2023-02-08T07:13:11.928Z"
   },
   {
    "duration": 14,
    "start_time": "2023-02-08T07:13:15.179Z"
   },
   {
    "duration": 5,
    "start_time": "2023-02-08T07:16:41.048Z"
   },
   {
    "duration": 5,
    "start_time": "2023-02-08T07:26:05.034Z"
   },
   {
    "duration": 6,
    "start_time": "2023-02-08T07:26:48.381Z"
   },
   {
    "duration": 5,
    "start_time": "2023-02-08T07:27:09.223Z"
   },
   {
    "duration": 907,
    "start_time": "2023-02-08T07:30:49.029Z"
   },
   {
    "duration": 24,
    "start_time": "2023-02-08T07:31:10.507Z"
   },
   {
    "duration": 23,
    "start_time": "2023-02-08T07:31:24.778Z"
   },
   {
    "duration": 71,
    "start_time": "2023-02-08T07:31:51.861Z"
   },
   {
    "duration": 15,
    "start_time": "2023-02-08T07:31:52.523Z"
   },
   {
    "duration": 15,
    "start_time": "2023-02-08T07:31:53.034Z"
   },
   {
    "duration": 12,
    "start_time": "2023-02-08T07:31:54.042Z"
   },
   {
    "duration": 33,
    "start_time": "2023-02-08T07:31:54.509Z"
   },
   {
    "duration": 4,
    "start_time": "2023-02-08T07:31:55.148Z"
   },
   {
    "duration": 8,
    "start_time": "2023-02-08T07:31:55.567Z"
   },
   {
    "duration": 5,
    "start_time": "2023-02-08T07:31:56.223Z"
   },
   {
    "duration": 5,
    "start_time": "2023-02-08T07:31:56.750Z"
   },
   {
    "duration": 4,
    "start_time": "2023-02-08T07:31:57.300Z"
   },
   {
    "duration": 34,
    "start_time": "2023-02-08T07:31:58.569Z"
   },
   {
    "duration": 10,
    "start_time": "2023-02-08T07:31:59.623Z"
   },
   {
    "duration": 4,
    "start_time": "2023-02-08T07:32:01.446Z"
   },
   {
    "duration": 11,
    "start_time": "2023-02-08T07:32:03.574Z"
   },
   {
    "duration": 20,
    "start_time": "2023-02-08T07:32:04.257Z"
   },
   {
    "duration": 17,
    "start_time": "2023-02-08T07:32:04.577Z"
   },
   {
    "duration": 4,
    "start_time": "2023-02-08T07:32:05.664Z"
   },
   {
    "duration": 11,
    "start_time": "2023-02-08T07:32:06.221Z"
   },
   {
    "duration": 6,
    "start_time": "2023-02-08T07:32:07.219Z"
   },
   {
    "duration": 3,
    "start_time": "2023-02-08T07:32:08.335Z"
   },
   {
    "duration": 9,
    "start_time": "2023-02-08T07:32:08.853Z"
   },
   {
    "duration": 23,
    "start_time": "2023-02-08T07:32:10.294Z"
   },
   {
    "duration": 23,
    "start_time": "2023-02-08T07:32:24.429Z"
   },
   {
    "duration": 8,
    "start_time": "2023-02-08T07:38:53.448Z"
   },
   {
    "duration": 9,
    "start_time": "2023-02-08T07:39:02.256Z"
   },
   {
    "duration": 8,
    "start_time": "2023-02-08T07:39:23.153Z"
   },
   {
    "duration": 9,
    "start_time": "2023-02-08T07:39:36.593Z"
   },
   {
    "duration": 8,
    "start_time": "2023-02-08T07:39:44.506Z"
   },
   {
    "duration": 9,
    "start_time": "2023-02-08T07:39:50.327Z"
   },
   {
    "duration": 11,
    "start_time": "2023-02-08T07:44:58.627Z"
   },
   {
    "duration": 10,
    "start_time": "2023-02-08T07:45:06.932Z"
   },
   {
    "duration": 22,
    "start_time": "2023-02-08T07:45:17.416Z"
   },
   {
    "duration": 9,
    "start_time": "2023-02-08T07:53:32.706Z"
   },
   {
    "duration": 24,
    "start_time": "2023-02-08T07:58:41.225Z"
   },
   {
    "duration": 31,
    "start_time": "2023-02-08T08:01:03.385Z"
   },
   {
    "duration": 27,
    "start_time": "2023-02-08T08:01:38.222Z"
   },
   {
    "duration": 85,
    "start_time": "2023-02-08T08:03:19.353Z"
   },
   {
    "duration": 24,
    "start_time": "2023-02-08T08:03:30.748Z"
   },
   {
    "duration": 27,
    "start_time": "2023-02-08T08:03:36.881Z"
   },
   {
    "duration": 25,
    "start_time": "2023-02-08T08:03:41.625Z"
   },
   {
    "duration": 22,
    "start_time": "2023-02-08T08:03:53.976Z"
   },
   {
    "duration": 30,
    "start_time": "2023-02-08T08:04:28.314Z"
   },
   {
    "duration": 23,
    "start_time": "2023-02-08T08:04:34.228Z"
   },
   {
    "duration": 24,
    "start_time": "2023-02-08T08:07:53.013Z"
   },
   {
    "duration": 5,
    "start_time": "2023-02-08T08:48:24.144Z"
   },
   {
    "duration": 6,
    "start_time": "2023-02-08T08:48:43.934Z"
   },
   {
    "duration": 22,
    "start_time": "2023-02-08T09:06:06.025Z"
   },
   {
    "duration": 67,
    "start_time": "2023-02-08T09:06:27.938Z"
   },
   {
    "duration": 15,
    "start_time": "2023-02-08T09:06:28.998Z"
   },
   {
    "duration": 17,
    "start_time": "2023-02-08T09:06:29.709Z"
   },
   {
    "duration": 11,
    "start_time": "2023-02-08T09:06:30.646Z"
   },
   {
    "duration": 34,
    "start_time": "2023-02-08T09:06:31.112Z"
   },
   {
    "duration": 4,
    "start_time": "2023-02-08T09:06:31.740Z"
   },
   {
    "duration": 10,
    "start_time": "2023-02-08T09:06:32.192Z"
   },
   {
    "duration": 4,
    "start_time": "2023-02-08T09:06:33.356Z"
   },
   {
    "duration": 6,
    "start_time": "2023-02-08T09:06:33.950Z"
   },
   {
    "duration": 4,
    "start_time": "2023-02-08T09:06:34.405Z"
   },
   {
    "duration": 31,
    "start_time": "2023-02-08T09:06:35.112Z"
   },
   {
    "duration": 10,
    "start_time": "2023-02-08T09:06:35.764Z"
   },
   {
    "duration": 3,
    "start_time": "2023-02-08T09:06:36.581Z"
   },
   {
    "duration": 12,
    "start_time": "2023-02-08T09:06:38.043Z"
   },
   {
    "duration": 21,
    "start_time": "2023-02-08T09:06:38.867Z"
   },
   {
    "duration": 16,
    "start_time": "2023-02-08T09:06:39.177Z"
   },
   {
    "duration": 4,
    "start_time": "2023-02-08T09:06:40.006Z"
   },
   {
    "duration": 10,
    "start_time": "2023-02-08T09:06:40.494Z"
   },
   {
    "duration": 6,
    "start_time": "2023-02-08T09:06:41.103Z"
   },
   {
    "duration": 4,
    "start_time": "2023-02-08T09:06:42.600Z"
   },
   {
    "duration": 9,
    "start_time": "2023-02-08T09:06:42.911Z"
   },
   {
    "duration": 22,
    "start_time": "2023-02-08T09:06:43.709Z"
   },
   {
    "duration": 21,
    "start_time": "2023-02-08T09:06:50.485Z"
   },
   {
    "duration": 12,
    "start_time": "2023-02-08T09:07:22.271Z"
   },
   {
    "duration": 14,
    "start_time": "2023-02-08T09:09:22.752Z"
   },
   {
    "duration": 15,
    "start_time": "2023-02-08T09:09:26.776Z"
   },
   {
    "duration": 9,
    "start_time": "2023-02-08T09:10:06.944Z"
   },
   {
    "duration": 8,
    "start_time": "2023-02-08T09:10:20.239Z"
   },
   {
    "duration": 13,
    "start_time": "2023-02-08T09:10:42.725Z"
   },
   {
    "duration": 12,
    "start_time": "2023-02-08T09:13:27.745Z"
   },
   {
    "duration": 10,
    "start_time": "2023-02-08T09:13:40.613Z"
   },
   {
    "duration": 11,
    "start_time": "2023-02-08T09:13:52.062Z"
   },
   {
    "duration": 72,
    "start_time": "2023-02-08T09:14:01.631Z"
   },
   {
    "duration": 15,
    "start_time": "2023-02-08T09:14:01.945Z"
   },
   {
    "duration": 15,
    "start_time": "2023-02-08T09:14:02.344Z"
   },
   {
    "duration": 10,
    "start_time": "2023-02-08T09:14:03.129Z"
   },
   {
    "duration": 38,
    "start_time": "2023-02-08T09:14:03.513Z"
   },
   {
    "duration": 4,
    "start_time": "2023-02-08T09:14:03.792Z"
   },
   {
    "duration": 17,
    "start_time": "2023-02-08T09:14:03.798Z"
   },
   {
    "duration": 5,
    "start_time": "2023-02-08T09:14:03.817Z"
   },
   {
    "duration": 6,
    "start_time": "2023-02-08T09:14:03.887Z"
   },
   {
    "duration": 8,
    "start_time": "2023-02-08T09:14:03.895Z"
   },
   {
    "duration": 33,
    "start_time": "2023-02-08T09:14:03.997Z"
   },
   {
    "duration": 10,
    "start_time": "2023-02-08T09:14:04.038Z"
   },
   {
    "duration": 4,
    "start_time": "2023-02-08T09:14:04.240Z"
   },
   {
    "duration": 11,
    "start_time": "2023-02-08T09:14:05.027Z"
   },
   {
    "duration": 21,
    "start_time": "2023-02-08T09:14:05.469Z"
   },
   {
    "duration": 19,
    "start_time": "2023-02-08T09:14:05.778Z"
   },
   {
    "duration": 4,
    "start_time": "2023-02-08T09:14:06.252Z"
   },
   {
    "duration": 10,
    "start_time": "2023-02-08T09:14:07.071Z"
   },
   {
    "duration": 7,
    "start_time": "2023-02-08T09:14:07.618Z"
   },
   {
    "duration": 3,
    "start_time": "2023-02-08T09:14:08.331Z"
   },
   {
    "duration": 8,
    "start_time": "2023-02-08T09:14:08.662Z"
   },
   {
    "duration": 21,
    "start_time": "2023-02-08T09:14:12.924Z"
   },
   {
    "duration": 12,
    "start_time": "2023-02-08T09:14:14.930Z"
   },
   {
    "duration": 9,
    "start_time": "2023-02-08T09:16:04.097Z"
   },
   {
    "duration": 12,
    "start_time": "2023-02-08T09:16:24.415Z"
   },
   {
    "duration": 11,
    "start_time": "2023-02-08T09:16:30.429Z"
   },
   {
    "duration": 9,
    "start_time": "2023-02-08T09:16:37.799Z"
   },
   {
    "duration": 10,
    "start_time": "2023-02-08T09:16:41.999Z"
   },
   {
    "duration": 63,
    "start_time": "2023-02-08T09:18:26.980Z"
   },
   {
    "duration": 11,
    "start_time": "2023-02-08T09:18:39.097Z"
   },
   {
    "duration": 11,
    "start_time": "2023-02-08T09:18:51.496Z"
   },
   {
    "duration": 10,
    "start_time": "2023-02-08T09:19:04.671Z"
   },
   {
    "duration": 11,
    "start_time": "2023-02-08T09:19:08.995Z"
   },
   {
    "duration": 50,
    "start_time": "2023-02-08T09:22:48.522Z"
   },
   {
    "duration": 38,
    "start_time": "2023-02-08T09:22:48.574Z"
   },
   {
    "duration": 10,
    "start_time": "2023-02-08T09:34:37.602Z"
   },
   {
    "duration": 67,
    "start_time": "2023-02-08T09:35:21.189Z"
   },
   {
    "duration": 12,
    "start_time": "2023-02-08T09:35:49.867Z"
   },
   {
    "duration": 11,
    "start_time": "2023-02-08T09:35:56.309Z"
   },
   {
    "duration": 11,
    "start_time": "2023-02-08T09:36:08.463Z"
   },
   {
    "duration": 10,
    "start_time": "2023-02-08T09:37:08.334Z"
   },
   {
    "duration": 12,
    "start_time": "2023-02-08T09:37:16.241Z"
   },
   {
    "duration": 7,
    "start_time": "2023-02-08T09:48:17.488Z"
   },
   {
    "duration": 10,
    "start_time": "2023-02-08T09:48:21.643Z"
   },
   {
    "duration": 12,
    "start_time": "2023-02-08T09:50:09.459Z"
   },
   {
    "duration": 32,
    "start_time": "2023-02-08T09:54:08.390Z"
   },
   {
    "duration": 16,
    "start_time": "2023-02-08T09:54:36.834Z"
   },
   {
    "duration": 21,
    "start_time": "2023-02-08T10:00:09.856Z"
   },
   {
    "duration": 22,
    "start_time": "2023-02-08T10:00:47.056Z"
   },
   {
    "duration": 25,
    "start_time": "2023-02-08T10:03:01.528Z"
   },
   {
    "duration": 32,
    "start_time": "2023-02-08T10:03:45.249Z"
   },
   {
    "duration": 26,
    "start_time": "2023-02-08T10:04:24.312Z"
   },
   {
    "duration": 43,
    "start_time": "2023-02-08T10:05:54.527Z"
   },
   {
    "duration": 69,
    "start_time": "2023-02-08T10:06:05.244Z"
   },
   {
    "duration": 16,
    "start_time": "2023-02-08T10:06:06.262Z"
   },
   {
    "duration": 14,
    "start_time": "2023-02-08T10:06:06.963Z"
   },
   {
    "duration": 10,
    "start_time": "2023-02-08T10:06:08.213Z"
   },
   {
    "duration": 34,
    "start_time": "2023-02-08T10:06:08.957Z"
   },
   {
    "duration": 4,
    "start_time": "2023-02-08T10:06:10.091Z"
   },
   {
    "duration": 11,
    "start_time": "2023-02-08T10:06:11.245Z"
   },
   {
    "duration": 6,
    "start_time": "2023-02-08T10:06:12.870Z"
   },
   {
    "duration": 10,
    "start_time": "2023-02-08T10:06:13.824Z"
   },
   {
    "duration": 5,
    "start_time": "2023-02-08T10:06:14.685Z"
   },
   {
    "duration": 36,
    "start_time": "2023-02-08T10:06:15.555Z"
   },
   {
    "duration": 11,
    "start_time": "2023-02-08T10:06:16.442Z"
   },
   {
    "duration": 4,
    "start_time": "2023-02-08T10:06:16.533Z"
   },
   {
    "duration": 12,
    "start_time": "2023-02-08T10:06:16.622Z"
   },
   {
    "duration": 20,
    "start_time": "2023-02-08T10:06:16.698Z"
   },
   {
    "duration": 17,
    "start_time": "2023-02-08T10:06:16.728Z"
   },
   {
    "duration": 7,
    "start_time": "2023-02-08T10:06:16.819Z"
   },
   {
    "duration": 14,
    "start_time": "2023-02-08T10:06:16.851Z"
   },
   {
    "duration": 8,
    "start_time": "2023-02-08T10:06:16.910Z"
   },
   {
    "duration": 3,
    "start_time": "2023-02-08T10:06:18.070Z"
   },
   {
    "duration": 10,
    "start_time": "2023-02-08T10:06:18.702Z"
   },
   {
    "duration": 22,
    "start_time": "2023-02-08T10:06:20.797Z"
   },
   {
    "duration": 65,
    "start_time": "2023-02-08T10:08:50.377Z"
   },
   {
    "duration": 30,
    "start_time": "2023-02-08T10:09:23.994Z"
   },
   {
    "duration": 33,
    "start_time": "2023-02-08T10:13:55.636Z"
   },
   {
    "duration": 48,
    "start_time": "2023-02-08T10:15:24.626Z"
   },
   {
    "duration": 28,
    "start_time": "2023-02-08T10:15:53.279Z"
   },
   {
    "duration": 10,
    "start_time": "2023-02-08T10:17:41.748Z"
   },
   {
    "duration": 13,
    "start_time": "2023-02-08T10:17:42.142Z"
   },
   {
    "duration": 15,
    "start_time": "2023-02-08T10:17:42.798Z"
   },
   {
    "duration": 846,
    "start_time": "2023-02-08T13:01:43.927Z"
   },
   {
    "duration": 32,
    "start_time": "2023-02-08T13:01:46.104Z"
   },
   {
    "duration": 25,
    "start_time": "2023-02-08T13:01:46.594Z"
   },
   {
    "duration": 17,
    "start_time": "2023-02-08T13:01:47.465Z"
   },
   {
    "duration": 49,
    "start_time": "2023-02-08T13:01:47.931Z"
   },
   {
    "duration": 4,
    "start_time": "2023-02-08T13:01:48.674Z"
   },
   {
    "duration": 10,
    "start_time": "2023-02-08T13:01:48.745Z"
   },
   {
    "duration": 6,
    "start_time": "2023-02-08T13:01:48.832Z"
   },
   {
    "duration": 9,
    "start_time": "2023-02-08T13:01:48.880Z"
   },
   {
    "duration": 6,
    "start_time": "2023-02-08T13:01:49.224Z"
   },
   {
    "duration": 51,
    "start_time": "2023-02-08T13:01:50.187Z"
   },
   {
    "duration": 17,
    "start_time": "2023-02-08T13:01:50.592Z"
   },
   {
    "duration": 5,
    "start_time": "2023-02-08T13:01:51.575Z"
   },
   {
    "duration": 16,
    "start_time": "2023-02-08T13:01:52.233Z"
   },
   {
    "duration": 28,
    "start_time": "2023-02-08T13:01:52.815Z"
   },
   {
    "duration": 28,
    "start_time": "2023-02-08T13:01:53.139Z"
   },
   {
    "duration": 5,
    "start_time": "2023-02-08T13:01:54.213Z"
   },
   {
    "duration": 15,
    "start_time": "2023-02-08T13:01:55.761Z"
   },
   {
    "duration": 8,
    "start_time": "2023-02-08T13:01:56.225Z"
   },
   {
    "duration": 4,
    "start_time": "2023-02-08T13:01:56.856Z"
   },
   {
    "duration": 14,
    "start_time": "2023-02-08T13:01:57.149Z"
   },
   {
    "duration": 30,
    "start_time": "2023-02-08T13:02:01.314Z"
   },
   {
    "duration": 20,
    "start_time": "2023-02-08T13:02:36.532Z"
   },
   {
    "duration": 17,
    "start_time": "2023-02-08T14:43:41.969Z"
   },
   {
    "duration": 15,
    "start_time": "2023-02-08T14:48:44.962Z"
   },
   {
    "duration": 14,
    "start_time": "2023-02-08T14:50:03.596Z"
   },
   {
    "duration": 18,
    "start_time": "2023-02-08T14:50:08.588Z"
   },
   {
    "duration": 98,
    "start_time": "2023-02-08T14:50:27.408Z"
   },
   {
    "duration": 15,
    "start_time": "2023-02-08T14:50:48.780Z"
   },
   {
    "duration": 42,
    "start_time": "2023-02-08T14:52:36.411Z"
   },
   {
    "duration": 27,
    "start_time": "2023-02-08T14:53:24.411Z"
   },
   {
    "duration": 24,
    "start_time": "2023-02-08T14:53:36.647Z"
   },
   {
    "duration": 34,
    "start_time": "2023-02-08T14:53:48.390Z"
   },
   {
    "duration": 31,
    "start_time": "2023-02-08T14:54:39.943Z"
   },
   {
    "duration": 17,
    "start_time": "2023-02-08T14:55:01.907Z"
   },
   {
    "duration": 62,
    "start_time": "2023-02-08T14:55:34.455Z"
   },
   {
    "duration": 27,
    "start_time": "2023-02-08T14:55:35.240Z"
   },
   {
    "duration": 13,
    "start_time": "2023-02-08T14:55:35.764Z"
   },
   {
    "duration": 10,
    "start_time": "2023-02-08T14:55:36.875Z"
   },
   {
    "duration": 38,
    "start_time": "2023-02-08T14:55:37.366Z"
   },
   {
    "duration": 3,
    "start_time": "2023-02-08T14:55:37.969Z"
   },
   {
    "duration": 10,
    "start_time": "2023-02-08T14:55:38.472Z"
   },
   {
    "duration": 5,
    "start_time": "2023-02-08T14:55:39.122Z"
   },
   {
    "duration": 6,
    "start_time": "2023-02-08T14:55:39.620Z"
   },
   {
    "duration": 4,
    "start_time": "2023-02-08T14:55:40.115Z"
   },
   {
    "duration": 35,
    "start_time": "2023-02-08T14:55:40.954Z"
   },
   {
    "duration": 11,
    "start_time": "2023-02-08T14:55:41.422Z"
   },
   {
    "duration": 4,
    "start_time": "2023-02-08T14:55:42.188Z"
   },
   {
    "duration": 10,
    "start_time": "2023-02-08T14:55:42.979Z"
   },
   {
    "duration": 25,
    "start_time": "2023-02-08T14:55:43.454Z"
   },
   {
    "duration": 24,
    "start_time": "2023-02-08T14:55:43.710Z"
   },
   {
    "duration": 3,
    "start_time": "2023-02-08T14:55:44.561Z"
   },
   {
    "duration": 9,
    "start_time": "2023-02-08T14:55:44.992Z"
   },
   {
    "duration": 7,
    "start_time": "2023-02-08T14:55:45.554Z"
   },
   {
    "duration": 4,
    "start_time": "2023-02-08T14:55:46.115Z"
   },
   {
    "duration": 9,
    "start_time": "2023-02-08T14:55:46.556Z"
   },
   {
    "duration": 16,
    "start_time": "2023-02-08T14:55:48.267Z"
   },
   {
    "duration": 8,
    "start_time": "2023-02-08T14:55:50.746Z"
   },
   {
    "duration": 11,
    "start_time": "2023-02-08T14:55:51.568Z"
   },
   {
    "duration": 17,
    "start_time": "2023-02-08T14:55:53.420Z"
   },
   {
    "duration": 19,
    "start_time": "2023-02-08T14:55:55.904Z"
   },
   {
    "duration": 18,
    "start_time": "2023-02-08T14:56:27.714Z"
   },
   {
    "duration": 13,
    "start_time": "2023-02-08T14:57:06.159Z"
   },
   {
    "duration": 12,
    "start_time": "2023-02-08T14:57:44.400Z"
   },
   {
    "duration": 6,
    "start_time": "2023-02-08T14:58:16.760Z"
   },
   {
    "duration": 446,
    "start_time": "2023-02-08T14:58:40.095Z"
   },
   {
    "duration": 22,
    "start_time": "2023-02-08T14:58:41.601Z"
   },
   {
    "duration": 19,
    "start_time": "2023-02-08T14:58:43.022Z"
   },
   {
    "duration": 9,
    "start_time": "2023-02-08T14:58:44.818Z"
   },
   {
    "duration": 33,
    "start_time": "2023-02-08T14:58:45.764Z"
   },
   {
    "duration": 4,
    "start_time": "2023-02-08T14:58:46.868Z"
   },
   {
    "duration": 8,
    "start_time": "2023-02-08T14:58:47.862Z"
   },
   {
    "duration": 5,
    "start_time": "2023-02-08T14:58:49.177Z"
   },
   {
    "duration": 41,
    "start_time": "2023-02-08T14:58:50.117Z"
   },
   {
    "duration": 5,
    "start_time": "2023-02-08T14:58:50.876Z"
   },
   {
    "duration": 33,
    "start_time": "2023-02-08T14:58:51.949Z"
   },
   {
    "duration": 8,
    "start_time": "2023-02-08T14:58:52.591Z"
   },
   {
    "duration": 5,
    "start_time": "2023-02-08T14:58:53.553Z"
   },
   {
    "duration": 10,
    "start_time": "2023-02-08T14:58:54.447Z"
   },
   {
    "duration": 20,
    "start_time": "2023-02-08T14:58:55.051Z"
   },
   {
    "duration": 16,
    "start_time": "2023-02-08T14:58:55.366Z"
   },
   {
    "duration": 3,
    "start_time": "2023-02-08T14:58:56.216Z"
   },
   {
    "duration": 33,
    "start_time": "2023-02-08T14:58:56.518Z"
   },
   {
    "duration": 7,
    "start_time": "2023-02-08T14:58:58.418Z"
   },
   {
    "duration": 3,
    "start_time": "2023-02-08T14:58:59.046Z"
   },
   {
    "duration": 8,
    "start_time": "2023-02-08T14:58:59.383Z"
   },
   {
    "duration": 19,
    "start_time": "2023-02-08T14:59:00.556Z"
   },
   {
    "duration": 23,
    "start_time": "2023-02-08T14:59:03.022Z"
   },
   {
    "duration": 13,
    "start_time": "2023-02-08T14:59:03.898Z"
   },
   {
    "duration": 23,
    "start_time": "2023-02-08T14:59:04.670Z"
   },
   {
    "duration": 42,
    "start_time": "2023-02-08T14:59:08.446Z"
   },
   {
    "duration": 22,
    "start_time": "2023-02-08T14:59:20.120Z"
   },
   {
    "duration": 14,
    "start_time": "2023-02-08T14:59:44.473Z"
   },
   {
    "duration": 14,
    "start_time": "2023-02-08T14:59:50.394Z"
   },
   {
    "duration": 11,
    "start_time": "2023-02-08T15:02:06.150Z"
   },
   {
    "duration": 83,
    "start_time": "2023-02-08T15:02:17.597Z"
   },
   {
    "duration": 91,
    "start_time": "2023-02-08T15:02:29.357Z"
   },
   {
    "duration": 21,
    "start_time": "2023-02-08T15:02:39.123Z"
   },
   {
    "duration": 63,
    "start_time": "2023-02-08T15:05:36.177Z"
   },
   {
    "duration": 56,
    "start_time": "2023-02-08T15:06:25.654Z"
   },
   {
    "duration": 106,
    "start_time": "2023-02-08T15:07:00.784Z"
   },
   {
    "duration": 101,
    "start_time": "2023-02-08T15:08:16.656Z"
   },
   {
    "duration": 73,
    "start_time": "2023-02-08T15:08:25.745Z"
   },
   {
    "duration": 10,
    "start_time": "2023-02-08T15:08:47.419Z"
   },
   {
    "duration": 10,
    "start_time": "2023-02-08T15:08:56.015Z"
   },
   {
    "duration": 9,
    "start_time": "2023-02-08T15:09:57.108Z"
   },
   {
    "duration": 9,
    "start_time": "2023-02-08T15:10:59.489Z"
   },
   {
    "duration": 9,
    "start_time": "2023-02-08T15:11:10.995Z"
   },
   {
    "duration": 10,
    "start_time": "2023-02-08T15:11:18.154Z"
   },
   {
    "duration": 15,
    "start_time": "2023-02-08T15:11:23.620Z"
   },
   {
    "duration": 18,
    "start_time": "2023-02-08T15:14:00.655Z"
   },
   {
    "duration": 11,
    "start_time": "2023-02-08T15:17:26.048Z"
   },
   {
    "duration": 12,
    "start_time": "2023-02-08T15:17:40.704Z"
   },
   {
    "duration": 17,
    "start_time": "2023-02-08T15:18:31.345Z"
   },
   {
    "duration": 24,
    "start_time": "2023-02-08T15:19:51.683Z"
   },
   {
    "duration": 11,
    "start_time": "2023-02-08T15:20:26.284Z"
   },
   {
    "duration": 19,
    "start_time": "2023-02-08T15:20:32.420Z"
   },
   {
    "duration": 21,
    "start_time": "2023-02-08T15:22:01.345Z"
   },
   {
    "duration": 19,
    "start_time": "2023-02-08T15:22:41.975Z"
   },
   {
    "duration": 36,
    "start_time": "2023-02-08T15:23:33.418Z"
   },
   {
    "duration": 21,
    "start_time": "2023-02-08T15:24:10.159Z"
   },
   {
    "duration": 13,
    "start_time": "2023-02-08T15:25:32.889Z"
   },
   {
    "duration": 16,
    "start_time": "2023-02-08T15:26:02.163Z"
   },
   {
    "duration": 66,
    "start_time": "2023-02-08T15:26:09.438Z"
   },
   {
    "duration": 17,
    "start_time": "2023-02-08T15:27:05.876Z"
   },
   {
    "duration": 20,
    "start_time": "2023-02-08T15:27:16.699Z"
   },
   {
    "duration": 1135,
    "start_time": "2023-02-08T15:27:46.888Z"
   },
   {
    "duration": 1038,
    "start_time": "2023-02-08T15:28:23.319Z"
   },
   {
    "duration": 1046,
    "start_time": "2023-02-08T15:28:26.914Z"
   },
   {
    "duration": 21,
    "start_time": "2023-02-08T15:28:39.748Z"
   },
   {
    "duration": 24,
    "start_time": "2023-02-08T15:28:54.145Z"
   },
   {
    "duration": 16,
    "start_time": "2023-02-08T15:29:01.086Z"
   },
   {
    "duration": 17,
    "start_time": "2023-02-08T15:30:23.800Z"
   },
   {
    "duration": 17,
    "start_time": "2023-02-08T15:31:12.787Z"
   },
   {
    "duration": 30,
    "start_time": "2023-02-08T15:32:01.817Z"
   },
   {
    "duration": 23,
    "start_time": "2023-02-08T15:32:28.253Z"
   },
   {
    "duration": 20,
    "start_time": "2023-02-08T15:33:53.860Z"
   },
   {
    "duration": 25,
    "start_time": "2023-02-08T15:35:05.387Z"
   },
   {
    "duration": 35,
    "start_time": "2023-02-08T15:35:20.831Z"
   },
   {
    "duration": 21,
    "start_time": "2023-02-08T15:35:38.716Z"
   },
   {
    "duration": 11,
    "start_time": "2023-02-08T15:37:50.019Z"
   },
   {
    "duration": 8,
    "start_time": "2023-02-08T15:37:52.964Z"
   },
   {
    "duration": 52,
    "start_time": "2023-02-08T15:38:23.252Z"
   },
   {
    "duration": 53,
    "start_time": "2023-02-08T15:38:30.744Z"
   },
   {
    "duration": 55,
    "start_time": "2023-02-08T15:41:00.149Z"
   },
   {
    "duration": 15,
    "start_time": "2023-02-08T15:41:08.535Z"
   },
   {
    "duration": 4,
    "start_time": "2023-02-08T15:44:26.853Z"
   },
   {
    "duration": 976,
    "start_time": "2023-02-08T15:46:49.214Z"
   },
   {
    "duration": 14,
    "start_time": "2023-02-08T15:48:11.152Z"
   },
   {
    "duration": 10,
    "start_time": "2023-02-08T15:50:35.497Z"
   },
   {
    "duration": 15,
    "start_time": "2023-02-08T15:53:30.892Z"
   },
   {
    "duration": 8,
    "start_time": "2023-02-08T15:53:37.312Z"
   },
   {
    "duration": 15,
    "start_time": "2023-02-08T15:53:54.355Z"
   },
   {
    "duration": 10,
    "start_time": "2023-02-08T15:55:30.259Z"
   },
   {
    "duration": 10,
    "start_time": "2023-02-08T15:57:21.917Z"
   },
   {
    "duration": 12,
    "start_time": "2023-02-08T16:00:56.848Z"
   },
   {
    "duration": 73,
    "start_time": "2023-02-08T16:03:50.794Z"
   },
   {
    "duration": 45,
    "start_time": "2023-02-08T16:04:06.057Z"
   },
   {
    "duration": 68,
    "start_time": "2023-02-08T16:05:07.923Z"
   },
   {
    "duration": 12,
    "start_time": "2023-02-08T16:05:32.983Z"
   },
   {
    "duration": 14,
    "start_time": "2023-02-08T16:07:23.493Z"
   },
   {
    "duration": 20,
    "start_time": "2023-02-08T16:08:07.523Z"
   },
   {
    "duration": 883,
    "start_time": "2023-02-08T16:08:54.554Z"
   },
   {
    "duration": 962,
    "start_time": "2023-02-08T16:09:11.161Z"
   },
   {
    "duration": 891,
    "start_time": "2023-02-08T16:10:11.926Z"
   },
   {
    "duration": 13,
    "start_time": "2023-02-08T16:11:08.064Z"
   },
   {
    "duration": 25,
    "start_time": "2023-02-08T16:11:20.227Z"
   },
   {
    "duration": 53,
    "start_time": "2023-02-08T16:13:07.667Z"
   },
   {
    "duration": 1010,
    "start_time": "2023-02-08T16:13:12.771Z"
   },
   {
    "duration": 898,
    "start_time": "2023-02-08T16:13:38.966Z"
   },
   {
    "duration": 845,
    "start_time": "2023-02-08T16:14:15.156Z"
   },
   {
    "duration": 885,
    "start_time": "2023-02-08T16:15:13.658Z"
   },
   {
    "duration": 12,
    "start_time": "2023-02-08T16:15:56.439Z"
   },
   {
    "duration": 777,
    "start_time": "2023-02-08T16:16:36.018Z"
   },
   {
    "duration": 11,
    "start_time": "2023-02-08T16:18:18.007Z"
   },
   {
    "duration": 807,
    "start_time": "2023-02-08T16:18:52.389Z"
   },
   {
    "duration": 9,
    "start_time": "2023-02-08T16:19:08.182Z"
   },
   {
    "duration": 745,
    "start_time": "2023-02-08T16:19:56.131Z"
   },
   {
    "duration": 9,
    "start_time": "2023-02-08T16:20:25.845Z"
   },
   {
    "duration": 15,
    "start_time": "2023-02-08T16:21:43.619Z"
   },
   {
    "duration": 52,
    "start_time": "2023-02-08T16:31:07.060Z"
   },
   {
    "duration": 51,
    "start_time": "2023-02-08T16:31:08.856Z"
   },
   {
    "duration": 11,
    "start_time": "2023-02-08T16:31:19.469Z"
   },
   {
    "duration": 11,
    "start_time": "2023-02-08T16:31:50.063Z"
   },
   {
    "duration": 816,
    "start_time": "2023-02-08T16:32:14.049Z"
   },
   {
    "duration": 1025,
    "start_time": "2023-02-08T16:32:20.618Z"
   },
   {
    "duration": 10,
    "start_time": "2023-02-08T16:32:45.541Z"
   },
   {
    "duration": 63,
    "start_time": "2023-02-08T16:33:54.423Z"
   },
   {
    "duration": 21,
    "start_time": "2023-02-08T16:33:55.118Z"
   },
   {
    "duration": 14,
    "start_time": "2023-02-08T16:33:55.775Z"
   },
   {
    "duration": 10,
    "start_time": "2023-02-08T16:33:56.873Z"
   },
   {
    "duration": 38,
    "start_time": "2023-02-08T16:33:57.321Z"
   },
   {
    "duration": 4,
    "start_time": "2023-02-08T16:33:57.897Z"
   },
   {
    "duration": 7,
    "start_time": "2023-02-08T16:33:58.271Z"
   },
   {
    "duration": 4,
    "start_time": "2023-02-08T16:33:58.964Z"
   },
   {
    "duration": 6,
    "start_time": "2023-02-08T16:33:59.385Z"
   },
   {
    "duration": 4,
    "start_time": "2023-02-08T16:33:59.884Z"
   },
   {
    "duration": 30,
    "start_time": "2023-02-08T16:34:01.359Z"
   },
   {
    "duration": 10,
    "start_time": "2023-02-08T16:34:01.983Z"
   },
   {
    "duration": 4,
    "start_time": "2023-02-08T16:34:02.738Z"
   },
   {
    "duration": 10,
    "start_time": "2023-02-08T16:34:03.543Z"
   },
   {
    "duration": 18,
    "start_time": "2023-02-08T16:34:04.292Z"
   },
   {
    "duration": 16,
    "start_time": "2023-02-08T16:34:04.861Z"
   },
   {
    "duration": 3,
    "start_time": "2023-02-08T16:34:06.287Z"
   },
   {
    "duration": 9,
    "start_time": "2023-02-08T16:34:07.045Z"
   },
   {
    "duration": 6,
    "start_time": "2023-02-08T16:34:08.450Z"
   },
   {
    "duration": 3,
    "start_time": "2023-02-08T16:34:09.697Z"
   },
   {
    "duration": 8,
    "start_time": "2023-02-08T16:34:10.197Z"
   },
   {
    "duration": 16,
    "start_time": "2023-02-08T16:34:11.838Z"
   },
   {
    "duration": 9,
    "start_time": "2023-02-08T16:34:14.570Z"
   },
   {
    "duration": 22,
    "start_time": "2023-02-08T16:34:15.621Z"
   },
   {
    "duration": 13,
    "start_time": "2023-02-08T16:34:16.039Z"
   },
   {
    "duration": 9,
    "start_time": "2023-02-08T16:34:17.798Z"
   },
   {
    "duration": 18,
    "start_time": "2023-02-08T16:34:54.125Z"
   },
   {
    "duration": 13,
    "start_time": "2023-02-08T16:35:08.924Z"
   },
   {
    "duration": 830,
    "start_time": "2023-02-08T16:36:55.426Z"
   },
   {
    "duration": 1348,
    "start_time": "2023-02-08T16:37:05.138Z"
   },
   {
    "duration": 2234,
    "start_time": "2023-02-08T16:37:34.168Z"
   },
   {
    "duration": 8,
    "start_time": "2023-02-08T16:37:48.596Z"
   },
   {
    "duration": 9,
    "start_time": "2023-02-08T16:38:40.864Z"
   },
   {
    "duration": 10,
    "start_time": "2023-02-08T16:38:51.442Z"
   },
   {
    "duration": 10,
    "start_time": "2023-02-08T16:39:32.297Z"
   },
   {
    "duration": 8,
    "start_time": "2023-02-08T16:39:39.981Z"
   },
   {
    "duration": 10,
    "start_time": "2023-02-08T16:39:43.410Z"
   },
   {
    "duration": 21,
    "start_time": "2023-02-08T16:40:16.227Z"
   },
   {
    "duration": 12,
    "start_time": "2023-02-08T16:40:23.399Z"
   },
   {
    "duration": 9,
    "start_time": "2023-02-08T16:45:43.695Z"
   },
   {
    "duration": 12,
    "start_time": "2023-02-08T16:45:44.768Z"
   },
   {
    "duration": 18,
    "start_time": "2023-02-08T16:45:46.420Z"
   },
   {
    "duration": 12,
    "start_time": "2023-02-08T16:47:57.460Z"
   },
   {
    "duration": 12,
    "start_time": "2023-02-08T16:48:13.972Z"
   },
   {
    "duration": 77,
    "start_time": "2023-02-08T16:48:35.191Z"
   },
   {
    "duration": 17,
    "start_time": "2023-02-08T16:48:36.227Z"
   },
   {
    "duration": 12,
    "start_time": "2023-02-08T16:48:37.097Z"
   },
   {
    "duration": 11,
    "start_time": "2023-02-08T16:48:38.622Z"
   },
   {
    "duration": 30,
    "start_time": "2023-02-08T16:48:39.446Z"
   },
   {
    "duration": 3,
    "start_time": "2023-02-08T16:48:40.493Z"
   },
   {
    "duration": 7,
    "start_time": "2023-02-08T16:48:41.720Z"
   },
   {
    "duration": 4,
    "start_time": "2023-02-08T16:48:42.448Z"
   },
   {
    "duration": 5,
    "start_time": "2023-02-08T16:48:42.967Z"
   },
   {
    "duration": 5,
    "start_time": "2023-02-08T16:48:43.423Z"
   },
   {
    "duration": 31,
    "start_time": "2023-02-08T16:48:44.080Z"
   },
   {
    "duration": 10,
    "start_time": "2023-02-08T16:48:44.466Z"
   },
   {
    "duration": 4,
    "start_time": "2023-02-08T16:48:45.172Z"
   },
   {
    "duration": 12,
    "start_time": "2023-02-08T16:48:45.821Z"
   },
   {
    "duration": 19,
    "start_time": "2023-02-08T16:48:46.493Z"
   },
   {
    "duration": 17,
    "start_time": "2023-02-08T16:48:46.780Z"
   },
   {
    "duration": 4,
    "start_time": "2023-02-08T16:48:47.621Z"
   },
   {
    "duration": 14,
    "start_time": "2023-02-08T16:48:47.947Z"
   },
   {
    "duration": 6,
    "start_time": "2023-02-08T16:48:49.056Z"
   },
   {
    "duration": 4,
    "start_time": "2023-02-08T16:48:51.030Z"
   },
   {
    "duration": 8,
    "start_time": "2023-02-08T16:48:53.239Z"
   },
   {
    "duration": 15,
    "start_time": "2023-02-08T16:49:01.246Z"
   },
   {
    "duration": 8,
    "start_time": "2023-02-08T16:49:02.487Z"
   },
   {
    "duration": 14,
    "start_time": "2023-02-08T16:49:02.809Z"
   },
   {
    "duration": 13,
    "start_time": "2023-02-08T16:49:03.183Z"
   },
   {
    "duration": 9,
    "start_time": "2023-02-08T16:49:04.165Z"
   },
   {
    "duration": 11,
    "start_time": "2023-02-08T16:49:05.114Z"
   },
   {
    "duration": 16,
    "start_time": "2023-02-08T16:49:12.409Z"
   },
   {
    "duration": 12,
    "start_time": "2023-02-08T16:49:21.175Z"
   },
   {
    "duration": 14,
    "start_time": "2023-02-08T16:49:38.268Z"
   },
   {
    "duration": 10,
    "start_time": "2023-02-08T16:50:33.196Z"
   },
   {
    "duration": 704,
    "start_time": "2023-02-09T07:08:48.274Z"
   },
   {
    "duration": 34,
    "start_time": "2023-02-09T07:09:00.984Z"
   },
   {
    "duration": 16,
    "start_time": "2023-02-09T07:09:15.903Z"
   },
   {
    "duration": 13,
    "start_time": "2023-02-09T07:09:19.020Z"
   },
   {
    "duration": 45,
    "start_time": "2023-02-09T07:09:20.220Z"
   },
   {
    "duration": 5,
    "start_time": "2023-02-09T07:09:21.622Z"
   },
   {
    "duration": 13,
    "start_time": "2023-02-09T07:09:22.460Z"
   },
   {
    "duration": 11,
    "start_time": "2023-02-09T07:09:23.679Z"
   },
   {
    "duration": 9,
    "start_time": "2023-02-09T07:09:24.445Z"
   },
   {
    "duration": 5,
    "start_time": "2023-02-09T07:09:25.198Z"
   },
   {
    "duration": 74,
    "start_time": "2023-02-09T07:09:26.328Z"
   },
   {
    "duration": 37,
    "start_time": "2023-02-09T07:09:27.177Z"
   },
   {
    "duration": 4,
    "start_time": "2023-02-09T07:09:33.015Z"
   },
   {
    "duration": 18,
    "start_time": "2023-02-09T07:10:03.100Z"
   },
   {
    "duration": 30,
    "start_time": "2023-02-09T07:10:03.120Z"
   },
   {
    "duration": 39,
    "start_time": "2023-02-09T07:10:03.152Z"
   },
   {
    "duration": 4,
    "start_time": "2023-02-09T07:10:06.838Z"
   },
   {
    "duration": 16,
    "start_time": "2023-02-09T07:10:07.720Z"
   },
   {
    "duration": 5,
    "start_time": "2023-02-09T07:10:08.697Z"
   },
   {
    "duration": 4,
    "start_time": "2023-02-09T07:10:10.233Z"
   },
   {
    "duration": 11,
    "start_time": "2023-02-09T07:10:10.789Z"
   },
   {
    "duration": 23,
    "start_time": "2023-02-09T07:10:12.116Z"
   },
   {
    "duration": 15,
    "start_time": "2023-02-09T07:10:22.578Z"
   },
   {
    "duration": 20,
    "start_time": "2023-02-09T07:10:24.392Z"
   },
   {
    "duration": 16,
    "start_time": "2023-02-09T07:10:24.988Z"
   },
   {
    "duration": 11,
    "start_time": "2023-02-09T07:10:51.836Z"
   },
   {
    "duration": 14,
    "start_time": "2023-02-09T07:10:59.892Z"
   },
   {
    "duration": 20,
    "start_time": "2023-02-09T07:11:01.490Z"
   },
   {
    "duration": 22,
    "start_time": "2023-02-09T07:13:15.397Z"
   },
   {
    "duration": 15,
    "start_time": "2023-02-09T07:16:35.610Z"
   },
   {
    "duration": 31,
    "start_time": "2023-02-09T07:17:09.785Z"
   },
   {
    "duration": 8,
    "start_time": "2023-02-09T07:42:14.983Z"
   },
   {
    "duration": 11,
    "start_time": "2023-02-09T07:42:25.646Z"
   },
   {
    "duration": 16,
    "start_time": "2023-02-09T07:43:17.376Z"
   },
   {
    "duration": 15,
    "start_time": "2023-02-09T07:43:30.024Z"
   },
   {
    "duration": 103,
    "start_time": "2023-02-09T07:44:32.977Z"
   },
   {
    "duration": 11,
    "start_time": "2023-02-09T07:45:14.983Z"
   },
   {
    "duration": 15,
    "start_time": "2023-02-09T07:45:58.886Z"
   },
   {
    "duration": 26,
    "start_time": "2023-02-09T07:46:48.846Z"
   },
   {
    "duration": 16,
    "start_time": "2023-02-09T07:46:53.842Z"
   },
   {
    "duration": 16,
    "start_time": "2023-02-09T07:48:07.111Z"
   },
   {
    "duration": 19,
    "start_time": "2023-02-09T07:48:32.789Z"
   },
   {
    "duration": 27,
    "start_time": "2023-02-09T07:49:38.844Z"
   },
   {
    "duration": 5,
    "start_time": "2023-02-09T07:54:35.508Z"
   },
   {
    "duration": 6,
    "start_time": "2023-02-09T07:54:51.553Z"
   },
   {
    "duration": 15,
    "start_time": "2023-02-09T07:55:03.528Z"
   },
   {
    "duration": 14,
    "start_time": "2023-02-09T07:55:10.814Z"
   },
   {
    "duration": 30,
    "start_time": "2023-02-09T07:55:32.778Z"
   },
   {
    "duration": 29,
    "start_time": "2023-02-09T07:55:57.213Z"
   },
   {
    "duration": 27,
    "start_time": "2023-02-09T07:56:05.712Z"
   },
   {
    "duration": 20,
    "start_time": "2023-02-09T07:57:26.842Z"
   },
   {
    "duration": 18,
    "start_time": "2023-02-09T07:57:42.578Z"
   },
   {
    "duration": 21,
    "start_time": "2023-02-09T07:58:37.388Z"
   },
   {
    "duration": 19,
    "start_time": "2023-02-09T07:58:42.562Z"
   },
   {
    "duration": 122,
    "start_time": "2023-02-09T07:59:42.209Z"
   },
   {
    "duration": 116,
    "start_time": "2023-02-09T08:00:13.994Z"
   },
   {
    "duration": 24,
    "start_time": "2023-02-09T08:00:16.993Z"
   },
   {
    "duration": 20,
    "start_time": "2023-02-09T08:00:25.207Z"
   },
   {
    "duration": 28,
    "start_time": "2023-02-09T08:00:29.152Z"
   },
   {
    "duration": 43,
    "start_time": "2023-02-09T08:01:12.363Z"
   },
   {
    "duration": 23,
    "start_time": "2023-02-09T08:01:17.079Z"
   },
   {
    "duration": 19,
    "start_time": "2023-02-09T08:01:56.188Z"
   },
   {
    "duration": 14,
    "start_time": "2023-02-09T08:02:01.834Z"
   },
   {
    "duration": 890,
    "start_time": "2023-02-09T08:02:19.888Z"
   },
   {
    "duration": 779,
    "start_time": "2023-02-09T08:02:24.525Z"
   },
   {
    "duration": 738,
    "start_time": "2023-02-09T08:03:20.713Z"
   },
   {
    "duration": 474,
    "start_time": "2023-02-09T14:10:44.517Z"
   },
   {
    "duration": 30,
    "start_time": "2023-02-09T14:10:46.510Z"
   },
   {
    "duration": 29,
    "start_time": "2023-02-09T14:10:47.877Z"
   },
   {
    "duration": 15,
    "start_time": "2023-02-09T14:10:49.476Z"
   },
   {
    "duration": 37,
    "start_time": "2023-02-09T14:10:50.380Z"
   },
   {
    "duration": 4,
    "start_time": "2023-02-09T14:10:51.547Z"
   },
   {
    "duration": 9,
    "start_time": "2023-02-09T14:10:52.296Z"
   },
   {
    "duration": 7,
    "start_time": "2023-02-09T14:10:53.382Z"
   },
   {
    "duration": 8,
    "start_time": "2023-02-09T14:10:54.204Z"
   },
   {
    "duration": 6,
    "start_time": "2023-02-09T14:10:55.015Z"
   },
   {
    "duration": 46,
    "start_time": "2023-02-09T14:10:56.175Z"
   },
   {
    "duration": 16,
    "start_time": "2023-02-09T14:10:56.977Z"
   },
   {
    "duration": 7,
    "start_time": "2023-02-09T14:10:58.064Z"
   },
   {
    "duration": 18,
    "start_time": "2023-02-09T14:10:59.196Z"
   },
   {
    "duration": 21,
    "start_time": "2023-02-09T14:10:59.996Z"
   },
   {
    "duration": 41,
    "start_time": "2023-02-09T14:11:00.458Z"
   },
   {
    "duration": 12,
    "start_time": "2023-02-09T14:11:01.487Z"
   },
   {
    "duration": 21,
    "start_time": "2023-02-09T14:11:01.851Z"
   },
   {
    "duration": 10,
    "start_time": "2023-02-09T14:11:02.585Z"
   },
   {
    "duration": 4,
    "start_time": "2023-02-09T14:11:03.207Z"
   },
   {
    "duration": 9,
    "start_time": "2023-02-09T14:11:03.621Z"
   },
   {
    "duration": 5,
    "start_time": "2023-02-09T14:11:04.504Z"
   },
   {
    "duration": 11,
    "start_time": "2023-02-09T14:17:08.575Z"
   },
   {
    "duration": 12,
    "start_time": "2023-02-09T14:17:16.277Z"
   },
   {
    "duration": 10,
    "start_time": "2023-02-09T14:19:07.081Z"
   },
   {
    "duration": 8,
    "start_time": "2023-02-09T14:19:58.890Z"
   },
   {
    "duration": 19,
    "start_time": "2023-02-09T14:20:20.051Z"
   },
   {
    "duration": 19,
    "start_time": "2023-02-09T14:20:32.463Z"
   },
   {
    "duration": 11,
    "start_time": "2023-02-09T14:20:55.209Z"
   },
   {
    "duration": 10,
    "start_time": "2023-02-09T14:21:54.486Z"
   },
   {
    "duration": 11,
    "start_time": "2023-02-09T14:22:00.387Z"
   },
   {
    "duration": 14,
    "start_time": "2023-02-09T14:22:07.597Z"
   },
   {
    "duration": 11,
    "start_time": "2023-02-09T14:22:10.691Z"
   },
   {
    "duration": 12,
    "start_time": "2023-02-09T14:22:22.590Z"
   },
   {
    "duration": 31,
    "start_time": "2023-02-09T14:25:44.766Z"
   },
   {
    "duration": 518,
    "start_time": "2023-02-09T14:26:35.280Z"
   },
   {
    "duration": 69,
    "start_time": "2023-02-09T14:26:39.771Z"
   },
   {
    "duration": 22,
    "start_time": "2023-02-09T14:26:40.801Z"
   },
   {
    "duration": 16,
    "start_time": "2023-02-09T14:26:41.508Z"
   },
   {
    "duration": 23,
    "start_time": "2023-02-09T14:26:42.657Z"
   },
   {
    "duration": 32,
    "start_time": "2023-02-09T14:26:43.198Z"
   },
   {
    "duration": 15,
    "start_time": "2023-02-09T14:26:43.254Z"
   },
   {
    "duration": 13,
    "start_time": "2023-02-09T14:26:43.376Z"
   },
   {
    "duration": 5,
    "start_time": "2023-02-09T14:26:43.593Z"
   },
   {
    "duration": 24,
    "start_time": "2023-02-09T14:26:43.600Z"
   },
   {
    "duration": 12,
    "start_time": "2023-02-09T14:26:43.626Z"
   },
   {
    "duration": 32,
    "start_time": "2023-02-09T14:26:43.693Z"
   },
   {
    "duration": 9,
    "start_time": "2023-02-09T14:26:43.727Z"
   },
   {
    "duration": 4,
    "start_time": "2023-02-09T14:26:43.810Z"
   },
   {
    "duration": 18,
    "start_time": "2023-02-09T14:26:43.868Z"
   },
   {
    "duration": 20,
    "start_time": "2023-02-09T14:26:43.979Z"
   },
   {
    "duration": 17,
    "start_time": "2023-02-09T14:26:44.000Z"
   },
   {
    "duration": 4,
    "start_time": "2023-02-09T14:26:44.045Z"
   },
   {
    "duration": 11,
    "start_time": "2023-02-09T14:26:44.086Z"
   },
   {
    "duration": 6,
    "start_time": "2023-02-09T14:26:45.182Z"
   },
   {
    "duration": 3,
    "start_time": "2023-02-09T14:26:45.679Z"
   },
   {
    "duration": 10,
    "start_time": "2023-02-09T14:26:45.883Z"
   },
   {
    "duration": 6,
    "start_time": "2023-02-09T14:27:10.122Z"
   },
   {
    "duration": 74,
    "start_time": "2023-02-09T14:28:29.777Z"
   },
   {
    "duration": 7,
    "start_time": "2023-02-09T14:28:38.234Z"
   },
   {
    "duration": 16,
    "start_time": "2023-02-09T14:28:53.067Z"
   },
   {
    "duration": 13,
    "start_time": "2023-02-09T14:28:56.775Z"
   },
   {
    "duration": 8,
    "start_time": "2023-02-09T14:29:13.019Z"
   },
   {
    "duration": 6,
    "start_time": "2023-02-09T14:29:47.228Z"
   },
   {
    "duration": 9,
    "start_time": "2023-02-09T14:30:46.693Z"
   },
   {
    "duration": 10,
    "start_time": "2023-02-09T14:31:54.619Z"
   },
   {
    "duration": 24,
    "start_time": "2023-02-09T14:33:04.022Z"
   },
   {
    "duration": 19,
    "start_time": "2023-02-09T14:35:00.322Z"
   },
   {
    "duration": 35,
    "start_time": "2023-02-09T14:36:29.483Z"
   },
   {
    "duration": 35,
    "start_time": "2023-02-09T14:36:39.938Z"
   },
   {
    "duration": 44,
    "start_time": "2023-02-09T14:37:09.836Z"
   },
   {
    "duration": 24,
    "start_time": "2023-02-09T14:38:24.423Z"
   },
   {
    "duration": 23,
    "start_time": "2023-02-09T14:41:47.028Z"
   },
   {
    "duration": 17,
    "start_time": "2023-02-09T14:42:18.217Z"
   },
   {
    "duration": 15,
    "start_time": "2023-02-09T14:42:43.808Z"
   },
   {
    "duration": 15,
    "start_time": "2023-02-09T14:42:56.823Z"
   },
   {
    "duration": 10,
    "start_time": "2023-02-09T14:43:17.780Z"
   },
   {
    "duration": 13,
    "start_time": "2023-02-09T14:43:31.506Z"
   },
   {
    "duration": 12,
    "start_time": "2023-02-09T14:43:38.194Z"
   },
   {
    "duration": 15,
    "start_time": "2023-02-09T14:43:50.494Z"
   },
   {
    "duration": 19,
    "start_time": "2023-02-09T14:43:58.391Z"
   },
   {
    "duration": 106,
    "start_time": "2023-02-09T14:45:27.022Z"
   },
   {
    "duration": 31,
    "start_time": "2023-02-09T14:45:34.345Z"
   },
   {
    "duration": 50,
    "start_time": "2023-02-09T14:45:53.751Z"
   },
   {
    "duration": 32,
    "start_time": "2023-02-09T14:46:25.594Z"
   },
   {
    "duration": 32,
    "start_time": "2023-02-09T14:46:44.516Z"
   },
   {
    "duration": 39,
    "start_time": "2023-02-09T14:47:20.771Z"
   },
   {
    "duration": 13,
    "start_time": "2023-02-09T14:48:28.613Z"
   },
   {
    "duration": 12,
    "start_time": "2023-02-09T14:49:00.447Z"
   },
   {
    "duration": 77,
    "start_time": "2023-02-09T14:49:24.530Z"
   },
   {
    "duration": 19,
    "start_time": "2023-02-09T14:49:31.743Z"
   },
   {
    "duration": 20,
    "start_time": "2023-02-09T14:49:45.854Z"
   },
   {
    "duration": 15,
    "start_time": "2023-02-09T14:51:04.022Z"
   },
   {
    "duration": 10,
    "start_time": "2023-02-09T14:57:31.373Z"
   },
   {
    "duration": 9,
    "start_time": "2023-02-09T14:58:07.632Z"
   },
   {
    "duration": 8,
    "start_time": "2023-02-09T14:58:37.321Z"
   },
   {
    "duration": 72,
    "start_time": "2023-02-09T14:58:47.874Z"
   },
   {
    "duration": 16,
    "start_time": "2023-02-09T14:58:48.925Z"
   },
   {
    "duration": 22,
    "start_time": "2023-02-09T14:58:50.173Z"
   },
   {
    "duration": 13,
    "start_time": "2023-02-09T14:58:50.197Z"
   },
   {
    "duration": 48,
    "start_time": "2023-02-09T14:58:52.260Z"
   },
   {
    "duration": 3,
    "start_time": "2023-02-09T14:58:52.310Z"
   },
   {
    "duration": 474,
    "start_time": "2023-02-09T14:58:59.664Z"
   },
   {
    "duration": 34,
    "start_time": "2023-02-09T14:59:00.140Z"
   },
   {
    "duration": 36,
    "start_time": "2023-02-09T14:59:00.181Z"
   },
   {
    "duration": 29,
    "start_time": "2023-02-09T14:59:00.219Z"
   },
   {
    "duration": 66,
    "start_time": "2023-02-09T14:59:00.249Z"
   },
   {
    "duration": 4,
    "start_time": "2023-02-09T14:59:00.316Z"
   },
   {
    "duration": 43,
    "start_time": "2023-02-09T14:59:00.321Z"
   },
   {
    "duration": 42,
    "start_time": "2023-02-09T14:59:00.366Z"
   },
   {
    "duration": 32,
    "start_time": "2023-02-09T14:59:00.409Z"
   },
   {
    "duration": 57,
    "start_time": "2023-02-09T14:59:00.443Z"
   },
   {
    "duration": 73,
    "start_time": "2023-02-09T14:59:00.501Z"
   },
   {
    "duration": 12,
    "start_time": "2023-02-09T14:59:00.583Z"
   },
   {
    "duration": 28,
    "start_time": "2023-02-09T14:59:00.596Z"
   },
   {
    "duration": 41,
    "start_time": "2023-02-09T14:59:00.626Z"
   },
   {
    "duration": 58,
    "start_time": "2023-02-09T14:59:00.669Z"
   },
   {
    "duration": 18,
    "start_time": "2023-02-09T14:59:02.011Z"
   },
   {
    "duration": 11,
    "start_time": "2023-02-09T14:59:02.031Z"
   },
   {
    "duration": 42,
    "start_time": "2023-02-09T14:59:02.044Z"
   },
   {
    "duration": 37,
    "start_time": "2023-02-09T14:59:02.088Z"
   },
   {
    "duration": 3,
    "start_time": "2023-02-09T14:59:03.085Z"
   },
   {
    "duration": 21,
    "start_time": "2023-02-09T14:59:03.090Z"
   },
   {
    "duration": 71,
    "start_time": "2023-02-09T14:59:06.996Z"
   },
   {
    "duration": 17,
    "start_time": "2023-02-09T15:09:31.054Z"
   },
   {
    "duration": 83,
    "start_time": "2023-02-09T15:11:12.039Z"
   },
   {
    "duration": 82,
    "start_time": "2023-02-09T15:12:53.320Z"
   },
   {
    "duration": 9,
    "start_time": "2023-02-09T15:13:33.767Z"
   },
   {
    "duration": 7,
    "start_time": "2023-02-09T15:16:07.604Z"
   },
   {
    "duration": 7,
    "start_time": "2023-02-09T15:16:19.805Z"
   },
   {
    "duration": 9,
    "start_time": "2023-02-09T15:16:47.426Z"
   },
   {
    "duration": 7,
    "start_time": "2023-02-09T15:17:44.125Z"
   },
   {
    "duration": 7,
    "start_time": "2023-02-09T15:18:00.202Z"
   },
   {
    "duration": 7,
    "start_time": "2023-02-09T15:20:10.502Z"
   },
   {
    "duration": 8,
    "start_time": "2023-02-09T15:20:17.905Z"
   },
   {
    "duration": 8,
    "start_time": "2023-02-09T15:21:23.905Z"
   },
   {
    "duration": 7,
    "start_time": "2023-02-09T15:21:40.162Z"
   },
   {
    "duration": 7,
    "start_time": "2023-02-09T15:21:45.870Z"
   },
   {
    "duration": 10,
    "start_time": "2023-02-09T15:23:04.027Z"
   },
   {
    "duration": 7,
    "start_time": "2023-02-09T15:23:37.904Z"
   },
   {
    "duration": 9,
    "start_time": "2023-02-09T15:24:43.763Z"
   },
   {
    "duration": 7,
    "start_time": "2023-02-09T15:25:37.411Z"
   },
   {
    "duration": 7,
    "start_time": "2023-02-09T15:26:00.097Z"
   },
   {
    "duration": 10410,
    "start_time": "2023-02-09T15:28:29.413Z"
   },
   {
    "duration": 17310,
    "start_time": "2023-02-09T15:28:57.908Z"
   },
   {
    "duration": 8,
    "start_time": "2023-02-09T15:34:04.799Z"
   },
   {
    "duration": 9,
    "start_time": "2023-02-09T15:35:08.997Z"
   },
   {
    "duration": 10,
    "start_time": "2023-02-09T15:35:19.468Z"
   },
   {
    "duration": 10,
    "start_time": "2023-02-09T15:35:36.261Z"
   },
   {
    "duration": 18,
    "start_time": "2023-02-09T15:41:06.645Z"
   },
   {
    "duration": 17,
    "start_time": "2023-02-09T15:45:30.714Z"
   },
   {
    "duration": 10,
    "start_time": "2023-02-09T15:46:15.585Z"
   },
   {
    "duration": 16,
    "start_time": "2023-02-09T15:47:06.577Z"
   },
   {
    "duration": 17,
    "start_time": "2023-02-09T15:48:11.123Z"
   },
   {
    "duration": 10,
    "start_time": "2023-02-09T15:50:10.323Z"
   },
   {
    "duration": 11,
    "start_time": "2023-02-09T15:50:39.484Z"
   },
   {
    "duration": 18,
    "start_time": "2023-02-09T15:50:49.823Z"
   },
   {
    "duration": 16,
    "start_time": "2023-02-09T15:51:13.425Z"
   },
   {
    "duration": 16,
    "start_time": "2023-02-09T15:52:48.004Z"
   },
   {
    "duration": 18,
    "start_time": "2023-02-09T15:53:00.076Z"
   },
   {
    "duration": 18,
    "start_time": "2023-02-09T15:53:20.596Z"
   },
   {
    "duration": 97,
    "start_time": "2023-02-09T16:03:15.271Z"
   },
   {
    "duration": 81,
    "start_time": "2023-02-09T16:03:25.944Z"
   },
   {
    "duration": 128,
    "start_time": "2023-02-09T16:04:15.621Z"
   },
   {
    "duration": 83,
    "start_time": "2023-02-09T16:04:35.575Z"
   },
   {
    "duration": 106,
    "start_time": "2023-02-09T16:05:15.176Z"
   },
   {
    "duration": 84,
    "start_time": "2023-02-09T16:05:32.995Z"
   },
   {
    "duration": 79,
    "start_time": "2023-02-09T16:06:04.197Z"
   },
   {
    "duration": 10,
    "start_time": "2023-02-09T16:06:24.119Z"
   },
   {
    "duration": 73,
    "start_time": "2023-02-09T16:08:46.086Z"
   },
   {
    "duration": 9,
    "start_time": "2023-02-09T16:08:54.529Z"
   },
   {
    "duration": 10,
    "start_time": "2023-02-09T16:09:45.078Z"
   },
   {
    "duration": 10,
    "start_time": "2023-02-09T16:11:56.341Z"
   },
   {
    "duration": 99,
    "start_time": "2023-02-09T16:12:31.996Z"
   },
   {
    "duration": 14,
    "start_time": "2023-02-09T16:12:49.175Z"
   },
   {
    "duration": 15,
    "start_time": "2023-02-09T16:15:53.408Z"
   },
   {
    "duration": 72,
    "start_time": "2023-02-09T16:19:07.700Z"
   },
   {
    "duration": 72,
    "start_time": "2023-02-09T16:19:59.908Z"
   },
   {
    "duration": 72,
    "start_time": "2023-02-09T16:20:04.746Z"
   },
   {
    "duration": 74,
    "start_time": "2023-02-09T16:20:28.030Z"
   },
   {
    "duration": 17,
    "start_time": "2023-02-09T16:20:53.473Z"
   },
   {
    "duration": 4,
    "start_time": "2023-02-09T16:21:35.735Z"
   },
   {
    "duration": 4,
    "start_time": "2023-02-09T16:22:01.905Z"
   },
   {
    "duration": 14,
    "start_time": "2023-02-09T16:25:46.229Z"
   },
   {
    "duration": 16,
    "start_time": "2023-02-09T16:26:29.513Z"
   },
   {
    "duration": 14,
    "start_time": "2023-02-09T16:28:26.307Z"
   },
   {
    "duration": 12,
    "start_time": "2023-02-09T16:28:48.407Z"
   },
   {
    "duration": 13,
    "start_time": "2023-02-09T16:32:47.746Z"
   },
   {
    "duration": 74,
    "start_time": "2023-02-09T16:33:18.429Z"
   },
   {
    "duration": 11,
    "start_time": "2023-02-09T16:33:34.377Z"
   },
   {
    "duration": 14,
    "start_time": "2023-02-09T16:34:21.227Z"
   },
   {
    "duration": 13,
    "start_time": "2023-02-09T16:34:33.506Z"
   },
   {
    "duration": 77,
    "start_time": "2023-02-09T16:34:57.589Z"
   },
   {
    "duration": 13,
    "start_time": "2023-02-09T16:35:23.748Z"
   },
   {
    "duration": 16,
    "start_time": "2023-02-09T16:35:59.581Z"
   },
   {
    "duration": 13,
    "start_time": "2023-02-09T16:37:48.469Z"
   },
   {
    "duration": 12,
    "start_time": "2023-02-09T16:38:09.430Z"
   },
   {
    "duration": 13,
    "start_time": "2023-02-09T16:38:24.237Z"
   },
   {
    "duration": 20,
    "start_time": "2023-02-09T16:44:55.331Z"
   },
   {
    "duration": 21,
    "start_time": "2023-02-09T16:45:19.765Z"
   },
   {
    "duration": 14,
    "start_time": "2023-02-09T16:45:39.535Z"
   },
   {
    "duration": 13,
    "start_time": "2023-02-09T16:45:45.227Z"
   },
   {
    "duration": 14,
    "start_time": "2023-02-09T16:46:02.232Z"
   },
   {
    "duration": 15,
    "start_time": "2023-02-09T16:46:22.299Z"
   },
   {
    "duration": 10,
    "start_time": "2023-02-09T16:47:22.674Z"
   },
   {
    "duration": 15,
    "start_time": "2023-02-09T16:47:31.787Z"
   },
   {
    "duration": 14,
    "start_time": "2023-02-09T16:47:42.160Z"
   },
   {
    "duration": 95,
    "start_time": "2023-02-09T16:48:12.496Z"
   },
   {
    "duration": 70,
    "start_time": "2023-02-09T16:48:28.898Z"
   },
   {
    "duration": 69,
    "start_time": "2023-02-09T16:48:47.972Z"
   },
   {
    "duration": 9,
    "start_time": "2023-02-09T16:49:14.824Z"
   },
   {
    "duration": 9,
    "start_time": "2023-02-09T16:49:36.498Z"
   },
   {
    "duration": 9,
    "start_time": "2023-02-09T16:50:05.604Z"
   },
   {
    "duration": 8,
    "start_time": "2023-02-09T16:50:12.697Z"
   },
   {
    "duration": 14,
    "start_time": "2023-02-09T16:52:33.958Z"
   },
   {
    "duration": 16,
    "start_time": "2023-02-09T16:53:10.102Z"
   },
   {
    "duration": 12,
    "start_time": "2023-02-09T16:53:24.216Z"
   },
   {
    "duration": 10,
    "start_time": "2023-02-09T16:54:17.755Z"
   },
   {
    "duration": 9,
    "start_time": "2023-02-09T16:56:07.921Z"
   },
   {
    "duration": 82,
    "start_time": "2023-02-09T16:59:03.909Z"
   },
   {
    "duration": 87,
    "start_time": "2023-02-09T16:59:20.090Z"
   },
   {
    "duration": 10,
    "start_time": "2023-02-09T16:59:56.662Z"
   },
   {
    "duration": 11,
    "start_time": "2023-02-09T17:02:39.129Z"
   },
   {
    "duration": 9,
    "start_time": "2023-02-09T17:04:24.498Z"
   },
   {
    "duration": 11,
    "start_time": "2023-02-09T17:07:47.717Z"
   },
   {
    "duration": 15,
    "start_time": "2023-02-09T17:08:00.258Z"
   },
   {
    "duration": 15,
    "start_time": "2023-02-09T17:08:18.986Z"
   },
   {
    "duration": 94,
    "start_time": "2023-02-09T17:08:37.387Z"
   },
   {
    "duration": 16,
    "start_time": "2023-02-09T17:08:55.186Z"
   },
   {
    "duration": 88,
    "start_time": "2023-02-09T17:09:25.077Z"
   },
   {
    "duration": 80,
    "start_time": "2023-02-09T17:10:02.905Z"
   },
   {
    "duration": 74,
    "start_time": "2023-02-09T17:10:13.283Z"
   },
   {
    "duration": 11,
    "start_time": "2023-02-09T17:10:26.216Z"
   },
   {
    "duration": 77,
    "start_time": "2023-02-09T17:10:36.186Z"
   },
   {
    "duration": 78,
    "start_time": "2023-02-09T17:12:29.822Z"
   },
   {
    "duration": 16,
    "start_time": "2023-02-09T17:12:38.999Z"
   },
   {
    "duration": 8,
    "start_time": "2023-02-09T17:13:04.425Z"
   },
   {
    "duration": 9,
    "start_time": "2023-02-09T17:13:21.514Z"
   },
   {
    "duration": 10,
    "start_time": "2023-02-09T17:14:10.073Z"
   },
   {
    "duration": 9,
    "start_time": "2023-02-09T17:14:53.091Z"
   },
   {
    "duration": 16,
    "start_time": "2023-02-09T17:16:02.596Z"
   },
   {
    "duration": 8,
    "start_time": "2023-02-09T17:16:20.300Z"
   },
   {
    "duration": 77,
    "start_time": "2023-02-09T17:16:53.598Z"
   },
   {
    "duration": 7,
    "start_time": "2023-02-09T17:17:07.965Z"
   },
   {
    "duration": 10,
    "start_time": "2023-02-09T17:18:11.664Z"
   },
   {
    "duration": 14,
    "start_time": "2023-02-09T17:19:18.404Z"
   },
   {
    "duration": 14,
    "start_time": "2023-02-09T17:21:50.194Z"
   },
   {
    "duration": 7,
    "start_time": "2023-02-09T17:22:30.324Z"
   },
   {
    "duration": 8,
    "start_time": "2023-02-09T17:22:49.497Z"
   },
   {
    "duration": 7,
    "start_time": "2023-02-09T17:24:25.897Z"
   },
   {
    "duration": 7,
    "start_time": "2023-02-09T17:25:29.704Z"
   },
   {
    "duration": 8,
    "start_time": "2023-02-09T17:26:28.222Z"
   },
   {
    "duration": 15,
    "start_time": "2023-02-09T17:27:16.376Z"
   },
   {
    "duration": 8,
    "start_time": "2023-02-09T17:27:48.115Z"
   },
   {
    "duration": 8,
    "start_time": "2023-02-09T17:30:02.720Z"
   },
   {
    "duration": 8,
    "start_time": "2023-02-09T17:31:48.451Z"
   },
   {
    "duration": 10,
    "start_time": "2023-02-09T17:31:57.051Z"
   },
   {
    "duration": 12,
    "start_time": "2023-02-09T17:32:22.542Z"
   },
   {
    "duration": 8,
    "start_time": "2023-02-09T17:32:41.039Z"
   },
   {
    "duration": 8,
    "start_time": "2023-02-09T17:35:40.036Z"
   },
   {
    "duration": 9,
    "start_time": "2023-02-09T17:36:06.354Z"
   },
   {
    "duration": 8,
    "start_time": "2023-02-09T17:37:29.706Z"
   },
   {
    "duration": 8,
    "start_time": "2023-02-09T17:37:57.362Z"
   },
   {
    "duration": 8,
    "start_time": "2023-02-09T17:39:00.854Z"
   },
   {
    "duration": 8,
    "start_time": "2023-02-09T17:39:33.082Z"
   },
   {
    "duration": 73,
    "start_time": "2023-02-09T17:39:59.379Z"
   },
   {
    "duration": 9,
    "start_time": "2023-02-09T17:40:06.797Z"
   },
   {
    "duration": 10,
    "start_time": "2023-02-09T17:40:33.746Z"
   },
   {
    "duration": 476,
    "start_time": "2023-02-09T17:40:55.058Z"
   },
   {
    "duration": 65,
    "start_time": "2023-02-09T17:40:56.942Z"
   },
   {
    "duration": 20,
    "start_time": "2023-02-09T17:40:57.962Z"
   },
   {
    "duration": 14,
    "start_time": "2023-02-09T17:40:58.370Z"
   },
   {
    "duration": 9,
    "start_time": "2023-02-09T17:40:59.086Z"
   },
   {
    "duration": 33,
    "start_time": "2023-02-09T17:40:59.162Z"
   },
   {
    "duration": 4,
    "start_time": "2023-02-09T17:40:59.250Z"
   },
   {
    "duration": 8,
    "start_time": "2023-02-09T17:40:59.363Z"
   },
   {
    "duration": 5,
    "start_time": "2023-02-09T17:40:59.387Z"
   },
   {
    "duration": 7,
    "start_time": "2023-02-09T17:40:59.457Z"
   },
   {
    "duration": 5,
    "start_time": "2023-02-09T17:41:00.858Z"
   },
   {
    "duration": 34,
    "start_time": "2023-02-09T17:41:01.482Z"
   },
   {
    "duration": 10,
    "start_time": "2023-02-09T17:41:02.162Z"
   },
   {
    "duration": 4,
    "start_time": "2023-02-09T17:41:02.247Z"
   },
   {
    "duration": 13,
    "start_time": "2023-02-09T17:41:02.366Z"
   },
   {
    "duration": 18,
    "start_time": "2023-02-09T17:41:02.398Z"
   },
   {
    "duration": 16,
    "start_time": "2023-02-09T17:41:02.479Z"
   },
   {
    "duration": 3,
    "start_time": "2023-02-09T17:41:02.539Z"
   },
   {
    "duration": 10,
    "start_time": "2023-02-09T17:41:02.575Z"
   },
   {
    "duration": 6,
    "start_time": "2023-02-09T17:41:02.639Z"
   },
   {
    "duration": 4,
    "start_time": "2023-02-09T17:41:03.502Z"
   },
   {
    "duration": 10,
    "start_time": "2023-02-09T17:41:03.719Z"
   },
   {
    "duration": 65,
    "start_time": "2023-02-09T17:41:04.650Z"
   },
   {
    "duration": 10,
    "start_time": "2023-02-09T17:48:22.268Z"
   },
   {
    "duration": 14,
    "start_time": "2023-02-09T17:53:54.277Z"
   },
   {
    "duration": 14,
    "start_time": "2023-02-09T17:54:26.461Z"
   },
   {
    "duration": 72,
    "start_time": "2023-02-09T17:56:47.082Z"
   },
   {
    "duration": 13,
    "start_time": "2023-02-09T17:56:54.903Z"
   },
   {
    "duration": 15,
    "start_time": "2023-02-09T18:00:00.522Z"
   },
   {
    "duration": 15,
    "start_time": "2023-02-09T18:04:26.474Z"
   },
   {
    "duration": 15,
    "start_time": "2023-02-09T18:04:39.492Z"
   },
   {
    "duration": 15,
    "start_time": "2023-02-09T18:05:24.408Z"
   },
   {
    "duration": 84,
    "start_time": "2023-02-09T18:07:37.191Z"
   },
   {
    "duration": 13,
    "start_time": "2023-02-09T18:07:46.080Z"
   },
   {
    "duration": 15,
    "start_time": "2023-02-09T18:08:12.490Z"
   },
   {
    "duration": 14,
    "start_time": "2023-02-09T18:09:15.621Z"
   },
   {
    "duration": 14,
    "start_time": "2023-02-09T18:09:30.102Z"
   },
   {
    "duration": 14,
    "start_time": "2023-02-09T18:11:06.013Z"
   },
   {
    "duration": 15,
    "start_time": "2023-02-09T18:20:55.391Z"
   },
   {
    "duration": 13,
    "start_time": "2023-02-09T18:26:44.786Z"
   },
   {
    "duration": 5,
    "start_time": "2023-02-09T18:28:25.322Z"
   },
   {
    "duration": 8,
    "start_time": "2023-02-09T18:31:13.156Z"
   },
   {
    "duration": 14,
    "start_time": "2023-02-09T18:31:24.786Z"
   },
   {
    "duration": 10,
    "start_time": "2023-02-09T18:31:26.699Z"
   },
   {
    "duration": 14,
    "start_time": "2023-02-09T18:31:27.512Z"
   },
   {
    "duration": 12,
    "start_time": "2023-02-09T18:31:28.286Z"
   },
   {
    "duration": 6,
    "start_time": "2023-02-09T18:31:29.948Z"
   },
   {
    "duration": 5,
    "start_time": "2023-02-09T18:31:30.986Z"
   },
   {
    "duration": 5,
    "start_time": "2023-02-09T18:33:55.613Z"
   },
   {
    "duration": 85,
    "start_time": "2023-02-09T18:42:00.090Z"
   },
   {
    "duration": 16,
    "start_time": "2023-02-09T18:42:06.298Z"
   },
   {
    "duration": 12,
    "start_time": "2023-02-09T18:42:40.916Z"
   },
   {
    "duration": 15,
    "start_time": "2023-02-09T18:42:49.595Z"
   },
   {
    "duration": 13,
    "start_time": "2023-02-09T18:43:11.237Z"
   },
   {
    "duration": 12,
    "start_time": "2023-02-09T18:43:34.990Z"
   },
   {
    "duration": 10,
    "start_time": "2023-02-09T18:44:28.743Z"
   },
   {
    "duration": 5,
    "start_time": "2023-02-09T18:49:08.817Z"
   },
   {
    "duration": 6,
    "start_time": "2023-02-09T18:49:27.297Z"
   },
   {
    "duration": 433,
    "start_time": "2023-02-09T18:51:47.284Z"
   },
   {
    "duration": 25,
    "start_time": "2023-02-09T18:51:49.077Z"
   },
   {
    "duration": 16,
    "start_time": "2023-02-09T18:51:50.352Z"
   },
   {
    "duration": 10,
    "start_time": "2023-02-09T18:51:51.851Z"
   },
   {
    "duration": 33,
    "start_time": "2023-02-09T18:51:52.558Z"
   },
   {
    "duration": 4,
    "start_time": "2023-02-09T18:51:53.559Z"
   },
   {
    "duration": 8,
    "start_time": "2023-02-09T18:51:54.220Z"
   },
   {
    "duration": 4,
    "start_time": "2023-02-09T18:51:57.482Z"
   },
   {
    "duration": 7,
    "start_time": "2023-02-09T18:51:58.141Z"
   },
   {
    "duration": 4,
    "start_time": "2023-02-09T18:51:58.695Z"
   },
   {
    "duration": 39,
    "start_time": "2023-02-09T18:51:59.463Z"
   },
   {
    "duration": 9,
    "start_time": "2023-02-09T18:51:59.959Z"
   },
   {
    "duration": 3,
    "start_time": "2023-02-09T18:52:00.709Z"
   },
   {
    "duration": 11,
    "start_time": "2023-02-09T18:52:01.388Z"
   },
   {
    "duration": 20,
    "start_time": "2023-02-09T18:52:01.794Z"
   },
   {
    "duration": 17,
    "start_time": "2023-02-09T18:52:02.007Z"
   },
   {
    "duration": 4,
    "start_time": "2023-02-09T18:52:02.650Z"
   },
   {
    "duration": 10,
    "start_time": "2023-02-09T18:52:02.887Z"
   },
   {
    "duration": 6,
    "start_time": "2023-02-09T18:52:03.329Z"
   },
   {
    "duration": 3,
    "start_time": "2023-02-09T18:52:03.693Z"
   },
   {
    "duration": 8,
    "start_time": "2023-02-09T18:52:03.974Z"
   },
   {
    "duration": 6,
    "start_time": "2023-02-09T18:52:04.646Z"
   },
   {
    "duration": 14,
    "start_time": "2023-02-09T18:52:04.928Z"
   },
   {
    "duration": 12,
    "start_time": "2023-02-09T18:52:05.146Z"
   },
   {
    "duration": 9,
    "start_time": "2023-02-09T18:52:06.087Z"
   },
   {
    "duration": 72,
    "start_time": "2023-02-09T18:52:06.374Z"
   },
   {
    "duration": 16,
    "start_time": "2023-02-09T18:52:07.135Z"
   },
   {
    "duration": 428,
    "start_time": "2023-02-09T18:52:31.309Z"
   },
   {
    "duration": 22,
    "start_time": "2023-02-09T18:52:32.775Z"
   },
   {
    "duration": 14,
    "start_time": "2023-02-09T18:52:33.750Z"
   },
   {
    "duration": 10,
    "start_time": "2023-02-09T18:52:35.232Z"
   },
   {
    "duration": 32,
    "start_time": "2023-02-09T18:52:35.977Z"
   },
   {
    "duration": 3,
    "start_time": "2023-02-09T18:52:36.600Z"
   },
   {
    "duration": 9,
    "start_time": "2023-02-09T18:52:37.013Z"
   },
   {
    "duration": 4,
    "start_time": "2023-02-09T18:52:37.636Z"
   },
   {
    "duration": 8,
    "start_time": "2023-02-09T18:52:37.981Z"
   },
   {
    "duration": 5,
    "start_time": "2023-02-09T18:52:38.545Z"
   },
   {
    "duration": 33,
    "start_time": "2023-02-09T18:52:39.095Z"
   },
   {
    "duration": 10,
    "start_time": "2023-02-09T18:52:39.474Z"
   },
   {
    "duration": 4,
    "start_time": "2023-02-09T18:52:41.783Z"
   },
   {
    "duration": 11,
    "start_time": "2023-02-09T18:52:42.444Z"
   },
   {
    "duration": 19,
    "start_time": "2023-02-09T18:52:47.680Z"
   },
   {
    "duration": 18,
    "start_time": "2023-02-09T18:52:47.984Z"
   },
   {
    "duration": 4,
    "start_time": "2023-02-09T18:52:48.741Z"
   },
   {
    "duration": 10,
    "start_time": "2023-02-09T18:52:49.030Z"
   },
   {
    "duration": 7,
    "start_time": "2023-02-09T18:52:49.602Z"
   },
   {
    "duration": 3,
    "start_time": "2023-02-09T18:52:50.123Z"
   },
   {
    "duration": 9,
    "start_time": "2023-02-09T18:52:50.359Z"
   },
   {
    "duration": 6,
    "start_time": "2023-02-09T18:52:51.184Z"
   },
   {
    "duration": 13,
    "start_time": "2023-02-09T18:52:51.426Z"
   },
   {
    "duration": 13,
    "start_time": "2023-02-09T18:52:51.727Z"
   },
   {
    "duration": 9,
    "start_time": "2023-02-09T18:52:52.596Z"
   },
   {
    "duration": 14,
    "start_time": "2023-02-09T18:52:53.516Z"
   },
   {
    "duration": 13,
    "start_time": "2023-02-09T18:53:19.947Z"
   },
   {
    "duration": 7,
    "start_time": "2023-02-09T18:53:23.420Z"
   },
   {
    "duration": 4,
    "start_time": "2023-02-09T18:53:29.245Z"
   },
   {
    "duration": 9,
    "start_time": "2023-02-09T18:53:30.638Z"
   },
   {
    "duration": 12,
    "start_time": "2023-02-09T18:53:33.196Z"
   },
   {
    "duration": 95,
    "start_time": "2023-02-09T18:55:34.520Z"
   },
   {
    "duration": 68,
    "start_time": "2023-02-09T18:55:49.265Z"
   },
   {
    "duration": 450,
    "start_time": "2023-02-09T19:03:08.075Z"
   },
   {
    "duration": 22,
    "start_time": "2023-02-09T19:03:08.527Z"
   },
   {
    "duration": 68,
    "start_time": "2023-02-09T19:03:10.520Z"
   },
   {
    "duration": 448,
    "start_time": "2023-02-09T19:03:26.689Z"
   },
   {
    "duration": 21,
    "start_time": "2023-02-09T19:03:28.268Z"
   },
   {
    "duration": 15,
    "start_time": "2023-02-09T19:03:29.404Z"
   },
   {
    "duration": 10,
    "start_time": "2023-02-09T19:03:30.538Z"
   },
   {
    "duration": 33,
    "start_time": "2023-02-09T19:03:30.598Z"
   },
   {
    "duration": 3,
    "start_time": "2023-02-09T19:03:30.687Z"
   },
   {
    "duration": 8,
    "start_time": "2023-02-09T19:03:30.746Z"
   },
   {
    "duration": 4,
    "start_time": "2023-02-09T19:03:30.837Z"
   },
   {
    "duration": 6,
    "start_time": "2023-02-09T19:03:30.896Z"
   },
   {
    "duration": 4,
    "start_time": "2023-02-09T19:03:30.971Z"
   },
   {
    "duration": 35,
    "start_time": "2023-02-09T19:03:31.955Z"
   },
   {
    "duration": 10,
    "start_time": "2023-02-09T19:03:32.674Z"
   },
   {
    "duration": 4,
    "start_time": "2023-02-09T19:03:33.721Z"
   },
   {
    "duration": 11,
    "start_time": "2023-02-09T19:03:34.806Z"
   },
   {
    "duration": 20,
    "start_time": "2023-02-09T19:03:35.282Z"
   },
   {
    "duration": 17,
    "start_time": "2023-02-09T19:03:35.565Z"
   },
   {
    "duration": 4,
    "start_time": "2023-02-09T19:03:36.917Z"
   },
   {
    "duration": 10,
    "start_time": "2023-02-09T19:03:37.182Z"
   },
   {
    "duration": 5,
    "start_time": "2023-02-09T19:03:37.833Z"
   },
   {
    "duration": 3,
    "start_time": "2023-02-09T19:03:38.407Z"
   },
   {
    "duration": 8,
    "start_time": "2023-02-09T19:03:38.680Z"
   },
   {
    "duration": 6,
    "start_time": "2023-02-09T19:03:40.235Z"
   },
   {
    "duration": 14,
    "start_time": "2023-02-09T19:03:40.962Z"
   },
   {
    "duration": 13,
    "start_time": "2023-02-09T19:03:42.442Z"
   },
   {
    "duration": 11,
    "start_time": "2023-02-09T19:03:44.130Z"
   },
   {
    "duration": 13,
    "start_time": "2023-02-09T19:03:44.740Z"
   },
   {
    "duration": 14,
    "start_time": "2023-02-09T19:03:45.373Z"
   },
   {
    "duration": 8,
    "start_time": "2023-02-09T19:03:47.176Z"
   },
   {
    "duration": 4,
    "start_time": "2023-02-09T19:03:47.775Z"
   },
   {
    "duration": 16,
    "start_time": "2023-02-09T19:03:49.582Z"
   },
   {
    "duration": 73,
    "start_time": "2023-02-09T19:03:52.382Z"
   },
   {
    "duration": 18,
    "start_time": "2023-02-09T19:05:54.569Z"
   },
   {
    "duration": 17,
    "start_time": "2023-02-09T19:10:15.522Z"
   },
   {
    "duration": 443,
    "start_time": "2023-02-09T19:10:33.671Z"
   },
   {
    "duration": 21,
    "start_time": "2023-02-09T19:10:34.206Z"
   },
   {
    "duration": 15,
    "start_time": "2023-02-09T19:10:34.263Z"
   },
   {
    "duration": 10,
    "start_time": "2023-02-09T19:10:35.430Z"
   },
   {
    "duration": 33,
    "start_time": "2023-02-09T19:10:35.508Z"
   },
   {
    "duration": 4,
    "start_time": "2023-02-09T19:10:35.598Z"
   },
   {
    "duration": 15,
    "start_time": "2023-02-09T19:10:35.657Z"
   },
   {
    "duration": 4,
    "start_time": "2023-02-09T19:10:35.751Z"
   },
   {
    "duration": 7,
    "start_time": "2023-02-09T19:10:35.807Z"
   },
   {
    "duration": 5,
    "start_time": "2023-02-09T19:10:35.867Z"
   },
   {
    "duration": 33,
    "start_time": "2023-02-09T19:10:35.957Z"
   },
   {
    "duration": 10,
    "start_time": "2023-02-09T19:10:36.019Z"
   },
   {
    "duration": 4,
    "start_time": "2023-02-09T19:10:36.107Z"
   },
   {
    "duration": 12,
    "start_time": "2023-02-09T19:10:36.199Z"
   },
   {
    "duration": 22,
    "start_time": "2023-02-09T19:10:36.259Z"
   },
   {
    "duration": 17,
    "start_time": "2023-02-09T19:10:36.285Z"
   },
   {
    "duration": 3,
    "start_time": "2023-02-09T19:10:36.380Z"
   },
   {
    "duration": 12,
    "start_time": "2023-02-09T19:10:36.407Z"
   },
   {
    "duration": 5,
    "start_time": "2023-02-09T19:10:36.492Z"
   },
   {
    "duration": 4,
    "start_time": "2023-02-09T19:10:36.551Z"
   },
   {
    "duration": 8,
    "start_time": "2023-02-09T19:10:36.576Z"
   },
   {
    "duration": 5,
    "start_time": "2023-02-09T19:10:36.666Z"
   },
   {
    "duration": 14,
    "start_time": "2023-02-09T19:10:36.695Z"
   },
   {
    "duration": 13,
    "start_time": "2023-02-09T19:10:36.726Z"
   },
   {
    "duration": 10,
    "start_time": "2023-02-09T19:10:36.817Z"
   },
   {
    "duration": 14,
    "start_time": "2023-02-09T19:10:36.855Z"
   },
   {
    "duration": 25,
    "start_time": "2023-02-09T19:10:36.876Z"
   },
   {
    "duration": 8,
    "start_time": "2023-02-09T19:10:36.966Z"
   },
   {
    "duration": 6,
    "start_time": "2023-02-09T19:10:36.997Z"
   },
   {
    "duration": 12,
    "start_time": "2023-02-09T19:10:37.088Z"
   },
   {
    "duration": 19,
    "start_time": "2023-02-09T19:10:37.266Z"
   },
   {
    "duration": 12,
    "start_time": "2023-02-09T19:11:43.982Z"
   },
   {
    "duration": 15,
    "start_time": "2023-02-09T19:17:25.330Z"
   },
   {
    "duration": 20,
    "start_time": "2023-02-09T19:20:26.094Z"
   },
   {
    "duration": 19,
    "start_time": "2023-02-09T19:23:27.163Z"
   },
   {
    "duration": 21,
    "start_time": "2023-02-09T19:25:11.484Z"
   },
   {
    "duration": 20,
    "start_time": "2023-02-09T19:27:44.921Z"
   },
   {
    "duration": 21,
    "start_time": "2023-02-09T19:28:36.325Z"
   },
   {
    "duration": 20,
    "start_time": "2023-02-09T19:29:15.004Z"
   },
   {
    "duration": 4,
    "start_time": "2023-02-09T19:31:08.054Z"
   },
   {
    "duration": 465,
    "start_time": "2023-02-10T13:22:34.879Z"
   },
   {
    "duration": 21,
    "start_time": "2023-02-10T13:22:35.346Z"
   },
   {
    "duration": 25,
    "start_time": "2023-02-10T13:22:35.368Z"
   },
   {
    "duration": 44,
    "start_time": "2023-02-10T13:22:35.394Z"
   },
   {
    "duration": 49,
    "start_time": "2023-02-10T13:22:35.439Z"
   },
   {
    "duration": 4,
    "start_time": "2023-02-10T13:22:35.489Z"
   },
   {
    "duration": 48,
    "start_time": "2023-02-10T13:22:35.494Z"
   },
   {
    "duration": 12,
    "start_time": "2023-02-10T13:22:35.544Z"
   },
   {
    "duration": 14,
    "start_time": "2023-02-10T13:22:35.558Z"
   },
   {
    "duration": 11,
    "start_time": "2023-02-10T13:22:35.576Z"
   },
   {
    "duration": 79,
    "start_time": "2023-02-10T13:22:35.589Z"
   },
   {
    "duration": 11,
    "start_time": "2023-02-10T13:22:35.670Z"
   },
   {
    "duration": 20,
    "start_time": "2023-02-10T13:22:35.683Z"
   },
   {
    "duration": 37,
    "start_time": "2023-02-10T13:22:35.708Z"
   },
   {
    "duration": 24,
    "start_time": "2023-02-10T13:22:35.747Z"
   },
   {
    "duration": 20,
    "start_time": "2023-02-10T13:22:35.773Z"
   },
   {
    "duration": 10,
    "start_time": "2023-02-10T13:22:35.794Z"
   },
   {
    "duration": 32,
    "start_time": "2023-02-10T13:22:35.806Z"
   },
   {
    "duration": 9,
    "start_time": "2023-02-10T13:22:35.840Z"
   },
   {
    "duration": 18,
    "start_time": "2023-02-10T13:22:35.850Z"
   },
   {
    "duration": 11,
    "start_time": "2023-02-10T13:22:35.870Z"
   },
   {
    "duration": 7,
    "start_time": "2023-02-10T13:22:35.883Z"
   },
   {
    "duration": 41,
    "start_time": "2023-02-10T13:22:35.892Z"
   },
   {
    "duration": 14,
    "start_time": "2023-02-10T13:22:35.934Z"
   },
   {
    "duration": 11,
    "start_time": "2023-02-10T13:22:35.950Z"
   },
   {
    "duration": 18,
    "start_time": "2023-02-10T13:22:35.962Z"
   },
   {
    "duration": 8,
    "start_time": "2023-02-10T13:22:35.981Z"
   },
   {
    "duration": 10,
    "start_time": "2023-02-10T13:22:35.992Z"
   },
   {
    "duration": 39,
    "start_time": "2023-02-10T13:22:36.007Z"
   },
   {
    "duration": 19,
    "start_time": "2023-02-10T13:22:36.048Z"
   },
   {
    "duration": 740,
    "start_time": "2023-02-11T07:22:35.469Z"
   },
   {
    "duration": 23,
    "start_time": "2023-02-11T07:22:40.498Z"
   },
   {
    "duration": 13,
    "start_time": "2023-02-11T07:22:41.053Z"
   },
   {
    "duration": 10,
    "start_time": "2023-02-11T07:22:41.195Z"
   },
   {
    "duration": 31,
    "start_time": "2023-02-11T07:22:41.285Z"
   },
   {
    "duration": 3,
    "start_time": "2023-02-11T07:22:41.338Z"
   },
   {
    "duration": 7,
    "start_time": "2023-02-11T07:22:41.401Z"
   },
   {
    "duration": 5,
    "start_time": "2023-02-11T07:22:41.496Z"
   },
   {
    "duration": 7,
    "start_time": "2023-02-11T07:22:41.555Z"
   },
   {
    "duration": 5,
    "start_time": "2023-02-11T07:22:41.619Z"
   },
   {
    "duration": 31,
    "start_time": "2023-02-11T07:22:41.700Z"
   },
   {
    "duration": 9,
    "start_time": "2023-02-11T07:22:41.759Z"
   },
   {
    "duration": 4,
    "start_time": "2023-02-11T07:22:41.859Z"
   },
   {
    "duration": 11,
    "start_time": "2023-02-11T07:22:41.950Z"
   },
   {
    "duration": 19,
    "start_time": "2023-02-11T07:22:42.024Z"
   },
   {
    "duration": 17,
    "start_time": "2023-02-11T07:22:42.083Z"
   },
   {
    "duration": 4,
    "start_time": "2023-02-11T07:22:42.140Z"
   },
   {
    "duration": 9,
    "start_time": "2023-02-11T07:22:42.171Z"
   },
   {
    "duration": 6,
    "start_time": "2023-02-11T07:22:42.230Z"
   },
   {
    "duration": 3,
    "start_time": "2023-02-11T07:22:42.297Z"
   },
   {
    "duration": 8,
    "start_time": "2023-02-11T07:22:42.357Z"
   },
   {
    "duration": 4,
    "start_time": "2023-02-11T07:22:42.419Z"
   },
   {
    "duration": 14,
    "start_time": "2023-02-11T07:22:42.439Z"
   },
   {
    "duration": 12,
    "start_time": "2023-02-11T07:22:42.471Z"
   },
   {
    "duration": 9,
    "start_time": "2023-02-11T07:22:42.595Z"
   },
   {
    "duration": 14,
    "start_time": "2023-02-11T07:22:42.689Z"
   },
   {
    "duration": 9,
    "start_time": "2023-02-11T07:22:42.770Z"
   },
   {
    "duration": 5,
    "start_time": "2023-02-11T07:22:42.834Z"
   },
   {
    "duration": 10,
    "start_time": "2023-02-11T07:22:42.974Z"
   },
   {
    "duration": 20,
    "start_time": "2023-02-11T07:22:43.231Z"
   },
   {
    "duration": 73,
    "start_time": "2023-02-11T07:35:43.184Z"
   },
   {
    "duration": 32,
    "start_time": "2023-02-11T07:36:14.013Z"
   },
   {
    "duration": 20,
    "start_time": "2023-02-11T07:37:59.880Z"
   },
   {
    "duration": 54,
    "start_time": "2023-02-11T07:41:00.786Z"
   },
   {
    "duration": 44,
    "start_time": "2023-02-11T07:41:10.065Z"
   },
   {
    "duration": 47,
    "start_time": "2023-02-11T07:41:22.391Z"
   },
   {
    "duration": 53,
    "start_time": "2023-02-11T07:41:31.458Z"
   },
   {
    "duration": 16,
    "start_time": "2023-02-11T07:42:04.318Z"
   },
   {
    "duration": 34,
    "start_time": "2023-02-11T07:42:48.799Z"
   },
   {
    "duration": 33,
    "start_time": "2023-02-11T07:42:59.929Z"
   },
   {
    "duration": 29,
    "start_time": "2023-02-11T07:43:11.652Z"
   },
   {
    "duration": 47,
    "start_time": "2023-02-11T07:43:27.369Z"
   },
   {
    "duration": 27,
    "start_time": "2023-02-11T07:43:53.160Z"
   },
   {
    "duration": 25,
    "start_time": "2023-02-11T07:44:22.466Z"
   },
   {
    "duration": 23,
    "start_time": "2023-02-11T07:46:25.368Z"
   },
   {
    "duration": 24,
    "start_time": "2023-02-11T07:46:39.810Z"
   },
   {
    "duration": 26,
    "start_time": "2023-02-11T07:47:10.346Z"
   },
   {
    "duration": 25,
    "start_time": "2023-02-11T07:48:00.845Z"
   },
   {
    "duration": 25,
    "start_time": "2023-02-11T07:48:44.390Z"
   },
   {
    "duration": 32,
    "start_time": "2023-02-11T07:49:18.955Z"
   },
   {
    "duration": 26,
    "start_time": "2023-02-11T07:49:33.646Z"
   },
   {
    "duration": 5,
    "start_time": "2023-02-11T07:50:15.083Z"
   },
   {
    "duration": 11,
    "start_time": "2023-02-11T07:50:19.045Z"
   },
   {
    "duration": 26,
    "start_time": "2023-02-11T07:51:14.191Z"
   },
   {
    "duration": 29,
    "start_time": "2023-02-11T07:51:45.176Z"
   },
   {
    "duration": 18,
    "start_time": "2023-02-11T07:54:33.971Z"
   },
   {
    "duration": 37,
    "start_time": "2023-02-11T07:55:18.920Z"
   },
   {
    "duration": 27,
    "start_time": "2023-02-11T07:55:27.561Z"
   },
   {
    "duration": 33,
    "start_time": "2023-02-11T07:56:10.134Z"
   },
   {
    "duration": 33,
    "start_time": "2023-02-11T07:56:32.225Z"
   },
   {
    "duration": 34,
    "start_time": "2023-02-11T07:57:14.593Z"
   },
   {
    "duration": 50,
    "start_time": "2023-02-11T07:57:54.607Z"
   },
   {
    "duration": 16,
    "start_time": "2023-02-11T07:58:04.584Z"
   },
   {
    "duration": 20,
    "start_time": "2023-02-11T07:58:23.045Z"
   },
   {
    "duration": 33,
    "start_time": "2023-02-11T07:58:32.739Z"
   },
   {
    "duration": 28,
    "start_time": "2023-02-11T07:58:39.478Z"
   },
   {
    "duration": 15,
    "start_time": "2023-02-11T08:00:05.155Z"
   },
   {
    "duration": 29,
    "start_time": "2023-02-11T08:00:28.397Z"
   },
   {
    "duration": 28,
    "start_time": "2023-02-11T08:01:07.370Z"
   },
   {
    "duration": 11,
    "start_time": "2023-02-11T08:01:23.203Z"
   },
   {
    "duration": 27,
    "start_time": "2023-02-11T08:01:28.830Z"
   },
   {
    "duration": 24,
    "start_time": "2023-02-11T08:02:41.772Z"
   },
   {
    "duration": 15,
    "start_time": "2023-02-11T08:02:49.629Z"
   },
   {
    "duration": 23,
    "start_time": "2023-02-11T08:02:58.129Z"
   },
   {
    "duration": 30,
    "start_time": "2023-02-11T08:03:05.191Z"
   },
   {
    "duration": 26,
    "start_time": "2023-02-11T08:04:50.419Z"
   },
   {
    "duration": 24,
    "start_time": "2023-02-11T08:06:23.331Z"
   },
   {
    "duration": 27,
    "start_time": "2023-02-11T08:06:35.255Z"
   },
   {
    "duration": 20,
    "start_time": "2023-02-11T08:13:13.456Z"
   },
   {
    "duration": 52,
    "start_time": "2023-02-11T08:15:21.408Z"
   },
   {
    "duration": 20,
    "start_time": "2023-02-11T08:15:29.153Z"
   },
   {
    "duration": 21,
    "start_time": "2023-02-11T08:16:28.288Z"
   },
   {
    "duration": 31,
    "start_time": "2023-02-11T08:16:38.991Z"
   },
   {
    "duration": 35,
    "start_time": "2023-02-11T08:17:05.190Z"
   },
   {
    "duration": 775,
    "start_time": "2023-02-11T08:17:24.179Z"
   },
   {
    "duration": 30,
    "start_time": "2023-02-11T08:17:44.987Z"
   },
   {
    "duration": 26,
    "start_time": "2023-02-11T08:18:19.975Z"
   },
   {
    "duration": 30,
    "start_time": "2023-02-11T08:18:28.252Z"
   },
   {
    "duration": 18,
    "start_time": "2023-02-11T08:18:36.861Z"
   },
   {
    "duration": 27,
    "start_time": "2023-02-11T08:19:00.926Z"
   },
   {
    "duration": 459,
    "start_time": "2023-02-11T08:19:16.917Z"
   },
   {
    "duration": 21,
    "start_time": "2023-02-11T08:19:17.377Z"
   },
   {
    "duration": 20,
    "start_time": "2023-02-11T08:19:17.729Z"
   },
   {
    "duration": 11,
    "start_time": "2023-02-11T08:19:19.117Z"
   },
   {
    "duration": 50,
    "start_time": "2023-02-11T08:19:19.195Z"
   },
   {
    "duration": 4,
    "start_time": "2023-02-11T08:19:19.292Z"
   },
   {
    "duration": 11,
    "start_time": "2023-02-11T08:19:19.324Z"
   },
   {
    "duration": 5,
    "start_time": "2023-02-11T08:19:19.424Z"
   },
   {
    "duration": 6,
    "start_time": "2023-02-11T08:19:19.476Z"
   },
   {
    "duration": 4,
    "start_time": "2023-02-11T08:19:19.534Z"
   },
   {
    "duration": 31,
    "start_time": "2023-02-11T08:19:19.629Z"
   },
   {
    "duration": 9,
    "start_time": "2023-02-11T08:19:19.702Z"
   },
   {
    "duration": 5,
    "start_time": "2023-02-11T08:19:19.793Z"
   },
   {
    "duration": 10,
    "start_time": "2023-02-11T08:19:19.882Z"
   },
   {
    "duration": 20,
    "start_time": "2023-02-11T08:19:19.941Z"
   },
   {
    "duration": 18,
    "start_time": "2023-02-11T08:19:20.003Z"
   },
   {
    "duration": 4,
    "start_time": "2023-02-11T08:19:21.029Z"
   },
   {
    "duration": 10,
    "start_time": "2023-02-11T08:19:21.220Z"
   },
   {
    "duration": 6,
    "start_time": "2023-02-11T08:19:21.947Z"
   },
   {
    "duration": 3,
    "start_time": "2023-02-11T08:19:22.010Z"
   },
   {
    "duration": 10,
    "start_time": "2023-02-11T08:19:22.037Z"
   },
   {
    "duration": 6,
    "start_time": "2023-02-11T08:19:22.916Z"
   },
   {
    "duration": 22,
    "start_time": "2023-02-11T08:19:23.188Z"
   },
   {
    "duration": 21,
    "start_time": "2023-02-11T08:19:23.435Z"
   },
   {
    "duration": 47,
    "start_time": "2023-02-11T08:19:26.504Z"
   },
   {
    "duration": 28,
    "start_time": "2023-02-11T08:19:37.562Z"
   },
   {
    "duration": 71,
    "start_time": "2023-02-11T08:20:02.149Z"
   },
   {
    "duration": 22,
    "start_time": "2023-02-11T08:20:18.212Z"
   },
   {
    "duration": 28,
    "start_time": "2023-02-11T08:20:38.491Z"
   },
   {
    "duration": 32,
    "start_time": "2023-02-11T08:21:35.938Z"
   },
   {
    "duration": 37,
    "start_time": "2023-02-11T08:21:51.781Z"
   },
   {
    "duration": 20,
    "start_time": "2023-02-11T08:22:38.361Z"
   },
   {
    "duration": 20,
    "start_time": "2023-02-11T08:22:52.168Z"
   },
   {
    "duration": 18,
    "start_time": "2023-02-11T08:23:10.063Z"
   },
   {
    "duration": 19,
    "start_time": "2023-02-11T08:23:28.358Z"
   },
   {
    "duration": 16,
    "start_time": "2023-02-11T08:23:36.601Z"
   },
   {
    "duration": 20,
    "start_time": "2023-02-11T08:24:43.804Z"
   },
   {
    "duration": 15,
    "start_time": "2023-02-11T08:25:01.193Z"
   },
   {
    "duration": 20,
    "start_time": "2023-02-11T08:25:15.968Z"
   },
   {
    "duration": 30,
    "start_time": "2023-02-11T08:25:24.445Z"
   },
   {
    "duration": 15,
    "start_time": "2023-02-11T08:25:49.740Z"
   },
   {
    "duration": 21,
    "start_time": "2023-02-11T08:26:14.387Z"
   },
   {
    "duration": 20,
    "start_time": "2023-02-11T08:26:22.748Z"
   },
   {
    "duration": 15,
    "start_time": "2023-02-11T08:26:35.474Z"
   },
   {
    "duration": 17,
    "start_time": "2023-02-11T08:26:45.052Z"
   },
   {
    "duration": 20,
    "start_time": "2023-02-11T08:26:50.818Z"
   },
   {
    "duration": 30,
    "start_time": "2023-02-11T08:27:34.762Z"
   },
   {
    "duration": 45,
    "start_time": "2023-02-11T08:27:52.847Z"
   },
   {
    "duration": 20,
    "start_time": "2023-02-11T08:28:01.940Z"
   },
   {
    "duration": 19,
    "start_time": "2023-02-11T08:28:32.773Z"
   },
   {
    "duration": 15,
    "start_time": "2023-02-11T08:28:49.292Z"
   },
   {
    "duration": 15,
    "start_time": "2023-02-11T08:29:03.040Z"
   },
   {
    "duration": 21,
    "start_time": "2023-02-11T08:29:09.013Z"
   },
   {
    "duration": 13,
    "start_time": "2023-02-11T08:32:46.582Z"
   },
   {
    "duration": 15,
    "start_time": "2023-02-11T08:32:52.201Z"
   },
   {
    "duration": 17,
    "start_time": "2023-02-11T08:32:57.961Z"
   },
   {
    "duration": 18,
    "start_time": "2023-02-11T08:33:52.021Z"
   },
   {
    "duration": 15,
    "start_time": "2023-02-11T08:34:42.723Z"
   },
   {
    "duration": 28,
    "start_time": "2023-02-11T08:34:48.382Z"
   },
   {
    "duration": 20,
    "start_time": "2023-02-11T08:35:11.449Z"
   },
   {
    "duration": 16,
    "start_time": "2023-02-11T08:35:31.438Z"
   },
   {
    "duration": 7,
    "start_time": "2023-02-11T08:36:27.230Z"
   },
   {
    "duration": 947,
    "start_time": "2023-02-11T08:36:50.558Z"
   },
   {
    "duration": 20,
    "start_time": "2023-02-11T08:37:07.622Z"
   },
   {
    "duration": 51,
    "start_time": "2023-02-11T08:37:26.634Z"
   },
   {
    "duration": 42,
    "start_time": "2023-02-11T08:37:37.141Z"
   },
   {
    "duration": 15,
    "start_time": "2023-02-11T08:37:59.288Z"
   },
   {
    "duration": 18,
    "start_time": "2023-02-11T08:38:09.472Z"
   },
   {
    "duration": 19,
    "start_time": "2023-02-11T08:39:03.104Z"
   },
   {
    "duration": 26,
    "start_time": "2023-02-11T08:40:00.299Z"
   },
   {
    "duration": 23,
    "start_time": "2023-02-11T08:40:26.325Z"
   },
   {
    "duration": 81,
    "start_time": "2023-02-11T08:41:21.566Z"
   },
   {
    "duration": 19,
    "start_time": "2023-02-11T08:41:32.047Z"
   },
   {
    "duration": 19,
    "start_time": "2023-02-11T08:41:51.287Z"
   },
   {
    "duration": 19,
    "start_time": "2023-02-11T08:42:55.319Z"
   },
   {
    "duration": 19,
    "start_time": "2023-02-11T08:42:59.712Z"
   },
   {
    "duration": 18,
    "start_time": "2023-02-11T08:43:24.282Z"
   },
   {
    "duration": 20,
    "start_time": "2023-02-11T08:44:05.937Z"
   },
   {
    "duration": 16,
    "start_time": "2023-02-11T08:44:31.284Z"
   },
   {
    "duration": 60,
    "start_time": "2023-02-11T08:47:38.572Z"
   },
   {
    "duration": 54,
    "start_time": "2023-02-11T08:48:11.114Z"
   },
   {
    "duration": 26,
    "start_time": "2023-02-11T08:50:47.955Z"
   },
   {
    "duration": 31,
    "start_time": "2023-02-11T08:52:01.566Z"
   },
   {
    "duration": 4,
    "start_time": "2023-02-11T08:52:34.974Z"
   },
   {
    "duration": 27,
    "start_time": "2023-02-11T08:52:46.375Z"
   },
   {
    "duration": 28,
    "start_time": "2023-02-11T08:52:58.707Z"
   },
   {
    "duration": 239,
    "start_time": "2023-02-11T08:56:26.971Z"
   },
   {
    "duration": 204,
    "start_time": "2023-02-11T08:57:07.495Z"
   },
   {
    "duration": 206,
    "start_time": "2023-02-11T08:57:35.578Z"
   },
   {
    "duration": 33,
    "start_time": "2023-02-11T08:57:51.564Z"
   },
   {
    "duration": 49,
    "start_time": "2023-02-11T08:58:14.563Z"
   },
   {
    "duration": 41,
    "start_time": "2023-02-11T08:58:35.286Z"
   },
   {
    "duration": 206,
    "start_time": "2023-02-11T08:58:57.240Z"
   },
   {
    "duration": 31,
    "start_time": "2023-02-11T08:59:30.666Z"
   },
   {
    "duration": 29,
    "start_time": "2023-02-11T09:00:35.850Z"
   },
   {
    "duration": 27,
    "start_time": "2023-02-11T09:00:45.854Z"
   },
   {
    "duration": 743,
    "start_time": "2023-02-11T09:02:30.746Z"
   },
   {
    "duration": 12,
    "start_time": "2023-02-11T09:03:02.437Z"
   },
   {
    "duration": 9,
    "start_time": "2023-02-11T09:03:22.950Z"
   },
   {
    "duration": 9,
    "start_time": "2023-02-11T09:03:35.466Z"
   },
   {
    "duration": 10,
    "start_time": "2023-02-11T09:05:14.106Z"
   },
   {
    "duration": 698,
    "start_time": "2023-02-11T11:01:24.855Z"
   },
   {
    "duration": 21,
    "start_time": "2023-02-11T11:01:27.154Z"
   },
   {
    "duration": 16,
    "start_time": "2023-02-11T11:01:27.582Z"
   },
   {
    "duration": 10,
    "start_time": "2023-02-11T11:01:28.907Z"
   },
   {
    "duration": 35,
    "start_time": "2023-02-11T11:01:28.970Z"
   },
   {
    "duration": 3,
    "start_time": "2023-02-11T11:01:29.040Z"
   },
   {
    "duration": 9,
    "start_time": "2023-02-11T11:01:29.103Z"
   },
   {
    "duration": 5,
    "start_time": "2023-02-11T11:01:29.194Z"
   },
   {
    "duration": 7,
    "start_time": "2023-02-11T11:01:29.254Z"
   },
   {
    "duration": 5,
    "start_time": "2023-02-11T11:01:29.313Z"
   },
   {
    "duration": 50,
    "start_time": "2023-02-11T11:01:29.400Z"
   },
   {
    "duration": 15,
    "start_time": "2023-02-11T11:01:30.347Z"
   },
   {
    "duration": 4,
    "start_time": "2023-02-11T11:01:31.209Z"
   },
   {
    "duration": 18,
    "start_time": "2023-02-11T11:01:31.314Z"
   },
   {
    "duration": 21,
    "start_time": "2023-02-11T11:01:31.358Z"
   },
   {
    "duration": 25,
    "start_time": "2023-02-11T11:01:31.399Z"
   },
   {
    "duration": 4,
    "start_time": "2023-02-11T11:01:32.175Z"
   },
   {
    "duration": 16,
    "start_time": "2023-02-11T11:01:32.486Z"
   },
   {
    "duration": 5,
    "start_time": "2023-02-11T11:01:32.903Z"
   },
   {
    "duration": 3,
    "start_time": "2023-02-11T11:01:33.270Z"
   },
   {
    "duration": 9,
    "start_time": "2023-02-11T11:01:33.438Z"
   },
   {
    "duration": 4,
    "start_time": "2023-02-11T11:01:35.026Z"
   },
   {
    "duration": 16,
    "start_time": "2023-02-11T11:01:36.928Z"
   },
   {
    "duration": 52,
    "start_time": "2023-02-11T11:01:53.418Z"
   },
   {
    "duration": 49,
    "start_time": "2023-02-11T11:02:34.349Z"
   },
   {
    "duration": 45,
    "start_time": "2023-02-11T11:02:57.110Z"
   },
   {
    "duration": 90,
    "start_time": "2023-02-11T11:03:18.623Z"
   },
   {
    "duration": 36,
    "start_time": "2023-02-11T11:03:27.682Z"
   },
   {
    "duration": 39,
    "start_time": "2023-02-11T11:06:56.113Z"
   },
   {
    "duration": 55,
    "start_time": "2023-02-11T11:10:43.289Z"
   },
   {
    "duration": 42,
    "start_time": "2023-02-11T11:10:59.613Z"
   },
   {
    "duration": 31,
    "start_time": "2023-02-11T11:16:13.554Z"
   },
   {
    "duration": 12,
    "start_time": "2023-02-11T11:16:24.425Z"
   },
   {
    "duration": 799,
    "start_time": "2023-02-11T11:16:46.496Z"
   },
   {
    "duration": 802,
    "start_time": "2023-02-11T11:17:00.201Z"
   },
   {
    "duration": 35,
    "start_time": "2023-02-11T11:17:09.715Z"
   },
   {
    "duration": 31,
    "start_time": "2023-02-11T11:18:54.876Z"
   },
   {
    "duration": 24,
    "start_time": "2023-02-11T11:18:59.757Z"
   },
   {
    "duration": 27,
    "start_time": "2023-02-11T11:19:10.050Z"
   },
   {
    "duration": 806,
    "start_time": "2023-02-11T11:19:23.880Z"
   },
   {
    "duration": 757,
    "start_time": "2023-02-11T11:19:28.567Z"
   },
   {
    "duration": 761,
    "start_time": "2023-02-11T11:19:34.773Z"
   },
   {
    "duration": 25,
    "start_time": "2023-02-11T11:19:41.076Z"
   },
   {
    "duration": 50,
    "start_time": "2023-02-11T11:22:45.760Z"
   },
   {
    "duration": 25,
    "start_time": "2023-02-11T11:24:57.610Z"
   },
   {
    "duration": 26,
    "start_time": "2023-02-11T11:25:22.342Z"
   },
   {
    "duration": 34,
    "start_time": "2023-02-11T11:25:53.500Z"
   },
   {
    "duration": 33,
    "start_time": "2023-02-11T11:26:21.672Z"
   },
   {
    "duration": 35,
    "start_time": "2023-02-11T11:26:28.973Z"
   },
   {
    "duration": 33,
    "start_time": "2023-02-11T11:26:43.672Z"
   },
   {
    "duration": 26,
    "start_time": "2023-02-11T11:26:53.778Z"
   },
   {
    "duration": 54,
    "start_time": "2023-02-11T11:27:08.642Z"
   },
   {
    "duration": 40,
    "start_time": "2023-02-11T11:27:21.887Z"
   },
   {
    "duration": 45,
    "start_time": "2023-02-11T11:27:34.394Z"
   },
   {
    "duration": 36,
    "start_time": "2023-02-11T11:28:02.969Z"
   },
   {
    "duration": 10,
    "start_time": "2023-02-11T11:29:04.981Z"
   },
   {
    "duration": 23,
    "start_time": "2023-02-11T11:29:11.345Z"
   },
   {
    "duration": 27,
    "start_time": "2023-02-11T11:29:13.845Z"
   },
   {
    "duration": 7,
    "start_time": "2023-02-11T11:29:15.360Z"
   },
   {
    "duration": 27,
    "start_time": "2023-02-11T11:34:03.024Z"
   },
   {
    "duration": 29,
    "start_time": "2023-02-11T11:35:02.607Z"
   },
   {
    "duration": 52,
    "start_time": "2023-02-11T11:35:35.857Z"
   },
   {
    "duration": 60,
    "start_time": "2023-02-11T11:35:48.470Z"
   },
   {
    "duration": 22,
    "start_time": "2023-02-11T11:35:52.837Z"
   },
   {
    "duration": 24,
    "start_time": "2023-02-11T11:36:05.960Z"
   },
   {
    "duration": 22,
    "start_time": "2023-02-11T11:36:22.612Z"
   },
   {
    "duration": 14,
    "start_time": "2023-02-11T11:43:51.927Z"
   },
   {
    "duration": 13,
    "start_time": "2023-02-11T11:45:26.167Z"
   },
   {
    "duration": 13,
    "start_time": "2023-02-11T11:46:01.869Z"
   },
   {
    "duration": 16,
    "start_time": "2023-02-11T11:46:26.268Z"
   },
   {
    "duration": 9,
    "start_time": "2023-02-11T11:46:52.946Z"
   },
   {
    "duration": 485,
    "start_time": "2023-02-11T11:47:07.489Z"
   },
   {
    "duration": 21,
    "start_time": "2023-02-11T11:47:08.625Z"
   },
   {
    "duration": 15,
    "start_time": "2023-02-11T11:47:10.032Z"
   },
   {
    "duration": 9,
    "start_time": "2023-02-11T11:47:11.040Z"
   },
   {
    "duration": 33,
    "start_time": "2023-02-11T11:47:11.111Z"
   },
   {
    "duration": 4,
    "start_time": "2023-02-11T11:47:11.206Z"
   },
   {
    "duration": 7,
    "start_time": "2023-02-11T11:47:11.269Z"
   },
   {
    "duration": 4,
    "start_time": "2023-02-11T11:47:11.372Z"
   },
   {
    "duration": 7,
    "start_time": "2023-02-11T11:47:11.445Z"
   },
   {
    "duration": 5,
    "start_time": "2023-02-11T11:47:11.524Z"
   },
   {
    "duration": 33,
    "start_time": "2023-02-11T11:47:11.611Z"
   },
   {
    "duration": 9,
    "start_time": "2023-02-11T11:47:11.666Z"
   },
   {
    "duration": 4,
    "start_time": "2023-02-11T11:47:11.760Z"
   },
   {
    "duration": 11,
    "start_time": "2023-02-11T11:47:11.844Z"
   },
   {
    "duration": 25,
    "start_time": "2023-02-11T11:47:11.901Z"
   },
   {
    "duration": 15,
    "start_time": "2023-02-11T11:47:11.946Z"
   },
   {
    "duration": 3,
    "start_time": "2023-02-11T11:47:12.039Z"
   },
   {
    "duration": 10,
    "start_time": "2023-02-11T11:47:12.071Z"
   },
   {
    "duration": 5,
    "start_time": "2023-02-11T11:47:12.133Z"
   },
   {
    "duration": 4,
    "start_time": "2023-02-11T11:47:13.009Z"
   },
   {
    "duration": 8,
    "start_time": "2023-02-11T11:47:13.178Z"
   },
   {
    "duration": 5,
    "start_time": "2023-02-11T11:47:13.708Z"
   },
   {
    "duration": 15,
    "start_time": "2023-02-11T11:47:13.865Z"
   },
   {
    "duration": 17,
    "start_time": "2023-02-11T11:47:14.050Z"
   },
   {
    "duration": 25,
    "start_time": "2023-02-11T11:47:14.206Z"
   },
   {
    "duration": 7,
    "start_time": "2023-02-11T11:47:14.578Z"
   },
   {
    "duration": 72,
    "start_time": "2023-02-11T11:47:24.959Z"
   },
   {
    "duration": 10,
    "start_time": "2023-02-11T11:48:00.318Z"
   },
   {
    "duration": 93,
    "start_time": "2023-02-11T11:48:21.987Z"
   },
   {
    "duration": 13,
    "start_time": "2023-02-11T11:48:29.050Z"
   },
   {
    "duration": 11,
    "start_time": "2023-02-11T11:48:36.912Z"
   },
   {
    "duration": 11,
    "start_time": "2023-02-11T11:48:51.555Z"
   },
   {
    "duration": 12,
    "start_time": "2023-02-11T11:49:33.338Z"
   },
   {
    "duration": 107,
    "start_time": "2023-02-11T11:50:03.844Z"
   },
   {
    "duration": 71,
    "start_time": "2023-02-11T11:50:12.788Z"
   },
   {
    "duration": 57,
    "start_time": "2023-02-11T11:50:17.473Z"
   },
   {
    "duration": 13,
    "start_time": "2023-02-11T11:50:26.757Z"
   },
   {
    "duration": 14,
    "start_time": "2023-02-11T11:51:14.066Z"
   },
   {
    "duration": 17,
    "start_time": "2023-02-11T11:51:47.093Z"
   },
   {
    "duration": 51,
    "start_time": "2023-02-11T11:52:40.732Z"
   },
   {
    "duration": 12,
    "start_time": "2023-02-11T11:52:46.871Z"
   },
   {
    "duration": 13,
    "start_time": "2023-02-11T11:53:25.888Z"
   },
   {
    "duration": 9,
    "start_time": "2023-02-11T11:56:01.343Z"
   },
   {
    "duration": 20,
    "start_time": "2023-02-11T11:56:26.528Z"
   },
   {
    "duration": 18,
    "start_time": "2023-02-11T11:56:54.702Z"
   },
   {
    "duration": 46,
    "start_time": "2023-02-11T11:57:20.543Z"
   },
   {
    "duration": 27,
    "start_time": "2023-02-11T11:57:26.347Z"
   },
   {
    "duration": 22,
    "start_time": "2023-02-11T11:57:39.159Z"
   },
   {
    "duration": 14,
    "start_time": "2023-02-11T11:57:51.250Z"
   },
   {
    "duration": 22,
    "start_time": "2023-02-11T12:05:37.129Z"
   },
   {
    "duration": 46,
    "start_time": "2023-02-11T12:06:38.241Z"
   },
   {
    "duration": 42,
    "start_time": "2023-02-11T12:07:39.378Z"
   },
   {
    "duration": 61,
    "start_time": "2023-02-11T12:09:24.976Z"
   },
   {
    "duration": 16,
    "start_time": "2023-02-11T12:10:41.798Z"
   },
   {
    "duration": 835,
    "start_time": "2023-02-11T12:15:42.020Z"
   },
   {
    "duration": 22,
    "start_time": "2023-02-11T12:16:02.113Z"
   },
   {
    "duration": 22,
    "start_time": "2023-02-11T12:18:12.183Z"
   },
   {
    "duration": 634,
    "start_time": "2023-02-11T12:18:22.380Z"
   },
   {
    "duration": 36,
    "start_time": "2023-02-11T12:18:23.016Z"
   },
   {
    "duration": 47,
    "start_time": "2023-02-11T12:18:23.054Z"
   },
   {
    "duration": 18,
    "start_time": "2023-02-11T12:18:23.104Z"
   },
   {
    "duration": 79,
    "start_time": "2023-02-11T12:18:23.124Z"
   },
   {
    "duration": 6,
    "start_time": "2023-02-11T12:18:23.205Z"
   },
   {
    "duration": 17,
    "start_time": "2023-02-11T12:18:23.213Z"
   },
   {
    "duration": 6,
    "start_time": "2023-02-11T12:18:23.232Z"
   },
   {
    "duration": 11,
    "start_time": "2023-02-11T12:18:23.240Z"
   },
   {
    "duration": 38,
    "start_time": "2023-02-11T12:18:23.254Z"
   },
   {
    "duration": 56,
    "start_time": "2023-02-11T12:18:23.294Z"
   },
   {
    "duration": 22,
    "start_time": "2023-02-11T12:18:23.353Z"
   },
   {
    "duration": 5,
    "start_time": "2023-02-11T12:18:23.392Z"
   },
   {
    "duration": 20,
    "start_time": "2023-02-11T12:18:23.432Z"
   },
   {
    "duration": 33,
    "start_time": "2023-02-11T12:18:23.488Z"
   },
   {
    "duration": 27,
    "start_time": "2023-02-11T12:18:23.527Z"
   },
   {
    "duration": 5,
    "start_time": "2023-02-11T12:18:23.615Z"
   },
   {
    "duration": 17,
    "start_time": "2023-02-11T12:18:23.650Z"
   },
   {
    "duration": 9,
    "start_time": "2023-02-11T12:18:23.702Z"
   },
   {
    "duration": 6,
    "start_time": "2023-02-11T12:18:23.773Z"
   },
   {
    "duration": 16,
    "start_time": "2023-02-11T12:18:23.804Z"
   },
   {
    "duration": 9,
    "start_time": "2023-02-11T12:18:25.653Z"
   },
   {
    "duration": 26,
    "start_time": "2023-02-11T12:18:26.020Z"
   },
   {
    "duration": 21,
    "start_time": "2023-02-11T12:18:26.534Z"
   },
   {
    "duration": 41,
    "start_time": "2023-02-11T12:18:27.814Z"
   },
   {
    "duration": 11,
    "start_time": "2023-02-11T12:18:30.010Z"
   },
   {
    "duration": 24,
    "start_time": "2023-02-11T12:18:50.706Z"
   },
   {
    "duration": 20,
    "start_time": "2023-02-11T12:21:31.780Z"
   },
   {
    "duration": 28,
    "start_time": "2023-02-11T12:22:01.190Z"
   },
   {
    "duration": 15,
    "start_time": "2023-02-11T12:22:31.525Z"
   },
   {
    "duration": 15,
    "start_time": "2023-02-11T12:22:58.459Z"
   },
   {
    "duration": 401,
    "start_time": "2023-02-11T12:23:32.440Z"
   },
   {
    "duration": 19,
    "start_time": "2023-02-11T12:24:28.933Z"
   },
   {
    "duration": 263,
    "start_time": "2023-02-11T12:24:52.806Z"
   },
   {
    "duration": 19,
    "start_time": "2023-02-11T12:25:21.576Z"
   },
   {
    "duration": 618,
    "start_time": "2023-02-11T12:25:40.608Z"
   },
   {
    "duration": 35,
    "start_time": "2023-02-11T12:25:41.228Z"
   },
   {
    "duration": 44,
    "start_time": "2023-02-11T12:25:41.266Z"
   },
   {
    "duration": 20,
    "start_time": "2023-02-11T12:25:41.312Z"
   },
   {
    "duration": 67,
    "start_time": "2023-02-11T12:25:41.334Z"
   },
   {
    "duration": 6,
    "start_time": "2023-02-11T12:25:41.405Z"
   },
   {
    "duration": 29,
    "start_time": "2023-02-11T12:25:41.412Z"
   },
   {
    "duration": 5,
    "start_time": "2023-02-11T12:25:41.444Z"
   },
   {
    "duration": 10,
    "start_time": "2023-02-11T12:25:41.451Z"
   },
   {
    "duration": 5,
    "start_time": "2023-02-11T12:25:41.464Z"
   },
   {
    "duration": 71,
    "start_time": "2023-02-11T12:25:41.471Z"
   },
   {
    "duration": 15,
    "start_time": "2023-02-11T12:25:41.547Z"
   },
   {
    "duration": 3,
    "start_time": "2023-02-11T12:25:41.573Z"
   },
   {
    "duration": 18,
    "start_time": "2023-02-11T12:25:41.644Z"
   },
   {
    "duration": 24,
    "start_time": "2023-02-11T12:25:41.712Z"
   },
   {
    "duration": 19,
    "start_time": "2023-02-11T12:25:41.739Z"
   },
   {
    "duration": 5,
    "start_time": "2023-02-11T12:25:41.833Z"
   },
   {
    "duration": 13,
    "start_time": "2023-02-11T12:25:42.436Z"
   },
   {
    "duration": 6,
    "start_time": "2023-02-11T12:25:42.966Z"
   },
   {
    "duration": 4,
    "start_time": "2023-02-11T12:25:43.044Z"
   },
   {
    "duration": 13,
    "start_time": "2023-02-11T12:25:43.096Z"
   },
   {
    "duration": 7,
    "start_time": "2023-02-11T12:25:43.180Z"
   },
   {
    "duration": 22,
    "start_time": "2023-02-11T12:25:43.213Z"
   },
   {
    "duration": 19,
    "start_time": "2023-02-11T12:25:43.265Z"
   },
   {
    "duration": 40,
    "start_time": "2023-02-11T12:25:43.310Z"
   },
   {
    "duration": 9,
    "start_time": "2023-02-11T12:25:45.634Z"
   },
   {
    "duration": 16,
    "start_time": "2023-02-11T12:25:49.172Z"
   },
   {
    "duration": 32,
    "start_time": "2023-02-11T12:25:52.444Z"
   },
   {
    "duration": 28,
    "start_time": "2023-02-11T12:26:31.613Z"
   },
   {
    "duration": 507,
    "start_time": "2023-02-11T12:26:45.664Z"
   },
   {
    "duration": 38,
    "start_time": "2023-02-11T12:26:46.173Z"
   },
   {
    "duration": 19,
    "start_time": "2023-02-11T12:26:46.215Z"
   },
   {
    "duration": 18,
    "start_time": "2023-02-11T12:26:46.237Z"
   },
   {
    "duration": 52,
    "start_time": "2023-02-11T12:26:46.257Z"
   },
   {
    "duration": 10,
    "start_time": "2023-02-11T12:26:46.314Z"
   },
   {
    "duration": 23,
    "start_time": "2023-02-11T12:26:46.326Z"
   },
   {
    "duration": 5,
    "start_time": "2023-02-11T12:26:46.352Z"
   },
   {
    "duration": 12,
    "start_time": "2023-02-11T12:26:46.359Z"
   },
   {
    "duration": 5,
    "start_time": "2023-02-11T12:26:46.374Z"
   },
   {
    "duration": 55,
    "start_time": "2023-02-11T12:26:46.461Z"
   },
   {
    "duration": 17,
    "start_time": "2023-02-11T12:26:46.528Z"
   },
   {
    "duration": 5,
    "start_time": "2023-02-11T12:26:46.611Z"
   },
   {
    "duration": 28,
    "start_time": "2023-02-11T12:26:46.707Z"
   },
   {
    "duration": 23,
    "start_time": "2023-02-11T12:26:46.756Z"
   },
   {
    "duration": 25,
    "start_time": "2023-02-11T12:26:46.786Z"
   },
   {
    "duration": 5,
    "start_time": "2023-02-11T12:26:46.878Z"
   },
   {
    "duration": 20,
    "start_time": "2023-02-11T12:26:46.921Z"
   },
   {
    "duration": 8,
    "start_time": "2023-02-11T12:26:47.865Z"
   },
   {
    "duration": 3,
    "start_time": "2023-02-11T12:26:48.334Z"
   },
   {
    "duration": 14,
    "start_time": "2023-02-11T12:26:48.546Z"
   },
   {
    "duration": 6,
    "start_time": "2023-02-11T12:26:49.623Z"
   },
   {
    "duration": 29,
    "start_time": "2023-02-11T12:26:49.990Z"
   },
   {
    "duration": 18,
    "start_time": "2023-02-11T12:26:50.891Z"
   },
   {
    "duration": 39,
    "start_time": "2023-02-11T12:26:52.013Z"
   },
   {
    "duration": 8,
    "start_time": "2023-02-11T12:26:54.219Z"
   },
   {
    "duration": 21,
    "start_time": "2023-02-11T12:27:05.515Z"
   },
   {
    "duration": 20,
    "start_time": "2023-02-11T12:27:51.723Z"
   },
   {
    "duration": 26,
    "start_time": "2023-02-11T12:28:12.072Z"
   },
   {
    "duration": 28,
    "start_time": "2023-02-11T12:28:36.550Z"
   },
   {
    "duration": 572,
    "start_time": "2023-02-11T12:28:50.688Z"
   },
   {
    "duration": 21,
    "start_time": "2023-02-11T12:28:51.263Z"
   },
   {
    "duration": 26,
    "start_time": "2023-02-11T12:28:51.286Z"
   },
   {
    "duration": 15,
    "start_time": "2023-02-11T12:28:51.315Z"
   },
   {
    "duration": 71,
    "start_time": "2023-02-11T12:28:51.332Z"
   },
   {
    "duration": 3,
    "start_time": "2023-02-11T12:28:51.405Z"
   },
   {
    "duration": 15,
    "start_time": "2023-02-11T12:28:51.410Z"
   },
   {
    "duration": 12,
    "start_time": "2023-02-11T12:28:51.428Z"
   },
   {
    "duration": 9,
    "start_time": "2023-02-11T12:28:51.442Z"
   },
   {
    "duration": 5,
    "start_time": "2023-02-11T12:28:51.481Z"
   },
   {
    "duration": 33,
    "start_time": "2023-02-11T12:28:51.584Z"
   },
   {
    "duration": 11,
    "start_time": "2023-02-11T12:28:51.626Z"
   },
   {
    "duration": 5,
    "start_time": "2023-02-11T12:28:51.735Z"
   },
   {
    "duration": 13,
    "start_time": "2023-02-11T12:28:51.817Z"
   },
   {
    "duration": 28,
    "start_time": "2023-02-11T12:28:53.231Z"
   },
   {
    "duration": 24,
    "start_time": "2023-02-11T12:28:53.426Z"
   },
   {
    "duration": 4,
    "start_time": "2023-02-11T12:28:53.989Z"
   },
   {
    "duration": 12,
    "start_time": "2023-02-11T12:28:54.150Z"
   },
   {
    "duration": 6,
    "start_time": "2023-02-11T12:28:54.808Z"
   },
   {
    "duration": 5,
    "start_time": "2023-02-11T12:28:54.885Z"
   },
   {
    "duration": 15,
    "start_time": "2023-02-11T12:28:55.250Z"
   },
   {
    "duration": 6,
    "start_time": "2023-02-11T12:28:55.991Z"
   },
   {
    "duration": 39,
    "start_time": "2023-02-11T12:28:56.182Z"
   },
   {
    "duration": 21,
    "start_time": "2023-02-11T12:28:56.373Z"
   },
   {
    "duration": 38,
    "start_time": "2023-02-11T12:28:56.557Z"
   },
   {
    "duration": 9,
    "start_time": "2023-02-11T12:28:57.980Z"
   },
   {
    "duration": 19,
    "start_time": "2023-02-11T12:29:02.788Z"
   },
   {
    "duration": 17,
    "start_time": "2023-02-11T12:29:07.309Z"
   },
   {
    "duration": 49,
    "start_time": "2023-02-11T12:30:57.615Z"
   },
   {
    "duration": 82,
    "start_time": "2023-02-11T12:31:32.129Z"
   },
   {
    "duration": 18,
    "start_time": "2023-02-11T12:32:58.717Z"
   },
   {
    "duration": 17,
    "start_time": "2023-02-11T12:35:36.436Z"
   },
   {
    "duration": 15,
    "start_time": "2023-02-11T12:35:43.106Z"
   },
   {
    "duration": 31,
    "start_time": "2023-02-11T12:36:32.026Z"
   },
   {
    "duration": 27,
    "start_time": "2023-02-11T12:36:46.576Z"
   },
   {
    "duration": 19,
    "start_time": "2023-02-11T12:37:06.539Z"
   },
   {
    "duration": 17,
    "start_time": "2023-02-11T12:37:45.937Z"
   },
   {
    "duration": 18,
    "start_time": "2023-02-11T12:38:38.524Z"
   },
   {
    "duration": 13,
    "start_time": "2023-02-11T12:38:45.561Z"
   },
   {
    "duration": 823,
    "start_time": "2023-02-11T12:38:58.689Z"
   },
   {
    "duration": 757,
    "start_time": "2023-02-11T12:39:02.049Z"
   },
   {
    "duration": 814,
    "start_time": "2023-02-11T12:39:25.452Z"
   },
   {
    "duration": 20,
    "start_time": "2023-02-11T12:39:49.455Z"
   },
   {
    "duration": 13,
    "start_time": "2023-02-11T12:40:25.354Z"
   },
   {
    "duration": 17,
    "start_time": "2023-02-11T12:40:30.918Z"
   },
   {
    "duration": 934,
    "start_time": "2023-02-11T12:40:48.702Z"
   },
   {
    "duration": 445,
    "start_time": "2023-02-11T12:42:41.931Z"
   },
   {
    "duration": 25,
    "start_time": "2023-02-11T12:42:42.377Z"
   },
   {
    "duration": 24,
    "start_time": "2023-02-11T12:42:42.405Z"
   },
   {
    "duration": 10,
    "start_time": "2023-02-11T12:42:43.248Z"
   },
   {
    "duration": 41,
    "start_time": "2023-02-11T12:42:44.274Z"
   },
   {
    "duration": 5,
    "start_time": "2023-02-11T12:42:44.363Z"
   },
   {
    "duration": 9,
    "start_time": "2023-02-11T12:42:44.424Z"
   },
   {
    "duration": 5,
    "start_time": "2023-02-11T12:42:44.520Z"
   },
   {
    "duration": 7,
    "start_time": "2023-02-11T12:42:44.575Z"
   },
   {
    "duration": 5,
    "start_time": "2023-02-11T12:42:44.635Z"
   },
   {
    "duration": 31,
    "start_time": "2023-02-11T12:42:44.725Z"
   },
   {
    "duration": 15,
    "start_time": "2023-02-11T12:42:44.784Z"
   },
   {
    "duration": 4,
    "start_time": "2023-02-11T12:42:44.884Z"
   },
   {
    "duration": 11,
    "start_time": "2023-02-11T12:42:44.976Z"
   },
   {
    "duration": 30,
    "start_time": "2023-02-11T12:42:45.034Z"
   },
   {
    "duration": 27,
    "start_time": "2023-02-11T12:42:45.074Z"
   },
   {
    "duration": 5,
    "start_time": "2023-02-11T12:42:45.166Z"
   },
   {
    "duration": 17,
    "start_time": "2023-02-11T12:42:45.195Z"
   },
   {
    "duration": 5,
    "start_time": "2023-02-11T12:42:45.256Z"
   },
   {
    "duration": 5,
    "start_time": "2023-02-11T12:42:45.316Z"
   },
   {
    "duration": 14,
    "start_time": "2023-02-11T12:42:46.110Z"
   },
   {
    "duration": 6,
    "start_time": "2023-02-11T12:42:46.658Z"
   },
   {
    "duration": 27,
    "start_time": "2023-02-11T12:42:46.690Z"
   },
   {
    "duration": 14,
    "start_time": "2023-02-11T12:42:46.722Z"
   },
   {
    "duration": 26,
    "start_time": "2023-02-11T12:42:46.752Z"
   },
   {
    "duration": 9,
    "start_time": "2023-02-11T12:42:46.811Z"
   },
   {
    "duration": 16,
    "start_time": "2023-02-11T12:42:46.968Z"
   },
   {
    "duration": 20,
    "start_time": "2023-02-11T12:42:47.104Z"
   },
   {
    "duration": 12,
    "start_time": "2023-02-11T12:42:47.221Z"
   },
   {
    "duration": 932,
    "start_time": "2023-02-11T12:42:53.012Z"
   },
   {
    "duration": 12,
    "start_time": "2023-02-11T12:43:16.830Z"
   },
   {
    "duration": 786,
    "start_time": "2023-02-11T12:43:19.765Z"
   },
   {
    "duration": 18,
    "start_time": "2023-02-11T12:44:03.815Z"
   },
   {
    "duration": 12,
    "start_time": "2023-02-11T12:44:32.743Z"
   },
   {
    "duration": 929,
    "start_time": "2023-02-11T12:44:57.440Z"
   },
   {
    "duration": 2,
    "start_time": "2023-02-11T12:45:53.051Z"
   },
   {
    "duration": 8,
    "start_time": "2023-02-11T12:45:58.845Z"
   },
   {
    "duration": 14,
    "start_time": "2023-02-11T12:46:04.738Z"
   },
   {
    "duration": 25,
    "start_time": "2023-02-11T12:47:08.791Z"
   },
   {
    "duration": 10,
    "start_time": "2023-02-11T12:47:23.487Z"
   },
   {
    "duration": 15,
    "start_time": "2023-02-11T12:48:11.258Z"
   },
   {
    "duration": 17,
    "start_time": "2023-02-11T12:48:56.393Z"
   },
   {
    "duration": 12,
    "start_time": "2023-02-11T12:49:07.964Z"
   },
   {
    "duration": 16,
    "start_time": "2023-02-11T12:51:24.050Z"
   },
   {
    "duration": 18,
    "start_time": "2023-02-11T12:51:43.957Z"
   },
   {
    "duration": 13,
    "start_time": "2023-02-11T12:52:02.741Z"
   },
   {
    "duration": 14,
    "start_time": "2023-02-11T12:52:08.097Z"
   },
   {
    "duration": 13,
    "start_time": "2023-02-11T12:52:12.662Z"
   },
   {
    "duration": 16,
    "start_time": "2023-02-11T12:52:40.709Z"
   },
   {
    "duration": 25,
    "start_time": "2023-02-11T12:52:47.784Z"
   },
   {
    "duration": 7,
    "start_time": "2023-02-11T12:53:13.734Z"
   },
   {
    "duration": 489,
    "start_time": "2023-02-11T12:53:41.758Z"
   },
   {
    "duration": 34,
    "start_time": "2023-02-11T12:53:43.384Z"
   },
   {
    "duration": 15,
    "start_time": "2023-02-11T12:53:43.436Z"
   },
   {
    "duration": 15,
    "start_time": "2023-02-11T12:53:43.587Z"
   },
   {
    "duration": 33,
    "start_time": "2023-02-11T12:53:43.643Z"
   },
   {
    "duration": 3,
    "start_time": "2023-02-11T12:53:43.741Z"
   },
   {
    "duration": 11,
    "start_time": "2023-02-11T12:53:43.808Z"
   },
   {
    "duration": 7,
    "start_time": "2023-02-11T12:53:43.901Z"
   },
   {
    "duration": 8,
    "start_time": "2023-02-11T12:53:43.949Z"
   },
   {
    "duration": 6,
    "start_time": "2023-02-11T12:53:44.010Z"
   },
   {
    "duration": 40,
    "start_time": "2023-02-11T12:53:44.111Z"
   },
   {
    "duration": 13,
    "start_time": "2023-02-11T12:53:44.165Z"
   },
   {
    "duration": 4,
    "start_time": "2023-02-11T12:53:44.283Z"
   },
   {
    "duration": 13,
    "start_time": "2023-02-11T12:53:44.371Z"
   },
   {
    "duration": 22,
    "start_time": "2023-02-11T12:53:44.435Z"
   },
   {
    "duration": 17,
    "start_time": "2023-02-11T12:53:44.459Z"
   },
   {
    "duration": 3,
    "start_time": "2023-02-11T12:53:44.536Z"
   },
   {
    "duration": 10,
    "start_time": "2023-02-11T12:53:44.579Z"
   },
   {
    "duration": 6,
    "start_time": "2023-02-11T12:53:44.634Z"
   },
   {
    "duration": 4,
    "start_time": "2023-02-11T12:53:44.704Z"
   },
   {
    "duration": 8,
    "start_time": "2023-02-11T12:53:44.719Z"
   },
   {
    "duration": 5,
    "start_time": "2023-02-11T12:53:44.807Z"
   },
   {
    "duration": 17,
    "start_time": "2023-02-11T12:53:44.848Z"
   },
   {
    "duration": 21,
    "start_time": "2023-02-11T12:53:44.883Z"
   },
   {
    "duration": 33,
    "start_time": "2023-02-11T12:53:44.911Z"
   },
   {
    "duration": 7,
    "start_time": "2023-02-11T12:53:44.961Z"
   },
   {
    "duration": 16,
    "start_time": "2023-02-11T12:53:45.133Z"
   },
   {
    "duration": 18,
    "start_time": "2023-02-11T12:53:45.231Z"
   },
   {
    "duration": 91,
    "start_time": "2023-02-11T12:53:45.379Z"
   },
   {
    "duration": 9,
    "start_time": "2023-02-11T12:53:45.474Z"
   },
   {
    "duration": 23,
    "start_time": "2023-02-11T12:53:45.587Z"
   },
   {
    "duration": 20,
    "start_time": "2023-02-11T12:53:45.860Z"
   },
   {
    "duration": 16,
    "start_time": "2023-02-11T12:53:56.772Z"
   },
   {
    "duration": 16,
    "start_time": "2023-02-11T12:54:04.422Z"
   },
   {
    "duration": 15,
    "start_time": "2023-02-11T12:54:16.514Z"
   },
   {
    "duration": 22,
    "start_time": "2023-02-11T12:54:23.643Z"
   },
   {
    "duration": 15,
    "start_time": "2023-02-11T12:54:46.191Z"
   },
   {
    "duration": 1004,
    "start_time": "2023-02-11T12:54:54.145Z"
   },
   {
    "duration": 7,
    "start_time": "2023-02-11T12:55:00.837Z"
   },
   {
    "duration": 815,
    "start_time": "2023-02-11T12:55:21.332Z"
   },
   {
    "duration": 814,
    "start_time": "2023-02-11T12:55:24.347Z"
   },
   {
    "duration": 18,
    "start_time": "2023-02-11T12:55:32.551Z"
   },
   {
    "duration": 56,
    "start_time": "2023-02-11T12:55:41.485Z"
   },
   {
    "duration": 15,
    "start_time": "2023-02-11T12:55:48.041Z"
   },
   {
    "duration": 12,
    "start_time": "2023-02-11T12:56:43.019Z"
   },
   {
    "duration": 15,
    "start_time": "2023-02-11T12:56:49.010Z"
   },
   {
    "duration": 12,
    "start_time": "2023-02-11T12:57:23.542Z"
   },
   {
    "duration": 18,
    "start_time": "2023-02-11T12:57:47.064Z"
   },
   {
    "duration": 19,
    "start_time": "2023-02-11T12:57:54.726Z"
   },
   {
    "duration": 887,
    "start_time": "2023-02-11T12:58:05.138Z"
   },
   {
    "duration": 780,
    "start_time": "2023-02-11T12:58:14.338Z"
   },
   {
    "duration": 731,
    "start_time": "2023-02-11T12:58:27.077Z"
   },
   {
    "duration": 736,
    "start_time": "2023-02-11T12:58:43.218Z"
   },
   {
    "duration": 703,
    "start_time": "2023-02-11T12:58:46.521Z"
   },
   {
    "duration": 750,
    "start_time": "2023-02-11T12:58:50.404Z"
   },
   {
    "duration": 16,
    "start_time": "2023-02-11T12:58:55.690Z"
   },
   {
    "duration": 878,
    "start_time": "2023-02-11T12:58:57.476Z"
   },
   {
    "duration": 16,
    "start_time": "2023-02-11T12:59:06.851Z"
   },
   {
    "duration": 9,
    "start_time": "2023-02-11T12:59:16.271Z"
   },
   {
    "duration": 28,
    "start_time": "2023-02-11T13:01:53.329Z"
   },
   {
    "duration": 18,
    "start_time": "2023-02-11T13:02:02.171Z"
   },
   {
    "duration": 18,
    "start_time": "2023-02-11T13:02:19.756Z"
   },
   {
    "duration": 17,
    "start_time": "2023-02-11T13:02:33.446Z"
   },
   {
    "duration": 506,
    "start_time": "2023-02-11T13:02:44.266Z"
   },
   {
    "duration": 22,
    "start_time": "2023-02-11T13:02:45.696Z"
   },
   {
    "duration": 15,
    "start_time": "2023-02-11T13:02:46.224Z"
   },
   {
    "duration": 10,
    "start_time": "2023-02-11T13:02:46.392Z"
   },
   {
    "duration": 35,
    "start_time": "2023-02-11T13:02:46.451Z"
   },
   {
    "duration": 4,
    "start_time": "2023-02-11T13:02:46.538Z"
   },
   {
    "duration": 8,
    "start_time": "2023-02-11T13:02:46.601Z"
   },
   {
    "duration": 5,
    "start_time": "2023-02-11T13:02:46.693Z"
   },
   {
    "duration": 8,
    "start_time": "2023-02-11T13:02:46.750Z"
   },
   {
    "duration": 6,
    "start_time": "2023-02-11T13:02:46.814Z"
   },
   {
    "duration": 46,
    "start_time": "2023-02-11T13:02:46.901Z"
   },
   {
    "duration": 17,
    "start_time": "2023-02-11T13:02:46.961Z"
   },
   {
    "duration": 6,
    "start_time": "2023-02-11T13:02:47.054Z"
   },
   {
    "duration": 12,
    "start_time": "2023-02-11T13:02:47.142Z"
   },
   {
    "duration": 21,
    "start_time": "2023-02-11T13:02:47.204Z"
   },
   {
    "duration": 16,
    "start_time": "2023-02-11T13:02:47.231Z"
   },
   {
    "duration": 4,
    "start_time": "2023-02-11T13:02:47.335Z"
   },
   {
    "duration": 15,
    "start_time": "2023-02-11T13:02:47.371Z"
   },
   {
    "duration": 8,
    "start_time": "2023-02-11T13:02:47.428Z"
   },
   {
    "duration": 5,
    "start_time": "2023-02-11T13:02:47.489Z"
   },
   {
    "duration": 13,
    "start_time": "2023-02-11T13:02:48.282Z"
   },
   {
    "duration": 6,
    "start_time": "2023-02-11T13:02:49.888Z"
   },
   {
    "duration": 21,
    "start_time": "2023-02-11T13:02:50.414Z"
   },
   {
    "duration": 14,
    "start_time": "2023-02-11T13:02:51.130Z"
   },
   {
    "duration": 38,
    "start_time": "2023-02-11T13:02:51.839Z"
   },
   {
    "duration": 10,
    "start_time": "2023-02-11T13:02:54.552Z"
   },
   {
    "duration": 14,
    "start_time": "2023-02-11T13:03:00.821Z"
   },
   {
    "duration": 24,
    "start_time": "2023-02-11T13:03:06.536Z"
   },
   {
    "duration": 15,
    "start_time": "2023-02-11T13:03:15.600Z"
   },
   {
    "duration": 70,
    "start_time": "2023-02-11T13:03:57.929Z"
   },
   {
    "duration": 13,
    "start_time": "2023-02-11T13:04:09.595Z"
   },
   {
    "duration": 42,
    "start_time": "2023-02-11T13:04:17.822Z"
   },
   {
    "duration": 6,
    "start_time": "2023-02-11T13:04:27.452Z"
   },
   {
    "duration": 713,
    "start_time": "2023-02-11T13:05:28.488Z"
   },
   {
    "duration": 13,
    "start_time": "2023-02-11T13:07:07.865Z"
   },
   {
    "duration": 10,
    "start_time": "2023-02-11T13:07:42.410Z"
   },
   {
    "duration": 8,
    "start_time": "2023-02-11T13:07:52.964Z"
   },
   {
    "duration": 764,
    "start_time": "2023-02-11T13:08:16.136Z"
   },
   {
    "duration": 7,
    "start_time": "2023-02-11T13:08:33.865Z"
   },
   {
    "duration": 13,
    "start_time": "2023-02-11T13:18:15.586Z"
   },
   {
    "duration": 21,
    "start_time": "2023-02-11T13:18:29.166Z"
   },
   {
    "duration": 21,
    "start_time": "2023-02-11T13:19:07.744Z"
   },
   {
    "duration": 12,
    "start_time": "2023-02-11T13:19:35.800Z"
   },
   {
    "duration": 20,
    "start_time": "2023-02-11T13:20:10.077Z"
   },
   {
    "duration": 14,
    "start_time": "2023-02-11T13:20:39.842Z"
   },
   {
    "duration": 448,
    "start_time": "2023-02-11T13:20:52.259Z"
   },
   {
    "duration": 22,
    "start_time": "2023-02-11T13:20:53.727Z"
   },
   {
    "duration": 14,
    "start_time": "2023-02-11T13:20:54.275Z"
   },
   {
    "duration": 10,
    "start_time": "2023-02-11T13:20:54.425Z"
   },
   {
    "duration": 34,
    "start_time": "2023-02-11T13:20:54.487Z"
   },
   {
    "duration": 3,
    "start_time": "2023-02-11T13:20:54.576Z"
   },
   {
    "duration": 8,
    "start_time": "2023-02-11T13:20:54.644Z"
   },
   {
    "duration": 4,
    "start_time": "2023-02-11T13:20:54.738Z"
   },
   {
    "duration": 8,
    "start_time": "2023-02-11T13:20:54.789Z"
   },
   {
    "duration": 5,
    "start_time": "2023-02-11T13:20:54.845Z"
   },
   {
    "duration": 32,
    "start_time": "2023-02-11T13:20:54.935Z"
   },
   {
    "duration": 10,
    "start_time": "2023-02-11T13:20:54.997Z"
   },
   {
    "duration": 4,
    "start_time": "2023-02-11T13:20:55.092Z"
   },
   {
    "duration": 11,
    "start_time": "2023-02-11T13:20:55.197Z"
   },
   {
    "duration": 20,
    "start_time": "2023-02-11T13:20:55.263Z"
   },
   {
    "duration": 18,
    "start_time": "2023-02-11T13:20:55.314Z"
   },
   {
    "duration": 3,
    "start_time": "2023-02-11T13:20:55.382Z"
   },
   {
    "duration": 16,
    "start_time": "2023-02-11T13:20:55.405Z"
   },
   {
    "duration": 6,
    "start_time": "2023-02-11T13:20:55.464Z"
   },
   {
    "duration": 3,
    "start_time": "2023-02-11T13:20:55.524Z"
   },
   {
    "duration": 8,
    "start_time": "2023-02-11T13:20:55.555Z"
   },
   {
    "duration": 4,
    "start_time": "2023-02-11T13:20:55.649Z"
   },
   {
    "duration": 18,
    "start_time": "2023-02-11T13:20:55.679Z"
   },
   {
    "duration": 15,
    "start_time": "2023-02-11T13:20:55.704Z"
   },
   {
    "duration": 33,
    "start_time": "2023-02-11T13:20:55.738Z"
   },
   {
    "duration": 9,
    "start_time": "2023-02-11T13:20:55.800Z"
   },
   {
    "duration": 16,
    "start_time": "2023-02-11T13:20:55.960Z"
   },
   {
    "duration": 16,
    "start_time": "2023-02-11T13:20:56.076Z"
   },
   {
    "duration": 13,
    "start_time": "2023-02-11T13:20:56.202Z"
   },
   {
    "duration": 8,
    "start_time": "2023-02-11T13:20:58.295Z"
   },
   {
    "duration": 14,
    "start_time": "2023-02-11T13:21:02.127Z"
   },
   {
    "duration": 16,
    "start_time": "2023-02-11T13:21:21.830Z"
   },
   {
    "duration": 493,
    "start_time": "2023-02-11T13:21:29.629Z"
   },
   {
    "duration": 23,
    "start_time": "2023-02-11T13:21:30.124Z"
   },
   {
    "duration": 23,
    "start_time": "2023-02-11T13:21:30.160Z"
   },
   {
    "duration": 11,
    "start_time": "2023-02-11T13:21:30.193Z"
   },
   {
    "duration": 79,
    "start_time": "2023-02-11T13:21:30.206Z"
   },
   {
    "duration": 5,
    "start_time": "2023-02-11T13:21:30.288Z"
   },
   {
    "duration": 28,
    "start_time": "2023-02-11T13:21:30.295Z"
   },
   {
    "duration": 17,
    "start_time": "2023-02-11T13:21:30.325Z"
   },
   {
    "duration": 32,
    "start_time": "2023-02-11T13:21:30.344Z"
   },
   {
    "duration": 27,
    "start_time": "2023-02-11T13:21:30.378Z"
   },
   {
    "duration": 34,
    "start_time": "2023-02-11T13:21:30.430Z"
   },
   {
    "duration": 10,
    "start_time": "2023-02-11T13:21:30.490Z"
   },
   {
    "duration": 5,
    "start_time": "2023-02-11T13:21:30.587Z"
   },
   {
    "duration": 11,
    "start_time": "2023-02-11T13:21:30.674Z"
   },
   {
    "duration": 21,
    "start_time": "2023-02-11T13:21:30.732Z"
   },
   {
    "duration": 27,
    "start_time": "2023-02-11T13:21:30.768Z"
   },
   {
    "duration": 4,
    "start_time": "2023-02-11T13:21:30.849Z"
   },
   {
    "duration": 26,
    "start_time": "2023-02-11T13:21:30.879Z"
   },
   {
    "duration": 8,
    "start_time": "2023-02-11T13:21:30.943Z"
   },
   {
    "duration": 4,
    "start_time": "2023-02-11T13:21:31.002Z"
   },
   {
    "duration": 11,
    "start_time": "2023-02-11T13:21:31.033Z"
   },
   {
    "duration": 4,
    "start_time": "2023-02-11T13:21:31.133Z"
   },
   {
    "duration": 16,
    "start_time": "2023-02-11T13:21:31.154Z"
   },
   {
    "duration": 29,
    "start_time": "2023-02-11T13:21:31.181Z"
   },
   {
    "duration": 32,
    "start_time": "2023-02-11T13:21:31.215Z"
   },
   {
    "duration": 9,
    "start_time": "2023-02-11T13:21:32.310Z"
   },
   {
    "duration": 20,
    "start_time": "2023-02-11T13:21:34.288Z"
   },
   {
    "duration": 21,
    "start_time": "2023-02-11T13:21:37.330Z"
   },
   {
    "duration": 20,
    "start_time": "2023-02-11T13:21:38.684Z"
   },
   {
    "duration": 11,
    "start_time": "2023-02-11T13:21:42.950Z"
   },
   {
    "duration": 18,
    "start_time": "2023-02-11T13:21:56.294Z"
   },
   {
    "duration": 21,
    "start_time": "2023-02-11T13:22:08.022Z"
   },
   {
    "duration": 32,
    "start_time": "2023-02-11T13:22:55.713Z"
   },
   {
    "duration": 67,
    "start_time": "2023-02-12T12:51:48.176Z"
   },
   {
    "duration": 1104,
    "start_time": "2023-02-12T12:51:56.361Z"
   },
   {
    "duration": 31,
    "start_time": "2023-02-12T12:51:59.889Z"
   },
   {
    "duration": 15,
    "start_time": "2023-02-12T12:52:01.462Z"
   },
   {
    "duration": 9,
    "start_time": "2023-02-12T12:52:03.619Z"
   },
   {
    "duration": 30,
    "start_time": "2023-02-12T12:52:04.641Z"
   },
   {
    "duration": 4,
    "start_time": "2023-02-12T12:52:06.514Z"
   },
   {
    "duration": 9,
    "start_time": "2023-02-12T12:52:07.861Z"
   },
   {
    "duration": 5,
    "start_time": "2023-02-12T12:52:12.010Z"
   },
   {
    "duration": 7,
    "start_time": "2023-02-12T12:52:13.256Z"
   },
   {
    "duration": 6,
    "start_time": "2023-02-12T12:52:14.459Z"
   },
   {
    "duration": 48,
    "start_time": "2023-02-12T12:52:16.216Z"
   },
   {
    "duration": 30,
    "start_time": "2023-02-12T12:52:17.282Z"
   },
   {
    "duration": 9,
    "start_time": "2023-02-12T12:52:19.610Z"
   },
   {
    "duration": 18,
    "start_time": "2023-02-12T12:52:21.047Z"
   },
   {
    "duration": 21,
    "start_time": "2023-02-12T12:52:22.115Z"
   },
   {
    "duration": 17,
    "start_time": "2023-02-12T12:52:22.646Z"
   },
   {
    "duration": 5,
    "start_time": "2023-02-12T12:52:25.333Z"
   },
   {
    "duration": 13,
    "start_time": "2023-02-12T12:52:25.717Z"
   },
   {
    "duration": 8,
    "start_time": "2023-02-12T12:52:27.065Z"
   },
   {
    "duration": 4,
    "start_time": "2023-02-12T12:52:28.122Z"
   },
   {
    "duration": 8,
    "start_time": "2023-02-12T12:52:28.666Z"
   },
   {
    "duration": 5,
    "start_time": "2023-02-12T12:52:30.014Z"
   },
   {
    "duration": 18,
    "start_time": "2023-02-12T12:52:30.582Z"
   },
   {
    "duration": 21,
    "start_time": "2023-02-12T12:52:31.333Z"
   },
   {
    "duration": 40,
    "start_time": "2023-02-12T12:52:32.022Z"
   },
   {
    "duration": 10,
    "start_time": "2023-02-12T12:52:33.478Z"
   },
   {
    "duration": 20,
    "start_time": "2023-02-12T12:52:36.465Z"
   },
   {
    "duration": 17,
    "start_time": "2023-02-12T12:52:38.571Z"
   },
   {
    "duration": 15,
    "start_time": "2023-02-12T12:52:41.365Z"
   },
   {
    "duration": 7,
    "start_time": "2023-02-12T12:52:43.711Z"
   },
   {
    "duration": 15,
    "start_time": "2023-02-12T12:52:47.011Z"
   },
   {
    "duration": 18,
    "start_time": "2023-02-12T12:52:52.319Z"
   },
   {
    "duration": 27,
    "start_time": "2023-02-12T12:52:55.272Z"
   },
   {
    "duration": 22,
    "start_time": "2023-02-12T12:53:40.576Z"
   },
   {
    "duration": 15,
    "start_time": "2023-02-12T13:16:55.020Z"
   },
   {
    "duration": 13,
    "start_time": "2023-02-12T13:17:19.140Z"
   },
   {
    "duration": 13,
    "start_time": "2023-02-12T13:18:26.771Z"
   },
   {
    "duration": 13,
    "start_time": "2023-02-12T13:20:19.566Z"
   },
   {
    "duration": 13,
    "start_time": "2023-02-12T13:20:59.165Z"
   },
   {
    "duration": 38,
    "start_time": "2023-02-12T13:21:30.093Z"
   },
   {
    "duration": 14,
    "start_time": "2023-02-12T13:22:11.032Z"
   },
   {
    "duration": 15,
    "start_time": "2023-02-12T13:46:08.428Z"
   },
   {
    "duration": 23,
    "start_time": "2023-02-12T13:46:25.084Z"
   },
   {
    "duration": 13,
    "start_time": "2023-02-12T13:46:52.046Z"
   },
   {
    "duration": 55,
    "start_time": "2023-02-12T13:47:38.950Z"
   },
   {
    "duration": 15,
    "start_time": "2023-02-12T13:47:42.746Z"
   },
   {
    "duration": 21,
    "start_time": "2023-02-12T13:48:24.988Z"
   },
   {
    "duration": 64,
    "start_time": "2023-02-12T13:50:37.907Z"
   },
   {
    "duration": 469,
    "start_time": "2023-02-12T14:43:49.439Z"
   },
   {
    "duration": 32,
    "start_time": "2023-02-12T14:43:49.910Z"
   },
   {
    "duration": 15,
    "start_time": "2023-02-12T14:43:49.944Z"
   },
   {
    "duration": 10,
    "start_time": "2023-02-12T14:43:49.961Z"
   },
   {
    "duration": 53,
    "start_time": "2023-02-12T14:43:49.972Z"
   },
   {
    "duration": 4,
    "start_time": "2023-02-12T14:43:50.034Z"
   },
   {
    "duration": 16,
    "start_time": "2023-02-12T14:43:50.040Z"
   },
   {
    "duration": 5,
    "start_time": "2023-02-12T14:43:50.057Z"
   },
   {
    "duration": 11,
    "start_time": "2023-02-12T14:43:50.063Z"
   },
   {
    "duration": 4,
    "start_time": "2023-02-12T14:43:50.077Z"
   },
   {
    "duration": 55,
    "start_time": "2023-02-12T14:43:50.083Z"
   },
   {
    "duration": 12,
    "start_time": "2023-02-12T14:43:50.140Z"
   },
   {
    "duration": 11,
    "start_time": "2023-02-12T14:43:50.154Z"
   },
   {
    "duration": 16,
    "start_time": "2023-02-12T14:43:50.167Z"
   },
   {
    "duration": 23,
    "start_time": "2023-02-12T14:43:50.185Z"
   },
   {
    "duration": 24,
    "start_time": "2023-02-12T14:43:50.222Z"
   },
   {
    "duration": 3,
    "start_time": "2023-02-12T14:43:50.248Z"
   },
   {
    "duration": 12,
    "start_time": "2023-02-12T14:43:50.252Z"
   },
   {
    "duration": 5,
    "start_time": "2023-02-12T14:43:50.266Z"
   },
   {
    "duration": 4,
    "start_time": "2023-02-12T14:43:50.273Z"
   },
   {
    "duration": 10,
    "start_time": "2023-02-12T14:43:50.278Z"
   },
   {
    "duration": 5,
    "start_time": "2023-02-12T14:43:50.289Z"
   },
   {
    "duration": 30,
    "start_time": "2023-02-12T14:43:50.296Z"
   },
   {
    "duration": 29,
    "start_time": "2023-02-12T14:43:50.327Z"
   },
   {
    "duration": 25,
    "start_time": "2023-02-12T14:43:50.357Z"
   },
   {
    "duration": 6,
    "start_time": "2023-02-12T14:43:50.384Z"
   },
   {
    "duration": 23,
    "start_time": "2023-02-12T14:43:50.392Z"
   },
   {
    "duration": 22,
    "start_time": "2023-02-12T14:43:50.418Z"
   },
   {
    "duration": 18,
    "start_time": "2023-02-12T14:43:50.441Z"
   },
   {
    "duration": 7,
    "start_time": "2023-02-12T14:43:50.460Z"
   },
   {
    "duration": 15,
    "start_time": "2023-02-12T14:43:50.469Z"
   },
   {
    "duration": 12,
    "start_time": "2023-02-12T14:43:50.485Z"
   }
  ],
  "colab": {
   "provenance": []
  },
  "kernelspec": {
   "display_name": "Python 3 (ipykernel)",
   "language": "python",
   "name": "python3"
  },
  "language_info": {
   "codemirror_mode": {
    "name": "ipython",
    "version": 3
   },
   "file_extension": ".py",
   "mimetype": "text/x-python",
   "name": "python",
   "nbconvert_exporter": "python",
   "pygments_lexer": "ipython3",
   "version": "3.9.5"
  },
  "toc": {
   "base_numbering": 1,
   "nav_menu": {},
   "number_sections": true,
   "sideBar": true,
   "skip_h1_title": true,
   "title_cell": "Table of Contents",
   "title_sidebar": "Contents",
   "toc_cell": false,
   "toc_position": {},
   "toc_section_display": true,
   "toc_window_display": false
  }
 },
 "nbformat": 4,
 "nbformat_minor": 5
}
